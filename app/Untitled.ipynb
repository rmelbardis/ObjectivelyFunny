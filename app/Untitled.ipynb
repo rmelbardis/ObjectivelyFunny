{
 "cells": [
  {
   "cell_type": "code",
   "execution_count": 1,
   "id": "8c69b5f0",
   "metadata": {},
   "outputs": [],
   "source": [
    "import pandas as pd"
   ]
  },
  {
   "cell_type": "code",
   "execution_count": 2,
   "id": "63a97c7c",
   "metadata": {},
   "outputs": [
    {
     "data": {
      "text/html": [
       "<div>\n",
       "<style scoped>\n",
       "    .dataframe tbody tr th:only-of-type {\n",
       "        vertical-align: middle;\n",
       "    }\n",
       "\n",
       "    .dataframe tbody tr th {\n",
       "        vertical-align: top;\n",
       "    }\n",
       "\n",
       "    .dataframe thead th {\n",
       "        text-align: right;\n",
       "    }\n",
       "</style>\n",
       "<table border=\"1\" class=\"dataframe\">\n",
       "  <thead>\n",
       "    <tr style=\"text-align: right;\">\n",
       "      <th></th>\n",
       "      <th>title</th>\n",
       "      <th>full_transcript</th>\n",
       "      <th>artist</th>\n",
       "      <th>show_name</th>\n",
       "      <th>year</th>\n",
       "    </tr>\n",
       "  </thead>\n",
       "  <tbody>\n",
       "    <tr>\n",
       "      <th>0</th>\n",
       "      <td>Jim Gaffigan: Comedy Monster (2021) | Transcript</td>\n",
       "      <td>Thank you! Thank you! Oh, my gosh. Thank you s...</td>\n",
       "      <td>Jim Gaffigan</td>\n",
       "      <td>Comedy Monster</td>\n",
       "      <td>2021.0</td>\n",
       "    </tr>\n",
       "    <tr>\n",
       "      <th>1</th>\n",
       "      <td>Louis C. K.: Sorry (2021) | Transcript</td>\n",
       "      <td>♪♪ [“Like a Rolling Stone” by Bob Dylan playin...</td>\n",
       "      <td>Louis C. K.</td>\n",
       "      <td>Sorry</td>\n",
       "      <td>2021.0</td>\n",
       "    </tr>\n",
       "    <tr>\n",
       "      <th>2</th>\n",
       "      <td>Drew Michael: Red Blue Green (2021) | Transcript</td>\n",
       "      <td>(EMOTIONAL MUSIC PLAYING)\\n\\n(MUSIC ENDS)\\n\\nD...</td>\n",
       "      <td>Drew Michael</td>\n",
       "      <td>Red Blue Green</td>\n",
       "      <td>2021.0</td>\n",
       "    </tr>\n",
       "    <tr>\n",
       "      <th>3</th>\n",
       "      <td>Mo Amer: Mohammed in Texas (2021) | Transcript</td>\n",
       "      <td>[quirky flute music playing]\\n\\n[single note p...</td>\n",
       "      <td>Mo Amer</td>\n",
       "      <td>Mohammed in Texas</td>\n",
       "      <td>2021.0</td>\n",
       "    </tr>\n",
       "    <tr>\n",
       "      <th>4</th>\n",
       "      <td>Dave Chappelle: The Closer (2021) | Transcript</td>\n",
       "      <td>[audience murmuring]\\n\\n[murmuring continues]\\...</td>\n",
       "      <td>Dave Chappelle</td>\n",
       "      <td>The Closer</td>\n",
       "      <td>2021.0</td>\n",
       "    </tr>\n",
       "  </tbody>\n",
       "</table>\n",
       "</div>"
      ],
      "text/plain": [
       "                                              title  \\\n",
       "0  Jim Gaffigan: Comedy Monster (2021) | Transcript   \n",
       "1            Louis C. K.: Sorry (2021) | Transcript   \n",
       "2  Drew Michael: Red Blue Green (2021) | Transcript   \n",
       "3    Mo Amer: Mohammed in Texas (2021) | Transcript   \n",
       "4    Dave Chappelle: The Closer (2021) | Transcript   \n",
       "\n",
       "                                     full_transcript          artist  \\\n",
       "0  Thank you! Thank you! Oh, my gosh. Thank you s...    Jim Gaffigan   \n",
       "1  ♪♪ [“Like a Rolling Stone” by Bob Dylan playin...     Louis C. K.   \n",
       "2  (EMOTIONAL MUSIC PLAYING)\\n\\n(MUSIC ENDS)\\n\\nD...    Drew Michael   \n",
       "3  [quirky flute music playing]\\n\\n[single note p...         Mo Amer   \n",
       "4  [audience murmuring]\\n\\n[murmuring continues]\\...  Dave Chappelle   \n",
       "\n",
       "           show_name    year  \n",
       "0     Comedy Monster  2021.0  \n",
       "1              Sorry  2021.0  \n",
       "2     Red Blue Green  2021.0  \n",
       "3  Mohammed in Texas  2021.0  \n",
       "4         The Closer  2021.0  "
      ]
     },
     "execution_count": 2,
     "metadata": {},
     "output_type": "execute_result"
    }
   ],
   "source": [
    "df = pd.read_json('../raw_data/artist_year_name.json')\n",
    "df.head()"
   ]
  },
  {
   "cell_type": "code",
   "execution_count": 3,
   "id": "e4825854",
   "metadata": {},
   "outputs": [
    {
     "data": {
      "text/plain": [
       "0    Thank you! Thank you! Oh, my gosh. Thank you s...\n",
       "1    ♪♪ [“Like a Rolling Stone” by Bob Dylan playin...\n",
       "2    (EMOTIONAL MUSIC PLAYING)\\n\\n(MUSIC ENDS)\\n\\nD...\n",
       "3    [quirky flute music playing]\\n\\n[single note p...\n",
       "4    [audience murmuring]\\n\\n[murmuring continues]\\...\n",
       "Name: full_transcript, dtype: object"
      ]
     },
     "execution_count": 3,
     "metadata": {},
     "output_type": "execute_result"
    }
   ],
   "source": [
    "script = df['full_transcript']\n",
    "script.head()"
   ]
  },
  {
   "cell_type": "code",
   "execution_count": 10,
   "id": "e9242813",
   "metadata": {},
   "outputs": [],
   "source": [
    "break_scr = script[0].split()[:100]"
   ]
  },
  {
   "cell_type": "code",
   "execution_count": 14,
   "id": "76631bc1",
   "metadata": {},
   "outputs": [
    {
     "data": {
      "text/plain": [
       "533"
      ]
     },
     "execution_count": 14,
     "metadata": {},
     "output_type": "execute_result"
    }
   ],
   "source": [
    "reduce_scr = ' '.join(break_scr)\n",
    "len(reduce_scr)"
   ]
  },
  {
   "cell_type": "code",
   "execution_count": 15,
   "id": "3d1441cc",
   "metadata": {},
   "outputs": [
    {
     "data": {
      "text/plain": [
       "'Thank you! Thank you! Oh, my gosh. Thank you so much. Thank you. Thank you. Aw, thank you so much. Thank you. Aw… That’s so nice. That almost makes me forget we’re all gonna be dead in a week. I’m kidding. It’ll probably be a month. Remember when we thought the pandemic was over? Everyone was so happy. “We did it!” We probably looked so stupid. Everyone was patting themselves on the back. “You know, I’m just glad I could help out the sick, by staying inside.” “It’s not over? Well, I’m not going back in.” “Those sick people have'"
      ]
     },
     "execution_count": 15,
     "metadata": {},
     "output_type": "execute_result"
    }
   ],
   "source": [
    "reduce_scr"
   ]
  },
  {
   "cell_type": "code",
   "execution_count": 22,
   "id": "c1a5c912",
   "metadata": {},
   "outputs": [],
   "source": [
    "artist_chosen = df[df['artist'] == 'Dave Chappelle']"
   ]
  },
  {
   "cell_type": "code",
   "execution_count": 34,
   "id": "bb27af45",
   "metadata": {},
   "outputs": [],
   "source": [
    "script = artist_chosen['full_transcript'].iloc[0]"
   ]
  },
  {
   "cell_type": "code",
   "execution_count": 35,
   "id": "a420ad5a",
   "metadata": {},
   "outputs": [
    {
     "data": {
      "text/plain": [
       "'[audience murmuring]\\n\\n[murmuring continues]\\n\\n[audience clapping in unison]\\n\\n[sudden silence]\\n\\n[vinyl pops]\\n\\n♪ Listen carefully ♪\\n♪ This is for my favorite band Of human beings ♪\\n♪ The faithful, the graceful, The tragic, the classic ♪\\n♪ The evidence of things unseen, The book of light ♪\\n♪ The mansions of the moon The bones are for their own ♪\\n♪ Recently discovered And everything but no ♪\\n♪ The doubtest doubts about it Never made it unsure, life! ♪\\n♪ The gift, peace out the pressure Can’t remember how you came ♪\\n♪ When I am better, How you exit from the start ♪\\n♪ The only thing certain is the end ♪\\n♪ Promise to all and none, Knowing not when ♪\\n♪ Heartbreak from yesterday, A fret for tomorrow ♪\\n♪ I leave you now filled with anxiety And hollow ♪\\n♪ If you break don’t worry, If you worry don’t break ♪\\n♪ My homie told it to me Just the other day ♪\\n♪ From the tall castle walls To the mean teeth streets ♪\\n♪ I hope you get what you are And that you are what you need ♪\\n\\nThank you.\\n\\n[audience cheers]\\n\\nEverybody have a seat, be comfortable, relax. I got to tell you… let’s go.\\n\\n[audience cheers]\\n\\nThank you. I need you guys to know something. And I’m gonna tell you the truth, and don’t get freaked out. This is going to be my last special for a minute.\\n\\n[audience screams]\\n\\nIt is all good. Listen to me. I did it in Detroit for that reason.\\n\\n[audience cheers]\\n\\nThat’s right. You wanna know why? ‘Cause I talked so much shit about Detroit in the first special I figured, I might as well, do the last special here. Sorry about that, by the way.\\n\\n[audience laughs]\\n\\nFirst of all, before I even start, I’m gonna say that “I’m rich and famous.”\\n\\n[audience laughs]\\n\\nAnd the only reason I say that is ’cause the last 17 months were hell, and I cannot imagine what everybody went through. Well, I’m happy to see you and I’m happy you’re well and I hope everyone you love is okay.\\n\\n[audience cheers]\\n\\nI don’t want you to worry about me, I’m… vaccinated, I… [audience laughs] got the Johnson & Johnson vaccine.\\n\\n[audience laughs]\\n\\nI got to admit, that’s probably the most n*ggaish decision I’ve made in a long time.\\n\\n[applause]\\n\\nI walk in to the doc like, “Give me the third best option.”\\n\\n[audience laughs]\\n\\nI’ll have what the homeless people are having. So far, so good. And I know you probably heard on the news, I did get coronavirus. And it was something else. Like, okay first of all, when the doctor told me I had coronavirus I got to tell you, I was surprised how it made me feel. I felt dirty. [laughter] I felt gross. ‘Cause I’ve been walking around Texas just touching door knobs and shit, hands all moist. Tipping n*ggas with cash. “Here, take this to your family.” [laughter] I must have killed thousands of people. Just trying to get tonight’s show together so I hope you appreciate it ’cause a lot of n*ggas died for me to get this one off.\\n\\n[applause]\\n\\n[cheering]\\n\\nI hadn’t felt that dirty in a long time. Last time I can remember, feeling dirty like that, man, I must have been a little boy. I was being molested by a preacher. [laughter] But don’t feel bad for me, I liked it. [laughter] I used to get a kick out of cumming in that fellows face.\\n\\n[audience laughs]\\n\\nWell, he asked me to do it.\\n\\nThey make you quarantine. I had to quarantine for ten days at least. They said “You’re gonna have to stay in the room,” I didn’t go nowhere. And it started making me nuts, ’cause I would just sit in the room and watch videos all day. Now, do you know what I was watching? And I hate to say this, but there was a lot of videos sadly, of Black people… beating up Asians for no reason. These attacks were unprovoked, I couldn’t believe it. And I was sitting in the room watching this shit, it would stress me out. I was stressed already because the whole time when you get coronavirus, at least the first five days you wait, and see how sick you’re gonna get. And it turns out, and this is true… I didn’t get sick at all. [laughter] Not a cough, not a booger, not a fever, nothing. Look at me I am the Magic Johnson of coronavirus.\\n\\n[audience cheers]\\n\\nI just sat in the crib and got stronger all week. But I was stressed, ’cause I kept watching these videos of my beloved Black people beating up my beloved Asian people, and being so cruel. And the whole time I watched those videos, this is fucked up but I couldn’t help but feel like… When I saw these brothers beating these Asians up. It’s probably what’s happening inside of my body.\\n\\n[laughter]\\n\\n[audience cheers]\\n\\n[applause]\\n\\nI didn’t get sick.\\n\\nI also saw a lot of videos of UFOs. I mean, what the fuck has been going on with that shit? This n*ggas are here. These UFOs keep coming to Earth and it made me think of an idea for a movie. Sounds dumb, but hear me out. In my movie idea we find out that these aliens are originally from Earth. That they are from an ancient civilization that achieved interstellar travel and left the Earth thousands of years ago. Some other planet that they go to and things go terrible for them in the other planet so they come back to Earth and decide that they want to claim the Earth for their very own. It is a pretty good plotline, huh?\\n\\n[audience] Yeah! I call it Space Jews. [laughter] Space Jews.\\n\\n[man] We loved it!\\n\\nAlright. It’s going to get worse than that, hang in there.\\n\\n[laughter]\\n\\nIt is going to get way worse than that. Then I thought of an idea for a children’s book. I actually wrote it. It is coming out soon. The book is designed to help parents, teach their children about racism which, if you’re a parent you know is an impossible concept to teach to a child. But I’m doing it. The book is about a big, strong beautiful Black man with a benign, regular-ass White name… and he has a White speaking voice. So whenever this motherfucker calls to get a reservation at a restaurant, oh, he gets the reservation. [laughter] That name and that voice, who could resist him? Now I should tell you, this Black man is literally an actual giant. And he is a strong dude. And when he shows up to them restaurants they see that big giant Black dude they say “You can’t come in here.” And they call the police. And then every installment of the book the police come, and they always shoot him.\\n\\n[audience laughs]\\n\\nBut remember, no, remember this guy is a giant, these bullets don’t kill him, they don’t even hurt him. They just break his heart. It is called Clifford, the Big Black N*gga, anyone?\\n\\n[audience cheers]\\n\\nThis is my last special, because I have an objective tonight. I came here tonight… because this body of work, that I’ve done on Netflix I’m going to complete. All the questions you might have had about all these jokes I’d said in the last few years I hope to answer tonight. And I would like to start by addressing the LBGTQ community, correct.\\n\\n[audience cheers]\\n\\nAnd I want every member of the community to know that I’ve come here tonight in peace. [laughter] And I hope to negotiate the release of DaBaby.\\n\\n[laughter]\\n\\n[audience cheers]\\n\\nSad story! DaBaby was the number one streaming artist until about a couple of weeks ago. Took a nasty spill onstage, and said some… said some wild stuff about the LBGTQ community during a concert in Florida. Now you know, I go hard in the paint but even I saw that shit was like, “God damn, DaBaby.” He pushed the button, didn’t he? He pushed the button. Punched the LBGTQ community, right in the AIDS.\\n\\n[laughter]\\n\\nCan’t do that. Can’t do that. But I do believe and I’ll make this point later that the kid made a very egregious mistake. I will acknowledge that. But, you know a lot of the LBGTQ community doesn’t know DaBaby’s history, he’s a wild guy. He once shot a n*gga… and killed him, in Walmart. Oh, this is true, Google it. DaBaby shot and killed a n*gga in Walmart in North Carolina. Nothing bad happened to his career.\\n\\n[laughter]\\n\\n[applause]\\n\\nDo you see where I am going with this? In our country, you can shoot and kill a n*gga but you better not hurt a gay person’s feelings. [laughter] And this is precisely the disparity I wish to discuss. I have a question for the audience and this is a real question, I am not joking around. Is it possible, that a gay person can be racist? [audience] Yes! Yeah!\\n\\nDo you really think so?\\n\\n[audience] Yeah! Of course it is possible. Look at Mike Pence.\\n\\n[audience laughs] [applause]\\n\\nI am guessing, but I bet you, he is gay.\\n\\nYeah.\\n\\n[woman] Oh my God.\\n\\nAnd he is not pride parade gay either, he is sad gay. I feel bad for him. He looks like one of them gays that prays about it. Jesus, please take these dirty feelings out of my heart. [laughter] Please Jesus, make these buttholes ugly to me. I don’t want to keep on tasting these dicks. [laughter] Funny. You guys are confusing your emotions. You think I hate gay people and what you’re really seeing is that I’m jealous of gay people. I’m jealous, I’m not the only Black person, that feels this way. We Blacks, we look at the gay community and we go “God damn it! Look how well that movement is going.”\\n\\n[audience cheers]\\n\\n“Look how well you are doing.”\\n\\n[applause]\\n\\nAnd we’ve been trapped in this predicament for hundreds of years. How the fuck are you making that kind of progress? I can’t help but feel like if slaves had baby oil and booty shorts… [laughter] …we might have been free a hundred years sooner. You know what I mean? If Martin Luther King was like, “I want everybody to get up on them floats. Get your bodies good and shiny.” I don’t hate gay people at all, I respect the shit out of you. Well, not all of you. I am not that fond of these newer gays. Too sensitive, too brittle. Those aren’t the gays that I grew up with, I missed them old school gays, n*gga. Them Stonewall n*ggas, them the ones that I respect.\\n\\n[audience cheers]\\n\\nThey didn’t take shit from anybody, they fought for their freedom. I respect that shit, I’m not even gay and I want to be like a Stonewall n*gga. Them old school, gangster gays. Them glory hole n*ggas, them the ones I like.\\n\\n[woman cheers]\\n\\nThese new gays don’t even know what the glory hole is. It’s a hole in the wall, that gay contractors build. [audience laughs] You want to know why they put that hole in the wall? I’ll tell you, there is no nice way to say it. ‘Cause when they want to have some fun they will put their penises in that hole and hope for the best. I respect that shit. It’s a lot of courage on both sides of that hole n*gga. [laughter] I’m not even gay and I want to try that glory hole out.\\n\\n[audience laughs]\\n\\n[applause]\\n\\nWhat if Martin Luther King had to integrate the glory hole? “I don’t care if it is Black lips back there or White lips back there a mouth is a mouth. A warm wet mouth.” I’m going all the way. I got into a fight. I almost got into a fight, it is complicated. I was in a bar in Austin, with my wife and it was during Covid, and a woman came to our table and she was maskless, and this bitch came over, no mask, all “H” words. “Hi, how are you?”\\n\\n[laughter]\\n\\nDroplets was coming out of this bitch’s face. We all covered our drinks. Ew! Baby, what are you doing? Now I looked over the table that she came from, and I peeped game. The men at the table were filming me. This happens when you’re famous. People will come over and try to rattle your cage and get you to say something stupid or dumb so that their buddies can film it and get a video of you embarrassing yourself. And clearly I said, “This is what is happening.” And these dumb motherfuckers thought, it was my first rodeo.\\n\\n[laughter]\\n\\n[applause]\\n\\nSadly it worked.\\n\\n[audience laughs]\\n\\nI ran right over there, I said… I pointed right in the camera I said, “You is a bitch-ass n*gga for doing this to me.”\\n\\n[audience laughs]\\n\\nAnd the dude was shocked that I said it. He said “Huh?” And when he did like this, I’ve seen all his fingernails is painted and I realized like, “Oh-oh.” [laughter] “This fellow is gay.” Yeah, you know how I talk. I call everybody a bitch-ass n*gga. You know what I mean? But that is not a right thing to do if they’re gay. You know what I mean? And now I was in trouble and not only that, the motherfucker was huge. He stood up, he was towering over me. He must have been 6′ 5″, a big White corn-fed Texas homosexual, this n*gga was ready to fight. And he started barking on me, but I stood my ground, I wasn’t scared. How could I be scared? This motherfucker’s shirt was tied up in a knot like this. Oh, fuck this guy. Let’s go, n*gga, let’s go. I thought we were going to come to blows. I was ready and then right when you think we would fight, guess what he did? He picked up his phone and he called the police. And this, this thing I am describing is a major issue that I have with that community. Gay people are minorities, until they need to be White again.\\n\\n[laughter]\\n\\n[applause]\\n\\nI’m being very brutally honest, so we can solve this problem. I’m telling you right now a Black gay person would have never done that to me. ‘Cause a Black gay person knows, when the police shows up they’re not going to care who called ’em. They don’t show up like, “Which one of you n*ggers is Clifford?” [laughter] We’re all Clifford. This happens far too often. Another time, about six years ago, there was a lesbian woman that tried to sell a story about me to TMZ. Thank goodness, TMZ could see right through the sham of that story. This woman claimed that I beat her up in a night club because she was a lesbian. That is fuckin’ crazy. Bitch, I didn’t even know you was a woman.\\n\\n[audience laughs]\\n\\nThank God! TMZ didn’t believe that because I did beat the shit out of her, I am not gonna lie.\\n\\n[audience laughs]\\n\\nIt was her fault, I had no choice. I came into the club minding my own business and a woman came up to me, and she goes “Oh my God, Dave Chappelle.” And I was just being reciprocally nice. “Hey, miss, how are you?” Blah, blah, blah. Benign talk, nothing to it. And all of a sudden this lesbian fellow stepped between us. “Hey n*gga, that’s my girl!” I said, “Yo, my man, back up.” Like that. She said, “I ain’t backing up off shit, n*gga, that’s my girl!” I said, “Bro, you gonna have to give me three feet, like this.” She said, “Stop calling me a man, motherfucker.”\\n\\nI am a woman.”\\n\\nI said, “What?” [laughter] And then I looked deep in this n*gga’s cheek bones. And I said, “Oh my God, you are a woman.” This is too much for me to even wrap my mind around but I tell you what, I un-balled my fist immediately and I softened my posture so that she would know, she is in no danger. I even changed the tone of my voice. I said softly, sweetly, like a pimp might say. [laughter] “Bitch, I’m ’bout to slap the shit out of you.”\\n\\n[cheers and applause]\\n\\nI should have done it. Oh, I wish I didn’t say that. She dropped that foot back, she was in a perfect southpaw stance. Her shoulders were angled correctly, her head movement was good, I said “Oh, no! this bitch boxes for real.” She threw a wild hook at me and I saw it coming from yesterday, so I slipped it like this… I had no choice, I had to go to work. I let that jab go, you should have seen me go n*gga. I tenderized them titties like chicken cutlets. [laughter] I whooped the toxic masculinity out of that bitch.\\n\\n[man cheers]\\n\\nThat is why I don’t go out no more. Just trying to chill, I’m just trying to live a peaceful life. That’s why I live in Ohio, you know, I live in a little town in Ohio. Must be like 3700 people, small hippie town. Culturally you might feel like, like Ann Arbor to you. [laughter] You know what I mean? Bunch of hippies and shit like that. And n*ggas always ask me like, “Dave, why do you live in that hippie town?” And I’d be embarrassed to tell ’em the truth. Well, you know why I live there? Because Yellow Springs, Ohio has the most beautiful women in the world. And a lot of people might disagree with me but, you got to see them for yourself, they’re gorgeous. But it all depends on what you’re into. You know what I mean? I like White bitches with dirty feet.\\n\\n[audience laughs]\\n\\nIf I had a strip club in Yellow Springs, I would have called that shit “Strippies.” All naked hippies, all the time. And I would only hire girls with long titties and long vagina head that looks like they slept on it. And I would keep a pile of dirt, right next to the stage. I’d come up like, “Bitch get your feet in that dirt and get up there and give those people what they came to see.” “Chalk up, bitch.” Couple of years ago I was in Ohio, at a shopping mall. An old White lady… This is true, she was following me around the mall. Which sounds paranoid, but I’m sure she was following me. Mean lady too. You ever see a woman with lines on her face? That just tell you like… even if she’s smiling, it would look like it would hurt the muscles in her face. I knew she was following me, ’cause she was at places that had nothing to do with her I’d be looking around like, “What is this old bitch doing in Gamestop and Footlocker and all the places I like to go?” Every time I see her, she’d just be looking mean on me. And eventually I forgot about it. So, then after, I am shopping I go all the way to the back of the parking lot, I’m parked all the way in the back and as soon as I open my car door I hear a voice go, “David Chappelle.” Just like that. I didn’t even have to look, I knew it was her. And I looked back and sure enough there she was, that face. To be honest with you, she probably wasn’t even that old. She’s probably around my age. But she was a White woman, this bitch looked terrible. [laughter] I’m going all the way. I kept my cool, I was nice. I said, “Hello, miss.” And she didn’t say anything back, all she said was “I watch your comedy.” I said “Oh-oh.” And then she says, this is true, she goes, “Sounds to me… like you, hate women.” I said, “Well, you know what, miss? It’s art.” You are free to interpret this art however you like but I can tell you as the maker of this art that I don’t believe that I feel that way. And she said, “Well, I think…” And I said, “Shut up, bitch! Shut the fuck up!”\\n\\n[laughter]\\n\\n“Before I kill you and put you in the trunk. Ain’t nobody around here.”\\n\\n[audience cheers]\\n\\nI’m just kidding, I didn’t say that. I felt that way, but that’s not what I said. I was more clever than that. You know what I said? And this is exactly what I said, I said, “Miss, before you finish that statement, let me ask you a question. Where did you see me? Did you buy a ticket to a concert I did, I doubt that. Or, maybe you watched one of my specials on Netflix. Or… Or… Did I follow you to your car and do my act?” She said, “What?” I said, “Keep it in the comments section, bitch, this is real life, ta-ta.”\\n\\n[audience laughs]\\n\\n[applause]\\n\\nAnd then I drove off. And now I got to tell you and this is gonna surprise some people here, but not everybody. People say things to me all the time but what you don’t know, is it does affect me. I think about it. And that one bothered me a lot, I was driving home, couldn’t stop thinking about what this woman said because she is not the first woman that said that to me. It’s puzzling. You know what I mean? Like, what could I possibly be saying… that would make these bitches think, I hate women. [laughter] Couldn’t figure it out. So, you know what I did? I Googled the dictionary definition of a feminist just to make sure, I was talking about the right thing. And do you know, sir, what the dictionary definition of a feminist is? I didn’t either, listen to this. Webster’s defines a feminist as a human being, not a woman, a human being, that believes in equal rights for women. I was shocked, ’cause that is what that meant ’cause by that definition I would consider myself a feminist, and I didn’t even know that at the time.\\n\\n[applause]\\n\\nAll these years, I thought it meant frumpy dyke.\\n\\n[audience laughs]\\n\\nWell, that seems always talking to be some… chick in overalls, “Men are trying to rape us.” “Ah, not you bitch, will you please…”\\n\\n[audience laughs]\\n\\nI know, look, listen, I support the feminist movement, I do in my own ways. Well, you guys did the women’s march, I tried to go and support you and none of my friends would go with me. I asked all the fellows, none of them wanted to go. I tried everything. “Come on y’all, there’s gonna be bitches there.” They was like, “Nope.” [laughter] So what I did is, I called my friend Anj. Anj is a Black woman who is a comedy writer and she’s dope. A matter of fact, a matter of fact, she’s the only woman, that I know personally that pays her ex-husband alimony. And she sounds just like a man when she does it. “Fuck that broke motherfucker” and all that, she says all that shit.\\n\\n[applause]\\n\\nSo I hit Anj up, I hit her on the text and all I did, I texted. I said, “Anj, are you going to the women’s march?” And she texted me back, and this is a real text, she said… she said, “I hope those White bitches get tear gassed.”\\n\\n[audience laughs]\\n\\nThere is a problem in that feminist movement, isn’t there? From its inception in America there has always been a racial component. When Susan B. Anthony was having that meeting and Sojourner Truth’s Black ass showed up. Read your history books. All the White women asked Sojourner Truth not to speak. They didn’t conflate the issues of women’s rights and slavery. But you know how Black bitches are, so Sojourner Truth went up there anyway.\\n\\n[laughter]\\n\\n[applause and cheering]\\n\\nShe did a famous speech, she said “Ain’t I a woman?” “Ain’t I a woman?” That’s right. And listen, listen, listen. I supported the “Me Too” movement, but the whole time, the whole time I thought that the way they handled it was stupid. [laughter] It was, it was White, it was like… they were doing shit, like going to the Golden Globes and all of them would be like “Let’s all go to the Golden Globes and wear black dresses. And give these men a piece of our minds.” Bitch, that is not gonna work. You think Martin Luther King is gonna be like, “I want everybody to keep riding the bus, but wear matching outfits.” [laughter] You got to get off the bus and walk. It’s real talk. A real talk, that was a silly movement. “I want everybody to wear crochet pussy hats so they know we are serious.” What the fuck was y’all doing? And then I said something about it in one of my specials and all these women actresses came after me. I said, “Man, fuck y’all too, you canceled. I ain’t jerking off to none of your pictures again.”\\n\\n[laughter]\\n\\n[applause]\\n\\nThey were like, “Who is he to tell us anything?” I’ll tell you exactly who I am. I’m the one that got off the bus and left $50 million on the bus and walked.\\n\\n[cheers and applause]\\n\\nI agreed with these women. I just didn’t agree with what they were doing about it. Right. Right. No, it was annoying as fuck… because if these women were serious, you know what they would have done? They all would have fired their agents. And they would have went to the mailroom of one of these big agencies and found a woman that was bustin’ her hump in there and said, “If you want to talk to us then you have to talk to her.” And if they did that, then she would be big, and they would be big and nobody would get fed to Harvey Weinstein. But did they do that?\\n\\n[audience] No!\\n\\nNo.\\n\\nWas that their idea? No. Surprisingly it was mine. What I think, the feminist movement needs to be very successful… is a male leader.\\n\\n[audience laughs]\\n\\nI’ll do it. I will. I will lead you women to the promised land. I will make sure you will get equal pay for equal work. I will make sure that nobody harasses you or fucks with you on the job. I will protect all of your interests. And all that I ask for in return… is that you suck my dick.\\n\\n[audience laughs]\\n\\nAnd now, we’re right back to square one, aren’t we? And now we get to the core of the crisis. What… what is a woman? What is that, in this day and time? Is there even such a thing as a woman or a man or anything? Hmm. Hmm? Seems to be a question nowadays. Now listen, women get mad at me gay people get mad at me, lesbians get mad at me, but I’m gonna tell you right now, and this is true… these transgenders… the n*ggas want me dead.\\n\\n[laughter]\\n\\nI’ve gone too far, I’ve said too much. But I got to tell you, I’m very worried about it. I’m not even joking with you. Every time I come out onstage, I be scared. I be lookin’ around the crowd, searching. For knuckles and Adam’s apples to see where the threats might be coming from. A n*gga came up to me on the street the other day. He said, “Careful, Dave, they after you.” I said, “What?” “One they, or many theys?”\\n\\n[laughter]\\n\\nBefore I even say anything about that community you must know and I hope you all feel the same way I am not indifferent to the suffering of someone else. There’s laws, the mean laws in our country. North Carolina passed a law once. They said a person in North Carolina must use the restroom that corresponds with the gender they were assigned on their birth certificate. No, no, no, no. No, that is not a good law. That is a mean law. No American should have to present a birth certificate to take a shit at Walmart, in Greensboro, North Carolina where DaBaby shot and killed a motherfucker.\\n\\n[applause]\\n\\nYou have to ask yourself, if you’re thinking about it, who are these laws designed to protect? Like let’s say they designed this law to protect me, my interests, transphobic comedian, Dave Chappelle. Let’s say I’m in Walmart, doing a little shopping with my family. Now I should tell you if that ever happens in real life, you should know my dreams didn’t work out.\\n\\n[laughter]\\n\\nWell let’s say something goes horribly wrong and there I’m in Walmart with the poor Whites rummaging around for mediocre goods and services.\\n\\n[audience laughs]\\n\\nAnd then I got to go to the restroom. So, I excuse myself from my family. I go to the men’s room. Now I’m standing at the urinal, taking a leak. And this is what this law is gonna do. And suddenly a woman walks into the men’s room. I’m like, that’s strange. And then she stands shoulder to shoulder with me at the urinal, I’m gonna be like, “Bitch, what’s going on with you?”\\n\\n[laughter]\\n\\nAnd then she hikes her skirt up and she pulls a real live, meaty dick out!\\n\\n[laughter]\\n\\nWhat do you think I am going to say? Thank God, she’s in here with me. At least now I know my family is safe. Mm-mm. No, I’m not gonna feel that way at all, I’m gonna feel very uncomfortable. I would feel better if it was a man with a vagina that backed up to the urinal next to me. [audience laughs] I wouldn’t even think about that, I’d just be like, “That’s funny.”\\n\\n[audience laughs]\\n\\n“This guy is peeing out of his butt for some reason.” “Oh my God, he must be a Veteran, thank you for your service.” I’m not indifferent to people’s suffering ’cause I know it’s hard to be everybody. We Blacks, we just got our first big holiday in a long time. Happy belated Juneteenth to the Blacks.\\n\\n[cheers and applause]\\n\\nJuneteenth is a strange holiday, isn’t it?\\n\\n[audience] Yes.\\n\\nIt commemorates when Black people in Texarkana area of the country first found out that they were free. But remember, they were free when they found out. They just didn’t know it yet. Very interesting holiday. You know, I learned something This is a wild story. I learned this past Juneteenth of a story, this is true. And it’s that there was a Black man who was in South Carolina during slavery who somehow got granted his freedom by his so-called master. And when his master granted him the freedom he also gave him a plot of land. Now it turns out, this brother was brilliant. He had a good eye, good knack for farming. And he farmed this plot of land very successfully and made a lot of money, and this is where the story gets crazy. When he got all that money… this n*gga brought some slaves.\\n\\n[laughter]\\n\\nHave you ever heard this before? This is a true story. Not only was he a slave owner, he became a slave breeder. And employed tactics that were so cruel even White slave owners were like, “Yo, my man.”\\n\\n[laughter]\\n\\nHe was a wild dude, but he did it just because that’s what successful people did at the time. He just wanted to be down, what a fuckin’ tragedy. How can a person that went through slavery perpetuate the same evil on a person that looks just like him. It’s mind blowing. And shockingly, they’re making a movie about him. Ironically… it is called Space Jews.\\n\\n[audience laughs]\\n\\n[cheers]\\n\\nSpace Jews. [distant chuckling] The point of that story is this person was invested in a construct. That was the construct of successful people and he just followed the roadmap of successful people. He followed what they called “an incentive.” Now, everyone struggles but I’m very invested in the gender construct, personally. ‘Cause I’m a man with kids, and a wife, and I like that warm, wet soft pussy that my wife has.\\n\\n[applause]\\n\\nThis does not mean that I feel like another point of view can’t exist. I was doing a night club in Oakland, 16 years ago and this was the first time that the trans community ever got mad at me that I knew about. And then I was nobody, I had just quit Chappelle Show. It was like a nothing hole in the wall club and I was doing some transgender jokes in Oakland, it was 16 years ago. My pronoun game was not as nice as it is today. I went too far, I said things like tranny and shit I didn’t know these words were bad, and a woman stood up and just gave me the business. Started screaming at me, and I’m sure it was a woman. But she kept calling me transphobic and all this shit I had never even heard these words before, it was really weird. I didn’t trip, I just gazed at Security to look like, “Go on, get that bitch out of here.”\\n\\n[audience laughs]\\n\\nI kept it moving. And then she went to the press. The next day one of the gay papers wrote all of the same things she had said to me, about me in the paper. Misquoted the jokes, and was calling me transphobic you know, these words, I had never heard them before but every time that I talked with anybody from the community since they always repeat the talking points from that article. My least favorite of which being, I hate this phrase they say, “I was punching down on them.” “Punching down”, what the fuck does that mean? Now fast forward. It is 2019. And I am in a restaurant in Ohio, very nice restaurant. It’s Thanksgiving week. And to be honest, it is not a very nice restaurant, but it is a nice restaurant, if you’re a White person from Ohio that has never been anywhere before. [laughter] Picture Chili’s.\\n\\n[audience laughs]\\n\\nI’m sitting in the bar, I’m having a drink by myself and the only other person in the bar is a woman, a couple of stools down. And she was alone, and she was older, and that made me feel sad, ’cause it was the holidays. So, I told the bartender, “Send that woman a drink on me.” Just trying to spread the cheer, and I wish I didn’t. This woman wanted to talk. She wasn’t mean, she was nice, but she just wanted to talk about shit that you know, I mean a n*gga just trying to get drunk don’t want to hear about this bitch remodeling in her bathroom. And I’m sitting there, trying to be polite. Oh, subway tiles? Word. But then she hits a lick. Piqued my interest. She says, “My daughter is coming home for the holidays.” Like, “Oh, that is great news, I’m glad you’re not going to be alone.” And then she goes on and on about how great her daughter is. I guess her daughter got a new agent and she is out in Hollywood, she’s in movies and on television and all this stuff and as she’s telling me this, I’m thinking, this woman is so sweet. She probably doesn’t even know who I am. Or what I do for a living because I know what your daughter’s is out in Hollywood doing.\\n\\n[laughter]\\n\\nAnd then she goes, “Would you like to see her picture?” “Oh now I don’t want to see this woman’s picture, but what am I gonna do?” I’m like, “Okay sure, I’d love to see the picture.” And I grab the picture and this is all I say, this is all I say, “Oh… she is very beautiful.” And as she puts the picture away she… looks mean all of a sudden, like she caught me in some kind of trap. “What did that face mean?” And then she goes, “She’s transgender.” And I think to myself, “Oh, this bitch does know who I am.”\\n\\n[audience laughs]\\n\\nI really resented that trap because that trap doesn’t let me be honest. If I was honest, I wouldn’t have fallen for it. I’d have just looked at the picture like, “Look at that big chiseled jawline, that big thick Joe Rogan neck. Is that a dude? Is your daughter a man?” Can’t say that shit. It’s really annoying. Fast forward, now it’s a couple of days later. It’s the Wednesday… before the Thursday that’s Thanksgiving, and I’m in a totally different bar and this bar, trust me, is not a nice place. It’s foul, it’s one of those bars where the top shelf should be under the sink. [laughter] This is where the poor Whites drink. The Tiki torch Whites. You know what I mean? Them White people, they believe in “Q” and they love Trump. You know what I mean? Like Michigan White people.\\n\\n[audience cheers]\\n\\n[applause]\\n\\nI remember I was at this bar one time, it was that kind of bar it is. I was in there one time, I was fucked up and I turned around to everybody in the bar and go “Hey everybody, I am going to buy everyone in the bar a round of drinks.” And all the motherfuckers was like, “Hurrah!” And the bartender knew I was drunk, so she pulled me aside. “Mr. Chappelle, are you sure about that?” That’s going to be 16 dollars.\\n\\n[laughter]\\n\\n[applause]\\n\\nTough time for the Whites. And this was a holiday weekend. You know what I mean? These motherfuckers were having a rootin’ tootin’ time. They was in there partying, making all them noises. “Ooh! Ow! Yeow!” You know all them noises White people make before lynching? They was doing all that shit. [audience laughs] I was drunk. I looked over my shoulder, I thought I was trippin’. Guess who was in the bar? I thought I was seeing things, I looked across the room and I saw… the trans-bitch from the picture. [laughter] I couldn’t believe it. I said “What is a trans person, doing in a place like this? This is very dangerous behavior.” And she was with, two big, buff, gay Black dudes. I didn’t know these dudes, but I know they was gay. If they had a dick in their mouth, they wouldn’t look any gayer than they did just sitting there. [laughter] They had 1980s gay face. You know what that is? Remember in the ’80s when gay people looked surprised all the time.\\n\\n[audience laughs]\\n\\n[applause]\\n\\n“Close your mouth, n*gga, what is surprising”, you know what I mean? But they was huge, they looked like Jussie Smollett’s trainers.\\n\\n[laughter]\\n\\nAnd I am thinking, “Man these motherfuckers are in a lot of trouble.” So what I do is I stand up and everybody in the bar likes me, so I make a big show of it to make sure that everyone can hear me. Now, I walk right up to her, and I go “Hey! I just met your mother the other night and she told me all the great things you’re doing in Hollywood. And I cannot believe that someone from a podunk place like this can achieve all that, I’m so proud of you. Welcome home.” And the whole bar said “Hurrah!” And I said “Phew.” “That ought to buy her some time.” You know what I mean? A couple of more drinks and these fellows are gonna start asking her for some pussy, she might not have.\\n\\n[laughter]\\n\\nAnd she was very gracious. She said “Thank you so much”, and we shook hands and as she was shaking my hand, her face turned mean, like her mom’s. And she said, “Do you mind, not punching down on my people?” Oh, I don’t like that. Normally, I would’ve let it go, but I was drunk.\\n\\n[laughter]\\n\\nI said, “What might you mean, bitch?”\\n\\n[audience laughs]\\n\\nI was careful to call her a bitch, ’cause I didn’t want to blow her cover. [audience laughs] Turns out she wasn’t hiding. She was loud, she was proud. She let me have it in front of everybody. Screaming at me, all the talking points from that article. You transphobic, this and that. Kept clapping her hands in my face. “Let me tell you somethin’.” I said, “Where did you learn this from, Black bitches?” She kept going, “Let me tell you something, honey.” So annoying. She kept calling transgenders, her people. Ain’t that weird? “My people this, my people that.” I said, “What do you mean, your people?” Were you all kidnapped in Transylvanian, brought here as slaves? [laughter] She said, “My people have struggled for decades, honey, decades.” And I looked at them gay Black dudes, like. “Is there anything you n*ggas need to tell this bitch? [laughter] Clifford, Clifford?”\\n\\n[audience laughs]\\n\\nI am exaggerating, she is actually a very nice person and I’m cool with her now, but boy, that shit got on my nerves. And it got on my nerves because, whenever someone says that to me I know they have never seen me for themselves, they just repeat what they’ve heard. Any of you, who have ever watched me know that I’ve never had a problem with transgender people. If you listen to what I’m saying, clearly my problem has always been with White people.\\n\\n[audience laughs]\\n\\n[applause]\\n\\nI’ve been arguing with the Whites my entire career. Just when I thought I had you guys on the ropes you changed all the rules. “Oh yeah?” – Yeah, motherfucker! – “Well.” I am a girl now, n*gger. You must treat me as such.\\n\\n[audience laughs]\\n\\n“Call me a girl, n*gger.” It’s annoying as fuck. No, no, go back, go back tonight after the show, watch every special I did on Netflix. Listen to everything I’ve ever said about that community. I’ll go through ’em. I said, “How much do I have to participate in your self image?” I said, “You shouldn’t discuss this in front of Black people.” I said, “I know n*ggas in Brooklyn that wear high heels just to feel safe.” I asked you “Why is it easier for Bruce Jenner to change his gender than it is for Cassius Clay to change his name?”\\n\\n[audience cheers]\\n\\n[applause]\\n\\nIf you listen to what I’m saying, I’m not even talking about them, I’m talking about us and “they don’t listen.” It’s very annoying. And they have canceled people, more powerful than me. They canceled J.K. Rowling, my God. J.K. Rowling wrote all the Harry Potter books by herself. She sold so many books, the Bible worries about her.\\n\\n[laughter]\\n\\nAnd they canceled it because, she said in an interview and this is not exactly what she said, but effectually she said that gender was a fact. And then the trans community got mad as shit, they started calling her a TERF. I didn’t even know, what the fuck that was. But I know that trans people make up words to win arguments. [laughter] So I looked it up. TERF is an acronym. It stands for Trans-exclusionary radical feminist. This is a real thing, this is a group of women… that hate transgender. They don’t hate transgender women but they look at trans women the way we Blacks might look at Black face. It offends them like, “Oh, this bitch is doing an impression of me.” [laughter] Now I shouldn’t speak on this because I’m not a woman nor am I a trans. But as we’ve established… I am a feminist. [laughter] That’s right.\\n\\n[applause]\\n\\nI’m team TERF. I agree. I agree, man. Gender is a fact. You have to look at it from a woman’s perspective. Look at it like this, Caitlyn Jenner whom I have met, wonderful person. Caitlyn Jenner… was voted, woman of the year. Her first year as a woman. Ain’t that something? Beat every bitch in Detroit. She’s better than all of you. [laughter] Never even had a period, ain’t that something? [laughter] I’d be mad as shit if I was a woman. I’d be mad if I was me. If I was in the BET awards, sitting there and they’re like “And the winner for n*gger of the year… Eminem.” My man. [audience laughs] Gender is a fact, this is a fact. Every human being in this room, every human being on Earth had to pass through the legs of a woman to be on Earth. That is a fact. [laughter] Now… I am not saying that to say, that trans women aren’t women. I’m just sayin, that those pussies that they got… You know what I mean?\\n\\n[audience laughs]\\n\\n[applause]\\n\\nI’m not saying it is not pussy, but that’s like Beyond Pussy or Impossible Pussy. You know what I mean? It tastes like pussy but that’s not quite what it is, is it? It’s not blood, that is beet juice. [laughter] Oh buddy, I’m in trouble now.\\n\\n[audience laughs]\\n\\nBefore I go, I want to share this story with you because it is important to this point. I want your community to know that one of the coolest people I ever met was a transgender woman. And this is not a man that I knew that became a woman, this woman was trans when I met her. Lived in San Francisco, Daphne Dwarman is the name. I would do 18 shows in the Bay Area sometimes in Oakland and Dirty Hood night club and she would be there, white trans woman, laughing loud and hard, at everything I said. Especially the trans jokes, very puzzling… because she was obviously trans. And one night after one of the shows I met her. And what it was, turns out it was her dream to be a comedian. And I was her hero. It was very moving. I could not dislike somebody that felt that way about me. We became fast friends. And when I made that special Sticks and Stones right as it was coming out, I happened to be in San Francisco and I wanted to do a show. But I needed an opening act, and I remembered… that trans woman I had met, so I called her on the phone. And I called her myself, I said, “Hey Daphne, this is Dave Chappelle.” She couldn’t believe it. And I go, “I’m in San Francisco.” And then she started saying a bunch of wild stuff, I was like “Relax now, I don’t want any pussy, I was… [laughter] I’m just calling, because I’m doing a show and I need an opening act. And I was wondering if you’d open the show?” And she was like, “Fuck, yeah.” Now… I didn’t know this at the time but this woman had only done stand up comedy eight times in her life. This was little to no experience and now she’s about to open a show for what many call the GOAT.\\n\\n[audience cheers]\\n\\n[applause]\\n\\nShe’s an amateur in stature, but in practice, she was very professional. She showed up early, which is something I appreciate ’cause I like people to be on time. She was dressed to the motherfuckin’ nines, I mean, I’m transphobic and even I was like, “You look nice.”\\n\\n[laughter]\\n\\nWent up on the stage with all the swag of a professional comedian, grabbed that mic and walked right down the middle and looked at the crowd like a gangster. Man, you should have seen her work. This bitch bombed for 45 minutes, straight.\\n\\n[cheers]\\n\\nAnd I’m not exaggerating, young man. That show was terrible. Stunk. Stunk. And then she brings me on, and you know, I was like a glass of water after a handful of salt. The crowd was happy to see me. I was killing it. But here is what impressed me. Any other comedian I’ve ever seen, if they had bombed as bad as she did, would have snuck out of the back of the theatre and went home and cried or something, but she didn’t do that. Not only did she not leave, she found a seat, right up in front. You know, when a new comedian watches an experienced comedian in comedy we call this “taking class.” And this bitch took my whole class, she sat up there and was laughing as hard as she always laughs as if nothing bad had even happened to her. And I saw her show. Something bad happened to her.\\n\\n[audience laughs]\\n\\nShe was drunk. So she starts talking to me, while I’m onstage but the way a person would talk to a television when they were alone. She was talking to me like that. That didn’t bother me ’cause I knew her. But the crowd didn’t like that shit at all ’cause she sucked. And a guy in the back of the room stood up and Daphne’s hair was dyed blonde at the time and the guy screamed out, and his energy felt wild as fuck. He said, “Hey Daphne!” and everybody got clamped, they got tense. We didn’t know who was a heckler or active shooter, and… [laughter] …he said, “Does the carpet match the drapes?” It was fucked up. The whole crowd kind of groaned, ’cause it was so like, mean. Everybody groaned, except for Daphne. She kind of laughed, which was weird. And she didn’t even look all the way back. She said, “Sir, I don’t have carpets I have hardwood floors.” Just like that. [laughter] Just like that.\\n\\n[applause]\\n\\nBoy, when she said that shit, it blew the roof of the place. Cut through all the tension, with that one joke. She had made up for 45 minutes of a stinker of a show. And after that, she could do no wrong. And I kept on rocking, and she kept on talking to me. And then the show became something cooler than a show. It became like a conversation between a Black man and a White trans woman and we started getting to the bottom of shit. All of them questions that you think about that you’d be afraid to ask, I was just asking them and she was answering them and her answers were funny as shit. The crowd was falling out of their chairs and at the end of the show, I go, “Well, Daphne”… I said “Well, that was fun.” I go, “I love you to death, but I have no fuckin’ idea what you’re talking about.” The whole crow laughed except for Daphne. Man, she looks at me like I’m not her friend anymore. Like I’m something bigger than me, like I’m the whole world in a guy. Then she said, “I don’t need you to understand me.” I said, “What?” She said, “I just need you to believe…” Just like that she goes, “…that I’m having a human experience.” And when she said it the whole crowd kind of gasped. And I gave the Fight Club look. I said, “I believe you, bitch.”\\n\\n[laughter]\\n\\nBecause she didn’t say anything about pronouns. She didn’t say anything about me being in trouble. She said, “Just believe I’m a person and I’m going through it.” I know I believe you, because it takes one to know one.\\n\\n[cheers and applause]\\n\\nThen I told the crowd “Good night.” And they started going crazy and before the applause gets to it’s crescendo I was saying, “Don’t forget my opening act, Daphne.” And the crowd stood up. And I looked at her, tears came out of her eyes she couldn’t believe it was happening. I couldn’t believe it was happening ’cause her show stunk. [laughter] And it was a great night. And I remember, the late great Paul Mooney was there bunch of flyers, comedy n*ggas was there.\\n\\n[cheers]\\n\\n[applause]\\n\\nAnd we all went backstage and was just drinking and talking shit and laughing and Daphne stole the room, she had everyone cracking up. Spinning the yarn, telling us all these crazy stories about shit, she’d be into. We all laughing real hard, and there she is telling us and everyone is laughing. I’m looking around, I’m like, “Oh my God, she is funny.” I pulled her aside, I said, “You’re hilarious. I didn’t know that when you were onstage.” [laughter] I said, “You’re doing some things wrong but I can help you.” I said, “Anytime I’m in San Francisco why don’t you open the show for me and I’ll just try to give you some pointers and see if you can work this thing out.” She said, “Are you serious?” I was like, “Yeah.” And she grabbed me real tight, hugged me, squeezed me. And I pushed her off violently, ’cause I’m transphobic. I said “Boundaries, bitch!”\\n\\n[audience laughs]\\n\\nWhen Sticks and Stones came out… a lot of people in the trans community were furious with me and apparently they dragged me on Twitter. I don’t give a fuck, ’cause Twitter is not a real place.\\n\\n[audience laughs]\\n\\n[cheers and applause]\\n\\nAnd the hardest thing for a person to do is go against their tribe if they disagree with their tribe, but Daphne did that for me. She wrote a tweet that was very beautiful and what she said was and it is almost exactly what she said. She said, “Punching down on someone, requires you to think less of them and I know him, and he doesn’t. He doesn’t punch up, he doesn’t punch down he punches lines, and he is a master at his craft.” That’s what she said.\\n\\n[audience cheers]\\n\\nBeautiful tweet, beautiful friend, it took a lot of heart to defend me like that, and when she did that the trans community dragged that bitch all over Twitter. For days, they was going in on her, and she was holding her own ’cause she’s funny. But six days after that wonderful night I described to you my friend Daphne killed herself. Oh yeah, this is a true story, my heart was broken. Yeah, it wasn’t the jokes. I don’t know if was them dragging or I don’t know what was going on in her life but I bet dragging her didn’t help. I was very angry at them, I was very angry at her. I felt like Daphne lied to me. She always said, she identified as a woman. And then one day she goes up to the roof of her building and jumps off and kills herself. Clearly… only a man would do some gangster shit like that. Hear me out. As hard as it is to hear a joke like that I’m telling you right now, Daphne would have loved that joke. That is why she was my friend.\\n\\n[cheers and applause]\\n\\nI was reading her obituary and I found out, she was survived by a daughter. And the moment I found that out, and this is true Anderson Cooper from CNN texted me. And all he says, it’s very nice, he said, “I’m sorry to hear about your friend.” And I texted him right back. “New phone, who this?” [laughter] He said, “It’s Anderson Cooper.” Oh, I said, “Anderson, look I need to find her family.” And he texted me right back with all the phone numbers and all this information. I say this to say, if you ever want to know about anything gay call Anderson Cooper from CNN. This n*gga is faster than Google. [laughter] What I did is, I got in touch with her family and I started a trust fund for her daughter ’cause I know that is all she ever really cared about.\\n\\n[applause]\\n\\nAnd I don’t know what the trans community did for her but I don’t care, because I feel like she wasn’t their tribe, she was mine. She was a comedian in her soul.\\n\\n[applause]\\n\\nThe daughter is very young, but I hope to be alive when she turns 21 ’cause I’m going to give her this money myself. And by then, by then, I’ll be ready to have the conversation that I’m not ready to have today. But I’ll tell that little girl, “Young lady, I knew your father… [audience laughs] …and he was a wonderful woman.”\\n\\n[cheers]\\n\\n[applause]\\n\\nEmpathy is not gay. Empathy is not Black. Empathy is bi-sexual. It must go both ways. It must go both ways.\\n\\n[applause]\\n\\nRemember, taking a man’s livelihood is akin to killing him. I’m begging you, please do not abort DaBaby.\\n\\n[laughter]\\n\\n[applause]\\n\\nKevin Hart dreamt his entire life of hosting the Oscars and when he finally got the job they just took it! It’s not fair. They didn’t kill him, Kevin is a strong guy. But I’m sure it broke old Clifford’s heart. It’s over. LBGTQ, L-M-N-O-P-Q-Y-Z, it is over. I’m not telling another joke about you until we are both sure, that we are laughing together. I’m telling you this is done. I’m done talking about it. All I ask from your community, with all humility will you please stop punching down on my people? Thank you very much and good night.\\n\\n[audience cheers]\\n\\n♪ First I was afraid, I was petrified ♪\\n♪ Kept thinking I could never live Without you by my side ♪\\n♪ But then I spent so many nights ♪\\n♪ Thinking how you did me wrong, and I grew strong ♪\\n♪ And I learned how to get along ♪ ♪ And so you’re back ♪\\n♪ From outer space ♪\\n♪ I just walked in to find you here ♪\\n♪ With that sad look upon your face ♪\\n♪ I should have changed that stupid lock ♪\\n♪ I should have made you leave your key ♪\\n♪ If I had known for just one second, You’d be back to bother me ♪\\n♪ Go on now go ♪ ♪ Walk out the door ♪\\n♪ Just turn around now ♪\\n♪ You’re not welcome anymore ♪\\n♪ Weren’t you the one who tried to Hurt me with goodbye ♪\\n♪ You think I’d crumble You think I’d lay down and die ♪\\n♪ Oh no not I I will survive ♪\\n♪ Oh as long as I know how to love I know I’ll be alive ♪\\n♪ I’ve got all my life to live I’ve got all my love to give ♪\\n♪ I’ll survive I will survive ♪\\n♪ Hey hey ♪\\n\\n♪♪\\n\\n♪ It took all the strength I had ♪\\n♪ Not to fall apart ♪\\n♪ Kept trying hard to mend the pieces Of my broken heart ♪\\n♪ And I spent oh-so many nights Just feeling sorry for myself ♪\\n♪ I used to cry ♪\\n♪ But now I hold my head up high And you see me ♪\\n♪ Somebody new ♪\\n♪ I’m not that chained-up little Person still in love with you ♪\\n♪ And so you felt like dropping in And just expect me to be free ♪\\n♪ Well, now I’m saving all my lovin’ For someone who’s loving me ♪\\n♪ Go on now, go Walk out the door ♪\\n♪ Just turn around now You’re not wanted anymore ♪\\n♪ Weren’t you the one who tried to break me with goodbye ♪\\n♪ You think I’d crumble You think I’d lay down and die ♪\\n♪ Oh no, not I… ♪'"
      ]
     },
     "execution_count": 35,
     "metadata": {},
     "output_type": "execute_result"
    }
   ],
   "source": [
    "script"
   ]
  },
  {
   "cell_type": "code",
   "execution_count": 48,
   "id": "32734b53",
   "metadata": {},
   "outputs": [
    {
     "data": {
      "text/plain": [
       "4         Dave Chappelle: The Closer (2021) | Transcript\n",
       "8                      Dave Chappelle: 8:46 – Transcript\n",
       "27     Dave Chappelle: SNL Monologue (2020) – Transcript\n",
       "44     Dave Chappelle: Hbo Comedy Half-Hour (1998) – ...\n",
       "98     Dave Chappelle: Sticks & Stones | Epilogue: Th...\n",
       "99     Dave Chappelle: Sticks & Stones (2019) – Trans...\n",
       "236    Dave Chappelle: The Bird Revelation (2017) – T...\n",
       "237       Dave Chappelle: Equanimity (2017) – Transcript\n",
       "333    Dave Chappelle: For What It’s Worth (2004) – T...\n",
       "334    Dave Chappelle: Killin’ Them Softly (2000) – T...\n",
       "348    Dave Chappelle: Deep in the Heart of Texas (20...\n",
       "353    Dave Chappelle: The Age of Spin (2017) – Trans...\n",
       "Name: title, dtype: object"
      ]
     },
     "execution_count": 48,
     "metadata": {},
     "output_type": "execute_result"
    }
   ],
   "source": [
    "chosen_artist = 'Dave Chappelle'\n",
    "the_artist = df[df['artist'] == chosen_artist]\n",
    "\n",
    "the_artist['title']"
   ]
  },
  {
   "cell_type": "code",
   "execution_count": 51,
   "id": "6cb2bbda",
   "metadata": {},
   "outputs": [
    {
     "name": "stdout",
     "output_type": "stream",
     "text": [
      "choose the title by index2\n"
     ]
    },
    {
     "data": {
      "text/plain": [
       "title              Dave Chappelle: SNL Monologue (2020) – Transcript\n",
       "full_transcript    [Announcer] Ladies and gentlemen — Dave Chappe...\n",
       "artist                                                Dave Chappelle\n",
       "show_name                                              SNL Monologue\n",
       "year                                                          2020.0\n",
       "Name: 27, dtype: object"
      ]
     },
     "execution_count": 51,
     "metadata": {},
     "output_type": "execute_result"
    }
   ],
   "source": [
    "choose_title = input('choose the title by index')\n",
    "chosen_title = the_artist.iloc[int(choose_title)]\n",
    "chosen_title"
   ]
  },
  {
   "cell_type": "code",
   "execution_count": 53,
   "id": "c94bd4bc",
   "metadata": {},
   "outputs": [
    {
     "data": {
      "text/plain": [
       "'[Announcer] Ladies and gentlemen — Dave Chappelle!\\n\\n[Cheers and applause]\\n\\nThank you. Thank you.\\n\\n[Cheers and applause]\\n\\nThank you all for being here.\\n\\n[Cheers and applause]\\n\\nPretty incredible day.\\n\\n[Cheers and applause] You know, you know what I was thinking about all day today? This is really weird. First of all, I’m nervous. I should tell you that. You can’t tell, but, all inside. I was thinking about a person I never actually met, but I heard about all my life. I was thinking about my great '"
      ]
     },
     "execution_count": 53,
     "metadata": {},
     "output_type": "execute_result"
    }
   ],
   "source": [
    "chosen_title.full_transcript[:500]"
   ]
  },
  {
   "cell_type": "code",
   "execution_count": 54,
   "id": "c8d5fcdc",
   "metadata": {},
   "outputs": [
    {
     "ename": "NameError",
     "evalue": "name 'st' is not defined",
     "output_type": "error",
     "traceback": [
      "\u001b[0;31m---------------------------------------------------------------------------\u001b[0m",
      "\u001b[0;31mNameError\u001b[0m                                 Traceback (most recent call last)",
      "Input \u001b[0;32mIn [54]\u001b[0m, in \u001b[0;36m<cell line: 2>\u001b[0;34m()\u001b[0m\n\u001b[1;32m      1\u001b[0m artists \u001b[38;5;241m=\u001b[39m df[\u001b[38;5;124m'\u001b[39m\u001b[38;5;124martist\u001b[39m\u001b[38;5;124m'\u001b[39m]\u001b[38;5;241m.\u001b[39mdrop_duplicates()\n\u001b[0;32m----> 2\u001b[0m artist_choice \u001b[38;5;241m=\u001b[39m \u001b[43mst\u001b[49m\u001b[38;5;241m.\u001b[39msidebar\u001b[38;5;241m.\u001b[39mselectbox(\u001b[38;5;124m'\u001b[39m\u001b[38;5;124mSelect your artist:\u001b[39m\u001b[38;5;124m'\u001b[39m, artists)\n\u001b[1;32m      3\u001b[0m years \u001b[38;5;241m=\u001b[39m df[\u001b[38;5;124m\"\u001b[39m\u001b[38;5;124myear\u001b[39m\u001b[38;5;124m\"\u001b[39m]\u001b[38;5;241m.\u001b[39mloc[df[\u001b[38;5;124m\"\u001b[39m\u001b[38;5;124martist\u001b[39m\u001b[38;5;124m\"\u001b[39m] \u001b[38;5;241m==\u001b[39m artist_choice]\n\u001b[1;32m      4\u001b[0m year_choice \u001b[38;5;241m=\u001b[39m st\u001b[38;5;241m.\u001b[39msidebar\u001b[38;5;241m.\u001b[39mselectbox(\u001b[38;5;124m'\u001b[39m\u001b[38;5;124mYear\u001b[39m\u001b[38;5;124m'\u001b[39m, years)\n",
      "\u001b[0;31mNameError\u001b[0m: name 'st' is not defined"
     ]
    }
   ],
   "source": [
    "artists = df['artist'].drop_duplicates()\n",
    "\n",
    "years = df[\"year\"].loc[df[\"artist\"] == artist_choice]\n",
    "\n",
    "titles = df['show_name'].loc[df['year'] == year_choice]\n",
    "\n",
    "awesome = df.loc[(df['artist']==artist_choice) & (df['year']==year_choice) & (df['show_name']==title_choice)]\n"
   ]
  },
  {
   "cell_type": "code",
   "execution_count": null,
   "id": "dc466ad9",
   "metadata": {},
   "outputs": [],
   "source": [
    "df_selection = df.query(\n",
    "    \"(Azienda == @azienda) and (Anno == @anno) and (Manager == @manager)\") \n",
    ")"
   ]
  },
  {
   "cell_type": "code",
   "execution_count": 56,
   "id": "636ee0dc",
   "metadata": {},
   "outputs": [],
   "source": [
    "def return_script(artist, year, title):\n",
    "    new_art = df[df['artist'] == artist]\n",
    "    new_year = df[df['year'] == year]\n",
    "    new_title = df[df['show_name'] == title]\n",
    "    if new_art in new_year and new_year in new_title and new_art in new_year:\n",
    "        return new_art, new_year, new_title\n",
    "    else:\n",
    "        return 'unmatched'"
   ]
  },
  {
   "cell_type": "code",
   "execution_count": 57,
   "id": "4d95bf79",
   "metadata": {},
   "outputs": [
    {
     "ename": "TypeError",
     "evalue": "unhashable type: 'DataFrame'",
     "output_type": "error",
     "traceback": [
      "\u001b[0;31m---------------------------------------------------------------------------\u001b[0m",
      "\u001b[0;31mTypeError\u001b[0m                                 Traceback (most recent call last)",
      "Input \u001b[0;32mIn [57]\u001b[0m, in \u001b[0;36m<cell line: 1>\u001b[0;34m()\u001b[0m\n\u001b[0;32m----> 1\u001b[0m \u001b[43mreturn_script\u001b[49m\u001b[43m(\u001b[49m\u001b[38;5;124;43m'\u001b[39;49m\u001b[38;5;124;43mPhil Wang\u001b[39;49m\u001b[38;5;124;43m'\u001b[39;49m\u001b[43m,\u001b[49m\u001b[43m \u001b[49m\u001b[38;5;241;43m2021.0\u001b[39;49m\u001b[43m,\u001b[49m\u001b[43m \u001b[49m\u001b[38;5;124;43m'\u001b[39;49m\u001b[38;5;124;43mComedy Monster\u001b[39;49m\u001b[38;5;124;43m'\u001b[39;49m\u001b[43m)\u001b[49m\n",
      "Input \u001b[0;32mIn [56]\u001b[0m, in \u001b[0;36mreturn_script\u001b[0;34m(artist, year, title)\u001b[0m\n\u001b[1;32m      3\u001b[0m new_year \u001b[38;5;241m=\u001b[39m df[df[\u001b[38;5;124m'\u001b[39m\u001b[38;5;124myear\u001b[39m\u001b[38;5;124m'\u001b[39m] \u001b[38;5;241m==\u001b[39m year]\n\u001b[1;32m      4\u001b[0m new_title \u001b[38;5;241m=\u001b[39m df[df[\u001b[38;5;124m'\u001b[39m\u001b[38;5;124mshow_name\u001b[39m\u001b[38;5;124m'\u001b[39m] \u001b[38;5;241m==\u001b[39m title]\n\u001b[0;32m----> 5\u001b[0m \u001b[38;5;28;01mif\u001b[39;00m \u001b[43mnew_art\u001b[49m\u001b[43m \u001b[49m\u001b[38;5;129;43;01min\u001b[39;49;00m\u001b[43m \u001b[49m\u001b[43mnew_year\u001b[49m \u001b[38;5;129;01mand\u001b[39;00m new_year \u001b[38;5;129;01min\u001b[39;00m new_title \u001b[38;5;129;01mand\u001b[39;00m new_art \u001b[38;5;129;01min\u001b[39;00m new_year:\n\u001b[1;32m      6\u001b[0m     \u001b[38;5;28;01mreturn\u001b[39;00m new_art, new_year, new_title\n\u001b[1;32m      7\u001b[0m \u001b[38;5;28;01melse\u001b[39;00m:\n",
      "File \u001b[0;32m~/.pyenv/versions/3.8.12/envs/objectively_funny/lib/python3.8/site-packages/pandas/core/generic.py:2002\u001b[0m, in \u001b[0;36mNDFrame.__contains__\u001b[0;34m(self, key)\u001b[0m\n\u001b[1;32m   1999\u001b[0m \u001b[38;5;129m@final\u001b[39m\n\u001b[1;32m   2000\u001b[0m \u001b[38;5;28;01mdef\u001b[39;00m \u001b[38;5;21m__contains__\u001b[39m(\u001b[38;5;28mself\u001b[39m, key) \u001b[38;5;241m-\u001b[39m\u001b[38;5;241m>\u001b[39m bool_t:\n\u001b[1;32m   2001\u001b[0m     \u001b[38;5;124;03m\"\"\"True if the key is in the info axis\"\"\"\u001b[39;00m\n\u001b[0;32m-> 2002\u001b[0m     \u001b[38;5;28;01mreturn\u001b[39;00m \u001b[43mkey\u001b[49m\u001b[43m \u001b[49m\u001b[38;5;129;43;01min\u001b[39;49;00m\u001b[43m \u001b[49m\u001b[38;5;28;43mself\u001b[39;49m\u001b[38;5;241;43m.\u001b[39;49m\u001b[43m_info_axis\u001b[49m\n",
      "File \u001b[0;32m~/.pyenv/versions/3.8.12/envs/objectively_funny/lib/python3.8/site-packages/pandas/core/indexes/base.py:5008\u001b[0m, in \u001b[0;36mIndex.__contains__\u001b[0;34m(self, key)\u001b[0m\n\u001b[1;32m   4973\u001b[0m \u001b[38;5;28;01mdef\u001b[39;00m \u001b[38;5;21m__contains__\u001b[39m(\u001b[38;5;28mself\u001b[39m, key: Any) \u001b[38;5;241m-\u001b[39m\u001b[38;5;241m>\u001b[39m \u001b[38;5;28mbool\u001b[39m:\n\u001b[1;32m   4974\u001b[0m     \u001b[38;5;124;03m\"\"\"\u001b[39;00m\n\u001b[1;32m   4975\u001b[0m \u001b[38;5;124;03m    Return a boolean indicating whether the provided key is in the index.\u001b[39;00m\n\u001b[1;32m   4976\u001b[0m \n\u001b[0;32m   (...)\u001b[0m\n\u001b[1;32m   5006\u001b[0m \u001b[38;5;124;03m    False\u001b[39;00m\n\u001b[1;32m   5007\u001b[0m \u001b[38;5;124;03m    \"\"\"\u001b[39;00m\n\u001b[0;32m-> 5008\u001b[0m     \u001b[38;5;28;43mhash\u001b[39;49m\u001b[43m(\u001b[49m\u001b[43mkey\u001b[49m\u001b[43m)\u001b[49m\n\u001b[1;32m   5009\u001b[0m     \u001b[38;5;28;01mtry\u001b[39;00m:\n\u001b[1;32m   5010\u001b[0m         \u001b[38;5;28;01mreturn\u001b[39;00m key \u001b[38;5;129;01min\u001b[39;00m \u001b[38;5;28mself\u001b[39m\u001b[38;5;241m.\u001b[39m_engine\n",
      "\u001b[0;31mTypeError\u001b[0m: unhashable type: 'DataFrame'"
     ]
    }
   ],
   "source": [
    "return_script('Phil Wang', 2021.0, 'Comedy Monster')\n",
    "    "
   ]
  },
  {
   "cell_type": "code",
   "execution_count": null,
   "id": "eba24bdb",
   "metadata": {},
   "outputs": [],
   "source": []
  }
 ],
 "metadata": {
  "kernelspec": {
   "display_name": "Python 3 (ipykernel)",
   "language": "python",
   "name": "python3"
  },
  "language_info": {
   "codemirror_mode": {
    "name": "ipython",
    "version": 3
   },
   "file_extension": ".py",
   "mimetype": "text/x-python",
   "name": "python",
   "nbconvert_exporter": "python",
   "pygments_lexer": "ipython3",
   "version": "3.8.12"
  },
  "toc": {
   "base_numbering": 1,
   "nav_menu": {},
   "number_sections": true,
   "sideBar": true,
   "skip_h1_title": false,
   "title_cell": "Table of Contents",
   "title_sidebar": "Contents",
   "toc_cell": false,
   "toc_position": {},
   "toc_section_display": true,
   "toc_window_display": false
  }
 },
 "nbformat": 4,
 "nbformat_minor": 5
}

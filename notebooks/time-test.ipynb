{
 "cells": [
  {
   "cell_type": "code",
   "execution_count": 2,
   "id": "a15edf4b",
   "metadata": {
    "scrolled": true
   },
   "outputs": [],
   "source": [
    "import requests"
   ]
  },
  {
   "cell_type": "code",
   "execution_count": 3,
   "id": "b2a8d64b",
   "metadata": {},
   "outputs": [],
   "source": [
    "API_URL = 'https://obj-fun-2-2g6nxe3ofq-ew.a.run.app/comedian'\n",
    "\n",
    "def generate_text(text):\n",
    "    text = str(text)\n",
    "    params = {'prefix': text}\n",
    "    response = requests.get(API_URL, params=params)\n",
    "    a = response.json()\n",
    "    return a"
   ]
  },
  {
   "cell_type": "code",
   "execution_count": 4,
   "id": "cbc42d82",
   "metadata": {},
   "outputs": [
    {
     "name": "stdout",
     "output_type": "stream",
     "text": [
      "Elapsed Time 54.669 seconds\n",
      "Finished in 54.683 seconds\n"
     ]
    }
   ],
   "source": [
    "import time\n",
    "import threading\n",
    "\n",
    "class ElapsedTimeThread(threading.Thread):\n",
    "    \"\"\"\"Stoppable thread that prints the time elapsed\"\"\"\n",
    "    def __init__(self):\n",
    "        super(ElapsedTimeThread, self).__init__()\n",
    "        self._stop_event = threading.Event()\n",
    "\n",
    "    def stop(self):\n",
    "        self._stop_event.set()\n",
    "\n",
    "    def stopped(self):\n",
    "        return self._stop_event.is_set()\n",
    "\n",
    "    def run(self):\n",
    "        thread_start = time.time()\n",
    "        while not self.stopped():\n",
    "            print(\"\\rElapsed Time {:.3f} seconds\".format(time.time()-thread_start), end=\"\")\n",
    "            #include a delay here so the thread doesn't uselessly thrash the CPU\n",
    "            time.sleep(0.01)\n",
    "\n",
    "if __name__ == \"__main__\":\n",
    "    start = time.time()\n",
    "    thread = ElapsedTimeThread()\n",
    "    thread.start()\n",
    "    generate_text('hello')\n",
    "    time.sleep(3)\n",
    "    # something is finished so stop the thread\n",
    "    thread.stop()\n",
    "    thread.join()\n",
    "    print() # empty print() to output a newline\n",
    "    print(\"Finished in {:.3f} seconds\".format(time.time()-start))"
   ]
  },
  {
   "cell_type": "code",
   "execution_count": null,
   "id": "a06ef4ba",
   "metadata": {},
   "outputs": [],
   "source": []
  }
 ],
 "metadata": {
  "kernelspec": {
   "display_name": "Python 3 (ipykernel)",
   "language": "python",
   "name": "python3"
  },
  "language_info": {
   "codemirror_mode": {
    "name": "ipython",
    "version": 3
   },
   "file_extension": ".py",
   "mimetype": "text/x-python",
   "name": "python",
   "nbconvert_exporter": "python",
   "pygments_lexer": "ipython3",
   "version": "3.8.12"
  },
  "toc": {
   "base_numbering": 1,
   "nav_menu": {},
   "number_sections": true,
   "sideBar": true,
   "skip_h1_title": false,
   "title_cell": "Table of Contents",
   "title_sidebar": "Contents",
   "toc_cell": false,
   "toc_position": {},
   "toc_section_display": true,
   "toc_window_display": false
  }
 },
 "nbformat": 4,
 "nbformat_minor": 5
}

{
 "cells": [
  {
   "cell_type": "code",
   "execution_count": 1,
   "id": "07c046cd",
   "metadata": {},
   "outputs": [],
   "source": [
    "from wordcloud import WordCloud, STOPWORDS\n",
    "import matplotlib.pyplot as plt"
   ]
  },
  {
   "cell_type": "code",
   "execution_count": 2,
   "id": "237725fa",
   "metadata": {},
   "outputs": [],
   "source": [
    "import pandas as pd"
   ]
  },
  {
   "cell_type": "code",
   "execution_count": 3,
   "id": "7be37490",
   "metadata": {},
   "outputs": [],
   "source": [
    "### Imports\n",
    "import string\n",
    "import re \n",
    "from nltk.tokenize import word_tokenize\n",
    "from nltk.stem import WordNetLemmatizer\n",
    "from nltk.corpus import stopwords"
   ]
  },
  {
   "cell_type": "code",
   "execution_count": 6,
   "id": "fb768905",
   "metadata": {},
   "outputs": [],
   "source": [
    "import seaborn as sns"
   ]
  },
  {
   "cell_type": "markdown",
   "id": "188ce991",
   "metadata": {},
   "source": [
    "# Data exploration"
   ]
  },
  {
   "cell_type": "code",
   "execution_count": 4,
   "id": "d2a606d3",
   "metadata": {},
   "outputs": [],
   "source": [
    "pd.set_option(\"display.max_rows\", None)"
   ]
  },
  {
   "cell_type": "code",
   "execution_count": 5,
   "id": "d186782e",
   "metadata": {},
   "outputs": [
    {
     "data": {
      "text/html": [
       "<div>\n",
       "<style scoped>\n",
       "    .dataframe tbody tr th:only-of-type {\n",
       "        vertical-align: middle;\n",
       "    }\n",
       "\n",
       "    .dataframe tbody tr th {\n",
       "        vertical-align: top;\n",
       "    }\n",
       "\n",
       "    .dataframe thead th {\n",
       "        text-align: right;\n",
       "    }\n",
       "</style>\n",
       "<table border=\"1\" class=\"dataframe\">\n",
       "  <thead>\n",
       "    <tr style=\"text-align: right;\">\n",
       "      <th></th>\n",
       "      <th>full_transcript</th>\n",
       "      <th>artist</th>\n",
       "      <th>show_name</th>\n",
       "      <th>year</th>\n",
       "      <th>source</th>\n",
       "      <th>artist_birthday</th>\n",
       "      <th>artist_gender</th>\n",
       "      <th>age_then</th>\n",
       "    </tr>\n",
       "  </thead>\n",
       "  <tbody>\n",
       "    <tr>\n",
       "      <th>0</th>\n",
       "      <td>[rock music playing]\\n\\n[indistinct chatter]\\n...</td>\n",
       "      <td>Adam Devine</td>\n",
       "      <td>Best Time Of Our Lives</td>\n",
       "      <td>2019.0</td>\n",
       "      <td>Scraps from the Loft</td>\n",
       "      <td>1983.0</td>\n",
       "      <td>2</td>\n",
       "      <td>36.0</td>\n",
       "    </tr>\n",
       "    <tr>\n",
       "      <th>1</th>\n",
       "      <td>strong language. CHEERING Yes, yes, yes! How...</td>\n",
       "      <td>Adam Hess</td>\n",
       "      <td>Live from the BBC</td>\n",
       "      <td>2016.0</td>\n",
       "      <td>BBC</td>\n",
       "      <td>1990.0</td>\n",
       "      <td>2</td>\n",
       "      <td>26.0</td>\n",
       "    </tr>\n",
       "    <tr>\n",
       "      <th>2</th>\n",
       "      <td>Ladies and gentlemen, please welcome your hos...</td>\n",
       "      <td>Adam Hills</td>\n",
       "      <td>Live at the Apollo Series 9 Episode 4</td>\n",
       "      <td>2013.0</td>\n",
       "      <td>BBC</td>\n",
       "      <td>1970.0</td>\n",
       "      <td>2</td>\n",
       "      <td>43.0</td>\n",
       "    </tr>\n",
       "    <tr>\n",
       "      <th>3</th>\n",
       "      <td>some strong language and adult humour Ladies...</td>\n",
       "      <td>Adam Hills</td>\n",
       "      <td>Live at the Apollo Series 12 Episode 4</td>\n",
       "      <td>2016.0</td>\n",
       "      <td>BBC</td>\n",
       "      <td>1970.0</td>\n",
       "      <td>2</td>\n",
       "      <td>46.0</td>\n",
       "    </tr>\n",
       "    <tr>\n",
       "      <th>4</th>\n",
       "      <td>Adam Hills? CHEERING Hello, Apollo. I am going...</td>\n",
       "      <td>Adam Hills</td>\n",
       "      <td>Live at the Apollo Series 5 Episode 5</td>\n",
       "      <td>2009.0</td>\n",
       "      <td>BBC</td>\n",
       "      <td>1970.0</td>\n",
       "      <td>2</td>\n",
       "      <td>39.0</td>\n",
       "    </tr>\n",
       "  </tbody>\n",
       "</table>\n",
       "</div>"
      ],
      "text/plain": [
       "                                     full_transcript       artist  \\\n",
       "0  [rock music playing]\\n\\n[indistinct chatter]\\n...  Adam Devine   \n",
       "1    strong language. CHEERING Yes, yes, yes! How...    Adam Hess   \n",
       "2   Ladies and gentlemen, please welcome your hos...   Adam Hills   \n",
       "3    some strong language and adult humour Ladies...   Adam Hills   \n",
       "4  Adam Hills? CHEERING Hello, Apollo. I am going...   Adam Hills   \n",
       "\n",
       "                                show_name    year                source  \\\n",
       "0                  Best Time Of Our Lives  2019.0  Scraps from the Loft   \n",
       "1                       Live from the BBC  2016.0                   BBC   \n",
       "2   Live at the Apollo Series 9 Episode 4  2013.0                   BBC   \n",
       "3  Live at the Apollo Series 12 Episode 4  2016.0                   BBC   \n",
       "4   Live at the Apollo Series 5 Episode 5  2009.0                   BBC   \n",
       "\n",
       "   artist_birthday  artist_gender  age_then  \n",
       "0           1983.0              2      36.0  \n",
       "1           1990.0              2      26.0  \n",
       "2           1970.0              2      43.0  \n",
       "3           1970.0              2      46.0  \n",
       "4           1970.0              2      39.0  "
      ]
     },
     "execution_count": 5,
     "metadata": {},
     "output_type": "execute_result"
    }
   ],
   "source": [
    "df = pd.read_json('../raw_data/df_with_age_gender.json')\n",
    "df.head()"
   ]
  },
  {
   "cell_type": "markdown",
   "id": "c1c80b18",
   "metadata": {},
   "source": [
    "## distribution"
   ]
  },
  {
   "cell_type": "markdown",
   "id": "c51629a1",
   "metadata": {
    "heading_collapsed": true
   },
   "source": [
    "### Gender"
   ]
  },
  {
   "cell_type": "code",
   "execution_count": 7,
   "id": "2164d861",
   "metadata": {
    "hidden": true
   },
   "outputs": [
    {
     "data": {
      "text/plain": [
       "<AxesSubplot:xlabel='artist_gender', ylabel='Count'>"
      ]
     },
     "execution_count": 7,
     "metadata": {},
     "output_type": "execute_result"
    },
    {
     "data": {
      "image/png": "[encoded data removed]",
      "text/plain": [
       "<Figure size 432x288 with 1 Axes>"
      ]
     },
     "metadata": {
      "needs_background": "light"
     },
     "output_type": "display_data"
    }
   ],
   "source": [
    "sns.histplot(data=df, x=\"artist_gender\")"
   ]
  },
  {
   "cell_type": "code",
   "execution_count": 38,
   "id": "a7438e08",
   "metadata": {
    "hidden": true
   },
   "outputs": [
    {
     "data": {
      "text/html": [
       "<div>\n",
       "<style scoped>\n",
       "    .dataframe tbody tr th:only-of-type {\n",
       "        vertical-align: middle;\n",
       "    }\n",
       "\n",
       "    .dataframe tbody tr th {\n",
       "        vertical-align: top;\n",
       "    }\n",
       "\n",
       "    .dataframe thead th {\n",
       "        text-align: right;\n",
       "    }\n",
       "</style>\n",
       "<table border=\"1\" class=\"dataframe\">\n",
       "  <thead>\n",
       "    <tr style=\"text-align: right;\">\n",
       "      <th></th>\n",
       "      <th>full_transcript</th>\n",
       "      <th>artist</th>\n",
       "      <th>show_name</th>\n",
       "      <th>year</th>\n",
       "      <th>source</th>\n",
       "      <th>artist_birthday</th>\n",
       "      <th>age_then</th>\n",
       "    </tr>\n",
       "    <tr>\n",
       "      <th>artist_gender</th>\n",
       "      <th></th>\n",
       "      <th></th>\n",
       "      <th></th>\n",
       "      <th></th>\n",
       "      <th></th>\n",
       "      <th></th>\n",
       "      <th></th>\n",
       "    </tr>\n",
       "  </thead>\n",
       "  <tbody>\n",
       "    <tr>\n",
       "      <th>1</th>\n",
       "      <td>82</td>\n",
       "      <td>82</td>\n",
       "      <td>82</td>\n",
       "      <td>82</td>\n",
       "      <td>82</td>\n",
       "      <td>82</td>\n",
       "      <td>82</td>\n",
       "    </tr>\n",
       "    <tr>\n",
       "      <th>2</th>\n",
       "      <td>467</td>\n",
       "      <td>467</td>\n",
       "      <td>467</td>\n",
       "      <td>464</td>\n",
       "      <td>467</td>\n",
       "      <td>466</td>\n",
       "      <td>463</td>\n",
       "    </tr>\n",
       "    <tr>\n",
       "      <th>3</th>\n",
       "      <td>6</td>\n",
       "      <td>6</td>\n",
       "      <td>6</td>\n",
       "      <td>6</td>\n",
       "      <td>6</td>\n",
       "      <td>6</td>\n",
       "      <td>6</td>\n",
       "    </tr>\n",
       "  </tbody>\n",
       "</table>\n",
       "</div>"
      ],
      "text/plain": [
       "               full_transcript  artist  show_name  year  source  \\\n",
       "artist_gender                                                     \n",
       "1                           82      82         82    82      82   \n",
       "2                          467     467        467   464     467   \n",
       "3                            6       6          6     6       6   \n",
       "\n",
       "               artist_birthday  age_then  \n",
       "artist_gender                             \n",
       "1                           82        82  \n",
       "2                          466       463  \n",
       "3                            6         6  "
      ]
     },
     "execution_count": 38,
     "metadata": {},
     "output_type": "execute_result"
    }
   ],
   "source": [
    "df.groupby(['artist_gender']).count()"
   ]
  },
  {
   "cell_type": "markdown",
   "id": "875bf496",
   "metadata": {
    "hidden": true
   },
   "source": [
    "Graph 1: Gender of unique comedians:"
   ]
  },
  {
   "cell_type": "code",
   "execution_count": 49,
   "id": "b5d45e64",
   "metadata": {
    "hidden": true
   },
   "outputs": [
    {
     "data": {
      "text/plain": [
       "<matplotlib.legend.Legend at 0x152533e50>"
      ]
     },
     "execution_count": 49,
     "metadata": {},
     "output_type": "execute_result"
    },
    {
     "data": {
      "image/png": "[encoded data removed]",
      "text/plain": [
       "<Figure size 432x288 with 1 Axes>"
      ]
     },
     "metadata": {},
     "output_type": "display_data"
    }
   ],
   "source": [
    "df.groupby(['artist_gender']).nunique()['artist'].rename(\n",
    "    index={1: 'Female', 2: 'Male', 3: 'Genderqueer'}).plot(\n",
    "    kind='pie', label ='gender', autopct='%.2f')\n",
    "plt.legend(loc=(1.04,0))"
   ]
  },
  {
   "cell_type": "markdown",
   "id": "d5d52d7e",
   "metadata": {
    "hidden": true
   },
   "source": [
    "Graph 2: Gender of all comedian-show"
   ]
  },
  {
   "cell_type": "code",
   "execution_count": 44,
   "id": "ad49f401",
   "metadata": {
    "hidden": true
   },
   "outputs": [
    {
     "data": {
      "text/plain": [
       "<matplotlib.legend.Legend at 0x153b21730>"
      ]
     },
     "execution_count": 44,
     "metadata": {},
     "output_type": "execute_result"
    },
    {
     "data": {
      "image/png": "[encoded data removed]",
      "text/plain": [
       "<Figure size 432x288 with 1 Axes>"
      ]
     },
     "metadata": {},
     "output_type": "display_data"
    }
   ],
   "source": [
    "df.groupby(['artist_gender']).size().rename(\n",
    "    index={1: 'Female', 2: 'Male', 3: 'Genderqueer'}).plot(\n",
    "    kind='pie', label ='gender', autopct='%.2f')\n",
    "plt.legend(loc=(1.04,0))"
   ]
  },
  {
   "cell_type": "markdown",
   "id": "b3899c8a",
   "metadata": {},
   "source": [
    "### Year of performance"
   ]
  },
  {
   "cell_type": "code",
   "execution_count": 55,
   "id": "9e8c2604",
   "metadata": {
    "collapsed": true
   },
   "outputs": [
    {
     "data": {
      "text/plain": [
       "year\n",
       "1963.0     1\n",
       "1965.0     2\n",
       "1971.0     1\n",
       "1972.0     1\n",
       "1975.0     1\n",
       "1976.0     1\n",
       "1977.0     1\n",
       "1978.0     1\n",
       "1979.0     1\n",
       "1982.0     1\n",
       "1983.0     3\n",
       "1984.0     1\n",
       "1986.0     1\n",
       "1987.0     1\n",
       "1988.0     1\n",
       "1990.0     1\n",
       "1991.0     2\n",
       "1992.0     1\n",
       "1993.0     4\n",
       "1994.0     2\n",
       "1996.0     4\n",
       "1997.0     1\n",
       "1998.0     3\n",
       "1999.0     6\n",
       "2000.0     2\n",
       "2001.0     2\n",
       "2002.0     1\n",
       "2003.0     2\n",
       "2004.0     6\n",
       "2005.0     2\n",
       "2006.0     8\n",
       "2007.0     8\n",
       "2008.0     9\n",
       "2009.0    21\n",
       "2010.0    32\n",
       "2011.0    33\n",
       "2012.0    37\n",
       "2013.0    34\n",
       "2014.0    34\n",
       "2015.0    45\n",
       "2016.0    59\n",
       "2017.0    55\n",
       "2018.0    42\n",
       "2019.0    38\n",
       "2020.0    31\n",
       "2021.0     9\n",
       "dtype: int64"
      ]
     },
     "execution_count": 55,
     "metadata": {},
     "output_type": "execute_result"
    }
   ],
   "source": [
    "df.groupby(['year']).size()"
   ]
  },
  {
   "cell_type": "markdown",
   "id": "3c04022a",
   "metadata": {},
   "source": [
    "Graph 1: Number of shows per year"
   ]
  },
  {
   "cell_type": "code",
   "execution_count": 106,
   "id": "03e7a45a",
   "metadata": {
    "scrolled": true
   },
   "outputs": [
    {
     "data": {
      "image/png": "[encoded data removed]",
      "text/plain": [
       "<Figure size 432x288 with 1 Axes>"
      ]
     },
     "metadata": {
      "needs_background": "light"
     },
     "output_type": "display_data"
    }
   ],
   "source": [
    "plt.hist(df['year'])\n",
    "plt.xlabel('Year')\n",
    "plt.ylabel('Shows');"
   ]
  },
  {
   "cell_type": "markdown",
   "id": "9538d091",
   "metadata": {},
   "source": [
    "Graph 2: Number of shows grouped by decades"
   ]
  },
  {
   "cell_type": "code",
   "execution_count": 74,
   "id": "ad77bfc7",
   "metadata": {
    "scrolled": false
   },
   "outputs": [
    {
     "data": {
      "text/html": [
       "<div>\n",
       "<style scoped>\n",
       "    .dataframe tbody tr th:only-of-type {\n",
       "        vertical-align: middle;\n",
       "    }\n",
       "\n",
       "    .dataframe tbody tr th {\n",
       "        vertical-align: top;\n",
       "    }\n",
       "\n",
       "    .dataframe thead th {\n",
       "        text-align: right;\n",
       "    }\n",
       "</style>\n",
       "<table border=\"1\" class=\"dataframe\">\n",
       "  <thead>\n",
       "    <tr style=\"text-align: right;\">\n",
       "      <th></th>\n",
       "      <th>year</th>\n",
       "      <th>full_transcript</th>\n",
       "    </tr>\n",
       "  </thead>\n",
       "  <tbody>\n",
       "    <tr>\n",
       "      <th>0</th>\n",
       "      <td>1960.0</td>\n",
       "      <td>3</td>\n",
       "    </tr>\n",
       "    <tr>\n",
       "      <th>1</th>\n",
       "      <td>1970.0</td>\n",
       "      <td>7</td>\n",
       "    </tr>\n",
       "    <tr>\n",
       "      <th>2</th>\n",
       "      <td>1980.0</td>\n",
       "      <td>8</td>\n",
       "    </tr>\n",
       "    <tr>\n",
       "      <th>3</th>\n",
       "      <td>1990.0</td>\n",
       "      <td>24</td>\n",
       "    </tr>\n",
       "    <tr>\n",
       "      <th>4</th>\n",
       "      <td>2000.0</td>\n",
       "      <td>61</td>\n",
       "    </tr>\n",
       "    <tr>\n",
       "      <th>5</th>\n",
       "      <td>2010.0</td>\n",
       "      <td>409</td>\n",
       "    </tr>\n",
       "    <tr>\n",
       "      <th>6</th>\n",
       "      <td>2020.0</td>\n",
       "      <td>40</td>\n",
       "    </tr>\n",
       "  </tbody>\n",
       "</table>\n",
       "</div>"
      ],
      "text/plain": [
       "     year  full_transcript\n",
       "0  1960.0                3\n",
       "1  1970.0                7\n",
       "2  1980.0                8\n",
       "3  1990.0               24\n",
       "4  2000.0               61\n",
       "5  2010.0              409\n",
       "6  2020.0               40"
      ]
     },
     "execution_count": 74,
     "metadata": {},
     "output_type": "execute_result"
    }
   ],
   "source": [
    "decade_df = df.groupby((df.year//10)*10)['full_transcript'].count().reset_index()\n",
    "decade_df"
   ]
  },
  {
   "cell_type": "code",
   "execution_count": 99,
   "id": "5130df60",
   "metadata": {
    "scrolled": false
   },
   "outputs": [
    {
     "data": {
      "image/png": "[encoded data removed]",
      "text/plain": [
       "<Figure size 432x288 with 1 Axes>"
      ]
     },
     "metadata": {
      "needs_background": "light"
     },
     "output_type": "display_data"
    }
   ],
   "source": [
    "x = decade_df['year']\n",
    "y = decade_df['full_transcript']\n",
    "\n",
    "plt.bar(x, y, width=10)\n",
    "plt.xlabel('Decade')\n",
    "plt.ylabel('Shows');"
   ]
  },
  {
   "cell_type": "markdown",
   "id": "f9fde824",
   "metadata": {},
   "source": [
    "### Age of comedians"
   ]
  },
  {
   "cell_type": "code",
   "execution_count": 105,
   "id": "e39d69d8",
   "metadata": {},
   "outputs": [
    {
     "data": {
      "text/plain": [
       "40.55535390199637"
      ]
     },
     "execution_count": 105,
     "metadata": {},
     "output_type": "execute_result"
    }
   ],
   "source": [
    "df['age_then'].mean()"
   ]
  },
  {
   "cell_type": "code",
   "execution_count": 104,
   "id": "84b37b6c",
   "metadata": {
    "scrolled": false
   },
   "outputs": [
    {
     "data": {
      "image/png": "[encoded data removed]",
      "text/plain": [
       "<Figure size 432x288 with 1 Axes>"
      ]
     },
     "metadata": {
      "needs_background": "light"
     },
     "output_type": "display_data"
    }
   ],
   "source": [
    "plt.hist(df['age_then'])\n",
    "plt.xlabel('Age then')\n",
    "plt.ylabel('Number of shows');"
   ]
  },
  {
   "cell_type": "markdown",
   "id": "ce2e2abc",
   "metadata": {},
   "source": [
    "# Preprocessing of Text for Analysis Purposes"
   ]
  },
  {
   "cell_type": "markdown",
   "id": "681b5afa",
   "metadata": {},
   "source": [
    "## Import filtered dataframe"
   ]
  },
  {
   "cell_type": "code",
   "execution_count": null,
   "id": "8523c0a0",
   "metadata": {},
   "outputs": [],
   "source": [
    "df = pd.read_json('../raw_data/df_with_age_gender.json')"
   ]
  },
  {
   "cell_type": "code",
   "execution_count": null,
   "id": "f0a32f58",
   "metadata": {},
   "outputs": [],
   "source": [
    "len(df)"
   ]
  },
  {
   "cell_type": "markdown",
   "id": "05f95465",
   "metadata": {},
   "source": [
    "## Cleaning Functions"
   ]
  },
  {
   "cell_type": "code",
   "execution_count": null,
   "id": "1d62d672",
   "metadata": {},
   "outputs": [],
   "source": [
    "### Specific functions to standup/scraps from the loft\n",
    "def remove_music(text):\n",
    "    text = re.sub('♪.*?♪', '', text) # remove ♪ stuff that looks like this ♪\n",
    "    return text\n",
    "\n",
    "def remove_bracketed(text):\n",
    "    text = re.sub('\\[.*?\\]', '', text) # remove [stuff that looks like this]\n",
    "    text = re.sub('\\(.*?\\)', '', text) # remove (stuff that looks like this)\n",
    "    return text\n",
    "\n",
    "def remove_useless(text):\n",
    "    text = re.sub('\\n\\w+\\(\\s\\w+\\)?\\:\\s', '', text) # remove Word: or Word word: with a newline before\n",
    "    text = re.sub('subtitles? by \\w+', '', text) # remove subtile(s) by xxxx\n",
    "    return text"
   ]
  },
  {
   "cell_type": "code",
   "execution_count": null,
   "id": "0117c700",
   "metadata": {},
   "outputs": [],
   "source": [
    "# general functions for text pre-processing\n",
    "def remove_punc(text, chars):\n",
    "    txt = text\n",
    "    for punc in chars:\n",
    "        txt = txt.replace(punc, '')\n",
    "    return txt\n",
    "\n",
    "def remove_num(text):\n",
    "    return ''.join(char for char in text if not char.isdigit())\n",
    "\n",
    "def remove_stopw(text, word_list):\n",
    "    word_tokens = word_tokenize(text)\n",
    "    return ' '.join(w for w in word_tokens if not w in word_list)\n",
    "\n",
    "def lemmatize(text):\n",
    "    lemmatizer = WordNetLemmatizer()\n",
    "    return ' '.join(lemmatizer.lemmatize(word) for word in text.split(' ') if len(lemmatizer.lemmatize(word))>2)"
   ]
  },
  {
   "cell_type": "code",
   "execution_count": null,
   "id": "30b9f39e",
   "metadata": {},
   "outputs": [],
   "source": [
    "def manual_lemmatizer(text):\n",
    "    text = text.replace('got', 'get').replace(\n",
    "        'gon', 'go').replace(\n",
    "        'said', 'say').replace(\n",
    "        'fucking', 'fuck').replace(\n",
    "        'went', 'go').replace(\n",
    "    'finding', 'find')\n",
    "    return text"
   ]
  },
  {
   "cell_type": "code",
   "execution_count": null,
   "id": "ece4f7c7",
   "metadata": {},
   "outputs": [],
   "source": [
    "from nltk.tokenize import word_tokenize\n",
    "\n",
    "def tokenize(text):\n",
    "    tokens = word_tokenize(text)\n",
    "    return tokens"
   ]
  },
  {
   "cell_type": "markdown",
   "id": "14f3e000",
   "metadata": {},
   "source": [
    "## Modifying & applying removal lists "
   ]
  },
  {
   "cell_type": "code",
   "execution_count": null,
   "id": "98b250e7",
   "metadata": {},
   "outputs": [],
   "source": [
    "clean_df = df.copy()"
   ]
  },
  {
   "cell_type": "markdown",
   "id": "48a81d93",
   "metadata": {},
   "source": [
    "### Remove everything in Brackets, Music notes"
   ]
  },
  {
   "cell_type": "code",
   "execution_count": null,
   "id": "c90eedb3",
   "metadata": {},
   "outputs": [],
   "source": [
    "clean_df['full_transcript_clean'] = clean_df['full_transcript'].apply(remove_bracketed)"
   ]
  },
  {
   "cell_type": "code",
   "execution_count": null,
   "id": "898f0d13",
   "metadata": {},
   "outputs": [],
   "source": [
    "## TODO: Remove ♪ from specific comedians:\n",
    "# [Bo Burnham]"
   ]
  },
  {
   "cell_type": "code",
   "execution_count": null,
   "id": "83feb6bf",
   "metadata": {},
   "outputs": [],
   "source": [
    "# clean_df['full_transcript_clean'] = clean_df['full_transcript'].apply(remove_music)"
   ]
  },
  {
   "cell_type": "markdown",
   "id": "0467722c",
   "metadata": {},
   "source": [
    "### Lowercase, remove useless regex matches, numbers, stopwords and punctuation\n",
    "Including specific scraps format"
   ]
  },
  {
   "cell_type": "code",
   "execution_count": null,
   "id": "dd8c7d44",
   "metadata": {},
   "outputs": [],
   "source": [
    "stopwords.words('english')"
   ]
  },
  {
   "cell_type": "code",
   "execution_count": null,
   "id": "175eaf23",
   "metadata": {},
   "outputs": [],
   "source": [
    "clean_df['full_transcript_clean'] = clean_df['full_transcript_clean'].str.lower()"
   ]
  },
  {
   "cell_type": "code",
   "execution_count": null,
   "id": "6cf27c51",
   "metadata": {},
   "outputs": [],
   "source": [
    "clean_df['full_transcript_clean'] = clean_df['full_transcript_clean'].apply(remove_useless)"
   ]
  },
  {
   "cell_type": "code",
   "execution_count": null,
   "id": "39740276",
   "metadata": {},
   "outputs": [],
   "source": [
    "words_to_remove = ['thank', 'cheering', 'recorded', 'applause', 'laughter', 'laughing', 'murmuring', 'chatter',\n",
    "                       'aired', 'filmed', 'ladies', 'gentlemen', \"that's\", \"i'm\", \"don't\"]\n",
    "# other possible removals 'netflix special', 'full transcript' "
   ]
  },
  {
   "cell_type": "code",
   "execution_count": null,
   "id": "454482a7",
   "metadata": {},
   "outputs": [],
   "source": [
    "stopwords_plus = words_to_remove + stopwords.words('english')"
   ]
  },
  {
   "cell_type": "code",
   "execution_count": null,
   "id": "889e9bfb",
   "metadata": {},
   "outputs": [],
   "source": [
    "clean_df['full_transcript_clean'] = clean_df['full_transcript_clean'].apply(remove_num)"
   ]
  },
  {
   "cell_type": "code",
   "execution_count": null,
   "id": "b357cc72",
   "metadata": {},
   "outputs": [],
   "source": [
    "clean_df['full_transcript_clean'] = clean_df['full_transcript_clean'].apply(remove_stopw, args=(stopwords_plus,))"
   ]
  },
  {
   "cell_type": "code",
   "execution_count": null,
   "id": "069293ed",
   "metadata": {},
   "outputs": [],
   "source": [
    "punc_added = string.punctuation + '“”‘’…♪¶'\n",
    "\n",
    "clean_df['full_transcript_clean'] = clean_df['full_transcript_clean'].apply(remove_punc, args=(punc_added,))"
   ]
  },
  {
   "cell_type": "code",
   "execution_count": null,
   "id": "648cae8b",
   "metadata": {},
   "outputs": [],
   "source": [
    "clean_df['full_transcript_clean'] = clean_df['full_transcript_clean'].apply(lemmatize).apply(manual_lemmatizer)"
   ]
  },
  {
   "cell_type": "markdown",
   "id": "008b37a1",
   "metadata": {},
   "source": [
    "### Remove numbers and stopwords + common comedy words"
   ]
  },
  {
   "cell_type": "code",
   "execution_count": null,
   "id": "b2b73acf",
   "metadata": {
    "scrolled": true
   },
   "outputs": [],
   "source": [
    "clean_df.head()"
   ]
  },
  {
   "cell_type": "code",
   "execution_count": null,
   "id": "2ec9afae",
   "metadata": {},
   "outputs": [],
   "source": [
    "from sklearn.feature_extraction.text import CountVectorizer\n"
   ]
  },
  {
   "cell_type": "code",
   "execution_count": null,
   "id": "8802a00e",
   "metadata": {},
   "outputs": [],
   "source": [
    "t = clean_df['full_transcript_clean'].astype(str)\n",
    "\n",
    "vectorizer = CountVectorizer(min_df = 0.3, max_df = 0.8, ngram_range=(1,2))\n",
    "X = vectorizer.fit_transform(t)\n",
    "bow_df = pd.DataFrame(X.toarray(),columns = vectorizer.get_feature_names())\n",
    "bow_df"
   ]
  },
  {
   "cell_type": "code",
   "execution_count": null,
   "id": "7ae1d594",
   "metadata": {},
   "outputs": [],
   "source": [
    "keys = bow_df.sum().index\n",
    "values = bow_df.sum().values\n",
    "bow_dict = dict(zip(keys, values))\n",
    "print(bow_dict)"
   ]
  },
  {
   "cell_type": "code",
   "execution_count": null,
   "id": "10ea437f",
   "metadata": {},
   "outputs": [],
   "source": [
    "from sklearn.decomposition import LatentDirichletAllocation\n",
    "from sklearn.feature_extraction.text import TfidfVectorizer\n",
    "\n",
    "vectorizer = TfidfVectorizer().fit(clean_df['full_transcript_clean'])\n",
    "\n",
    "data_vectorized = vectorizer.transform(clean_df['full_transcript_clean'])\n",
    "\n",
    "lda_model = LatentDirichletAllocation(n_components=5).fit(data_vectorized)\n",
    "\n",
    "def print_topics(model, vectorizer):\n",
    "    for idx, topic in enumerate(model.components_):\n",
    "        print(\"Topic %d:\" % (idx))\n",
    "        print([(vectorizer.get_feature_names()[i], topic[i])\n",
    "                        for i in topic.argsort()[:-10 - 1:-1]])\n",
    "        \n",
    "\n",
    "print_topics(lda_model, vectorizer)"
   ]
  },
  {
   "cell_type": "code",
   "execution_count": null,
   "id": "9edb9e3f",
   "metadata": {},
   "outputs": [],
   "source": [
    "token_df = clean_df['full_transcript_clean'].apply(tokenize).astype(str)\n",
    "token_df"
   ]
  },
  {
   "cell_type": "code",
   "execution_count": null,
   "id": "95afd28a",
   "metadata": {
    "scrolled": true
   },
   "outputs": [],
   "source": [
    "pd.Series([y for x in token_df.values.flatten() for y in x.split()]).value_counts()"
   ]
  },
  {
   "cell_type": "code",
   "execution_count": null,
   "id": "4868d8ca",
   "metadata": {},
   "outputs": [],
   "source": [
    "# frequent_words = ['like']\n",
    "# clean_df['full_transcript_clean'] = clean_df['full_transcript_clean'].apply(remove_stopw, args=(frequent_words,))"
   ]
  },
  {
   "cell_type": "code",
   "execution_count": null,
   "id": "79560189",
   "metadata": {},
   "outputs": [],
   "source": [
    "full_transcripts = ' '.join(clean_df['full_transcript_clean'])"
   ]
  },
  {
   "cell_type": "code",
   "execution_count": null,
   "id": "b9dd46d3",
   "metadata": {},
   "outputs": [],
   "source": [
    "len(full_transcripts)"
   ]
  },
  {
   "cell_type": "code",
   "execution_count": null,
   "id": "605892ab",
   "metadata": {},
   "outputs": [],
   "source": [
    "# Define a function to plot word cloud\n",
    "def plot_cloud(wordcloud):\n",
    "    # Set figure size\n",
    "    plt.figure(figsize=(30, 20))\n",
    "    # Display image\n",
    "    plt.imshow(wordcloud) \n",
    "    # No axis details\n",
    "    plt.axis(\"off\");"
   ]
  },
  {
   "cell_type": "code",
   "execution_count": null,
   "id": "411c03af",
   "metadata": {},
   "outputs": [],
   "source": [
    "word_cloud = WordCloud(width=3000, height = 2000,\n",
    "                       random_state=1, colormap='Pastel1',\n",
    "                       collocations=False, stopwords = STOPWORDS).generate(full_transcripts)"
   ]
  },
  {
   "cell_type": "code",
   "execution_count": null,
   "id": "df8b9c66",
   "metadata": {},
   "outputs": [],
   "source": [
    "plot_cloud(word_cloud)"
   ]
  },
  {
   "cell_type": "code",
   "execution_count": null,
   "id": "36c409c2",
   "metadata": {},
   "outputs": [],
   "source": [
    "word_cloud2 = WordCloud(width=3000, height = 2000,\n",
    "                       random_state=1, colormap='Pastel1',\n",
    "                       collocations=False, stopwords = STOPWORDS).generate_from_frequencies(bow_dict)\n",
    "plot_cloud(word_cloud2)"
   ]
  },
  {
   "cell_type": "code",
   "execution_count": null,
   "id": "26310b19",
   "metadata": {},
   "outputs": [],
   "source": []
  }
 ],
 "metadata": {
  "kernelspec": {
   "display_name": "Python 3 (ipykernel)",
   "language": "python",
   "name": "python3"
  },
  "language_info": {
   "codemirror_mode": {
    "name": "ipython",
    "version": 3
   },
   "file_extension": ".py",
   "mimetype": "text/x-python",
   "name": "python",
   "nbconvert_exporter": "python",
   "pygments_lexer": "ipython3",
   "version": "3.8.12"
  },
  "toc": {
   "base_numbering": 1,
   "nav_menu": {},
   "number_sections": true,
   "sideBar": true,
   "skip_h1_title": false,
   "title_cell": "Table of Contents",
   "title_sidebar": "Contents",
   "toc_cell": false,
   "toc_position": {},
   "toc_section_display": true,
   "toc_window_display": false
  }
 },
 "nbformat": 4,
 "nbformat_minor": 5
}

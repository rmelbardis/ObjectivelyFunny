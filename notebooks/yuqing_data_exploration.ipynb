{
 "cells": [
  {
   "cell_type": "code",
   "execution_count": 1,
   "id": "07c046cd",
   "metadata": {},
   "outputs": [],
   "source": [
    "from wordcloud import WordCloud, STOPWORDS\n",
    "import matplotlib.pyplot as plt"
   ]
  },
  {
   "cell_type": "code",
   "execution_count": 3,
   "id": "237725fa",
   "metadata": {},
   "outputs": [],
   "source": [
    "import pandas as pd"
   ]
  },
  {
   "cell_type": "code",
   "execution_count": 3,
   "id": "7be37490",
   "metadata": {},
   "outputs": [],
   "source": [
    "### Imports\n",
    "import string\n",
    "import re \n",
    "from nltk.tokenize import word_tokenize\n",
    "from nltk.stem import WordNetLemmatizer\n",
    "from nltk.corpus import stopwords"
   ]
  },
  {
   "cell_type": "code",
   "execution_count": 6,
   "id": "91a1555e",
   "metadata": {},
   "outputs": [],
   "source": [
    "import seaborn as sns"
   ]
  },
  {
   "cell_type": "markdown",
   "id": "bf0e01a5",
   "metadata": {},
   "source": [
    "# Data exploration"
   ]
  },
  {
   "cell_type": "code",
   "execution_count": 4,
   "id": "d2a606d3",
   "metadata": {},
   "outputs": [],
   "source": [
    "pd.set_option(\"display.max_rows\", None)"
   ]
  },
  {
   "cell_type": "code",
   "execution_count": 5,
   "id": "a75b89bc",
   "metadata": {},
   "outputs": [
    {
     "data": {
      "text/html": [
       "<div>\n",
       "<style scoped>\n",
       "    .dataframe tbody tr th:only-of-type {\n",
       "        vertical-align: middle;\n",
       "    }\n",
       "\n",
       "    .dataframe tbody tr th {\n",
       "        vertical-align: top;\n",
       "    }\n",
       "\n",
       "    .dataframe thead th {\n",
       "        text-align: right;\n",
       "    }\n",
       "</style>\n",
       "<table border=\"1\" class=\"dataframe\">\n",
       "  <thead>\n",
       "    <tr style=\"text-align: right;\">\n",
       "      <th></th>\n",
       "      <th>full_transcript</th>\n",
       "      <th>artist</th>\n",
       "      <th>show_name</th>\n",
       "      <th>year</th>\n",
       "      <th>source</th>\n",
       "      <th>artist_birthday</th>\n",
       "      <th>artist_gender</th>\n",
       "      <th>age_then</th>\n",
       "    </tr>\n",
       "  </thead>\n",
       "  <tbody>\n",
       "    <tr>\n",
       "      <th>0</th>\n",
       "      <td>[rock music playing]\\n\\n[indistinct chatter]\\n...</td>\n",
       "      <td>Adam Devine</td>\n",
       "      <td>Best Time Of Our Lives</td>\n",
       "      <td>2019.0</td>\n",
       "      <td>Scraps from the Loft</td>\n",
       "      <td>1983.0</td>\n",
       "      <td>2</td>\n",
       "      <td>36.0</td>\n",
       "    </tr>\n",
       "    <tr>\n",
       "      <th>1</th>\n",
       "      <td>strong language. CHEERING Yes, yes, yes! How...</td>\n",
       "      <td>Adam Hess</td>\n",
       "      <td>Live from the BBC</td>\n",
       "      <td>2016.0</td>\n",
       "      <td>BBC</td>\n",
       "      <td>1990.0</td>\n",
       "      <td>2</td>\n",
       "      <td>26.0</td>\n",
       "    </tr>\n",
       "    <tr>\n",
       "      <th>2</th>\n",
       "      <td>Ladies and gentlemen, please welcome your hos...</td>\n",
       "      <td>Adam Hills</td>\n",
       "      <td>Live at the Apollo Series 9 Episode 4</td>\n",
       "      <td>2013.0</td>\n",
       "      <td>BBC</td>\n",
       "      <td>1970.0</td>\n",
       "      <td>2</td>\n",
       "      <td>43.0</td>\n",
       "    </tr>\n",
       "    <tr>\n",
       "      <th>3</th>\n",
       "      <td>some strong language and adult humour Ladies...</td>\n",
       "      <td>Adam Hills</td>\n",
       "      <td>Live at the Apollo Series 12 Episode 4</td>\n",
       "      <td>2016.0</td>\n",
       "      <td>BBC</td>\n",
       "      <td>1970.0</td>\n",
       "      <td>2</td>\n",
       "      <td>46.0</td>\n",
       "    </tr>\n",
       "    <tr>\n",
       "      <th>4</th>\n",
       "      <td>Adam Hills? CHEERING Hello, Apollo. I am going...</td>\n",
       "      <td>Adam Hills</td>\n",
       "      <td>Live at the Apollo Series 5 Episode 5</td>\n",
       "      <td>2009.0</td>\n",
       "      <td>BBC</td>\n",
       "      <td>1970.0</td>\n",
       "      <td>2</td>\n",
       "      <td>39.0</td>\n",
       "    </tr>\n",
       "  </tbody>\n",
       "</table>\n",
       "</div>"
      ],
      "text/plain": [
       "                                     full_transcript       artist  \\\n",
       "0  [rock music playing]\\n\\n[indistinct chatter]\\n...  Adam Devine   \n",
       "1    strong language. CHEERING Yes, yes, yes! How...    Adam Hess   \n",
       "2   Ladies and gentlemen, please welcome your hos...   Adam Hills   \n",
       "3    some strong language and adult humour Ladies...   Adam Hills   \n",
       "4  Adam Hills? CHEERING Hello, Apollo. I am going...   Adam Hills   \n",
       "\n",
       "                                show_name    year                source  \\\n",
       "0                  Best Time Of Our Lives  2019.0  Scraps from the Loft   \n",
       "1                       Live from the BBC  2016.0                   BBC   \n",
       "2   Live at the Apollo Series 9 Episode 4  2013.0                   BBC   \n",
       "3  Live at the Apollo Series 12 Episode 4  2016.0                   BBC   \n",
       "4   Live at the Apollo Series 5 Episode 5  2009.0                   BBC   \n",
       "\n",
       "   artist_birthday  artist_gender  age_then  \n",
       "0           1983.0              2      36.0  \n",
       "1           1990.0              2      26.0  \n",
       "2           1970.0              2      43.0  \n",
       "3           1970.0              2      46.0  \n",
       "4           1970.0              2      39.0  "
      ]
     },
     "execution_count": 5,
     "metadata": {},
     "output_type": "execute_result"
    }
   ],
   "source": [
    "df = pd.read_json('../raw_data/df_with_age_gender.json')\n",
    "df.head()"
   ]
  },
  {
   "cell_type": "code",
   "execution_count": 6,
   "id": "cdfe5f11",
   "metadata": {},
   "outputs": [
    {
     "name": "stdout",
     "output_type": "stream",
     "text": [
      "Recorded on July 1, 2009 at The Brentwood Theatre in Los Angeles.\n",
      "\n",
      "– Ladies and gentlemen, please welcome Aziz Ansari! – Thank you. Thank you. Thank you. Thank you. Thank you. Thank you. Thank you. Thank you. Whoa, whoa. Oh, wow. Thank you. Thank you. Thank you so much. Thank you. Thank you. Thank you. Thank you. That’s so nice of you guys. Thank you.\n",
      "\n",
      "“Gay Rights”\n",
      "I recently moved to Los Angeles and, you know, a big issue here and everywhere in the country right now is gay rights. And I was walking down the street once, and this guy came up to me with a clipboard. And he goes, “hey, man. Do you have a moment for gay rights?” and I went, “sorry, man. I’m in a little bit of a rush.” and then that dude watched me walk into a Jamba Juice. And he was a little upset. He was like, “really, man? “you’re in a rush to get to Jamba Juice? I’m out here trying to make a difference.” and I was like, “well, actually, man, “there’s a guy that works in that Jamba Juice “that said some really hateful stuff “about a close gay friend of mine and I’m going in there to stab him.” and then I pulled out two knives and I tossed him one. I was like, “do you have a moment for gay rights? “oh, didn’t think so. “so sit there with your little clipboard and judge me. “I kill for gay people. I make a difference. You don’t do shit.” I actually had a gay friend of mine get real mad at me ’cause of a text message I sent him. And I looked at my phone and I realized it wasn’t my fault. It was my phone’s fault. I got that feature on there called smart type, where you type things and it guesses what you’re typing. But sometimes it guesses wrong. Like, you’ll type in “gave.” it’ll guess “have.” texts get misinterpreted. That’s what happened to me. What I was trying to send my gay friend Greg was a text that said, “hey, Greg. “don’t think I can come to the bar. Tired. Gonna hit the hay.” that’s what I was trying to send. But what smart type decided to send was, “hey, Greg. “don’t think I can come to the bar. Tired. Gonna hit the hay, you faggot. Fuck you.” whoa, whoa, whoa, whoa! Smart type, that ain’t what I was trying to say! Why you getting all homophobic on me? Greg’s gonna pissed off about that text! Now my whole take on, you know, the gay rights issues, particularly gay marriage is- let’s be honest. If you’re against gay marriage, you just don’t like gay people, and you want to stick it to ’em. And I’m not saying I wouldn’t do the same thing if I was presented with similar opportunities. Like if there was a law up for debate where it was like, “hey, man, you think guys that wear tight t-shirts “and get bottle service at nightclubs should be allowed to own property?” I’d be like, “no! Fuck those guys!” ha-ha-ha-ha! Yeah, um… It violates the sanctity of owning property and it says in the bible they’re douchebags. Whatever I need to say so you don’t think this is coming from purely a place of hate.\n",
      "\n",
      "“Sheets”\n",
      "I was getting some sheets down at bed bath & beyond. Man, they got so many sheets! I was looking around and I saw this guy and he didn’t know what to buy, and he looked all confused. And he looks over at me and goes, “man, this is why I need a girlfriend.” and I was like, “really? This is why you need a girlfriend?” So if you had a girlfriend, you wouldn’t even be here. You’d be back at your house sitting on a la-z-boy, drinking a beer, going, “bitch, go get me some sheets! “Yeah, I’m in a relationship now! “I don’t have to buy my own domestic goods! “pick up one of those bottles we can put sticks in “and make the room smell like vanilla bean. “I been farting all day. It smells like shit in here!” Now all I know about sheets is… The higher the thread count, the better the sheet, right? This lady’s like, “right. Yeah. “I got 700 back at my house. It’s like sleeping in lotion.” So I’m looking around, trying to find some nice sheets. I see this brand called hotel luxury linens. 600-thread count. That sounds fancy too, right? Got a girl back at your place, she’s like, “oh, my god. Did we just teleport to a five-star hotel?” Nah, baby. These are just hotel luxury linens. By the way, the technology for teleportation doesn’t exist yet. You must be kind of stupid. So I grabbed the sheets and I get ’em home. And I’m psyched to put ’em on my bed, right? And I feel ’em and they feel a little rough to the touch. I get a little suspicious. I do a little googling. I find an investigative report in Southern Living magazine, where they investigated thread count claims, an issue that definitely needed delving into. And they had a little chart, and it said “brand, advertised thread count, actual thread count.” so it’s like, “brand, Wamsutta. “Advertised, 500. Actual, 497. “brand, soft sheets. Advertised, 600. “actual, 600. “brand, hotel luxury linens. “advertised, 600. Actual… 296!” are you shittin’ me, man? I almost slept on that shit! 296 is sandpaper as far as I’m concerned. If that was a drug deal, I would have shot hotel luxury linens in the face. Where the rest of my threads? You didn’t think I was gonna count that shit, motherfucker?\n",
      "\n",
      "“CVS / Getting the Sniffles on a Flight”\n",
      "I was down at CVS, and I had a rather odd assortment of items I needed to get. I had to get a liter of jack Daniels, a two-liter bottle of coca-cola, a box of condoms, and a ten-pack of blank CDR discs. And I thought it’d be awesome if every morning I went and bought those same four things for, like, six months, just to develop this really weird reputation with the staff there, where they’d be like, “hold on a second, man. “This guy drinks a liter of jack and coke every day. “Has sex 12 times a day. “And then burns ten blank CDs? “ten blank CDs? “10 discs, that’s like 7.5 gigs a day. “What kind of data’s he backing up? “Would it make more sense just to get “an external hard drive at this point? “is he burning music? “wouldn’t it make more sense just to get an iPod? “maybe he’s making mixed CDs for all these girls “that he’s fuckin’. “Two of those girls ain’t getting CDs though. “which two are those? Which two don’t get the CDs?”\n",
      "I got to travel a lot when I’m doing stand-up, and I was on a flight one time and I had a little bit of a runny nose. And so I went like this… All of a sudden, the guy next to me goes, “hey, man! “you gonna blow your nose, or am I gonna “have to listen to you have the sniffles for six fucking hours?” and I was stunned for two reasons. One, I couldn’t believe he’d be so rude to a total stranger. And two, I never heard the word “sniffles” and “fucking” in the same sentence together before.\n",
      "\n",
      "“Craigslist AD”\n",
      "Clap if you use Craigslist. Hold on a second though. I’m not talking about like, “oh, hey, I’m looking for an apartment,” Craigslist. I’m talking about, “give me a handjob, I’ll give you my coffee table.” like that kind of Craigslist. That’s Craigslist. I saw a post like that once where this guy was trying to sell concert tickets and this is what he posted up there. He goes, “willing to give up two tickets “for the sold-out show tonight. “must be female, age 20 to 25, “and be willing to perform oral sex “for a half hour in my car. “must remove shirt and bra. Your friend can be there for security.” now that guy’s insane and you can tell, ’cause he put that phrase in there. “must remove shirt and bra.” ’cause that implies he’s done this in the past and the girl was like, “hold on! You didn’t say nothing about my shirt and bra coming off.” he’s like, “damn, I gotta remember to put that “in the ad next time. I want to see some titties.” and then he acts like he’s throwing you a bone by putting that phrase in there. “your friend can be there for security.” really? Well, that’s gonna be a tough favor to ask for. “hey, Denise. “yeah, it’s me, Carol. “let me ask you something. “you ever done any security work before? “well, it’s nothing too crazy, “but I’m gonna be blowing this guy “for a half hour in his car, “and I just need you to sit in the back seat “and make sure he doesn’t do anything sketchy. “by the way, you mind holding my shirt and bra? Those will be off!” Now, I went to that concert. I got tickets in advance and I got there and you know what I saw? They were selling extra tickets at the door. Selling extra tickets at the door! Could you imagine blowing a guy for a half hour for sold-out concert tickets and then finding out they’re selling them at the door? That’d be like blowing a guy for a half hour for sold-out concert tickets and then finding out they’re selling ’em at the door. There’s no other way to complete that analogy ’cause that’s the shittiest thing that could ever happen to you.\n",
      "\n",
      "“My Random Roommate”\n",
      "One thing that scares me about, like, Craigslist and stuff is that people go on there and they find random roommates. That’s a terrifying proposition to me. Like, the one time I had a random roommate, it did not go well. Like, I would come in the room and it’d always smell like tuna. And I’d be like, “whoa! “not in my top five smells for the room to have. Why’s it always smell like tuna?” and it’s ’cause this guy will eat cans of Starkist tuna all the time. And you know all the juices there at the bottom when you’re finished? He’d shoot the juice back like a tequila shot. Yes, I agree it’s disgusting. If you’d approached me on the street like, “hey, Aziz. “what’s the most disgusting thing you can catch your new roommate doing?” I’d be like, “drinking the tuna juice at the bottom of a Starkist tuna can.” they’d be like, “man, that’s a really specific answer.” there’s other things like he played the flute all the time. Nothing wrong with playing the flute, but he’d only play one song on the flute. Celine Dion’s My heart will go on, the theme song to Titanic. If you’d approach me on the street like, “hey, Aziz, “what’s the most annoying song a dude could play on the flute all the time?” I’d be like, “Celine Dion’s My heart will go on, the theme song to Titanic.” and you’d be like, “god damn, you’re really good at this game.” but the craziest thing was towards the end of our time together. He was acting really weird and I didn’t know what was going on, so I asked a friend of his. I was like, “hey, man, what’s up with this guy?” and he goes, “oh… “he thinks he’s possessed by scar, the evil lion from the lion king movies.” oh, yes! That happens! Sure! If you’d approached me on the street like, “hey, Aziz. “what’s the most random Disney villain a kid could think he’s possessed by?” I’d be like, “scar, the evil lion from the Lion King movies.” and you’d be like… “Sorry, it’s actually the hockey team from Iceland in the Mighty Ducks 2.” now… I have a small update on that joke. I was looking around on the internet one day, and I saw this blog had written about me. I looked in the comments thread and some guy had written, “I lived with this guy. He’s a douchebag.” it was that fucking guy! Oh, really? I’m a douchebag, huh? Well, you don’t tell all these people about how you did tuna juice shots all day. Oh, you don’t talk about that. You just say I’m a douchebag. Well, if I’m a douchebag, this is what I’m gonna do. I’m gonna find out where that guy lives, right? I’m gonna go outside his house, like, outside his window real late at night, right? And wait till it’s, like, really late and I’m just gonna go, and he’d be like, “no! The demons! “they’re back! Scar, get away from me! Leave me alone!” what I should have done is just went on the comments thread under the username “hyenas” and wrote, “watch out, motherfucker!”\n",
      "\n",
      "“Getting Recognized in New York”\n",
      "I used to live in New York and I love living there ’cause you can walk around everywhere. And, you know, when I walk around, sometimes people recognize me from things they’ve seen me on TV or whatever and they’d say, you know, stuff, and a lot of times I wouldn’t hear what they said ’cause I’d have headphones on. So I’d kind of just go, “cool, man. Glad you like the show,” and I’d just keep walking. And this one guy said something to me one time and I went, “cool, man. Glad you like the show.” and then right when I walked past him, I realized, “oh, man, that guy didn’t say anything about the show.” He went, “hey, man, your fly’s down.” And I went, “cool, man. Glad you like the show. “glad you like seeing my dick pop out of my pants. Come back next week, you can see one of my balls.”\n",
      "\n",
      "“Walking with Dinosaurs”\n",
      "I went to a cool show in New York once called walking with dinosaurs. And it was this thing where they had these, like, Animatronic Dinosaurs that would, like, walk around. It was really cool. But I was the only person there really in my age group. It was mostly, like, little kids and their parents. And I was bored waiting for the show to start, so I started talking to this little kid next to me, and he was pretty cool. He was, like, maybe eight, ten years old. We had a lot in common though, you know? Like, we both played call of Duty 4 on the Xbox. We both really had similar theories about what was really going on on Lost. And he was just a cool kid. And eventually his dad was like, “hey, Brian, “I’m gonna go make a couple phone calls. “you think you’ll be all right here talking to your new friend?” he’s like, “okay, dad.” and the dad leaves for, like, a really long time. And, you know, I’m not a child molester at all. But if I was, I’d have been like, “somebody’s doing some molestin’ tonight! “let’s do this shit, Brian! “your dad doesn’t give a fuck about you! “he left you alone with a grown man “with a full beard at walking with dinosaurs! “clearly I’m out here scouting and you are my man!” I’m just saying I could have fucked that kid.\n",
      "\n",
      "“Simple Man Cruise”\n",
      "I’m originally from South Carolina, and- thank you. And my brother sent me something that really reminded me of how crazy it is down there. It was a promo video for this thing called “The Simple Man Cruise.” and this is this cruise ship where they get all these southern rock bands like.38 special, the Marshall Tucker band, Lynyrd Skynyrd and they throw ’em on a boat. All these rednecks get on board, they set out to sea, and it’s scary as shit! ‘Cause I’ve never seen rednecks like this before. I lived in South Carolina for 18 years. Never saw people like this. This one dude gets on the screen, he’s like, “aw, hell, man. “you can swing a dead cat around here, you bound to hit a good guitar player.” what the hell does that mean? I don’t know, but I like the way this guy talks. I want him to review everything for me in my life. Like when I need an opinion, I’ll go to him. I’ll be like, “hey, man, I was thinking “about buying some CDs at that music store “down on, like, sunset. Is that a good place to buy music?” “aw, hell, man. “you can go in there and sling a pot “of creamed corn, some of it’s bound “to land on some great new and used CDs. “you might get a little corn on your CDs, “but that’s easy to clean off, especially if you have a biscuit.” okay, man. I was thinking about buying a Prius. Is that a good car to get? “aw, man, here’s what you need to do. “run down to the woods, find two dead possums, “pick ’em up, turn ’em into puppets, “be like, ‘hey, man, I was thinking about “‘buying a Prius. That a good car to get?’ “‘I don’t know nothing about cars. “I’m just a possum.’ to answer your question, yeah.” Uh, hey, man. I was seeing about buying an LCD TV. Is it a good time to buy an LCD TV? “here’s what you need to do, man. “go down to that electronics store in la brea, “jerk off on 12 biscuits, sling ’em around, “one of them’s bound to hit a great LCD TV. “you might catch a little hell for what you did to those biscuits, but you’re gonna get a great deal.”\n",
      "\n",
      "“My Cousin Harris”\n",
      "How many of you guys- clap if you still haven’t seen The Dark Knight yet. If you still haven’t seen The Dark Knight, clap. What the fuck is wrong with you people? That movie’s incredible! My favorite review of that movie is from my little cousin Harris that’s 14 years old and lives in Georgia. And I love Harris ’cause he has really odd choices in entertainment. Like, his favorite TV shows are hour-long dramas on USA and TNT. Like, you know how you see billboards for shows like burn notice. You’re like, “who the heck watches burn notice?” Harris watches burn notice! He loves it! Harris told me his senior quote’s gonna be, “TNT knows drama.” you call up Harris, you hear things like, “hey, Harris. What’s going on?” “I’m pissed off, man! “my dad just erased all my shows from the DVR. Guess I won’t find out what happens on Las Vegas this week.” who DVRs Las Vegas? Josh Duhamel doesn’t DVR Las Vegas. And you don’t get that joke, ’cause Josh Duhamel’s the star of Las Vegas, and nobody watches Las Vegas! So I asked Harris- I’m like, “hey, Harris. You like The Dark Knight?” “yeah.” “is it better than burn notice?” “yeah.” “is it better than Las Vegas?” “yeah.” “is it better than eating at cinnabon?” “no.” hey, I knew that would get him, ’cause he’s a little chubby guy and he loves shoving cinnabons into his little chubby face. And I love that about him! I love that he’s chubby. ‘Cause there’s not a lot of chubby little Indian kids. Most of them are small and skinny like me, but every now and then you see a chubby one and it’s awesome! It’s kind of like seeing a shooting star only it’s fat, brown, and on the ground.\n",
      "\n",
      "“Harassing Harris on Facebook”\n",
      "I’ve found Harris to be most entertained at me when he’s really angry at me. And I found the quickest way to get him angry is to fuck with him on Facebook. He does not like it. He’s got his little updates meticulously planned like, “Harris just became a big fan of will smith.” and I’ll write up there, “fuck will smith.” and he’ll be like, “why did you do that?” and so one time I noticed he was posting a lot on a study group for his world history class. And I was like, “I know what I’ll do. “I’ll join the study group. “I’ll write all this dumb shit on there, “Harris will get really pissed, and it’ll be awesome.” and that’s exactly how that shit went down! As soon as I started posting, I started getting all these, like, angry I.m.s from Harris. He’s like, “hey, man, you need to get off the boards.” and I was like, “why?” he’s like, “the admins are getting on my case.” and he posts this conversation he had with the admin, where the admin’s like, “hey, Harris, who’s Aziz?” he’s like, “my cousin. Why do you ask?” he goes, “he’s posting on a.p. World wall. Do you know what period he has a.p. World?” and Harris writes in all caps, “no! You got to boot him now!” with, like, 30 “o”s, 30 “w”s, and 50 exclamation points. And other people are starting to get suspicious of my presence on the board as well. Maybe because I’m supposed to be in the ninth grade and I have a full beard. But I’m trying to act like I belong, right? That I’m in the class and I know what’s up. So there was, like, a controversy about this one quiz question, and I was like, “I know what I’ll do. “I’ll go independently do some research “and I’ll post my findings on the board. They’ll think I’m smart and that I belong in the class.” so the next post I wrote was, “guys, I’ve been doing some research. “I think the views on salvation in Buddhism and Christianity “are far from similar. “in Buddhism, salvation is something one can only “achieve through the noble eightfold path, “whereas in Christianity, salvation is given “to all those whom accept Jesus Christ as their savior. “quote, ‘for whomsoever shall call upon the name of the lord’ “‘shall be saved,’ Romans 10:13. “I hate to say it, guys, but our teacher Mr. Edelstein is right.” bam! And then I waited, like, two minutes and then I wrote this. “guys, I just got an email from Mr. Edelstein! “he read what I wrote here and gave me “an extra point on the quiz. “he said I showed initiative and critical thinking skills. What a cool guy!” and then this kid replied, “what?” and then at this point, Harris got fucking furious. He’s like, “I don’t know if you should have wrote that wall post, Aziz,” and I was like, “why?” he goes, “what if people go in tomorrow and say, “‘hey Edelstein, I heard you gave Aziz “‘an extra point on the quiz. “‘can I get an extra point back too, “because I put the same thing he did?’ “and he’ll be like, ‘I don’t teach Aziz. That person doesn’t exist.'” and I was like, “fuck you, Harris. I do exist.” and then he starts attacking me publicly on the boards. He writes in all caps, “Aziz, get out of this group!” with, like, a bunch of exclamation points and then emoticons that are like- and I was like, “what’s that supposed to be, Harris, you eating cinnabon all day?” and then I started mounting my offensive. I started poking him like crazy. I started sending him vampire requests, whatever the fuck that is. He’s like, “I don’t know what’s going on.” and then he writes up there- he goes, “hey, everyone. “if I were you, I wouldn’t go to Edelstein “and ask for points back on that question. I’m positive you won’t get the points back.” and then I write, “no, guys. “I just talked to Edelstein again. “you’ll definitely get the points back. “just mention my name and the fact that I exist. Fuck you, Harris!” then- and then this kid writes, “you’re not even in this class. You’re the guy from that TV show.” and some other kid writes, “what TV show are you on?” and I write, “gossip girl.” and then I got kicked the fuck out.\n",
      "\n",
      "“Are White People Psyched All the Time?”\n",
      "I do this- do this TV show right now, and, you know, when you promote a TV show you’re on, you got to do a lot of interviews and stuff. And I was doing an interview once and this guy goes, “so you must be pretty psyched by all this Slumdog Millionaire stuff.” and I like, “um, yeah, I am! “I have no idea why though. “I had nothing to do with that movie. “it’s just some people that kind of look like me “are in this movie that everyone loves and winning Oscars and stuff.” and I was like, “whoa, whoa, whoa. Are white people just psyched all the time?” it’s like, “back to the future, that’s us! “Godfather, that’s us! Godfather Part Two, that’s us! “departed, that’s us! Sunset Boulevard, that’s us! “Citizen Kane, that’s us! Jaws, that’s us! “every fucking movie but Slumdog Millionaire “and Boyz n the Hood is us! We are white people! Suck our dicks!”\n",
      "\n",
      "“MTV’s Next”\n",
      "I did this show on MTV once and, um, MTV’s great. They let us do this show, and let us make it awesome however we wanted, and creatively, they were so awesome and it was so cool. However, I got to say, some of the shows on the network, not really my cup of tea. Uh, mainly because I don’t like huge pieces of shit in my tea. I- I was watching this dating show on there called Next. Man, if anyone here has ever been a contestant on Next, do me a favor and go away and die. ‘Cause you’re a horrible person and I don’t want comedy bringing any kind of satisfaction into your miserable existence. First guy that comes out, right? He’s the guy going out on the dates. And he comes up there and he says this-he goes, “yo, this girl better be pretty, “’cause if she’s a pain in the ass, I’m gonna need something cute to look at.” and I was stunned that he could say that. That’s so offensive. And at the same time, on my show, they didn’t want us to say that a character was raped by a dinosaur. Raped by a dinosaur! ‘Cause that’s too offensive. Oh, I guess they didn’t want all these angry letters from paleontologists who are like, “hey, man! “there’s nothing in the fossil records to suggest “that kind of behavior. So why don’t you chill with your accusations?” And then after you meet this dude, then you meet the girls he’s going out on the dates with. And they come up there and they say things like, “if he has a neck tattoo, I’m gonna lick it.” It’s like whoa! How slutty can you be in five seconds? And after they say that, they freeze, and, like, three facts about ’em pop up on the left side. And the first two facts are always really normal, but the third fact always comes way out of left field. It’s always like, “Monica’s 22. “she’s a hairdresser in Hollywood and she hates purple gift wrap.” Like, how does that define her as a person?” and the whole show just bummed me out, man. ‘Cause the things they try to keep off TV are just, like, really explicit sex or violence, and no one cares about their kids seeing attitudes like that on TV, and that’s way worse to me. Like, I’d much rather have a daughter that grew up and shot me in the leg and burned my house down, then some really slutty girl that, “hates the sound of people eating bananas.” My favorite third fact I ever saw on Next though was this one guy named Clarence. His third fact was that he hates the phrase “river view.” you didn’t mishear me. When the words “river” and “view” start coming together, Clarence is like, “hold up! Don’t do that!” I was like, “what would make a man hate the phrase ‘river view’?” and I could only think of one scenario and it’s terrible, but I have to share it with you. So one day, this guy Clarence is coming home, right? And he’s walking down a dark alley, and gets jumped by this motorcycle gang and they just start raping him, right? And all he can see is this sign that says “river view.” and these guys are just like, “say it, Clarence! Say it!” he’s like, “river view! River view! River view! River view! River view! R- r-r-r-r-roo!” so, yeah, if you were raped by the river view rape gang, sure, hate the phrase “river view.” otherwise just stop looking at property in that area! I think you noticed something really weird about me when I do that bit, and that is that I’m a very lazy rapist. I just bend my knees a little bit, very low impact. Anybody that’s worried about getting raped by me after the show is like, “man, it’s not gonna be that bad. “I got raped by Aziz after the show last night. That was pretty refreshing.”\n",
      "\n",
      "“The J-1 Waiver”\n",
      "I met this guy when I was back home last time who was a doctor and he moved from some country in Asia to Alabama. And I was like, “man, out of all the states in the country, why would you choose Alabama?” and he goes, “oh, well, I don’t have my green card yet, “so if I work in a place that’s underserved, like Alabama, they’ll give me a waiver.” I was like, “whoa, that’s kind of a weird deal.” government’s like, “oh, yeah, you can come “to the united states. Come on. Come on. “yeah, you, come on. Come on. Come on. But you got to go to Alabama.” it’s kind of like a girl going, “yeah, you can see me naked, “but you can only look at my left elbow and my left elbow’s racist.”\n",
      "\n",
      "“Using My BlackBerry While Driving”\n",
      "I like living in l.a. One thing I don’t like about living here is driving. I always get bored when I’m driving. And when I get bored, I go on the internet on my blackberry, so I’m gonna die! And whenever they go through the wreckage, they’ll find my phone and be like, “whoa! That’s what he looked up right before he died?” gonna be so sad. It’ll be like, “comedian Aziz Ansari was killed in a car accident today. “he was struck by another vehicle “while using imdb to see if Val Kilmer “was indeed in the film willow. “representatives from Mr. Kilmer confirmed he was “indeed in the the film, and hopes this will prevent “future tragedies of this nature. “this is the third willow-related death this year. “Comedian Aziz Ansari was killed in a car accident today. “he was struck by another vehicle while checking “showtimes for up on fandango. “he just purchased a single ticket for a 4:00 show “at a $2 theater in order to live out “the saddest afternoon of all-time. “comedy bad boy Aziz Ansari, a- k-a comedy heartthrob “Aziz Ansari, was killed in an awful automobile accident today. “he was struck by another vehicle while googling his own name.” I do do that, man. It’s hard not to. Everyone I know, they google their name, see what people write, and it’s so funny to read it, ’cause people always think like, “oh, man, there’s no way he’d have time to ever read this.” ha-ha! Yeah, I do. I don’t do anything! I take naps all day! And… I read this one time this girl, like, had written about, like, how she had a celebrity crush… On me. And it’s funny, ’cause she never thought in a million years that I’d read that. You know, never in a million years would I read that. But I did. So one day I’m just gonna email her and be like, “hey! It’s me, Aziz! “I heard you have a celebrity crush on me. “I’m a lot lonelier than you think I am. Where is your house? I will come there now!”\n",
      "\n",
      "“Bonnaroo”\n",
      "I love performing at music festivals. That’s always fun. I did this festival called Bonnaroo and it’s really cool, ’cause they have, like, indie-rock stuff and, like, hippie stuff coming together. Like, they had this weird hippie thing there called “the sonic forest.” and that was basically- they’d have these poles set up and you’d slap the sides of the poles and all these bells and whistles and lights would go off and they had, like, 30 of ’em in one little area, and it was like, “that’s the sonic forest.” I was like, “man, how dumb are those hippies to be entertained by something so stupid?” and then the last day I was there, I ate mushrooms. And then I was like, * sonic forest * I totally get you now and I slapped the shit out of those poles for, like, four hours, ’cause the sonic forest is the greatest idea ever!\n",
      "I did a festival in Telluride, Colorado, once. It’s a ski town. Not a lot of minorities there. And I was talking to this dude and he was like, “yo, man, before you go, I got to ask you one thing. Where are you from?” And I went, “well, I’m from south Carolina, but my parents are from India.” And he went, “what? But you talk exactly like I do!” And I was like, “well, I mean, here’s the thing, man. “There’s a lot of people that come here from other countries “and, you know, they have children here, “they grow up in this society, “and sometimes they don’t have accents. They’re called immigrants.” And then I showed him a video of an Asian kid rapping, and his head exploded.\n",
      "\n",
      "“Cold Stone Creamery”\n",
      "I went to a place recently I think is one of the most fucked up places I’ve ever been to. I’m convinced this place is the epitome of American excess, of American greed. I’m talking about a place called cold stone creamery. Whoa. If you have not been there, the basic gist of cold stone is that they take ice cream and then they just go ape shit with it. They’re just, like, slamming brownies and gummy bears and just hammering it in there. Whatever fat people want in there. Snickers bar, cheeseburger! Let me fuck a butterfinger into it for you. It’s like, “whoa! Whoa! Whoa! “Jesus! “this is way too intense for me. “is that guy’s dick a butterfinger? “what just happened? “whoa! Whoa! Whoa! Whoa! Whoa! Whoa! Whoa! Whoa! Whoa! “I think I’ll just have a small cup of vanilla if that’s okay. This is just too intense for me.” lady behind the counter’s like, “no, no, no! “you should try one of our creations “like birthday cake remix, where we take cake batter ice cream, yellow cake, fudge chunks, sprinkles!” It’s like, “you know, that just sounds too intense for me. I’ll just have a small cup of vanilla.” she goes, “quit being a bitch!” Whoa! And then I couldn’t even get a small ’cause their sizes are actually, “like it,” “love it,” and “gotta have it”! What kind of crackhead terminology is that? “hey, what size you want, man?” “I don’t know, man! I just gotta have it! “put some ice cream in a cup! I’m tweaking! I’m tweaking! I’m tweaking!” And, you know, I felt bad for people that had to work there, man. So I was like, “aww, I’m gonna drop a couple of dollars in the tip jar on my way out.” whoa, that’s when all hell broke loose! ‘Cause apparently whenever they get even $1 in the tip jar, all five employees are required to bump out into a song and dance number where they take current popular music and shove cold stone lingo into it, as if they’re some retarded second cousin of weird al that’s obsessed with ice cream. And it’s ridiculous. Five people are singing and dancing for $1. That’s 20 cents a person! If you saw a homeless dude outside a cold stone, you’re like, “hey, man, I’ll give you 20 cents to sing some songs about cold stone.” He’d go, “hey, man. Go fuck yourself! That’s degrading!”\n",
      "\n",
      "“Something Cool to Say to M.I.A.”\n",
      "One thing that’s cool about doing those music festivals is, you know, you get to meet musicians and stuff that, like, you’re a fan of, and, you know, that’s always cool for me. Like, I met m.I.a. Once, and, um, I was like, “man, I got to say something cool to M.I.A. She’s so cool!” I was like, “this is what I’ll do. “I’m say something in Tamil, “this obscure, southeast Asian language that we both happen to speak.” here’s the thing. I don’t speak Tamil that well. Like, I would never say something like this, but if I wanted to say, “you have beautiful breasts,” I couldn’t say that. What I’d have to say is- which translates to, “for you, right here, it’s awesome.” which is a terrible line!\n",
      "\n",
      "“A Night Out with Kanye West”\n",
      "One time, in L.A., Kanye West came to one of my shows, and I was so psyched. I’m such a huge Kanye West fan. And everything he did to me was so funny. Like, he was in the bathroom for, like, a really long time. And then he came out, he goes, “yo, just so you know, I was on “an important phone call. I wasn’t taking a shit.” But, um, when he was leaving, he was like, “yo, man, we should hang out sometime. That’d be cool, right?” and I was like, “yeah, that’d be crazy. I’m such a huge fan. That’d be awesome.” so this is the story of the first time I hung out with Kanye West. So he texts me, he’s like, “yo, we’re at this club. Come down.” so I grab my friend Jason, who’s another guy that does not look like he belong in a hip-hop nightclub. And we head over there, right? And we get there, we get in the club, and they’re like, “yo, we’re at capacity.” I was like, “well, Kanye West told me to come down.” and he was like, “somebody’s gonna have to come and get you.” and so I texted Kanye. I was like, “hey, man, like, they’re at capacity.” I said, “someone needs to get me.” and then before I could even hit “send,” I get a text from him, “on my way!” and he comes out. He’s like- and we go in. It was really cool of him to come get us. And we go inside, and, like, he’s sitting there at a table with, like, jay-z and all these models and stuff and, like, we just did not belong there. Like, if you had a photo of that table, you’d be like, “who photoshopped those two dudes in there? That was a really good job.” and- you know, Jay-z’s there drinking vodka he makes. Like, how baller is that? Jay-z signed the tab, money went back into his own pocket. He was like, “you’re crazy for this one, jay. Hov! Pshh!” and so Kanye eventually goes, “yo, man. “we’re heading back to the crib. You want to come down?” I was like, “yeah, that’d be awesome. That’d be crazy to see your house.” and so we go down there, me and Jason, and we get there pretty early. And there’s no one really there, and I walk in and I hear 808s and heartbreak playing, which is his album. And I walk up and I see him sitting on the couch. He’s like… “shh!” I was like, “yo, man. “are you listening to your own album in your own house, bopping your own head?” and he goes, “yeah. These beats are dope.” and I go, “that’d be like if I had a stand-up album, “you came over to my house and I was listening to it going, ‘ha-ha-ha-ha-ha! These jokes are dope.'” and we’re sitting there hanging out at his house, and, like, everything that Kanye said to me made me laugh so hard. Like, at one point we were, like, sitting there talking about music. Like, talking about TV on the radio or something, and, like, he just, like, cut me off. He was like, “yo, man. Hold on a second.” and he said the greatest thing I will ever hear in my life. He goes, “hold on a second. “I’ma go over there and look in the telescope with this girl with the big titties.” and then later on, you know, he was talking about coming to my show, and he was like, “man, I had a good time at your show.” and I was like, “oh, thank you for coming.” you know, and he’s like, “yo, man. “you know what you need to do tonight? You need to do some of your jokes.” and I was like, “oh, man. “you know what I need to do tonight? Not do that.” but he kept bringing it up. He was like, “come on, man. Please? “it’d be really cool if you did some jokes, man. It’d be really cool.” and eventually I had a couple more drinks. I was like, “fuck it! I’ll do some jokes!” and next thing you know, like, my friend Jason’s in the living room like, “this next comedian coming to the stage… ” and, like, I come up to the living room, and, like, he’s got, like, 30 people arranged in his living room and I’m, like, telling my jokes and this is a nightmare situation for a comedian. But everyone was very quiet and nice. They listened, they laughed, and it was great. But my favorite part was, every now and then, someone would be in the kitchen, like, making a drink or something like that, and they’d make a little noise, and then Kanye would jump up and be like, “yo, shut the fuck up! Homie’s over here trying to tell some jokes!” which is the best thing anyone’s ever yelled at a comedy show.\n",
      "\n",
      "“Kanye West vs. Darwish”\n",
      "My cousin Darwish, who is Harris’ older brother, actually got into a little bit of a tiff with Kanye. And, you know, Darwish is, like, 18 years old, so he just started listening to music. And, um, he would always I.m. Me about new bands he’d heard of or whatever. And one time he’s like, “Aziz, have you ever heard “of Kanye West? That song amazing, it’s amazing!” and he was like, “are there any other good rappers I should listen to?” I was like, “oh, you ever listen to any Wu-tang clan?” he’s like, “no, but I’ve heard of him. He raps a lot about karate, right?” and I was like, “not exactly.” and… So I copied that conversation and emailed it to Kanye. And he responded back right away. He goes, “wow! New fans! Yay! More people that don’t hate me!” that’s how his emails sound to me. And- and then a little bit later, I get another I-m from Darwish. He’s like, “Aziz! “that Kanye song flashing lights, “that’s a rip-off of a NE-Yo track. Kanye stole that beat!” and I was like, “really?” he’s like, “yeah. What’s Kanye’s email?” and I was like, “you’re really gonna email him?” and he goes, “I don’t know. It’s pretty messed up.” and so I was like, “I’ll email him for you.” and so I send that conversation to him. I was like, “oh, shit. Darwish is accusing you of jacking beats, homie!” and then responds back right away. He goes, “no! That song came out afterwards!” and I showed that to Darwish, and, you know, Darwish apologized and, you know, I just pasted all those conversations on my web site. And then the next day, I went on Kanye’s blog and I saw this. That’s my cousin Darwish! Kanye west versus Darwish! So I called up Darwish, and I’m like, “hey, Darwish. Have you been on Kanye’s web site before?” he’s like, “no. He’s got a web site?” keep in mind, Darwish is now, like, the hugest Kanye west fan right now. And I was like, “have you been on his web site?” he was like, “no.” I was like, “go on there right now.” he goes on there. He goes, “what? I gotta go change my Facebook status!” click.\n",
      "\n",
      "“R. Kelly: The Pied Piper of R&B”\n",
      "You know, my favorite musician that I’ve ever met was, uh, r. Kelly, I think. And, um, in case you’re not familiar, R. Kelly is a brilliant r&b singer/crazy person. Like, they did an interview with him on b.e.t., right? And the guy doing the interview was probably a guy like me. You know, huge fan of R. Kelly and his music, and hopes he really is innocent of those terrible things he’s accused of. So first question, the guy goes, “now, Robert, are you attracted to teenage girls?” and R. Kelly- you know, if you’re R. Kelly, that’s easy, right? All you gotta do is be like, “no, not at all. No!” that’s all you gotta do, right? That’s all you gotta do. That is not what R. Kelly does. R. Kelly goes, “define ‘teenage.’ ” literally the worst answer! The only worse answer would have been he went, “ha, yeah.” so that’s the person we’re dealing with. So I go to his concert with my friend Jason. We get there. Show’s sold out. People are psyched for R. Kelly. Jason looks over at me and goes, “hey, Aziz. “me and you are the only two white people at this concert.” and I was like, “first of all, Jason, I’m not white. “second of all, you’re the only white guy at this concert. We might kill you, Jason!” so the concert starts, and it’s incredible. R. Kelly is the best showman. Like, he has this part in the show where he has sex with an invisible woman. You can see the sound effects. So he’s, like, taking off her blouse. And then when he does the… A spotlight shoots out of his cock, and then goes over the whole audience like he’s coming on the whole crowd. And then a spotlight hits a screen, and the screen explodes! And I was like, “whoa! “you are not gonna see shit like that at a modest mouse concert!” wow! And then, like, there’s all this other weird stuff. Like, at one point, he leaves the stage, right? And they cut to a video of him playing basketball with his friends. Lasts about four minutes. Comes back on stage. Goes into the next song. Doesn’t address why he showed that video! You can’t do shit like that! I can’t leave the stage, show you some video of me playing foosball with my buddies, and then come back and be like, “man, iPhones are crazy.” you’d be like, “yo, man, what was up “with that video you showed? “you got to explain that shit! That was weird!” then, you know, we go backstage and meet him at the end of the show. He’s very nice. He’s like, “hey, you guys should come to this afterparty we’re doing.” and I was like, “yeah, sure.” and so we go to this nightclub and once again, Jason and I are the only two white people there. And when people know R. Kelly’s in a nightclub, they lose their shit. And then he took the stage and people went nuts. And he started doing that song that’s like, “I’m in love with a stripper.” and he’s doing the song and at one point, this woman just jumps onstage and starts giving him a lap dance. She finishes the lap dance and R. Kelly goes, “* who can top that shit * who can top that shit ” second woman comes onstage, gives him an even crazier lap dance. And R. Kelly goes, “* who can top that shit * who can top that shit ” third woman comes onstage with humongous breasts, whips ’em out, slaps the first three rows, grabs R. Kelly’s head and just goes, “arrgh!” and then R. Kelly pops out his head and goes, “* whoa “* ain’t nobody gonna top that shit * * I’m out ” and he leaves. And I was like, “whoa! What a performance!” But… My favorite- my absolute favorite part of the R. Kelly show was, like, 20 minutes in, he stops everything, and he starts talking to the crowd. And what’s great about that is that r. Kelly does not talk like you and I talk. He talks like r. Kelly talks. So he goes like this. “* ladies and gentlemen “* I don’t know the name of this building * “* but the people that run this building * “* they said ‘Robert’ “* ‘you’ve been only doing your show for 20 minutes * “* ‘and it’s already getting too fre-e-e-e-e-e-e-eaky tonight’ * “* they said ‘Robert’ “* they said ‘motherfucking Robert’ * “* ‘there will be no touching of yourself * “* ‘in this area tonight’ “* do you wanna know what I told ’em * “* I said L.A. Do you want to know what I told ’em * “* I said L.A. Do you wanna know what I said * “* to these people when they said that to me * “* do you want know what I “* to-o-o-o-o-o-old ’em “* I said I’m a grown “* ass “* man “* and I can do whatever the fuck I want tonight * * L.A. Can I do my show ” and everyone’s like, “fuck, yeah! I don’t know what this is!” and that was the greatest concert I’ve ever seen. Thank you, guys, so much! Thank you, guys. Thank you, guys. Thank you. Thank you. Thank you. Thank you. Um…\n",
      "\n",
      "“RAAAAAAAANDY”\n",
      "This next bit I wanted to do, uh, it’s something a little different. Um, I played a character in this movie funny people, uh, named randy, who is a stand-up comedian. And when I did the movie, I wrote, like, some jokes for randy and I enjoy doing them and so I thought it’d be fun to do a little bit of randy in this special. So, uh, we’re gonna do a little bit where it’s basically like, “what would randy do if he had a special?” so give me a second. I’ll be right back. – y’all are about to be amazed in ways you’ve never been amazed before! If you got a second set of skin, y’all better break it out, ’cause we fixing to burn it off, y’all! Y’all ain’t seen shit like this since you turned around, saw your mama’s vagina, and watched yourself getting born! Let’s get it started! Yeah! Prepare to be amazed! It’s coming down! Put your hands together! Make noise! Smack a bitch in the face if you can, ’cause here comes my man randy! Yeah! You are about to witness the best! He’s putting money on y’all fools! I hope you got bank accounts, ’cause he’s spreading out large amounts. They call him Randy! Straight randy, y’all! – what’s up? My name is ra-a-a-a-a-a-a-andy with eight “as”! If y’all are ready to laugh your dicks off, let me hear you say, “yeah.” all: yeah. – I said, “if y’all are ready to laugh your dicks off, let me hear you say, ‘yeah.'” all: yeah! – all right, then it’s randy time. Let’s do this shit. First joke. Oh, shit. Oh, shit. Oh, shit. Oh, shit. – what’s up, randy? – it’s time for another one of randy’s crazy fuck stories, a.k.a. A fuck tale. If y’all want to hear a fuck tale, let me hear you go, “fuck tales. * oh-ooh-ooh ” since you asked so nicely, I’ll tell you one. I was hooking up with this girl recently… * in a fuckin’ hot tub and we’re sitting there doing our thing and it’s going great. And eventually, she’s like, “randy? “randy? Randy? Will you go down on me?” and I was like, “yes, I can definitely do that.” but here’s the thing, y’all. We’re in a hot tub. So I had to do that shit underwater! So I hold my breath and I go down there. I’m just swimming around looking for the pussy, looking for the pussy, looking for the pussy, looking for the pussy. Bam! I find it! I start doing my thing. It’s going great, but eventually I’m like, “damn! “I can’t hold my breath that much longer. I got to come up for air.” but this girl holds my head down under the water. That ain’t cool, ladies. This guy knows what I’m talking about. This guy definitely knows what I’m talking about. But… I came up for air. And things are fine. But I kind of wish I would have drowned, ’cause that would have been the most baller death of all time. They’d be like, “hey, randy’s parents, “there’s been a terrible cunnilinigus accident. “yeah, randy was eating pussy underwater. I know it’s awesome, but he’s dead.” I’d have this awesome headstone. It’d be like, “here lies randy. He died while eating pussy.” and then it’ll have my handprint right there and you walk by, the handprint will give you a high-five. Ba-pam! Ba-pam! Ba-pam! Ba-pam! Fellas, you ever been in this situation? You got a girl back at your place and she’s down. You’re all excited. You’re like, “* I’m gonna get my fuck on “* I’m gonna get my fuck on “* I’m gonna get my fuck on tonight * “* yes I’m gonna get my fuck on * “* I’m gonna get my fuck on “* I’m gonna get my fuck on tonight * “* yes I’m gonna get my fuck on * “* I’m gonna get my fuck on * I’m gonna get my fuck on tonight *” and she’s like, “randy, stop dancing.” and you do. You stop dancing, then you head to the bedroom, and you about to set it off. And what happens every time you get to this moment, fellas? What happens every time you get to this moment? You got to take a huge shit! So you run in the bathroom and start playing the game that randy likes to call, “make a lot of noise so it don’t sound like you taking a shit!” you cutting on the sink and shower. She’s like, “randy, what’s going on in there?” “nothing. I’m just brushing my teeth and taking a shower at the same time.” but that’s enough noise either, so you got to run in the kitchen. Next thing you know, you’re blending carrots and celeries and tomatoes. She’s like, “randy what are you doing in there?” “bitch, I’m making you a smoothie!” and you go back to the bedroom, and what does she say? What does she always say? “randy? I got to go pee.” “no! You gon’ smell my shit!” – * randy – I was thinking about this the other day. You know what must be crazy? Getting your dick sucked in an igloo. How you supposed to stay hard when it’s so cold? It’d be like, “eskimo randy? “eskimo randy? “eskimo version of randy? Can I give you a blowjob?” I’d be like, “no! Give me a blanket! My dick’s cold!” – * randy – knock that shit off. It’s too cold. – fellas, do you know how to get your girl to do the crazy shit? I mean, the crazy shit? It’s simple. You can’t ask her in your normal voice. If I got a girl back at my place, I’m like, “hey, let’s have sex in my kitchen.” she’d be like, “no, randy! No!” but if I ask her in my smooth, sexy, r&b voice- if I’m like, “* girl “* I’m saying girl “* I want to fuck you in my kitchen tonight * * by my fridge by my oven by my foreman grill *” she’ll be like, “damn, randy. Let’s do that shit now!” next thing you know, you’re fucking and making chicken. – that’s right. Randy fucking and making chicken since ’86, bitches. – you guys like impressions? All right, this is my impression of me, randy, getting a blowjob at an ikea. “excuse me. “can you tell me where the lighting and home furnishing- whoa!” – they call that shit a “oofsk.” – this is my impression of me, randy, getting a blowjob at a whole foods. “excuse me. “are those your organic strawberries or are- whoa!” – she gave you a fair-trade blowjob. – yeah. You guys, now- anybody shout out a suggestion. I’ll do my impression of me, randy, getting my dick sucked there. Six flags. Here we go. “um, excuse me. “can you tell me where I can find the thing where you- “you know, where you roll the-what is it called? Skee ball!” – you must be this tall to ride randy’s dick. Randy. – keep ’em coming. Keep ’em coming. Where else? What else? Funeral? Oh, you trying to stump randy, huh? You don’t think randy gets his dick sucked at funerals? You about to get dealt with. This is my impression of me, randy, getting my dick sucked at a fucking funeral. “hey, I just wanted to say that, um- “this is really hard for me to say this, “but I just wanted to say that I’m really sorry for your loss!” thank you, guys, so much! My name’s randy, y’all! Good night! – make some fucking noise for randy! Straight up doing it to you every time! – get that money!\n"
     ]
    }
   ],
   "source": [
    "print(df['full_transcript'].iloc[42])"
   ]
  },
  {
   "cell_type": "markdown",
   "id": "4934bb4b",
   "metadata": {},
   "source": [
    "## distribution"
   ]
  },
  {
   "cell_type": "markdown",
   "id": "97e677c7",
   "metadata": {},
   "source": [
    "### Gender"
   ]
  },
  {
   "cell_type": "code",
   "execution_count": 7,
   "id": "cabe4e06",
   "metadata": {},
   "outputs": [
    {
     "data": {
      "text/plain": [
       "<AxesSubplot:xlabel='artist_gender', ylabel='Count'>"
      ]
     },
     "execution_count": 7,
     "metadata": {},
     "output_type": "execute_result"
    },
    {
     "data": {
      "image/png": "[encoded data removed]",
      "text/plain": [
       "<Figure size 432x288 with 1 Axes>"
      ]
     },
     "metadata": {
      "needs_background": "light"
     },
     "output_type": "display_data"
    }
   ],
   "source": [
    "sns.histplot(data=df, x=\"artist_gender\")"
   ]
  },
  {
   "cell_type": "code",
   "execution_count": 38,
   "id": "690ab9d0",
   "metadata": {},
   "outputs": [
    {
     "data": {
      "text/html": [
       "<div>\n",
       "<style scoped>\n",
       "    .dataframe tbody tr th:only-of-type {\n",
       "        vertical-align: middle;\n",
       "    }\n",
       "\n",
       "    .dataframe tbody tr th {\n",
       "        vertical-align: top;\n",
       "    }\n",
       "\n",
       "    .dataframe thead th {\n",
       "        text-align: right;\n",
       "    }\n",
       "</style>\n",
       "<table border=\"1\" class=\"dataframe\">\n",
       "  <thead>\n",
       "    <tr style=\"text-align: right;\">\n",
       "      <th></th>\n",
       "      <th>full_transcript</th>\n",
       "      <th>artist</th>\n",
       "      <th>show_name</th>\n",
       "      <th>year</th>\n",
       "      <th>source</th>\n",
       "      <th>artist_birthday</th>\n",
       "      <th>age_then</th>\n",
       "    </tr>\n",
       "    <tr>\n",
       "      <th>artist_gender</th>\n",
       "      <th></th>\n",
       "      <th></th>\n",
       "      <th></th>\n",
       "      <th></th>\n",
       "      <th></th>\n",
       "      <th></th>\n",
       "      <th></th>\n",
       "    </tr>\n",
       "  </thead>\n",
       "  <tbody>\n",
       "    <tr>\n",
       "      <th>1</th>\n",
       "      <td>82</td>\n",
       "      <td>82</td>\n",
       "      <td>82</td>\n",
       "      <td>82</td>\n",
       "      <td>82</td>\n",
       "      <td>82</td>\n",
       "      <td>82</td>\n",
       "    </tr>\n",
       "    <tr>\n",
       "      <th>2</th>\n",
       "      <td>467</td>\n",
       "      <td>467</td>\n",
       "      <td>467</td>\n",
       "      <td>464</td>\n",
       "      <td>467</td>\n",
       "      <td>466</td>\n",
       "      <td>463</td>\n",
       "    </tr>\n",
       "    <tr>\n",
       "      <th>3</th>\n",
       "      <td>6</td>\n",
       "      <td>6</td>\n",
       "      <td>6</td>\n",
       "      <td>6</td>\n",
       "      <td>6</td>\n",
       "      <td>6</td>\n",
       "      <td>6</td>\n",
       "    </tr>\n",
       "  </tbody>\n",
       "</table>\n",
       "</div>"
      ],
      "text/plain": [
       "               full_transcript  artist  show_name  year  source  \\\n",
       "artist_gender                                                     \n",
       "1                           82      82         82    82      82   \n",
       "2                          467     467        467   464     467   \n",
       "3                            6       6          6     6       6   \n",
       "\n",
       "               artist_birthday  age_then  \n",
       "artist_gender                             \n",
       "1                           82        82  \n",
       "2                          466       463  \n",
       "3                            6         6  "
      ]
     },
     "execution_count": 38,
     "metadata": {},
     "output_type": "execute_result"
    }
   ],
   "source": [
    "df.groupby(['artist_gender']).count()"
   ]
  },
  {
   "cell_type": "markdown",
   "id": "4e0eee77",
   "metadata": {},
   "source": [
    "Graph 1: Gender of unique comedians:"
   ]
  },
  {
   "cell_type": "code",
   "execution_count": 49,
   "id": "f64bf387",
   "metadata": {},
   "outputs": [
    {
     "data": {
      "text/plain": [
       "<matplotlib.legend.Legend at 0x152533e50>"
      ]
     },
     "execution_count": 49,
     "metadata": {},
     "output_type": "execute_result"
    },
    {
     "data": {
      "image/png": "[encoded data removed]",
      "text/plain": [
       "<Figure size 432x288 with 1 Axes>"
      ]
     },
     "metadata": {},
     "output_type": "display_data"
    }
   ],
   "source": [
    "df.groupby(['artist_gender']).nunique()['artist'].rename(\n",
    "    index={1: 'Female', 2: 'Male', 3: 'Genderqueer'}).plot(\n",
    "    kind='pie', label ='gender', autopct='%.2f')\n",
    "plt.legend(loc=(1.04,0))"
   ]
  },
  {
   "cell_type": "markdown",
   "id": "b0cb11ff",
   "metadata": {},
   "source": [
    "Graph 2: Gender of all comedian-show"
   ]
  },
  {
   "cell_type": "code",
   "execution_count": 44,
   "id": "b21d6a82",
   "metadata": {},
   "outputs": [
    {
     "data": {
      "text/plain": [
       "<matplotlib.legend.Legend at 0x153b21730>"
      ]
     },
     "execution_count": 44,
     "metadata": {},
     "output_type": "execute_result"
    },
    {
     "data": {
      "image/png": "[encoded data removed]",
      "text/plain": [
       "<Figure size 432x288 with 1 Axes>"
      ]
     },
     "metadata": {},
     "output_type": "display_data"
    }
   ],
   "source": [
    "df.groupby(['artist_gender']).size().rename(\n",
    "    index={1: 'Female', 2: 'Male', 3: 'Genderqueer'}).plot(\n",
    "    kind='pie', label ='gender', autopct='%.2f')\n",
    "plt.legend(loc=(1.04,0))"
   ]
  },
  {
   "cell_type": "markdown",
   "id": "66afe0bc",
   "metadata": {},
   "source": [
    "### Year of performance"
   ]
  },
  {
   "cell_type": "code",
   "execution_count": 55,
   "id": "1ee52af2",
   "metadata": {
    "collapsed": true
   },
   "outputs": [
    {
     "data": {
      "text/plain": [
       "year\n",
       "1963.0     1\n",
       "1965.0     2\n",
       "1971.0     1\n",
       "1972.0     1\n",
       "1975.0     1\n",
       "1976.0     1\n",
       "1977.0     1\n",
       "1978.0     1\n",
       "1979.0     1\n",
       "1982.0     1\n",
       "1983.0     3\n",
       "1984.0     1\n",
       "1986.0     1\n",
       "1987.0     1\n",
       "1988.0     1\n",
       "1990.0     1\n",
       "1991.0     2\n",
       "1992.0     1\n",
       "1993.0     4\n",
       "1994.0     2\n",
       "1996.0     4\n",
       "1997.0     1\n",
       "1998.0     3\n",
       "1999.0     6\n",
       "2000.0     2\n",
       "2001.0     2\n",
       "2002.0     1\n",
       "2003.0     2\n",
       "2004.0     6\n",
       "2005.0     2\n",
       "2006.0     8\n",
       "2007.0     8\n",
       "2008.0     9\n",
       "2009.0    21\n",
       "2010.0    32\n",
       "2011.0    33\n",
       "2012.0    37\n",
       "2013.0    34\n",
       "2014.0    34\n",
       "2015.0    45\n",
       "2016.0    59\n",
       "2017.0    55\n",
       "2018.0    42\n",
       "2019.0    38\n",
       "2020.0    31\n",
       "2021.0     9\n",
       "dtype: int64"
      ]
     },
     "execution_count": 55,
     "metadata": {},
     "output_type": "execute_result"
    }
   ],
   "source": [
    "df.groupby(['year']).size()"
   ]
  },
  {
   "cell_type": "markdown",
   "id": "ceba79ea",
   "metadata": {},
   "source": [
    "Graph 1: Number of shows per year"
   ]
  },
  {
   "cell_type": "code",
   "execution_count": 106,
   "id": "34f025e8",
   "metadata": {
    "scrolled": true
   },
   "outputs": [
    {
     "data": {
      "image/png": "[encoded data removed]",
      "text/plain": [
       "<Figure size 432x288 with 1 Axes>"
      ]
     },
     "metadata": {
      "needs_background": "light"
     },
     "output_type": "display_data"
    }
   ],
   "source": [
    "plt.hist(df['year'])\n",
    "plt.xlabel('Year')\n",
    "plt.ylabel('Shows');"
   ]
  },
  {
   "cell_type": "markdown",
   "id": "944df823",
   "metadata": {},
   "source": [
    "Graph 2: Number of shows grouped by decades"
   ]
  },
  {
   "cell_type": "code",
   "execution_count": 74,
   "id": "20b1107e",
   "metadata": {
    "scrolled": false
   },
   "outputs": [
    {
     "data": {
      "text/html": [
       "<div>\n",
       "<style scoped>\n",
       "    .dataframe tbody tr th:only-of-type {\n",
       "        vertical-align: middle;\n",
       "    }\n",
       "\n",
       "    .dataframe tbody tr th {\n",
       "        vertical-align: top;\n",
       "    }\n",
       "\n",
       "    .dataframe thead th {\n",
       "        text-align: right;\n",
       "    }\n",
       "</style>\n",
       "<table border=\"1\" class=\"dataframe\">\n",
       "  <thead>\n",
       "    <tr style=\"text-align: right;\">\n",
       "      <th></th>\n",
       "      <th>year</th>\n",
       "      <th>full_transcript</th>\n",
       "    </tr>\n",
       "  </thead>\n",
       "  <tbody>\n",
       "    <tr>\n",
       "      <th>0</th>\n",
       "      <td>1960.0</td>\n",
       "      <td>3</td>\n",
       "    </tr>\n",
       "    <tr>\n",
       "      <th>1</th>\n",
       "      <td>1970.0</td>\n",
       "      <td>7</td>\n",
       "    </tr>\n",
       "    <tr>\n",
       "      <th>2</th>\n",
       "      <td>1980.0</td>\n",
       "      <td>8</td>\n",
       "    </tr>\n",
       "    <tr>\n",
       "      <th>3</th>\n",
       "      <td>1990.0</td>\n",
       "      <td>24</td>\n",
       "    </tr>\n",
       "    <tr>\n",
       "      <th>4</th>\n",
       "      <td>2000.0</td>\n",
       "      <td>61</td>\n",
       "    </tr>\n",
       "    <tr>\n",
       "      <th>5</th>\n",
       "      <td>2010.0</td>\n",
       "      <td>409</td>\n",
       "    </tr>\n",
       "    <tr>\n",
       "      <th>6</th>\n",
       "      <td>2020.0</td>\n",
       "      <td>40</td>\n",
       "    </tr>\n",
       "  </tbody>\n",
       "</table>\n",
       "</div>"
      ],
      "text/plain": [
       "     year  full_transcript\n",
       "0  1960.0                3\n",
       "1  1970.0                7\n",
       "2  1980.0                8\n",
       "3  1990.0               24\n",
       "4  2000.0               61\n",
       "5  2010.0              409\n",
       "6  2020.0               40"
      ]
     },
     "execution_count": 74,
     "metadata": {},
     "output_type": "execute_result"
    }
   ],
   "source": [
    "decade_df = df.groupby((df.year//10)*10)['full_transcript'].count().reset_index()\n",
    "decade_df"
   ]
  },
  {
   "cell_type": "code",
   "execution_count": 99,
   "id": "9121acee",
   "metadata": {
    "scrolled": false
   },
   "outputs": [
    {
     "data": {
      "image/png": "[encoded data removed]",
      "text/plain": [
       "<Figure size 432x288 with 1 Axes>"
      ]
     },
     "metadata": {
      "needs_background": "light"
     },
     "output_type": "display_data"
    }
   ],
   "source": [
    "x = decade_df['year']\n",
    "y = decade_df['full_transcript']\n",
    "\n",
    "plt.bar(x, y, width=10)\n",
    "plt.xlabel('Decade')\n",
    "plt.ylabel('Shows');"
   ]
  },
  {
   "cell_type": "markdown",
   "id": "d3793358",
   "metadata": {},
   "source": [
    "### Age of comedians"
   ]
  },
  {
   "cell_type": "code",
   "execution_count": 105,
   "id": "9400d3ea",
   "metadata": {},
   "outputs": [
    {
     "data": {
      "text/plain": [
       "40.55535390199637"
      ]
     },
     "execution_count": 105,
     "metadata": {},
     "output_type": "execute_result"
    }
   ],
   "source": [
    "df['age_then'].mean()"
   ]
  },
  {
   "cell_type": "code",
   "execution_count": 104,
   "id": "03c4bbdd",
   "metadata": {
    "scrolled": false
   },
   "outputs": [
    {
     "data": {
      "image/png": "[encoded data removed]",
      "text/plain": [
       "<Figure size 432x288 with 1 Axes>"
      ]
     },
     "metadata": {
      "needs_background": "light"
     },
     "output_type": "display_data"
    }
   ],
   "source": [
    "plt.hist(df['age_then'])\n",
    "plt.xlabel('Age then')\n",
    "plt.ylabel('Number of shows');"
   ]
  }
 ],
 "metadata": {
  "kernelspec": {
   "display_name": "Python 3 (ipykernel)",
   "language": "python",
   "name": "python3"
  },
  "language_info": {
   "codemirror_mode": {
    "name": "ipython",
    "version": 3
   },
   "file_extension": ".py",
   "mimetype": "text/x-python",
   "name": "python",
   "nbconvert_exporter": "python",
   "pygments_lexer": "ipython3",
   "version": "3.8.12"
  },
  "toc": {
   "base_numbering": 1,
   "nav_menu": {},
   "number_sections": true,
   "sideBar": true,
   "skip_h1_title": false,
   "title_cell": "Table of Contents",
   "title_sidebar": "Contents",
   "toc_cell": false,
   "toc_position": {},
   "toc_section_display": true,
   "toc_window_display": false
  }
 },
 "nbformat": 4,
 "nbformat_minor": 5
}

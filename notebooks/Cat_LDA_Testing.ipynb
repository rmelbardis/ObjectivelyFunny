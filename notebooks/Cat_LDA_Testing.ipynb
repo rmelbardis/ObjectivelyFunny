{
 "cells": [
  {
   "cell_type": "code",
   "execution_count": 1,
   "id": "46fd3d7e",
   "metadata": {},
   "outputs": [],
   "source": [
    "%load_ext autoreload\n",
    "%autoreload 2"
   ]
  },
  {
   "cell_type": "code",
   "execution_count": 2,
   "id": "232f93fe",
   "metadata": {},
   "outputs": [
    {
     "ename": "SyntaxError",
     "evalue": "closing parenthesis ']' does not match opening parenthesis '(' (LDA_trainer.py, line 70)",
     "output_type": "error",
     "traceback": [
      "Traceback \u001b[0;36m(most recent call last)\u001b[0m:\n",
      "  File \u001b[1;32m\"/Users/cbeams/.pyenv/versions/3.8.12/envs/objectively_funny/lib/python3.8/site-packages/IPython/core/interactiveshell.py\"\u001b[0m, line \u001b[1;32m3457\u001b[0m, in \u001b[1;35mrun_code\u001b[0m\n    exec(code_obj, self.user_global_ns, self.user_ns)\n",
      "\u001b[0;36m  File \u001b[0;32m\"/var/folders/wx/fdznh_y51_1gnn8tvkcxhsyh0000gn/T/ipykernel_6072/1278493777.py\"\u001b[0;36m, line \u001b[0;32m2\u001b[0;36m, in \u001b[0;35m<module>\u001b[0;36m\u001b[0m\n\u001b[0;31m    from ObjectivelyFunny.LDA_trainer import LDATrainer\u001b[0m\n",
      "\u001b[0;36m  File \u001b[0;32m\"/Users/cbeams/code/rmelbardis/ObjectivelyFunny/ObjectivelyFunny/LDA_trainer.py\"\u001b[0;36m, line \u001b[0;32m70\u001b[0m\n\u001b[0;31m    year_dict = [list(range(1960, 1990)), list(range(1960, 1990), list(range(1960, 1990), list(range(1960, 1990)]\u001b[0m\n\u001b[0m                                                                                                                ^\u001b[0m\n\u001b[0;31mSyntaxError\u001b[0m\u001b[0;31m:\u001b[0m closing parenthesis ']' does not match opening parenthesis '('\n"
     ]
    }
   ],
   "source": [
    "from gensim.models.ldamodel import LdaModel\n",
    "from ObjectivelyFunny.LDA_trainer import LDATrainer\n",
    "from ObjectivelyFunny.pipeline import set_pipeline\n",
    "from ObjectivelyFunny.data import get_data, sent_to_words\n",
    "from ObjectivelyFunny import word_selections"
   ]
  },
  {
   "cell_type": "code",
   "execution_count": null,
   "id": "e4603a69",
   "metadata": {},
   "outputs": [],
   "source": [
    "import pyLDAvis\n",
    "import pyLDAvis.gensim_models  # don't skip this\n",
    "import matplotlib.pyplot as plt\n",
    "%matplotlib inline"
   ]
  },
  {
   "cell_type": "code",
   "execution_count": null,
   "id": "6b750062",
   "metadata": {},
   "outputs": [],
   "source": [
    "lda = LdaModel.load('../model')"
   ]
  },
  {
   "cell_type": "code",
   "execution_count": null,
   "id": "81aafae2",
   "metadata": {},
   "outputs": [],
   "source": [
    "lda"
   ]
  },
  {
   "cell_type": "code",
   "execution_count": null,
   "id": "241b9ab2",
   "metadata": {},
   "outputs": [],
   "source": [
    "id2word = Dictionary.load('../model.id2word')"
   ]
  },
  {
   "cell_type": "code",
   "execution_count": null,
   "id": "e9d35baa",
   "metadata": {},
   "outputs": [],
   "source": [
    "df = get_data(gender=[1])\n",
    "print('Data acquired')\n",
    "clean_steps = ['music', 'brackets', 'lowercase', 'regex', 'numbers', 'uncensor', 'remove', 'punctuation',\n",
    "'lemmatizer', 'manual_lemmatize', 'remove2']\n",
    "clean_df = set_pipeline(clean_steps,\n",
    "                dropword_list = word_selections.standard_dropword_list + word_selections.decade_dropword_list\n",
    "                ).fit_transform(df)\n",
    "print('Dataframe cleaned')\n",
    "\n",
    "model = LDATrainer()\n",
    "model.make_words(clean_df).make_grams().make_dictionary()\n",
    "print('Gram dictionary made')\n",
    "model.run()\n",
    "print('complete')"
   ]
  },
  {
   "cell_type": "code",
   "execution_count": null,
   "id": "d2dfa926",
   "metadata": {},
   "outputs": [],
   "source": [
    "lda.print_topics()"
   ]
  },
  {
   "cell_type": "code",
   "execution_count": null,
   "id": "1e0a0e96",
   "metadata": {},
   "outputs": [],
   "source": [
    "pyLDAvis.enable_notebook()\n",
    "vis = pyLDAvis.gensim_models.prepare(lda, model.corpus, model.id2word, mds='mmds')\n",
    "vis"
   ]
  },
  {
   "cell_type": "code",
   "execution_count": null,
   "id": "9d1aab27",
   "metadata": {},
   "outputs": [],
   "source": [
    "import matplotlib.pyplot as plt\n",
    "from wordcloud import WordCloud\n",
    "for t in range(lda.num_topics):\n",
    "    plt.figure()\n",
    "    plt.imshow(WordCloud().fit_words(dict(lda.show_topic(t, 200))))\n",
    "    plt.axis(\"off\")\n",
    "    plt.title(\"Topic #\" + str(t))\n",
    "    plt.show()"
   ]
  },
  {
   "cell_type": "code",
   "execution_count": null,
   "id": "50d78427",
   "metadata": {},
   "outputs": [],
   "source": []
  }
 ],
 "metadata": {
  "kernelspec": {
   "display_name": "Python 3 (ipykernel)",
   "language": "python",
   "name": "python3"
  },
  "language_info": {
   "codemirror_mode": {
    "name": "ipython",
    "version": 3
   },
   "file_extension": ".py",
   "mimetype": "text/x-python",
   "name": "python",
   "nbconvert_exporter": "python",
   "pygments_lexer": "ipython3",
   "version": "3.8.12"
  },
  "toc": {
   "base_numbering": 1,
   "nav_menu": {},
   "number_sections": true,
   "sideBar": true,
   "skip_h1_title": false,
   "title_cell": "Table of Contents",
   "title_sidebar": "Contents",
   "toc_cell": false,
   "toc_position": {},
   "toc_section_display": true,
   "toc_window_display": false
  }
 },
 "nbformat": 4,
 "nbformat_minor": 5
}

{
 "cells": [
  {
   "cell_type": "code",
   "execution_count": 1,
   "id": "46fd3d7e",
   "metadata": {},
   "outputs": [],
   "source": [
    "%load_ext autoreload\n",
    "%autoreload 2"
   ]
  },
  {
   "cell_type": "code",
   "execution_count": 2,
   "id": "a7761a03",
   "metadata": {},
   "outputs": [
    {
     "name": "stderr",
     "output_type": "stream",
     "text": [
      "2022-03-07 15:16:24.910103: W tensorflow/stream_executor/platform/default/dso_loader.cc:64] Could not load dynamic library 'libcudart.so.11.0'; dlerror: libcudart.so.11.0: cannot open shared object file: No such file or directory\n",
      "2022-03-07 15:16:24.910154: I tensorflow/stream_executor/cuda/cudart_stub.cc:29] Ignore above cudart dlerror if you do not have a GPU set up on your machine.\n",
      "[nltk_data] Downloading package punkt to /home/rei/nltk_data...\n",
      "[nltk_data]   Package punkt is already up-to-date!\n"
     ]
    }
   ],
   "source": [
    "import pandas as pd\n",
    "from ObjectivelyFunny.pipeline import set_pipeline\n",
    "import re\n",
    "from ObjectivelyFunny.data import get_small_data, get_X_y_vocab_seqlength\n",
    "from ObjectivelyFunny.model_setup import initialize_model"
   ]
  },
  {
   "cell_type": "code",
   "execution_count": 3,
   "id": "e716756c",
   "metadata": {},
   "outputs": [],
   "source": [
    "df = get_small_data()"
   ]
  },
  {
   "cell_type": "code",
   "execution_count": 4,
   "id": "705d3c01",
   "metadata": {},
   "outputs": [],
   "source": [
    "clean_df = df.copy()"
   ]
  },
  {
   "cell_type": "code",
   "execution_count": 5,
   "id": "aa9cea98",
   "metadata": {},
   "outputs": [],
   "source": [
    "options = ['music', 'uncensor', 'regex', 'split_words', 'sequences']"
   ]
  },
  {
   "cell_type": "code",
   "execution_count": 6,
   "id": "675129af",
   "metadata": {},
   "outputs": [],
   "source": [
    "pipe = set_pipeline(options)"
   ]
  },
  {
   "cell_type": "code",
   "execution_count": 7,
   "id": "8c8885ef",
   "metadata": {
    "scrolled": false
   },
   "outputs": [],
   "source": [
    "clean_df = pipe.fit_transform(clean_df)"
   ]
  },
  {
   "cell_type": "code",
   "execution_count": 8,
   "id": "87b94956",
   "metadata": {},
   "outputs": [],
   "source": [
    "X, y, vocab_size, X_seq_length = get_X_y_vocab_seqlength(clean_df, 21)"
   ]
  },
  {
   "cell_type": "code",
   "execution_count": 9,
   "id": "31dcaa4f",
   "metadata": {},
   "outputs": [
    {
     "data": {
      "text/plain": [
       "(59953, 20)"
      ]
     },
     "execution_count": 9,
     "metadata": {},
     "output_type": "execute_result"
    }
   ],
   "source": [
    "X.shape"
   ]
  },
  {
   "cell_type": "code",
   "execution_count": 10,
   "id": "71b548f3",
   "metadata": {},
   "outputs": [
    {
     "data": {
      "text/plain": [
       "(59953, 8578)"
      ]
     },
     "execution_count": 10,
     "metadata": {},
     "output_type": "execute_result"
    }
   ],
   "source": [
    "y.shape"
   ]
  },
  {
   "cell_type": "code",
   "execution_count": 11,
   "id": "3f30a3de",
   "metadata": {},
   "outputs": [
    {
     "data": {
      "text/plain": [
       "8578"
      ]
     },
     "execution_count": 11,
     "metadata": {},
     "output_type": "execute_result"
    }
   ],
   "source": [
    "vocab_size"
   ]
  },
  {
   "cell_type": "code",
   "execution_count": 12,
   "id": "0a71b29e",
   "metadata": {},
   "outputs": [
    {
     "data": {
      "text/plain": [
       "20"
      ]
     },
     "execution_count": 12,
     "metadata": {},
     "output_type": "execute_result"
    }
   ],
   "source": [
    "X_seq_length"
   ]
  },
  {
   "cell_type": "code",
   "execution_count": 15,
   "id": "4339242b",
   "metadata": {},
   "outputs": [],
   "source": [
    "model = initialize_model(vocab_size, X_seq_length, 75)"
   ]
  },
  {
   "cell_type": "code",
   "execution_count": 16,
   "id": "7e80d9f9",
   "metadata": {},
   "outputs": [
    {
     "name": "stdout",
     "output_type": "stream",
     "text": [
      "Model: \"sequential_1\"\n",
      "_________________________________________________________________\n",
      " Layer (type)                Output Shape              Param #   \n",
      "=================================================================\n",
      " embedding_1 (Embedding)     (None, 20, 75)            643350    \n",
      "                                                                 \n",
      " lstm_2 (LSTM)               (None, 20, 100)           70400     \n",
      "                                                                 \n",
      " lstm_3 (LSTM)               (None, 100)               80400     \n",
      "                                                                 \n",
      " dense_2 (Dense)             (None, 100)               10100     \n",
      "                                                                 \n",
      " dense_3 (Dense)             (None, 8578)              866378    \n",
      "                                                                 \n",
      "=================================================================\n",
      "Total params: 1,670,628\n",
      "Trainable params: 1,670,628\n",
      "Non-trainable params: 0\n",
      "_________________________________________________________________\n"
     ]
    }
   ],
   "source": [
    "model.summary()"
   ]
  },
  {
   "cell_type": "code",
   "execution_count": 17,
   "id": "2584d7e5",
   "metadata": {},
   "outputs": [],
   "source": [
    "import joblib"
   ]
  },
  {
   "cell_type": "code",
   "execution_count": null,
   "id": "4e9a9aea",
   "metadata": {},
   "outputs": [],
   "source": []
  }
 ],
 "metadata": {
  "kernelspec": {
   "display_name": "Python 3 (ipykernel)",
   "language": "python",
   "name": "python3"
  },
  "language_info": {
   "codemirror_mode": {
    "name": "ipython",
    "version": 3
   },
   "file_extension": ".py",
   "mimetype": "text/x-python",
   "name": "python",
   "nbconvert_exporter": "python",
   "pygments_lexer": "ipython3",
   "version": "3.8.12"
  },
  "toc": {
   "base_numbering": 1,
   "nav_menu": {},
   "number_sections": true,
   "sideBar": true,
   "skip_h1_title": false,
   "title_cell": "Table of Contents",
   "title_sidebar": "Contents",
   "toc_cell": false,
   "toc_position": {},
   "toc_section_display": true,
   "toc_window_display": false
  }
 },
 "nbformat": 4,
 "nbformat_minor": 5
}

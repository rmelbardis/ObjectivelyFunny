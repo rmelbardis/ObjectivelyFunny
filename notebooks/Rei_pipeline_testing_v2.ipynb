{
 "cells": [
  {
   "cell_type": "code",
   "execution_count": 1,
   "id": "46fd3d7e",
   "metadata": {},
   "outputs": [],
   "source": [
    "%load_ext autoreload\n",
    "%autoreload 2"
   ]
  },
  {
   "cell_type": "code",
   "execution_count": 14,
   "id": "a7761a03",
   "metadata": {},
   "outputs": [],
   "source": [
    "import pandas as pd\n",
    "from ObjectivelyFunny.pipeline import set_pipeline\n",
    "import re\n",
    "from ObjectivelyFunny.data import get_small_data, get_X_y_vocab_seqlength"
   ]
  },
  {
   "cell_type": "code",
   "execution_count": 15,
   "id": "e716756c",
   "metadata": {},
   "outputs": [],
   "source": [
    "df = get_small_data()"
   ]
  },
  {
   "cell_type": "code",
   "execution_count": 16,
   "id": "705d3c01",
   "metadata": {},
   "outputs": [],
   "source": [
    "clean_df = df.copy()"
   ]
  },
  {
   "cell_type": "code",
   "execution_count": 19,
   "id": "aa9cea98",
   "metadata": {},
   "outputs": [],
   "source": [
    "options = ['music', 'uncensor', 'regex', 'split_words', 'sequences']"
   ]
  },
  {
   "cell_type": "code",
   "execution_count": 20,
   "id": "675129af",
   "metadata": {},
   "outputs": [],
   "source": [
    "pipe = set_pipeline(options)"
   ]
  },
  {
   "cell_type": "code",
   "execution_count": 21,
   "id": "8c8885ef",
   "metadata": {
    "scrolled": false
   },
   "outputs": [],
   "source": [
    "clean_df = pipe.fit_transform(clean_df)"
   ]
  },
  {
   "cell_type": "code",
   "execution_count": 23,
   "id": "87b94956",
   "metadata": {},
   "outputs": [],
   "source": [
    "X, y, vocab_size, X_seq_length = get_X_y_vocab_seqlength(clean_df, 21)"
   ]
  },
  {
   "cell_type": "code",
   "execution_count": 24,
   "id": "31dcaa4f",
   "metadata": {},
   "outputs": [
    {
     "data": {
      "text/plain": [
       "(59953, 20)"
      ]
     },
     "execution_count": 24,
     "metadata": {},
     "output_type": "execute_result"
    }
   ],
   "source": [
    "X.shape"
   ]
  },
  {
   "cell_type": "code",
   "execution_count": 25,
   "id": "71b548f3",
   "metadata": {},
   "outputs": [
    {
     "data": {
      "text/plain": [
       "(59953, 8578)"
      ]
     },
     "execution_count": 25,
     "metadata": {},
     "output_type": "execute_result"
    }
   ],
   "source": [
    "y.shape"
   ]
  },
  {
   "cell_type": "code",
   "execution_count": 26,
   "id": "3f30a3de",
   "metadata": {},
   "outputs": [
    {
     "data": {
      "text/plain": [
       "8578"
      ]
     },
     "execution_count": 26,
     "metadata": {},
     "output_type": "execute_result"
    }
   ],
   "source": [
    "vocab_size"
   ]
  },
  {
   "cell_type": "code",
   "execution_count": 27,
   "id": "0a71b29e",
   "metadata": {},
   "outputs": [
    {
     "data": {
      "text/plain": [
       "20"
      ]
     },
     "execution_count": 27,
     "metadata": {},
     "output_type": "execute_result"
    }
   ],
   "source": [
    "X_seq_length"
   ]
  },
  {
   "cell_type": "code",
   "execution_count": null,
   "id": "4339242b",
   "metadata": {},
   "outputs": [],
   "source": []
  }
 ],
 "metadata": {
  "kernelspec": {
   "display_name": "Python 3 (ipykernel)",
   "language": "python",
   "name": "python3"
  },
  "language_info": {
   "codemirror_mode": {
    "name": "ipython",
    "version": 3
   },
   "file_extension": ".py",
   "mimetype": "text/x-python",
   "name": "python",
   "nbconvert_exporter": "python",
   "pygments_lexer": "ipython3",
   "version": "3.8.12"
  },
  "toc": {
   "base_numbering": 1,
   "nav_menu": {},
   "number_sections": true,
   "sideBar": true,
   "skip_h1_title": false,
   "title_cell": "Table of Contents",
   "title_sidebar": "Contents",
   "toc_cell": false,
   "toc_position": {},
   "toc_section_display": true,
   "toc_window_display": false
  }
 },
 "nbformat": 4,
 "nbformat_minor": 5
}

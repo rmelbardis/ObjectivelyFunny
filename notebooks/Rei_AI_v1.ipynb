{
 "cells": [
  {
   "cell_type": "code",
   "execution_count": 2,
   "id": "a7761a03",
   "metadata": {},
   "outputs": [],
   "source": [
    "import pandas as pd"
   ]
  },
  {
   "cell_type": "code",
   "execution_count": 3,
   "id": "aed89b15",
   "metadata": {},
   "outputs": [],
   "source": [
    "df = pd.read_json('../raw_data/df_with_age_gender.json')"
   ]
  },
  {
   "cell_type": "code",
   "execution_count": 8,
   "id": "730fc4a2",
   "metadata": {},
   "outputs": [],
   "source": [
    "pd.set_option('display.max_rows', None)"
   ]
  },
  {
   "cell_type": "code",
   "execution_count": 10,
   "id": "4f7fa9b9",
   "metadata": {},
   "outputs": [
    {
     "data": {
      "text/plain": [
       "(555, 8)"
      ]
     },
     "execution_count": 10,
     "metadata": {},
     "output_type": "execute_result"
    }
   ],
   "source": [
    "df.shape"
   ]
  },
  {
   "cell_type": "code",
   "execution_count": 11,
   "id": "f37aaa51",
   "metadata": {},
   "outputs": [],
   "source": [
    "long_string = ' '.join(df['full_transcript'])"
   ]
  },
  {
   "cell_type": "code",
   "execution_count": 12,
   "id": "b6b0f516",
   "metadata": {},
   "outputs": [
    {
     "data": {
      "text/plain": [
       "19184892"
      ]
     },
     "execution_count": 12,
     "metadata": {},
     "output_type": "execute_result"
    }
   ],
   "source": [
    "len(long_string)"
   ]
  },
  {
   "cell_type": "code",
   "execution_count": null,
   "id": "9f9c35ff",
   "metadata": {},
   "outputs": [],
   "source": [
    "print(df['full_transcript'].iloc[90])"
   ]
  }
 ],
 "metadata": {
  "kernelspec": {
   "display_name": "Python 3 (ipykernel)",
   "language": "python",
   "name": "python3"
  },
  "language_info": {
   "codemirror_mode": {
    "name": "ipython",
    "version": 3
   },
   "file_extension": ".py",
   "mimetype": "text/x-python",
   "name": "python",
   "nbconvert_exporter": "python",
   "pygments_lexer": "ipython3",
   "version": "3.8.12"
  },
  "toc": {
   "base_numbering": 1,
   "nav_menu": {},
   "number_sections": true,
   "sideBar": true,
   "skip_h1_title": false,
   "title_cell": "Table of Contents",
   "title_sidebar": "Contents",
   "toc_cell": false,
   "toc_position": {},
   "toc_section_display": true,
   "toc_window_display": false
  }
 },
 "nbformat": 4,
 "nbformat_minor": 5
}

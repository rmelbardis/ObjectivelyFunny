{
 "cells": [
  {
   "cell_type": "code",
   "execution_count": 8,
   "id": "e1679412",
   "metadata": {},
   "outputs": [],
   "source": [
    "import requests\n",
    "from gtts import gTTS"
   ]
  },
  {
   "cell_type": "code",
   "execution_count": 9,
   "id": "4ce2848d",
   "metadata": {},
   "outputs": [
    {
     "name": "stdout",
     "output_type": "stream",
     "text": [
      "gary\n"
     ]
    }
   ],
   "source": [
    "input_text = input() #input box for the prompt text parameter"
   ]
  },
  {
   "cell_type": "code",
   "execution_count": 10,
   "id": "729a7b7e",
   "metadata": {},
   "outputs": [],
   "source": [
    "url = 'https://obj-fun-2-2g6nxe3ofq-ew.a.run.app/comedian'"
   ]
  },
  {
   "cell_type": "code",
   "execution_count": 14,
   "id": "6c3bfca3",
   "metadata": {},
   "outputs": [
    {
     "data": {
      "text/plain": [
       "{'lines': [\"gary. I love that new TV series about the New York City subway, which is probably why you can't have a chardonnay in your house, right? You can't have Spanish, you know, you can't have\\xa0ach in do, you know, out of the subway.\",\n",
       "  'garyva, I’m a celebrity. And this is the last thing I’ve ever done… I’m a celebrity. And the people behind us, we’ll have to tell you that. They’re the people behind us, and we’re their guests. And they’re kind of like, “What do you want? Just… I need you to pay. I need you to pay for this.',\n",
       "  'gary’s too good to be true.']}"
      ]
     },
     "execution_count": 14,
     "metadata": {},
     "output_type": "execute_result"
    }
   ],
   "source": [
    "params = {\n",
    "    'prefix': input_text, # text for joke\n",
    "}\n",
    "response = requests.get(url, params=params)\n",
    "response.json()"
   ]
  },
  {
   "cell_type": "raw",
   "id": "c812f353",
   "metadata": {},
   "source": [
    "resonponse.json()[0]"
   ]
  },
  {
   "cell_type": "code",
   "execution_count": null,
   "id": "c423b5dd",
   "metadata": {},
   "outputs": [],
   "source": [
    "print(joke_1) #st.write(joke_1)\n",
    "ta_tts = gTTS(joke_1, lang ='en', tld='cn', slow=False)\n",
    "ta_tts.save('joke_1.mp3')\n",
    "audio_file = open('joke_1.mp3', 'rb')\n",
    "audio_intro = audio_file.read()"
   ]
  }
 ],
 "metadata": {
  "kernelspec": {
   "display_name": "Python 3 (ipykernel)",
   "language": "python",
   "name": "python3"
  },
  "language_info": {
   "codemirror_mode": {
    "name": "ipython",
    "version": 3
   },
   "file_extension": ".py",
   "mimetype": "text/x-python",
   "name": "python",
   "nbconvert_exporter": "python",
   "pygments_lexer": "ipython3",
   "version": "3.8.12"
  },
  "toc": {
   "base_numbering": 1,
   "nav_menu": {},
   "number_sections": true,
   "sideBar": true,
   "skip_h1_title": false,
   "title_cell": "Table of Contents",
   "title_sidebar": "Contents",
   "toc_cell": false,
   "toc_position": {},
   "toc_section_display": true,
   "toc_window_display": false
  }
 },
 "nbformat": 4,
 "nbformat_minor": 5
}

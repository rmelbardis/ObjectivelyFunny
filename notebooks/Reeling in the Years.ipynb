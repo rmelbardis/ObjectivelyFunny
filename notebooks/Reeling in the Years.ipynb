{
 "cells": [
  {
   "cell_type": "code",
   "execution_count": 1,
   "id": "7a58b252",
   "metadata": {},
   "outputs": [],
   "source": [
    "import pandas as pd"
   ]
  },
  {
   "cell_type": "code",
   "execution_count": 2,
   "id": "6e3468fe",
   "metadata": {},
   "outputs": [],
   "source": [
    "df = pd.read_json('../raw_data/combined_scraps_bbc_df.json')"
   ]
  },
  {
   "cell_type": "code",
   "execution_count": 69,
   "id": "69505b4b",
   "metadata": {},
   "outputs": [
    {
     "data": {
      "text/html": [
       "<div>\n",
       "<style scoped>\n",
       "    .dataframe tbody tr th:only-of-type {\n",
       "        vertical-align: middle;\n",
       "    }\n",
       "\n",
       "    .dataframe tbody tr th {\n",
       "        vertical-align: top;\n",
       "    }\n",
       "\n",
       "    .dataframe thead th {\n",
       "        text-align: right;\n",
       "    }\n",
       "</style>\n",
       "<table border=\"1\" class=\"dataframe\">\n",
       "  <thead>\n",
       "    <tr style=\"text-align: right;\">\n",
       "      <th></th>\n",
       "      <th>full_transcript</th>\n",
       "      <th>artist</th>\n",
       "      <th>show_name</th>\n",
       "      <th>year</th>\n",
       "      <th>source</th>\n",
       "    </tr>\n",
       "  </thead>\n",
       "  <tbody>\n",
       "    <tr>\n",
       "      <th>68</th>\n",
       "      <td>some strong language CHATTER We were all sli...</td>\n",
       "      <td>Bob Monkhouse</td>\n",
       "      <td>The Last Stand</td>\n",
       "      <td>2003.0</td>\n",
       "      <td>BBC</td>\n",
       "    </tr>\n",
       "    <tr>\n",
       "      <th>69</th>\n",
       "      <td>♪ bluesy rock music ♪ ♪ energetic pop rock mus...</td>\n",
       "      <td>Brad Williams</td>\n",
       "      <td>Daddy Issues</td>\n",
       "      <td>2016.0</td>\n",
       "      <td>Scraps from the Loft</td>\n",
       "    </tr>\n",
       "    <tr>\n",
       "      <th>70</th>\n",
       "      <td>Shot at the Gramercy Theatre, New York\\n\\nThe ...</td>\n",
       "      <td>Brent Morin</td>\n",
       "      <td>I’m Brent Morin</td>\n",
       "      <td>2015.0</td>\n",
       "      <td>Scraps from the Loft</td>\n",
       "    </tr>\n",
       "    <tr>\n",
       "      <th>71</th>\n",
       "      <td>[audience cheering] [announcer] Ladies and gen...</td>\n",
       "      <td>Brian Regan</td>\n",
       "      <td>Nunchucks And Flamethrowers</td>\n",
       "      <td>2017.0</td>\n",
       "      <td>Scraps from the Loft</td>\n",
       "    </tr>\n",
       "  </tbody>\n",
       "</table>\n",
       "</div>"
      ],
      "text/plain": [
       "                                      full_transcript         artist  \\\n",
       "68    some strong language CHATTER We were all sli...  Bob Monkhouse   \n",
       "69  ♪ bluesy rock music ♪ ♪ energetic pop rock mus...  Brad Williams   \n",
       "70  Shot at the Gramercy Theatre, New York\\n\\nThe ...    Brent Morin   \n",
       "71  [audience cheering] [announcer] Ladies and gen...    Brian Regan   \n",
       "\n",
       "                      show_name    year                source  \n",
       "68               The Last Stand  2003.0                   BBC  \n",
       "69                 Daddy Issues  2016.0  Scraps from the Loft  \n",
       "70              I’m Brent Morin  2015.0  Scraps from the Loft  \n",
       "71  Nunchucks And Flamethrowers  2017.0  Scraps from the Loft  "
      ]
     },
     "execution_count": 69,
     "metadata": {},
     "output_type": "execute_result"
    }
   ],
   "source": [
    "df[68:72]"
   ]
  },
  {
   "cell_type": "code",
   "execution_count": 66,
   "id": "ccbe26cc",
   "metadata": {},
   "outputs": [
    {
     "data": {
      "text/plain": [
       "268"
      ]
     },
     "execution_count": 66,
     "metadata": {},
     "output_type": "execute_result"
    }
   ],
   "source": [
    "df['artist'].nunique()"
   ]
  },
  {
   "cell_type": "code",
   "execution_count": 49,
   "id": "83c46fc5",
   "metadata": {},
   "outputs": [
    {
     "data": {
      "text/html": [
       "<div>\n",
       "<style scoped>\n",
       "    .dataframe tbody tr th:only-of-type {\n",
       "        vertical-align: middle;\n",
       "    }\n",
       "\n",
       "    .dataframe tbody tr th {\n",
       "        vertical-align: top;\n",
       "    }\n",
       "\n",
       "    .dataframe thead th {\n",
       "        text-align: right;\n",
       "    }\n",
       "</style>\n",
       "<table border=\"1\" class=\"dataframe\">\n",
       "  <thead>\n",
       "    <tr style=\"text-align: right;\">\n",
       "      <th></th>\n",
       "      <th>full_transcript</th>\n",
       "      <th>artist</th>\n",
       "      <th>show_name</th>\n",
       "      <th>year</th>\n",
       "      <th>source</th>\n",
       "    </tr>\n",
       "  </thead>\n",
       "  <tbody>\n",
       "    <tr>\n",
       "      <th>44</th>\n",
       "      <td>The machine, Mr. Bert Kreischer, everybody. Le...</td>\n",
       "      <td>Bert Kreischer</td>\n",
       "      <td>Fighting A Bear</td>\n",
       "      <td>NaN</td>\n",
       "      <td>Scraps from the Loft</td>\n",
       "    </tr>\n",
       "    <tr>\n",
       "      <th>123</th>\n",
       "      <td>Dave Allen on his first day at Catholic school...</td>\n",
       "      <td>Dave Allen</td>\n",
       "      <td>First Day At Catholic School</td>\n",
       "      <td>NaN</td>\n",
       "      <td>Scraps from the Loft</td>\n",
       "    </tr>\n",
       "    <tr>\n",
       "      <th>151</th>\n",
       "      <td>From No Refunds, recorded at the Gotham Comedy...</td>\n",
       "      <td>Doug Stanhope</td>\n",
       "      <td>On Nationalism</td>\n",
       "      <td>NaN</td>\n",
       "      <td>Scraps from the Loft</td>\n",
       "    </tr>\n",
       "    <tr>\n",
       "      <th>154</th>\n",
       "      <td>Immigration. There’s too many people in this f...</td>\n",
       "      <td>Doug Stanhope</td>\n",
       "      <td>On Babies and Abortion</td>\n",
       "      <td>NaN</td>\n",
       "      <td>Scraps from the Loft</td>\n",
       "    </tr>\n",
       "    <tr>\n",
       "      <th>199</th>\n",
       "      <td>George Carlin on the 1996 HBO special “Back in...</td>\n",
       "      <td>George Carlin</td>\n",
       "      <td>George Carlin On Abortion And Pro-lifers</td>\n",
       "      <td>NaN</td>\n",
       "      <td>Scraps from the Loft</td>\n",
       "    </tr>\n",
       "    <tr>\n",
       "      <th>206</th>\n",
       "      <td>I know I’m a little late with this, but I’d li...</td>\n",
       "      <td>George Carlin</td>\n",
       "      <td>Politically Correct Language</td>\n",
       "      <td>NaN</td>\n",
       "      <td>Scraps from the Loft</td>\n",
       "    </tr>\n",
       "    <tr>\n",
       "      <th>207</th>\n",
       "      <td>When it comes to bullshit, big-time, major lea...</td>\n",
       "      <td>George Carlin</td>\n",
       "      <td>Religion Is Bullshit</td>\n",
       "      <td>NaN</td>\n",
       "      <td>Scraps from the Loft</td>\n",
       "    </tr>\n",
       "    <tr>\n",
       "      <th>262</th>\n",
       "      <td>by Jim Jefferies\\n\\nI’m gonna talk about somet...</td>\n",
       "      <td>Jim Jefferies</td>\n",
       "      <td>Jim Jefferies On Gun Control</td>\n",
       "      <td>NaN</td>\n",
       "      <td>Scraps from the Loft</td>\n",
       "    </tr>\n",
       "  </tbody>\n",
       "</table>\n",
       "</div>"
      ],
      "text/plain": [
       "                                       full_transcript          artist  \\\n",
       "44   The machine, Mr. Bert Kreischer, everybody. Le...  Bert Kreischer   \n",
       "123  Dave Allen on his first day at Catholic school...      Dave Allen   \n",
       "151  From No Refunds, recorded at the Gotham Comedy...   Doug Stanhope   \n",
       "154  Immigration. There’s too many people in this f...   Doug Stanhope   \n",
       "199  George Carlin on the 1996 HBO special “Back in...   George Carlin   \n",
       "206  I know I’m a little late with this, but I’d li...   George Carlin   \n",
       "207  When it comes to bullshit, big-time, major lea...   George Carlin   \n",
       "262  by Jim Jefferies\\n\\nI’m gonna talk about somet...   Jim Jefferies   \n",
       "\n",
       "                                    show_name  year                source  \n",
       "44                            Fighting A Bear   NaN  Scraps from the Loft  \n",
       "123              First Day At Catholic School   NaN  Scraps from the Loft  \n",
       "151                            On Nationalism   NaN  Scraps from the Loft  \n",
       "154                    On Babies and Abortion   NaN  Scraps from the Loft  \n",
       "199  George Carlin On Abortion And Pro-lifers   NaN  Scraps from the Loft  \n",
       "206              Politically Correct Language   NaN  Scraps from the Loft  \n",
       "207                      Religion Is Bullshit   NaN  Scraps from the Loft  \n",
       "262              Jim Jefferies On Gun Control   NaN  Scraps from the Loft  "
      ]
     },
     "execution_count": 49,
     "metadata": {},
     "output_type": "execute_result"
    }
   ],
   "source": [
    "old_years_df"
   ]
  },
  {
   "cell_type": "code",
   "execution_count": 68,
   "id": "4f1e675a",
   "metadata": {},
   "outputs": [
    {
     "name": "stderr",
     "output_type": "stream",
     "text": [
      "/var/folders/wx/fdznh_y51_1gnn8tvkcxhsyh0000gn/T/ipykernel_13348/2431458449.py:1: SettingWithCopyWarning: \n",
      "A value is trying to be set on a copy of a slice from a DataFrame\n",
      "\n",
      "See the caveats in the documentation: https://pandas.pydata.org/pandas-docs/stable/user_guide/indexing.html#returning-a-view-versus-a-copy\n",
      "  df['year'][68] = 2003.0\n"
     ]
    }
   ],
   "source": [
    "df['year'][68] = 2003.0"
   ]
  },
  {
   "cell_type": "code",
   "execution_count": 70,
   "id": "0a983658",
   "metadata": {},
   "outputs": [],
   "source": [
    "df.to_json('../raw_data/df_all_clean.json')"
   ]
  },
  {
   "cell_type": "code",
   "execution_count": null,
   "id": "7c92c906",
   "metadata": {},
   "outputs": [],
   "source": []
  }
 ],
 "metadata": {
  "kernelspec": {
   "display_name": "Python 3 (ipykernel)",
   "language": "python",
   "name": "python3"
  },
  "language_info": {
   "codemirror_mode": {
    "name": "ipython",
    "version": 3
   },
   "file_extension": ".py",
   "mimetype": "text/x-python",
   "name": "python",
   "nbconvert_exporter": "python",
   "pygments_lexer": "ipython3",
   "version": "3.8.12"
  },
  "toc": {
   "base_numbering": 1,
   "nav_menu": {},
   "number_sections": true,
   "sideBar": true,
   "skip_h1_title": false,
   "title_cell": "Table of Contents",
   "title_sidebar": "Contents",
   "toc_cell": false,
   "toc_position": {},
   "toc_section_display": true,
   "toc_window_display": false
  }
 },
 "nbformat": 4,
 "nbformat_minor": 5
}

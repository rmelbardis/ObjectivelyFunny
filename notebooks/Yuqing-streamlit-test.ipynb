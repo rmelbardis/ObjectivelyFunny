{
 "cells": [
  {
   "cell_type": "code",
   "execution_count": 5,
   "id": "4fae3965",
   "metadata": {},
   "outputs": [],
   "source": [
    "a = ['Welcome’d put in your bachelorette, and all of a sudden, that’s your new set. You’re gonna move in with one of the older guys.', 'Welcome“Aaah!” When you’re the one with the cadavers, don’t question the existence of them. Just ask them!\\n\\nSo, there you go. I’m on the right track. Give me a cheer if you’re on that. And hey, if you’re on the wrong track, well…\\n\\nFirst down, God, God. That is definitely a cheer.\\n\\nGod, God.', 'Welcome to your album. It’s about a guy who wins a lottery who gave away his music for free. That’s what it should be. That’s what it should be. He gets through it and they’re like, “That was a great deal.” Like, that’s exactly what you want from a show.']"
   ]
  },
  {
   "cell_type": "code",
   "execution_count": 6,
   "id": "7d08fb77",
   "metadata": {},
   "outputs": [],
   "source": [
    "joke1 = a[0]\n",
    "joke2 = a[1]\n",
    "joke3 = a[2]"
   ]
  },
  {
   "cell_type": "code",
   "execution_count": 10,
   "id": "5ff32d35",
   "metadata": {},
   "outputs": [
    {
     "name": "stdout",
     "output_type": "stream",
     "text": [
      "joke1\n",
      "Welcome’d put in your bachelorette, and all of a sudden, that’s your new set. You’re gonna move in with one of the older guys.\n",
      "joke2\n",
      "Welcome“Aaah!” When you’re the one with the cadavers, don’t question the existence of them. Just ask them!\n",
      "\n",
      "So, there you go. I’m on the right track. Give me a cheer if you’re on that. And hey, if you’re on the wrong track, well…\n",
      "\n",
      "First down, God, God. That is definitely a cheer.\n",
      "\n",
      "God, God.\n",
      "joke3\n",
      "Welcome to your album. It’s about a guy who wins a lottery who gave away his music for free. That’s what it should be. That’s what it should be. He gets through it and they’re like, “That was a great deal.” Like, that’s exactly what you want from a show.\n"
     ]
    }
   ],
   "source": [
    "for i, char in enumerate([joke1, joke2, joke3]):\n",
    "    print(f'joke{i+1}')\n",
    "    print(char)"
   ]
  },
  {
   "cell_type": "code",
   "execution_count": 13,
   "id": "eb8ea0d0",
   "metadata": {},
   "outputs": [],
   "source": [
    "def test(option):\n",
    "    print(f'joke{option+1}.txt')"
   ]
  },
  {
   "cell_type": "code",
   "execution_count": 14,
   "id": "929ff1b0",
   "metadata": {},
   "outputs": [
    {
     "name": "stdout",
     "output_type": "stream",
     "text": [
      "joke2.txt\n"
     ]
    }
   ],
   "source": [
    "test(1)"
   ]
  },
  {
   "cell_type": "code",
   "execution_count": 4,
   "id": "961b76cd",
   "metadata": {},
   "outputs": [],
   "source": [
    "import requests"
   ]
  },
  {
   "cell_type": "code",
   "execution_count": 5,
   "id": "8e5c6904",
   "metadata": {},
   "outputs": [
    {
     "name": "stdout",
     "output_type": "stream",
     "text": [
      "200\n"
     ]
    }
   ],
   "source": [
    "API_URL = 'https://obj-fun-2-2g6nxe3ofq-ew.a.run.app/comedian'\n",
    "text_input = 'hello'\n",
    "params = {\n",
    "        'prefix': text_input, # text for joke\n",
    "    }\n",
    "response = requests.get(API_URL, params=params)\n",
    "# a = response.json()\n",
    "print(response.status_code)\n"
   ]
  },
  {
   "cell_type": "code",
   "execution_count": 6,
   "id": "2762468c",
   "metadata": {},
   "outputs": [
    {
     "name": "stdout",
     "output_type": "stream",
     "text": [
      "200\n"
     ]
    }
   ],
   "source": [
    "params = {\n",
    "        'prefix': '', \n",
    "    }\n",
    "response = requests.get(API_URL, params=params)\n",
    "print(response.status_code)\n"
   ]
  },
  {
   "cell_type": "code",
   "execution_count": 7,
   "id": "b0f3d907",
   "metadata": {},
   "outputs": [
    {
     "data": {
      "text/plain": [
       "int"
      ]
     },
     "execution_count": 7,
     "metadata": {},
     "output_type": "execute_result"
    }
   ],
   "source": [
    "type(response.status_code)"
   ]
  },
  {
   "cell_type": "code",
   "execution_count": 10,
   "id": "48a8b46e",
   "metadata": {},
   "outputs": [
    {
     "name": "stdout",
     "output_type": "stream",
     "text": [
      "{'lines': [\"It seems that the Internet is slowly awakening to new forms of art. One of the biggest new forms of art to come out of the world is art that uses pics, and the Internet, to raise expectations. I love these forms of art. They're like hush-hush-hush-hush everywhere. Picasso, Picasso! Picasso! You know, to raise your expectations.\", 'You didn’t seem like you wanted it. The game you were going to try is something that doesn’t quite work. You go up to your friend who’s wearing a bangle that’s got an interesting name. You’re like, “Oh, my God. Someone named I’m from the planet Earth. Somebody’s fun-looking.', \"I promise I haven't been. I'd better promise not to be. I think you're all alone, I promise. I've always had the most interesting conversations, the most interesting relationships. I've had the most interesting conversation around the world and I've never made it this far but I've got plans to start this year and that's a very exciting time for me. I actually think I might be going on holiday.\"]}\n"
     ]
    }
   ],
   "source": [
    "print(response.json())"
   ]
  },
  {
   "cell_type": "code",
   "execution_count": 11,
   "id": "7e163d85",
   "metadata": {},
   "outputs": [],
   "source": [
    "import time\n",
    "from datetime import timedelta"
   ]
  },
  {
   "cell_type": "code",
   "execution_count": 12,
   "id": "d255b65f",
   "metadata": {},
   "outputs": [
    {
     "name": "stdout",
     "output_type": "stream",
     "text": [
      "0:01:09.406426\n"
     ]
    }
   ],
   "source": [
    "start_time = time.monotonic()\n",
    "text_input = 'good'\n",
    "params = {\n",
    "        'prefix': text_input, # text for joke\n",
    "    }\n",
    "response = requests.get(API_URL, params=params)\n",
    "# a = response.json()\n",
    "end_time = time.monotonic()\n",
    "print(timedelta(seconds=end_time - start_time))"
   ]
  },
  {
   "cell_type": "code",
   "execution_count": 13,
   "id": "b07f6ffa",
   "metadata": {},
   "outputs": [
    {
     "data": {
      "text/plain": [
       "datetime.timedelta"
      ]
     },
     "execution_count": 13,
     "metadata": {},
     "output_type": "execute_result"
    }
   ],
   "source": [
    "a = timedelta(seconds=end_time - start_time)\n",
    "type(a)"
   ]
  },
  {
   "cell_type": "code",
   "execution_count": 18,
   "id": "77f64552",
   "metadata": {},
   "outputs": [
    {
     "data": {
      "text/plain": [
       "69"
      ]
     },
     "execution_count": 18,
     "metadata": {},
     "output_type": "execute_result"
    }
   ],
   "source": [
    "a.seconds"
   ]
  },
  {
   "cell_type": "code",
   "execution_count": null,
   "id": "58414988",
   "metadata": {},
   "outputs": [],
   "source": []
  }
 ],
 "metadata": {
  "kernelspec": {
   "display_name": "Python 3 (ipykernel)",
   "language": "python",
   "name": "python3"
  },
  "language_info": {
   "codemirror_mode": {
    "name": "ipython",
    "version": 3
   },
   "file_extension": ".py",
   "mimetype": "text/x-python",
   "name": "python",
   "nbconvert_exporter": "python",
   "pygments_lexer": "ipython3",
   "version": "3.8.12"
  },
  "toc": {
   "base_numbering": 1,
   "nav_menu": {},
   "number_sections": true,
   "sideBar": true,
   "skip_h1_title": false,
   "title_cell": "Table of Contents",
   "title_sidebar": "Contents",
   "toc_cell": false,
   "toc_position": {},
   "toc_section_display": true,
   "toc_window_display": false
  }
 },
 "nbformat": 4,
 "nbformat_minor": 5
}

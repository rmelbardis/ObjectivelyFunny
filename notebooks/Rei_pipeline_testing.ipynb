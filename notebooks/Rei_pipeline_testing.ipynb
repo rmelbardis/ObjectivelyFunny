{
 "cells": [
  {
   "cell_type": "code",
   "execution_count": 1,
   "id": "46fd3d7e",
   "metadata": {},
   "outputs": [],
   "source": [
    "%load_ext autoreload\n",
    "%autoreload 2"
   ]
  },
  {
   "cell_type": "code",
   "execution_count": 2,
   "id": "a7761a03",
   "metadata": {},
   "outputs": [
    {
     "name": "stderr",
     "output_type": "stream",
     "text": [
      "[nltk_data] Downloading package punkt to /home/rei/nltk_data...\n",
      "[nltk_data]   Package punkt is already up-to-date!\n"
     ]
    }
   ],
   "source": [
    "import pandas as pd\n",
    "from ObjectivelyFunny.pipeline import set_pipeline\n",
    "import re"
   ]
  },
  {
   "cell_type": "code",
   "execution_count": 3,
   "id": "aed89b15",
   "metadata": {},
   "outputs": [],
   "source": [
    "df = pd.read_json('../raw_data/fully_stripped_df_bo.json')"
   ]
  },
  {
   "cell_type": "code",
   "execution_count": 4,
   "id": "4f7fa9b9",
   "metadata": {},
   "outputs": [
    {
     "data": {
      "text/html": [
       "<div>\n",
       "<style scoped>\n",
       "    .dataframe tbody tr th:only-of-type {\n",
       "        vertical-align: middle;\n",
       "    }\n",
       "\n",
       "    .dataframe tbody tr th {\n",
       "        vertical-align: top;\n",
       "    }\n",
       "\n",
       "    .dataframe thead th {\n",
       "        text-align: right;\n",
       "    }\n",
       "</style>\n",
       "<table border=\"1\" class=\"dataframe\">\n",
       "  <thead>\n",
       "    <tr style=\"text-align: right;\">\n",
       "      <th></th>\n",
       "      <th>full_transcript</th>\n",
       "      <th>artist</th>\n",
       "      <th>show_name</th>\n",
       "      <th>year</th>\n",
       "      <th>source</th>\n",
       "      <th>artist_birthday</th>\n",
       "      <th>artist_gender</th>\n",
       "      <th>age_then</th>\n",
       "      <th>full_transcript_clean</th>\n",
       "    </tr>\n",
       "  </thead>\n",
       "  <tbody>\n",
       "    <tr>\n",
       "      <th>0</th>\n",
       "      <td>[rock music playing]\\n\\n[indistinct chatter]\\n...</td>\n",
       "      <td>Adam Devine</td>\n",
       "      <td>Best Time Of Our Lives</td>\n",
       "      <td>2019.0</td>\n",
       "      <td>Scraps from the Loft</td>\n",
       "      <td>1983.0</td>\n",
       "      <td>2</td>\n",
       "      <td>36.0</td>\n",
       "      <td>man let right guy much take seat guy get jacke...</td>\n",
       "    </tr>\n",
       "    <tr>\n",
       "      <th>1</th>\n",
       "      <td>strong language. CHEERING Yes, yes, yes! How...</td>\n",
       "      <td>Adam Hess</td>\n",
       "      <td>Live from the BBC</td>\n",
       "      <td>2016.0</td>\n",
       "      <td>BBC</td>\n",
       "      <td>1990.0</td>\n",
       "      <td>2</td>\n",
       "      <td>26.0</td>\n",
       "      <td>yes yes yes well lovely going apologise state ...</td>\n",
       "    </tr>\n",
       "    <tr>\n",
       "      <th>2</th>\n",
       "      <td>Ladies and gentlemen, please welcome your hos...</td>\n",
       "      <td>Adam Hills</td>\n",
       "      <td>Live at the Apollo Series 9 Episode 4</td>\n",
       "      <td>2013.0</td>\n",
       "      <td>BBC</td>\n",
       "      <td>1970.0</td>\n",
       "      <td>2</td>\n",
       "      <td>43.0</td>\n",
       "      <td>please tonight london london live amazing act ...</td>\n",
       "    </tr>\n",
       "    <tr>\n",
       "      <th>3</th>\n",
       "      <td>some strong language and adult humour Ladies...</td>\n",
       "      <td>Adam Hills</td>\n",
       "      <td>Live at the Apollo Series 12 Episode 4</td>\n",
       "      <td>2016.0</td>\n",
       "      <td>BBC</td>\n",
       "      <td>1970.0</td>\n",
       "      <td>2</td>\n",
       "      <td>46.0</td>\n",
       "      <td>please tonight know hair lost bet british para...</td>\n",
       "    </tr>\n",
       "    <tr>\n",
       "      <th>4</th>\n",
       "      <td>? CHEERING Hello, Apollo. I am going to start ...</td>\n",
       "      <td>Adam Hills</td>\n",
       "      <td>Live at the Apollo Series 5 Episode 5</td>\n",
       "      <td>2009.0</td>\n",
       "      <td>BBC</td>\n",
       "      <td>1970.0</td>\n",
       "      <td>2</td>\n",
       "      <td>39.0</td>\n",
       "      <td>going start say something probably never heard...</td>\n",
       "    </tr>\n",
       "  </tbody>\n",
       "</table>\n",
       "</div>"
      ],
      "text/plain": [
       "                                     full_transcript       artist  \\\n",
       "0  [rock music playing]\\n\\n[indistinct chatter]\\n...  Adam Devine   \n",
       "1    strong language. CHEERING Yes, yes, yes! How...    Adam Hess   \n",
       "2   Ladies and gentlemen, please welcome your hos...   Adam Hills   \n",
       "3    some strong language and adult humour Ladies...   Adam Hills   \n",
       "4  ? CHEERING Hello, Apollo. I am going to start ...   Adam Hills   \n",
       "\n",
       "                                show_name    year                source  \\\n",
       "0                  Best Time Of Our Lives  2019.0  Scraps from the Loft   \n",
       "1                       Live from the BBC  2016.0                   BBC   \n",
       "2   Live at the Apollo Series 9 Episode 4  2013.0                   BBC   \n",
       "3  Live at the Apollo Series 12 Episode 4  2016.0                   BBC   \n",
       "4   Live at the Apollo Series 5 Episode 5  2009.0                   BBC   \n",
       "\n",
       "   artist_birthday  artist_gender  age_then  \\\n",
       "0           1983.0              2      36.0   \n",
       "1           1990.0              2      26.0   \n",
       "2           1970.0              2      43.0   \n",
       "3           1970.0              2      46.0   \n",
       "4           1970.0              2      39.0   \n",
       "\n",
       "                               full_transcript_clean  \n",
       "0  man let right guy much take seat guy get jacke...  \n",
       "1  yes yes yes well lovely going apologise state ...  \n",
       "2  please tonight london london live amazing act ...  \n",
       "3  please tonight know hair lost bet british para...  \n",
       "4  going start say something probably never heard...  "
      ]
     },
     "execution_count": 4,
     "metadata": {},
     "output_type": "execute_result"
    }
   ],
   "source": [
    "df.head()"
   ]
  },
  {
   "cell_type": "code",
   "execution_count": 13,
   "id": "705d3c01",
   "metadata": {},
   "outputs": [
    {
     "data": {
      "text/plain": [
       "'[man] Okay, ready, and… Take your own cue, Adam. And action, Dan! [piano plays]\\n\\n♪ the perfect day ♪\\n♪ You had the sweetest smile ♪\\n♪ You were only way ♪\\n♪ Yeah, were doing style ♪\\n♪ were walkin’ and talkin’ And jammin’ and jawin’ ♪\\n♪ you and against the world ♪\\n♪ Then you get hit electric car ♪\\n♪ ‘Cause you didn’t hear comin’ ♪\\n\\n[laughter] [cheering]\\n\\nFuck those cars. You should… [cheers and applause] have one. have electric car. But least have the decency when I’m driving, put head out the window and go, “Here come the Sandman.” [laughter] “Sandman coming. Watch out.” How about those Tesla’s now driving themselves? Those Teslas, that’s pretty cool. They can drive themselves. Holy shit, man. get accident with Tesla and nobody there, and didn’t know who exchange the information with… and started screaming, “Hey, you fucker. What the fuck?” And the Tesla’s, you know, fucking windshield wiper are flappin’ about. And like, “What the fuck doe that mean? You did it.” And fucking light are going and off. Like it’s saying, “Okay. All right.” And, uh… Then court and I’m like, “I’m going fucking destroy this thing.” And then the Tesla show neck brace, and say, “Oh, give fucking break. What liar. He’s fucking liar.”\\n\\n[piano plays]\\n♪ Oh, Grandma’s roommate ♪\\n♪ Why you talk much? ♪\\n[laughter]\\n♪ Don’t you know came the nursing home ♪\\n♪ see grandma ♪\\n[laughter]\\n♪ just say hello ♪\\n♪ polite ♪\\n[laughter]\\n♪ Now you’re telling That grandma rude ♪\\n♪ ‘Cause she didn’t share ♪\\n♪ Her unsugared candy ♪\\n[laughter]\\n♪ Well, guess that call For death pillow over your face ♪\\n[laughter]\\n\\nYou ever over somebody’s house and, uh… you ring the doorbell and the guy answers, and says, “Hey, take your shoe off”? And then you go, “Oh, God. Okay.” And then goes, “Hey, take your sock off.” And you’re like, “Take sock off?” And then goes, “Roll your pants.” You’re like, “Roll pant up?” put some grape down, and goes, “Start stomping the grapes.” You’re like, “What the fuck are doing?” He’s like, “Making the wine!” “You make the wine.” [laughter]\\n\\n[guitar strums]\\n♪ Oh, ♪\\n♪ Oh, ♪\\n♪ Oh, no, no, no, no, ♪\\n♪ Oh, ♪\\n♪ God ♪\\n♪ mother’s friend son Who just moved Hollywood ♪\\n♪ And she asked help him ♪\\n[laughter and applause]\\n\\nMy wife’s always putting lotion face. Don’t you put lot lotion your face out here LA? wife fucking really lather the lotion. She always say she’s looking out for me. She just put lot lotion. Like, there’s too much. Doesn’t rub either. She just put forehead, cheeks, nose… Then found out, before me, wife used date lemon meringue pie. And like… [laughter] She still like him.\\xa0She still like him. know she does. [piano plays] don’t give shit. [laughter]\\n\\n♪ Daddy shaved his beard today ♪\\n♪ Mustache and sideburn go away ♪\\n♪ Daddy’s lip are really small ♪\\n♪ Doesn’t have chin all ♪\\n♪ Daddy made big mistake ♪\\n[laughter]\\n\\nMy father used shave… dad had beard, and then, literally, every ten year would shave his beard. Like, didn’t ask us, just fucking came out nowhere, shaved. was… Any time father shaved his beard, the only time you saw him look vulnerable. When first came out the bathroom, like… [laughter] like, “Dad dimples?” didn’t know Dad had dimples.” [laughter] [imitates father] “It’ll grow back.” Why’d you it? don’t know. [laughter] was… itchy.” “It’s been itchy for ten fucking years?” [laughter] go friend’s house and had heated toilet seat. sat his heated toilet seat. I’ve get say made you relax. go lot better than usually go. came out and say, like that heated toilet seat. Where’d you get that?” goes, don’t have heated toilet seat.” [laughter] You ever walking down the street and you say baby? And, uh… And the baby goes… [imitates baby speaking gibberish] And you’re going, “Yeah, that’s great.” And then… And the mother goes, “He can say ‘hi’ back.” And you go, “Oh, yeah?” And the kid goes… [speaks\\xa0gibberish] You go, “There is.” Then mother goes, “No, really can say it.” And the kid goes…\\xa0[speaks gibberish] And you go, “Hey, that great.” The mother goes, “No, really can say it.” And the kid goes…\\xa0[speaks gibberish] And you go, “There is. That it, right?” And the mother’s like, “No! Say it. Say hi.” And the kid’s like… [speaks gibberish] And… And then the mother’s like, “What the fuck? Say it! You say earlier!” And the kid’s like… [speaks gibberish] And you’re like, “Hey, that full sentence. That’s better than ‘Hi’.” And the mother’s like, “What the…? I’m mad you, baby!” [laughter] And then she like hand you the baby and like, “I’ve get walk this off. This very discouraging for me. say earlier!” And you’re holding the baby, like… “Say it. ahead and say it. Say, ‘Hi’. Come on, you really upset your mother.” And the kid’s looking you… And you’re like, “Come on, get out.” It’s gonna make her feel better. And the kid’s like… [speaks gibberish] And you’re like, “You can it. Come on.” And the kid’s like… [speaking gibberish softly] [whispers] “Help me. [laughter] She… She… She won’t let get vaccinated.” [laughter] Come on, there’s proof that that’s good bad yet. [speaks gibberish] [raspy voice] “I’ve been getting sick lot.” [laughter]\\n\\n[piano plays] hand are shaking ♪\\n♪ heart’s beating fast ♪\\n♪ I’m sweating through cheap suit ♪\\n♪ How much longer can last? ♪\\n♪ I’m alcoholic lawyer ♪\\n♪ Facing the trial life ♪\\n♪ And need sober quickly ♪\\n♪ want make thing right ♪\\n♪ Put the bottle down, son [cheering]\\n♪ There’s innocent man who need you ♪\\n♪ Put the bottle down, son [cheering]\\n♪ There’s nothing left fear ♪\\n\\nWait, what day it? [laughter] Shit. The trial last week. And get the chair? [laughter]\\n\\n♪ Well, let’s have few whiskey sour his memory ♪\\n\\n[cheers and applause]\\n\\nMy wife and fool around pretty hardcore. pretty good. It’s fun. You know, it’s nice. love each other, and fucking pretty hard and… [laughter] get crazy. get pretty fucking nut there because it’s only and her, nobody else. So, we’re like, “Let’s fucking… Let’s all,” you know? do, uh… have safe word. It’s, “Really?” [laughter] whole life, always wanted able flip. Wouldn’t that great? always growing up, going, “Man, I’ve get get flip going. Everybody will love could just flip.” Everybody would like, “Whoa, did you see the Sandman? popped out flip.” just wanted fucking Marshalls something, buying some cheap clothes and going, “Hey, watch this.” Pop flip and have the fucking lady the cash register go, “Did you fucking see that kid with the flip?” I’d like. “Hey, all the time.” But never get that one down, man. wish did. Always like… didn’t know how fucking practice. That the problem. didn’t know how first try. would always get right about here, and then go, “Ah, don’t know. I’m gonna get hurt.” And when get older, wanted learn how speak fluent Italian too. And did that. mastered that. So, I’m Italy, and meet the Pope himself, and fluent Italian, say him, “Hey, love what you’ve done for the Church. love what you you’re doing for the world. America says, ‘Hello.’ Um… getting into heaven?” And Italian says, “Can you flip?” And like, “Madonne!” [laughter] Shit. Did you ever have friend who rescue too many animal and, like, never can anything? “Hey, you want out couple days?” “Ah, no, chicken’s eye fell out and I’ve get paste back on.” “Oh, okay. That shouldn’t take that long.” “Well, one the ducks, she isn’t quacking, so… [laughter] I’ve get look… [laughs] I’ve get look into that.” Okay. [laughs] Dling! the way, never met this man. [laughter] Uh, this one kind Bee Gee-esque tune. Kind You like the Bee Gees out there? always liked the Bee Gees. [cheering]\\n\\n♪ Slow ♪\\n♪ Slow ♪\\n♪ Slow ♪\\n♪ Slow ♪\\n♪ Slow ♪\\n♪ Mr. Slow ♪\\n♪ Mr. Slow ♪\\n♪ Slow ♪\\n♪ Slow ♪\\n[vocalizing] Mr. Slow ♪\\n♪ Mr. Slow ♪\\n♪ Slow, slow ♪\\n♪ Mr. Slow ♪\\n♪ Mr. Slow ♪\\n♪ Slow, slow ♪\\n♪ Mr. Slow ♪\\n♪ Mr. Slow ♪\\n♪ Mr. Slow ♪\\n♪ I’m the slow motion man ♪\\n♪ the crosswalk [laughter]\\n♪ Walking just slow can [laughter]\\n♪ Holding the traffic ♪\\n♪ walk across the street [laughter]\\n♪ Hardly even seems ♪\\n♪ Like I’m picking foot ♪\\n♪ I’m the slow motion man the crosswalk [laughter]\\n♪ California law will protect [laughter] [applause]\\n♪ Then earthquake hit ♪\\n♪ And fall deep crack ♪\\n♪ And everybody cheer ’cause I’m dead [laughter]\\n♪ Slow, slow ♪\\n♪ Dying slow [laughter]\\n\\n[cheers and applause]\\n\\nThank you.\\n\\n♪ Come on, right ♪\\n♪ That’s right, feel that shit ♪\\n♪ Unh, right ♪\\n♪ Come on, Daddy ♪\\n♪ Join this motherfucker Would you? ♪\\n♪ Yeah, yeah-yeah, yeah ♪\\n♪ So, let’s ♪\\n♪ Uber driver smell bad ♪\\n♪ Uber driver smell bad ♪\\n♪ Got smelly Uber driver ♪\\n♪ Uber driver smell bad ♪\\n♪ Yeah ♪\\n♪ smelly Uber driver ♪\\n♪ Yeah, that’s right ♪\\n♪ Got smelly Uber driver ♪\\n♪ Uber driver smell bad ♪\\n♪ Got smelly Uber driver ♪\\n♪ get free water you want drink drink ♪\\n♪ You know, what else get ♪\\n♪ get stink stink ♪\\n♪ Uber driver smell bad ♪\\n♪ God damn, what the fuck? ♪\\n♪ Got smelly Uber driver ♪\\n♪ Yeah ♪\\n♪ Uber driver smell bad ♪\\n♪ Right when get inside ♪\\n♪ like, “Uh-oh” ♪\\n♪ This Honda Civic smell ♪\\n♪ Just like butthole ♪\\n♪ Uber driver smell bad ♪\\n♪ What the fuck? Now, come ♪\\n♪ Got smelly Uber driver ♪\\n♪ Locked window ♪\\n♪ Uber driver smell bad ♪\\n♪ rock the Google Maps ♪\\n♪ rock the window tint ♪\\n♪ One thing doesn’t rock that deodorant ♪\\n♪ God damn, Speed Stick that shit ♪\\n♪ Uber driver smell bad ♪\\n♪ What the fuck? Come ♪\\n♪ Got smelly Uber driver ♪\\n♪ Uber driver smell bad ♪\\n♪ need the iPhone charged ♪\\n♪ the cord back ♪\\n♪ And when you take bath ♪\\n♪ Scrub the nutsack ♪\\n♪ Scrub your nutsack ♪\\n♪ What the fuck? ♪\\n♪ Scrub your nutsack ♪\\n♪ Common courtesy ♪\\n♪ This shit get germ ♪\\n♪ can’t believe the smell ♪\\n♪ these Uber car ♪\\n♪ Oh, wait, shit pant ♪\\n♪ I’ll give him five star ♪\\n♪ Give him five star ♪\\n♪ Damn ♪\\n♪ Give him five star ♪\\n♪ Turns out the smell ♪\\n♪ Better give him five star ♪\\n♪ Word up, motherfucker, yeah ♪\\n\\n[cheers and applause]\\n\\n[clears throat] Oh, yes.\\n\\n[piano plays] Oh, cotton candy making randy ♪\\n♪ Multicolored lolli… ♪\\n\\n[music skips]\\n\\nWhat the hell happened?\\n\\nI fucked up.\\n\\n[piano plays] No! You don’t just start over! You apologize me! You don’t just that the Sandman! [laughter] Okay. Let’s start again. We’ll cut around it. Not yet! [laughter] Hit it!\\n\\n[piano plays]\\n\\nHoo! Yes, yes, yes.\\n\\n♪ Oh, cotton candy making randy ♪\\n♪ Multicolor lollipop Gobstopper never stop ♪\\n♪ Red attire… ♪\\n\\nI fucked up. All right, sorry. Fuck that shit! The Sandman don’t fuck up. [laughter]\\n\\nOoh, from the top.\\n\\n[laughs]\\n\\n[piano plays] Oh, cotton candy making randy ♪\\n♪ Multicolor lollipop Gobstopper never stop ♪\\n♪ Reese’s Pieces, Charleston Chew Butterfinger, Snickers too ♪\\n♪ Red Atomic Fireball ♪\\n♪ want eat them all ♪\\n♪ Give green Jolly Rancher ♪\\n\\nLet hear you. [cheering]\\n\\nLet’s go. [sings indistinctly]\\n♪ Laffy Taffy, Lemonhead ♪\\n♪ Cadbury Eggs will hatch ♪\\n♪ Kids from the Sourpatch ♪\\n♪ Milk Duds and Swedish Fish ♪\\n♪ Gummy bear and licorice ♪\\n♪ you get Kit Kat would like taste that ♪\\n♪ The doctor say get diabetes [laughter]\\n\\nThank you. Yeah, okay, did that again. think that better than the first time. you? Yes, yes. Absolutely.\\n\\n[piano plays]\\n\\nOkay, here come song. More dancing. [cheering]\\n\\n♪ Yeah, let’s hear you, Ohio ♪\\n♪ Ohio ♪\\n\\nYes, sir. Here go, here go, here go. Should clap along? [audience clap along]\\n\\nAll right, let’s lose that. hate it.\\n\\n[laughter] Sorry. [laughs] You were right it. It’s thing mine, man. don’t fucking like that shit. startling me.\\n\\n♪ Well, all know guy Who shave his chest ♪\\n♪ all know guy Who wear leather vest ♪\\n♪ all know guy Who know lot about coffee [laughter]\\n♪ all know stud Who would fight anyone ♪\\n♪ all know fool Who wear his hair bun ♪\\n♪ all know guy ♪\\n♪ Who say fucked his babysitter When [laughter]\\n♪ Yeah, all know guy Who wear too much cologne ♪\\n♪ all know guy Who’s better when he’s stoned ♪\\n♪ all know guy who hug your wife Five second too long [audience laughs, clapping along]\\n♪ Well, all know guy Who’s starting band ♪\\n♪ all know guy who’s missing hand ♪\\n♪ all know guy who doesn’t work ♪\\n♪ But still twice year Ibiza [laughter]\\n♪ all know guy Who say almost go pro ♪\\n♪ all know guy with red afro ♪\\n♪ all know guy who’s dick color Doesn’t match his body [laughter]\\n♪ all know guy Whose hair always look wet ♪\\n♪ all know guy with pig pet ♪\\n♪ all know guy who know guy Who say know Guy Fieri [laughter]\\n♪ And all know guy With weird allergy ♪\\n♪ all know guy Who sneeze three ♪\\n♪ how come don’t know ♪\\n♪ Who real father is? [laughter]\\n\\nNo! Thank you.\\xa0Thank you. [cheers and applause] I’m triple threat though. You didn’t know could dance that fucking good. Took many lesson growing up, man. [laughter and cheering] The hula… The hula hoop. Hula hoop, the way, very horny looking. When I’m fucking kids’ birthday party and some kid give hula hoop and I’m doing it, feel fucking gross. I’m going… [laughter] You see other parent like, “What the fuck?” [laughter] you ever play miniature golf with your daughter and you’re tied the 18th hole? [laughter] And the middle her backswing, you just say, “Hey, tea-bagged your mother this morning.” [laughter] And then… And then the kid sink the putt and goes, “Yeah, know, saw.” [laughter] And you’re like, “This kid stay concentrated.” She’s fucking good. She’s get focus. She could somebody. [piano plays] Are there married folk out there tonight? Married folks.\\n\\n[cheering]\\n\\nI love it. Okay, this for you guys.\\n\\n♪ You tell I’m wrong ♪\\n♪ But know I’m right ♪\\n♪ You say, “No fucking way” ♪\\n♪ But insist that I’m right ♪\\n♪ pull out phone ♪\\n♪ And look [laughter]\\n♪ right away see wrong ♪\\n♪ But pretend can’t find the answer [laughter]\\n♪ fake like I’m still looking ♪\\n♪ And you say, “So who’s right?” ♪\\n♪ say, “My phone sucks” ♪\\n♪ And blame AT&T reception [laughter]\\n♪ Then you start look ♪\\n♪ just grab your phone And drop into glass iced tea ♪\\n\\n[cheers and applause]\\n\\nThank you. Marriage good, guys. Marriage good. You’ll like one day you’re not married. You just get keep mysterious. You get keep the mystery alive. Like, wife idea where for week time. It’s fucking… It’s big mystery. [man] You tell her where you are tonight? Yeah, she know I’m here. kid don’t. just say going downstairs get apple. [laughter] [laughs] always get these email from the kids’ school that I’ve get come in. “It’s Terrific Tuesday… Make sure you come in.” And you’re like, Terrific… What the fuck Terrific Tuesday? Well, you come the school and you tell the kid how terrific they are. And I’m like, “Okay, Thirsty Thursday.” It’s Thirsty Thursday. Come by. You know, you help the kid fill their water bottles. I’m like, father literally came school one fucking time whole school career. opened the door the middle fucking test, and hear, “Where’d you put the rake? [laughter] I’m like, “What?” “You put the nail?” think did.” “You think? “It’s not there.” [laughter] “Okay.” “It’s not okay.” “I’ll get for you after school.” “No, you’ll get now!” [laughter] –\\n\\n[piano plays] Okay, here go.\\n\\n♪ One little guy hiding tree ♪\\n♪ Two are together And they’re swimming out sea ♪\\n♪ Three Ferris wheel Four the zoo ♪\\n♪ Five pocket ♪\\n♪ Six shoe ♪\\n♪ Seven mountain top ♪\\n♪ Eight park ♪\\n♪ Nine gondola ♪\\n♪ Ten the dark ♪\\n♪ It’s everywhere you ♪\\n♪ Everywhere you look ♪\\n♪ Everywhere you’ll find anti-Semite ♪\\n\\nThere is! [cheering] [whistling] Joking. He’s not. Leave him alone. Get the fucking light off him. seems like decent man. [laughter] Sorry.\\n\\n♪ gonna read book ♪\\n♪ Read book, read book ♪\\n♪ Gonna better man ♪\\n♪ Better man than ♪\\n♪ Amazon ♪\\n♪ Amazon dot com ♪\\n♪ And buy dozen book ♪\\n♪ Lots books, smart book ♪\\n♪ They will ship them right away ♪\\n♪ Right away, day ♪\\n♪ And have Amazon Prime ♪\\n♪ doesn’t cost dime ♪\\n♪ look new book ♪\\n♪ Take look book ♪\\n♪ Right away tune out ♪\\n♪ Don’t like reading, get distracted ♪\\n♪ turn ♪\\n♪ good, reading bad ♪\\n♪ And watch Property Brothers ♪\\n♪ For fucking hour ♪\\n\\n[cheers and applause]\\n\\nHello. You ever… How about the time you wake up… Ever wake like 4:30 the morning and you’re like, “God damn it. What doing right now?” 4:30, can’t fall asleep… I’m fucking ruined for the day. Ever one those thing where you go, “Let just get out bed,” and live like those people who always go, “Hey, get 4:30 every day. that for me. That’s time. spend the morning alone. That’s time and it’s the best. set the right mood.” You’re like, “Let one those fucking pricks. I’ll get 4:30.” And you get 4:30 and you make yourself breakfast. You’re like, “Wow, this good. making breakfast. never that.” And then you work out. You’re like, “I’m working out this early. Holy shit. That’s out the way. That’s great.” And then you have yourself another breakfast. You’re like, “Okay, I’m running out shit do.” And then you flip the news and you go, “There’s news before the news? Who the fuck are these people? They’re very good. They should the real news.” Then you outside and you see bird eating worm. You’re like, “Is that the fucking early bird? I’ve been hearing about that thing for long time.” There is. Holy shit.” Then bus show up, and your kid get it. You’re like, “That’s how they fucking get school. Nobody fucking told me… What day. This interesting.” And then it’s around o’clock and you’re the middle work meeting and you’re like, “How long this fucking day gonna for? Let sleep!” [laughter] wife’s grandmother turned… she turned 101 year old, which nice, 101 year old. [cheers and applause] That’s good for the family, you know, good have that your genes. daughter’s get that great life. family, fucking die… should dead all I’m saying. make sense that I’m here right now. But 101 year old… go her birthday, gave her 101 punch the shoulder… Just, she kept going, “Ooh.” And saying, “It’s tradition. can’t break tradition, Grandma.” She like, want break tradition.” like, “Well, you can’t. So, just fucking deal with more.” And bam. “Oh!” [laughter]\\n\\n[keyboard plays]\\n♪ Yeah, yeah, yeah, yeah ♪\\n♪ Oh, yeah, yeah, yeah, yeah ♪\\n♪ Grandma died ♪\\n♪ Grandma died ♪\\n♪ Grandma died today ♪\\n♪ How are gonna tell the kids? ♪\\n♪ Grandma died today ♪\\n♪ guess I’ll bingo game and steal ♪\\n♪ Somebody else’s grandma ♪\\n♪ And hope that dumb kid ♪\\n♪ Can’t tell the difference ♪\\n\\n[laughs]\\n\\nWhat’s going on? You getting this camera all set? Don’t get hurt. That’s heavy fucking piece machinery. It’s blocking you good. You okay? You get your beer. That’s big fucking beer, man. [laughter] Way go.\\xa0You get loose. dedicate this song the fucking drunk guy right there. [laughter] [cheers and applause] Here go.\\n\\n[rock music plays]\\nYeah. Shoop! [cheering]\\n[woman] love you!\\n♪ grown man [laughter]\\n♪ Pissing the shower house ♪\\n♪ Yes, grown man ♪\\n♪ Pissing the shower house ♪\\n♪ have respect for family ♪\\n♪ kid will take bath here today ♪\\n♪ know should the toilet ♪\\n♪ But the toilet too far ♪\\n♪ The toilet too far away [cheers and applause]\\n♪ say the toilet too far ♪\\n♪ The toilet too far ♪\\n♪ Once when drunk, ♪\\n♪ Took piss the kitchen sink [laughter]\\n♪ But prefer the shower ♪\\n♪ wife’s loofah starting stink [laughter]\\n♪ When kid school the morning ♪\\n♪ They smell like they’re soaking piss [laughter]\\n♪ Sometimes before shower [man]\\n♪ Sometimes before shower ♪\\n♪ eat some asparagus [laughter]\\n♪ animal ♪\\n♪ destroyer [cheering]\\n♪ They caught pissing neighbor’s pool [laughter]\\n♪ And now have get lawyer ♪\\n♪ worth [cheering]\\n\\nThank you! That fun. Are you ever wiping yourself, uh, back there… You’re wiping pretty good, and then you keep wiping. And then you’ve really… you’ve get keep wiping. And you wipe again, and then you wipe another one. Then you go, “You know what? Just out principal, I’m stopping after this next one. It’s fucking enough already. don’t care I’m done not. This fucking killing me. [laughter] Whatever happens happens. Get the fuck out here. [laughter] did first dick pic, everybody. [cheering] Thank you. dick pick is… that’s weird thing do. There’s reason for it. I’m fucking married. But all friend are doing them, I’m like, “What the fuck, let just… least can part the conversation when they’re talking about their dick pics. can go, “Oh, yes, definitely.” You know? [laughter] So, first dick pick. look back it. There’s ghost the background. there’s ghost the image, and I’m like, live fucking haunted house?” had idea. want show everybody… ’cause… what are the chance catching that? But dick doesn’t look… good want look the image. Plus, you know, the fucking ghost really tall, made dick not look… exact. Plus the fucking ghost holding ruler next dick. like, “What the fuck your problem?” the ghost. like… The ghost like, live here too. like have fun.” [laughter] All right, I’m gonna play guitar little bit for you.\\n\\n[electric guitar plays]\\n[cheering]\\n♪ kid’s only get one line play ♪\\n♪ kid’s only get one line play ♪\\n♪ kid’s only get one line play ♪\\n♪ kid’s only get one line play ♪\\n♪ And yet, the fact ♪\\n♪ still getta practice ♪\\n♪ Every day ♪\\n♪ Oh, no, kid’s only get One line play ♪\\n♪ My-my-my kid’s only get One line play ♪\\n♪ The dumb teacher Gave the big part away ♪\\n♪ Oh, no, kid’s only get One line play ♪\\n♪ It’s the first five minute [laughter]\\n♪ But wife say still getta stay the whole way ♪\\n♪ Fuck kid’s only get one line play ♪\\n♪ soon wife look the other way ♪\\n♪ phone bomb scare And call day ♪\\n♪ Because kid’s only get One line play ♪\\n♪ And she get wrong [laughter]\\n\\n[cheers and applause]\\n\\nYou love your kid more than anything the planet until like 9:30 night. And then you’re like, “Okay… that’s enough. [laughter] loved you all day long. Just give little break. answered all your crazy questions. don’t even know… know nothing. That doe not fucking help when you have answer your kid. I’ve get make every goddamn answer. “Are whale smart, Daddy?” “Well, you know, they’re more street smart than book smart, but…” don’t fucking know anything about whales. daughter play basketball, nine year old. So, and see her play basketball, and she’s sweetheart kid. And every time they put the kid the game, get excited. take video camera out, and fucking video everything she does. And so, couple Sundays ago, I’m videoing daughter and another dad goes, “Hey, can you email that when you’re done?” And go, “Yeah, absolutely, dude. And then I’m videoing kid and then remembered. Actually, when video kid, say lot things, and… It’s always not stuff want other people hear. And I’m always like, “Okay, you get it, you little cutie. You’ve get the ball. You’re good. Look how good you are. You take the ball. Pass kid. Somebody kid. I’ll get break your fucking neck, swear God. Give that fucking ball fucking kid. You all suck out there.” And like, better not email that that man there. just emailed him the ghost/dick pic thing. The guy like, “What the fuck’s with the ruler?” go, “Yeah, the ghost asshole. Fuck that guy.” “I’m with you.” little sweet daughter… the sixth grader, she come back from school and she’s like, “All the boy keep saying, ‘That’s what she say…’ and then they all laugh.”\\n“Why Daddy?”\\nAnd like, “Oh, boy.” “Yeah, seems like anything say, they say, ‘That’s what she say.’ They look each other, and they just laugh and laugh. And I’m confused. Help Dad-da.” And so, I’m like, “Okay, how explain this her?” And I’m trying just figure out, you know, the right way it, clean way, cursing. And I’m just going, “Uh… uh… uh… uh, well, it’s a…” And then kid goes, “That’s okay, Daddy. You tried your best.” [laughter] And like, “That’s what she say.” [laughter] All right, let’s this. [piano plays] That’s not true. None that… None this fucking story… All this lie. All right. [laughter] [laughs]\\n\\n♪ I’ll take the large, please ♪\\n♪ Can’t believe eye ♪\\n♪ Sprinkles and fudge And smelly surprise ♪\\n♪ Oh, ice cream lady ♪\\n♪ Thank you for letting Eat your pussy [laughter] [laughs]\\n\\nCome on.\\n[cheering]\\n\\nYou know you would fucking that ice cream place all the time.\\n\\n[Sandler] Oh, Sandman. That’s too much.\\n\\n[piano plays]\\n\\nOkay. Just getting ready.\\n\\n♪ The pilot had heart attack ♪\\n♪ The co-pilot can’t found ♪\\n♪ The people the aisle are screaming ♪\\n♪ They know the plane’s going down ♪\\n♪ need hero, someone save ♪\\n♪ need hero land the plane ♪\\n♪ need hero who’s going ♪\\n♪ need hero save the day ♪\\n♪ jump foot and volunteer ♪\\n♪ The people the plane All start cheer ♪\\n♪ get high-five from baby ♪\\n♪ And hickey from flight attendant ♪\\n♪ the cockpit Put the headset ♪\\n♪ And grab the main control ♪\\n♪ Then right away crash the plane ♪\\n♪ Because don’t know what I’m doing [laughter]\\n\\nThank you, thank you, thank you. [applause]\\n\\nYeah. Thank you.\\n\\n[piano plays]\\n♪ We’re runaway train ♪\\n♪ The conductor had meltdown ♪\\n♪ The people the dining car ♪\\n♪ Are screaming really, really loud ♪\\n♪ need hero, someone save ♪\\n♪ Yeah, need hero bring through the danger ♪\\n♪ need hero, somebody competent ♪\\n♪ need hero save the day, yeah ♪\\n♪ put the engineer’s hat the top head ♪\\n♪ The people fucking crazy ♪\\n♪ guy says, “You’re the man, man” ♪\\n♪ And deaf woman sign “Go get ’em” ♪\\n♪ Then the cab And toot the whistle ♪\\n♪ That’s something always wanted ♪\\n♪ Then right away fly off the bridge ♪\\n♪ Because don’t know what I’m doing [laughter]\\n\\nThank you. Thank you. [applause] Thank you. Ahh.\\n\\n♪ We’re nice family restaurant ♪\\n♪ Somebody’s grandma’s choking lamb chop ♪\\n♪ There’s panic the air Nana’s face turn blue ♪\\n♪ The busboy scream Spanish “What the fuck do?” ♪\\n♪ need hero who’s gonna ♪\\n♪ need hero clean out her windpipe ♪\\n♪ need hero Who’s down with Heimlich ♪\\n♪ need hero save the day, yeah ♪\\n♪ slap napkin down the table ♪\\n♪ And get fucking standing ovation ♪\\n♪ Another guy get And say he’s doctor ♪\\n♪ say, “Sit the fuck down get this shit” ♪\\n♪ Then wrap arm Around Grandma’s chest ♪\\n♪ And look her grandkids Deep the eye ♪\\n♪ Then right away… [laughs]\\n♪ Then right away break all her rib ♪\\n♪ Because don’t know what I’m doing ♪\\nGrandma! [cheers and applause]\\n\\nWhat the fuck that? After every joke… [plays guitar] This one that don’t play that much But, uh… but figured it’s fucking Jersey. think you guy might enjoy this. here go. [cheers and applause]\\n\\n♪ Thirteenth birthday ♪\\n♪ People come from far away ♪\\n♪ Aunts and uncle show ♪\\n♪ brush fro ♪\\n♪ Feeling skittish ♪\\n♪ People speaking Yiddish ♪\\n♪ Buy freaky suit and tie ♪\\n♪ Tailor’s hanging thigh ♪\\n♪ Practice for the whole year ♪\\n♪ Paralyzed with fear ♪\\n♪ Hebrew flash card wall ♪\\n♪ Voice changing, dropped ball ♪\\n♪ Dad’s mad the cost ♪\\n♪ Too bad Mom’s the bos ♪\\n♪ Grandmas are full joy ♪\\n♪ For the Bar Mitzvah boy ♪\\n[man] Bar Mitzvah boy ♪\\n♪ Bar Mitzvah boy ♪\\n[man] Bar Mitzvah boy ♪\\n♪ Bar Mitzvah boy ♪\\n[man] Bar Mitzvah boy ♪\\n♪ Bar Mitzvah boy ♪\\n[man] Bar Mitzvah boy ♪\\n♪ Okay, the podium ♪\\n♪ I’m staring out everyone ♪\\n♪ Can’t remember how ♪\\n♪ Whistle from rabbi’s nose ♪\\n♪ Oh, man, this ♪\\n♪ Make some crazy shit ♪\\n♪ Baruch atah, cha-cha-cha ♪\\n♪ Everybody says, “Good job” ♪\\n♪ Now I’m done, sweet relief ♪\\n♪ Lipstick Mama’s teeth ♪\\n♪ Catholic friend all ask this ♪\\n♪ “What the fuck knish?” ♪\\n♪ Kids are all coming ♪\\n♪ Checks and bond and fountain pen ♪\\n♪ Make bank deposit ♪\\n♪ Make out the closet ♪\\n♪ He’s the Bar Mitzvah boy ♪\\n[man] Bar Mitzvah boy ♪\\n♪ Bar Mitzvah boy ♪\\n[man] Bar Mitzvah boy ♪\\n♪ Bar Mitzvah boy ♪\\n♪ Bar Mitzvah boy ♪\\n♪ Bar Mitzvah boy ♪\\n[man] Bar Mitzvah boy ♪\\n♪ The rabbi doe the Electric Slide ♪\\n♪ Grandma’s six foot wide ♪\\n♪ Party music never stop ♪\\n♪ All friend drinking schnapps ♪\\n♪ Boys are short, girl are tall ♪\\n♪ Pass the alcohol ♪\\n♪ Chug much can ♪\\n♪ Vomit the klezmer band ♪\\n♪ Mom and Dad yell ♪\\n♪ This strain family ♪\\n♪ But I’m man, don’t care ♪\\n♪ Got first mustache hair ♪\\n♪ I’m the Bar Mitzvah boy ♪\\n[man] Bar Mitzvah boy ♪\\n♪ Bar Mitzvah boy ♪\\n[man] Bar Mitzvah boy ♪\\n♪ Bar Mitzvah boy ♪\\n[man] Bar Mitzvah boy ♪\\n♪ Bar Mitzvah boy ♪\\n[man] Bar Mitzvah boy ♪\\n♪ And it’s the best day life ♪\\n♪ Until three year later ♪\\n♪ When parent stop Making temple [laughter]\\n\\nVery nice, lady and gentlemen. Thank you. [cheers and applause]\\nSo I’ll tell you little story about Disney World. You want hear true Story?\\nPlease, can… Okay.\\n[cheers and applause] you guy have been Disney World, right?\\n[cheering]\\nThe family have been there. Who doesn’t have kid and still Disney World? [cheering] You fucking stoners. [laughter]\\n\\nI’m you. [laughs] All right, Disney World recently with wife and the two kids. kid wanted this roller coaster. They were very excited. So, wait the line. We’re waiting. You know the line are very long. So, take like hour and minutes. get the front the line, and then the roller coaster, find out, only take three people time. So, there’s four us. And see wife and the two kid just immediately start walking the thing. And like, we’re not even gonna flip coin. Not… Not even thought, right? They’re like, “No, no…” like, “Yeah. All right.” And so, I’m sitting there very angry. I’m stewing. Like, waited fucking hour and minute this fucking shit with you guys, and you fucking bail me.” Then see happens some other dad from Oklahoma, and he’s muttering. He’s like, “Goddamn motherfucker… They’re mean shit. And I’m like, “Yeah, yeah.” And then say the other dad, go, “You want fucking and you together? And he’s like, “What?” go, “Well, I’m not going alone. Let’s fucking this shit. I’ll with you.” And he’s like, “Yeah, whatever the fuck you want.” And so… [laughs] get the roller coaster with the guy and we’re both not talking each other. The roller coaster take off, and you know how they take off fucking fast… that both our neck snap back, and look each other. And he’s like “Ooh, that get me.” like, “Oh, yeah, that fucked up, man.” start laughing little bit. And we’re fucking all sudden loosening up. And we’re fucking doing all the… jetting, banging into these fucking crazy turns. I’m fucking leaning, 100% leaning the guy. He’s looking like, “What the fuck?” like, “Hey, here are.” And we’re laughing our off. And I’m like, “Holy shit, haven’t been this happy least years. know that, but whatever, I’m fucking… jetting around, fucking doing loop-the-loops. He’s fucking bumping first. I’m like, “Yeah, motherfucker.” He’s like, “Yeah, baby.” get the end. The fucking… You know how the break come out nowhere. fucking screech on, both our fucking head snap again. He’s like, “They get again. like, “Fuck yeah, we’ll never learn. [laughter] So, uh, we’re creeping to, you know, getting off the ride, how it’s like little slow exit, and we’re sitting there, and I’m fucking… feel this crazy pain heart, and I’m like, “Did fucking fall love with this guy some shit? What happened? And he’s not looking me. I’m like this guy feel too, ’cause he’s fucking daze. We’re both… And kid are like, “Come on, let’s Peter Pan.” like, “All right, minute.” I’m yelling the kid too loud. “I’ve get say goodbye the man.” And, uh… get off. go, “Hey, nice meet you.” He’s like, “Yeah, nice meet you.” won’t look me, and we’re both all fucked up. back his family, back mine. I’m walking away. head, I’m like, “I’m never gonna see that fucking guy again, and don’t feel good about that. Um… And then And then go… “They take your picture though… those rides. You know, just for memory’s sake. Just, what the fuck, I’m gonna see, maybe they snapped us, maybe they didn’t. But they did… why not? Fuck it, you know. Let’s just see.” And so, we… the, uh… that place where there’s the fucking monitor up. Sure enough, there’s picture and the guy, upside down, the loop-the-loop… staring deep into each other’s eyes. fucking bananas. like, “Okay, felt it. definitely felt too.” So, say the lady behind the counter, “Hey, how much that?” And the lady goes, “Sixty-five dollars.” like, “Oh. Okay.” And then take phone out, and fucking snap shot it. And then feel this energy behind me. look back, and it’s the guy from Oklahoma. He’s holding the picture just bought. And like, wasn’t worth it?” [laughter] So, anyways… that man watching Netflix special right now, think you lot, sir. think you lot. All right, Milwaukee, let’s fucking this shit. Here go.\\n\\n[hip hop music plays] Yeah. Yeah. Yeah ♪\\n♪ Here again ♪\\n♪ Come ♪\\n♪ I’m heading out ♪\\n♪ And all I’m taking with ♪\\n♪ phone, wallet, key ♪\\n♪ Yeah, phone, wallet, key ♪\\n♪ Just those three things, please Need phone, wallet, key ♪\\n♪ Got credit card wallet ♪\\n♪ Got phone, you can call ♪\\n♪ Masterlock front door ♪\\n♪ That’s what motherfucking key Are for ♪\\n♪ phone, wallet, key ♪\\n♪ Yeah, phone, wallet, key ♪\\n♪ Good thing come three Need phone, wallet, key ♪\\n♪ I’m going the zoo need phone, wallet, key ♪\\n♪ I’m getting face tattoo need phone, wallet, key ♪\\n♪ I’m going out wedding it’s winter time and I’m sledding ♪\\n♪ I’m the Daddy-Daughter dance phone, wallet, key are pant ♪\\n♪ I’m going vacation the West Indies ♪\\n♪ And don’t get luggage ♪\\n♪ Just get phone, wallet, key ♪\\n♪ roll the airport ♪\\n♪ Lady asks for passport ♪\\n\\nFuck. Okay.\\n\\n♪ Guess need phone Wallet, passport, key ♪\\n♪ Phone, wallet, passport, key ♪\\n♪ Now need four things, bitch, please Phone, wallet, passport, key ♪\\n♪ I’m finally the plane I’m riding Delta, Delta ♪\\n♪ The lady farted next ♪\\n♪ smelled her, smelled her ♪\\n♪ get 30,000 foot ♪\\n♪ recline fucking seat ♪\\n♪ About watch movie, stop ♪\\n♪ forget laptop ♪\\n♪ Mm, motherfucker ♪\\n♪ Damn ♪\\n♪ Now need laptop Phone, wallet, passport, key ♪\\n♪ Laptop, phone, wallet, passport, key ♪\\n♪ Too much shit, five fucking thing ♪\\n♪ Laptop, phone, wallet, passport, key I’m swinging shit all over the place ♪\\n♪ I’m hurting ya, I’m hurting ♪\\n♪ I’m carrying much shit ♪\\n♪ get hernia, hernia ♪\\n♪ place put it, what can do? Probably should take iPad too ♪\\n♪ What the fuck else did forget? ♪\\n♪ Sandman, you need ton shit ♪\\n♪ Tic Tacs, backpack ♪\\n♪ Zippo lighter, charge pack sunglasses, hairspray ♪\\n♪ headphone ♪\\n♪ They’re Beats Dre ♪\\n♪ notebook, GoPro vape pen, crossbow ♪\\n♪ toothpick, pocket knife ♪\\n♪ Oh, fuck, forget wife ♪\\n[man] Phone, wallet, key ♪\\n♪ God damn ♪\\n♪ Phone, wallet, key ♪\\n♪ used easy ♪\\n♪ With phone, wallet And keys-ee ♪\\n♪ Phone, wallet, keys, yeah Phone, wallet, key ♪\\n♪ used breez-ee ♪\\n♪ With phone, wallet And keys-ee ♪\\n♪ pocket get heavy Now I’m cramping, I’m cramping ♪\\n♪ Each time leave house It’s like I’m camping, I’m camping ♪\\n♪ I’m miserable, just standing around I’m like walking lost and found ♪\\n♪ You know I’d rather stay home ♪\\n♪ Where all need’s fucking phone ♪\\n[man] Phone, phone, phone ♪\\n♪ Yeah ♪\\n♪ Phone, phone, phone ♪\\n♪ Much happier home ♪\\n♪ Just playing with phone ♪\\n♪ Phone, phone, phone ♪\\n♪ Yeah ♪\\n♪ Phone, phone, phone ♪\\n♪ Yeah, I’ll just stay home ♪\\n♪ And fiddle with phone the toilet [laughter]\\n\\n[cheering]\\n\\nI’m gonna first mic drop. Yeah. Yeah. You just get Sandoozled. [laughs] [sings indistinctly] Yeah, yeah. Sweet, sweet, sweet. That good ending.\\n\\nThank you.\\n\\n[cheering]\\n\\n[electronic music plays]\\n\\nWhoa, what the fuck that? What that? Oh, shit, you scared with that one. Give second. Wait, okay. Okay, here go. This one’s fun.\\n\\n♪ He’s very strong lad ♪\\n♪ But hasn’t been laid year ♪\\n♪ Because the strong and handsome lad ♪\\n♪ Has terrible case UFC ear ♪\\n♪ UFC ears, UFC ear ♪\\n♪ Cauliflower wrestling, UFC ear ♪\\n♪ UFC ears, UFC ear ♪\\n♪ Swollen and disfigured UFC ear ♪\\n♪ can beat you the Octagon [laughter]\\n♪ Afterwards drink beer ♪\\n♪ But that doesn’t change The horrible fact ♪\\n♪ also case UFC ear ♪\\n♪ UFC ears, UFC ear ♪\\n♪ Tiny little hole his UFC ear ♪\\n♪ UFC ears, UFC ear ♪\\n♪ Can’t stop looking those UFC ear ♪\\n♪ Heavyweight boxer get the broken nose ♪\\n♪ Ballet dancer Have those fucked toe ♪\\n♪ MLB pitcher all have crazy beard ♪\\n♪ But can’t believe these guy Can fucking hear ♪\\n♪ With those UFC ear ♪\\n♪ UFC ear ♪\\n♪ Puffy and disturbing UFC ear ♪\\n♪ UFC ears, that’s right, UFC ear ♪\\n♪ Cries himself sleep He’s get UFC ear ♪\\n♪ Now, after the show tonight ♪\\n♪ I’ll shaking With cheek wet with tear ♪\\n♪ Because he’s going find And beat fucking head ♪\\n♪ Screaming, “Welcome the club UFC ears” [cheers and applause]\\n♪ Ears ♪\\n♪ Ears ♪\\n♪ Ears ♪\\n♪ Ears ♪\\n\\nYeah. my. That’s some smokey shit. This not from us. There fucking fire. Let’s get the fuck out here. Quick. No, I’m just joking. Don’t… don’t bail me. that going into your mouth? [laughter] That’s… Yeah, that’s… [laughs] That’s what she say. Yes. Very good. [laughter] That fun. Really good. liked that. Yes, those UFC guys, they are built pretty fucking good. can’t stand… That’s the only reason don’t watch. get angry how fucking chiselled these fucking guy are. the gym, course, but just pick wife up. I’m always like, “Hey, how that? How’d there?” She’s like, “You’ve get come in.” I’m like, “Yeah, definitely.” get old enough now that don’t take shirt off anymore. I’m 51, year old. [cheers and applause] So, don’t take shirt off anymore when swimming at, like, hotel pool with kids. keep fucking shirt on. I’m swimming, and everyone’s pointing and stuff, and like this lifeguard yelling me. “You can’t that.” I’m like, “What the fuck is… I’m humiliated, buddy. just don’t want take fucking shirt off.” He’s like, “No, you’ve get wear bathing suit, your dick out.” I’m like, “Oh, okay. Oh, this is, uh… one the fancy Howard Johnson’s. get you. Fuck. Sorry, man.” The guy over know what I’m talking about. The testicle get bigger and bigger you get older. They hang lower and whatever the fuck happens… You know, you’ve seen the YMCA your whole life, the older men with the giant balls, and you’re always wondering why they’re free and happy, fucking… Those are like the 85-year-old guys. They don’t give fuck. They just swing it… and whatever. They don’t even think throwing towel on. They’re just like, “This it. only get few year left. want… You should remember how am, with these giant…” ball are not that big, but they still don’t make sense body. dick literally look like it’s sitting bean bag chair. Yeah, it’s comfortable. dick never… never want leave the balls. It’s always just resting. nice, like, love you guys. You’re best friends.” [laughter] The new giant ball get into trouble with wife now, because we’re both not used them. I’m behind her doing thing, what you when you’re behind your wife. And I’ll hear, “Hey, hey, spanking.” I’m like, “That wasn’t me. That was… That those guys, babe.” And she’s like, “Oh… Oh, you get again.” [piano plays] Okay, this for the people who either live together have been married for awhile. Okay? This for you.\\n\\n♪ You’re giving strange look the mirror ♪\\n♪ brush teeth [laughter]\\n♪ don’t know What could have done wrong ♪\\n♪ ‘Cause literally just woke [laughter]\\n♪ Maybe you had dream That cheated you [laughter]\\n♪ you remember something mean say Like two fucking year ago [laughter]\\n♪ All know that all day long It’s gonna weird [laughter]\\n♪ Eggshells ♪\\n♪ Why the hell she walking past Without talking? ♪\\n♪ Eggshells ♪\\n♪ told her her hair looked good ♪\\n♪ And that somehow made thing worse [man]\\n♪ Eggshells ♪\\n♪ When she pick the phone She nice voice ♪\\n♪ But when she hang It’s back fucking monotone [laughter]\\n♪ Eggshells ♪\\n♪ see you’re reading book the kitchen ♪\\n♪ But she hasn’t turned page fucking minute [laughter]\\n♪ Eggshells ♪\\n♪ Then realize say yesterday ♪\\n♪ I’d start going walk with her ♪\\n♪ But didn’t say With enough enthusiasm ♪\\n\\n[laughter and applause]\\n\\nThank you.\\n\\n[man] Yo, Sandman, what’s your favorite vegetable? Ah-ha, get it.\\n\\n[rock music plays] Oh, shit. Yeah.\\n\\n♪ Unh, unh, unh, unh ♪\\n\\nGet up! Oh, everybody the fucking arena fucking mental! [cheering]\\n\\n♪ Oh, yeah Feels good ♪\\n♪ Kiss your body ♪\\n♪ Come on, let’s get naughty ♪\\n♪ Now we’re the groove ♪\\n♪ Rocking hard Her belly’s starting move, yeah ♪\\n♪ I’m gonna show you how ♪\\n♪ Nothing the world’s Gonna stop now ♪\\n♪ let’s both ignore That crazy pussy fart [laughter] [laughs]\\n\\nThank you. The vagina fart been around long time, girls. problem. It’s fun. The vagina fart, girls, getta say still get you every time. Everybody. Every fellow here enjoys them much. Just keep them coming, girls. just provides entertainment the bedroom. Guys not say nothing about it. Guys will fucking ignore every time. Just because, you know, you comment it, it’s fucking over. You’re getting and leaving and that’s it. you’re like, “Okay, whatever the fuck that was, let’s keep… Let’s keep going forward.” have been face-to-face with the vagina fart. I’ve been tagged pretty hard wife right there. don’t say shit. You know, might like, “Uh.” might give her one those. Hey, now. But always get right back there and finish off when started. You know, wife hit with like four five them row, might say, think you’ve get some fucking jumping jack some shit. You know, get Q-Tip, fucking pop that… You get… Something’s wrong. Something’s going with you. But when you come back, I’ll fucking finish you good. promise you. reversed… let just say… the girl would not sweet us. there dick fart, there such There’s dick fart, but there dick fart… And would nothing. It’s such little hole. The sound would nothing. Your vagina literally are like acoustically fucking made blast out boomer. And… And we’re just like, “All right, let’s play off like didn’t happen.” With dick fart, you’d like… the most, would sound like… [soft whistling] And you’d like, “Whoa, what the fuck that?” [laughter] [soft whistling] “I’m nervous. don’t know. You don’t think that’s cute? sound like little Disney character. [laughter] Cinderelly.” “I’m leaving!” We’d have play off like didn’t happen. Like, “No, think the tea’s ready. [soft whistling] [laughter] [laughs]\\n\\nMy wife, one time, hit the face with combo platter. She hit with the vagina the mouth… high. the very same time, hit the neck with the other… the, uh… She came high and down low the very same time. fucking don’t know what happened. One time years. Just fucking bam, the face, one the neck. Fucking hit hard, like the perfect storm. don’t know what she eating that day, but whatever the fuck was, she get good. I’ve get say, literally felt like somebody opened the door fucking airplane. like, “Whoa!” [laughter] There debris the air and fucking… Other passenger were floating through fucking room. [laughter] Oxygen mask dropped down. You know, was… But fucking took like… did wish someone else saw it. That fucking incredible. And then hear the ghost go, saw that shit. Oh, God. fucking blew the ruler out hand.” [laughter] tell wife recently would love try anal. And say wife, “Hey, would love try anal.” And she goes, “Oh, wouldn’t.” And then say, “Oh.” [laughter] say, “But would.” And she goes, “Yeah, know. heard.” [laughter] And then say, “Okay, let’s…” really think should. She goes, “I’m just not into that.” And then say, “You know, what? love you. I’m gonna with you for the rest life. I’ve been with you years. I’ve never cheated you. never will cheat you. It’s you and me\\xa0against the world, baby. [cheering] And, uh… really… get nowhere else get this anal. So… [laughter] like, “You’ve get fucking help out. It’s fantasy. Please?” And, uh… And she nice. She say okay. And so, birthday, she gave up. She gave me, and she say she liked it. She say fun and she couldn’t believe she fit her whole fist inside me… And so… don’t know. [laughter] say, “You see? New experiences.” She’s good girl. That’s baby. That’s baby. [Sandler] Oh, Sandman. That’s too much.\\n\\n[piano plays]\\n♪ Mmm ♪\\n♪ It’s awfully cold outer space today ♪\\n♪ The earth just tiny speck ♪\\n♪ million mile away ♪\\n♪ I’m floating through the darkness ♪\\n♪ There’s nothing much see ♪\\n♪ And Cosmonaut named Yuri ♪\\n♪ the only one with [laughter]\\n♪ Mmm ♪\\n♪ Now we’re zero gravity ♪\\n♪ Just spinning round and round ♪\\n♪ The next thing you know I’m right side ♪\\n♪ And Yuri’s upside down ♪\\n♪ penis accidentally his mouth [laughter]\\n♪ His penis accidentally mine [laughter]\\n♪ Yes, it’s just another accident ♪\\n♪ Station [laughter]\\n\\nLadies and gentlemen… Yuri. [cheers and applause] Hello, people Earth. [cheering and whistling]\\n\\n♪ It’s awfully cold outer space tonight ♪\\n\\n[Sandler] Yes.\\n\\n♪ sent message back Earth ♪\\n♪ tell them we’re all right, yes ♪\\n♪ check the telescope ♪\\n♪ And look for instrument fix [laughter]\\n♪ But favorite part space ♪\\n♪ when suck each other’s dick ♪\\n\\n[Sandler] Absolutely.\\n\\n♪ We’re spinning around circle ♪\\n♪ And feel very nice ♪\\n♪ When kiss each other’s penis tip ♪\\n♪ seems like paradise ♪\\n♪ We’re travelling light speed ♪\\n\\nYes.\\n\\n♪ It’s intergalactic ride ♪\\n♪ Well, used have monkey ♪\\n\\nRemember?\\n\\n♪ But fucked till died ♪\\n\\nYes, yes.\\n\\n♪ Yes, we’re zero gravity ♪\\n♪ Just spinning round and round ♪\\n♪ The next thing you know I’m right-side ♪\\n♪ And upside down [cheering and whistling] accidentally put his penis mouth And put his penis mine [laughter] Yes, it’s just another accident It’s just another thing That purpose did [laughter] It’s… It’s just… [laughs] It’s just another afternoon [both] Station [cheers and applause]\\n\\nGo! back! back space! Get out here! Take him away! [laughs] What are you doing? Help him. [laughs] All right, guys, gonna this one. This very special song. hope you like it. mean lot us. Here go. [cheering]\\n\\n[low-tempo music plays] The first time saw him sweeter than shit Plaid jacket and belt too tight wasn’t even doing bit Then cartwheeled around the room And slow-danced with the cleaning lady one-man party You know who I’m talking about I’m talking about friend Chris Farley [cheering] Saturday night man would always deliver Whether the Bumblebee girl livin’ van down the river [cheering] loved the bear and did the dance Chippendale’s with Swayze When they replaced his coffee With Folgers go fucking crazy The sexiest Gap girl And Meatloaf the band Without him, there’d Lunch Lady Lunch Lady Land You know who I’m thinking about I’m thinking about boy Chris Farley [cheering]\\n\\n[man] love you, Sandman! [cheers and applause]\\n\\n♪ After show He’d drink quart Jack Daniels ♪\\n♪ And stick the bottle right his [laughter]\\n♪ But hungover hell That Catholic boy ♪\\n♪ Always showed morning mass ♪\\n♪ We’d tell him, “Slow down You’ll end like Belushi and Candy ♪\\n♪ say, “Those guy are heroes” ♪\\n♪ That’s all fine and dandy ♪\\n♪ ain’t making that shit ♪\\n♪ That’s the truth About boy Chris Farley [cheers and applause]\\n♪ saw him the office Crying with his headphone ♪\\n♪ Listening and the Sunshine Band song ♪\\n♪ say buddy, “How the hell that making you sad?” ♪\\n♪ Then laughed and say ♪\\n♪ Just thinking about dad [applause]\\n♪ The last big hang had ♪\\n♪ Was Timmy Meadows’ wedding party ♪\\n♪ laughed our ball off All night long ♪\\n♪ Off the coast Florida ♪\\n♪ But few month later ♪\\n♪ The party came end ♪\\n♪ flew out Madison ♪\\n♪ bury our friend ♪\\n♪ Nothing harder than saying goodbye ♪\\n♪ Except watching Chris’ father Have his turn cry ♪\\n♪ Mmm ♪\\n♪ Hey, buddy, life’s moved ♪\\n♪ But you still bring much joy [cheers and applause]\\n♪ Make kid laugh With your YouTube clip ♪\\n♪ Or\\xa0Tommy Boy [cheers and applause]\\n♪ Well, when they ask Who’s the funniest guy ever knew ♪\\n♪ tell them hand down Without doubt, it’s you ♪\\n♪ Yeah, miss hanging out ♪\\n♪ Watching you try get laid ♪\\n♪ But most all miss Watching you fuck with Spade ♪\\n♪ Well, ended how you wanted ♪\\n♪ But still wish you were here with ♪\\n♪ And were getting plane shoot ♪\\n♪ Grown Ups ♪\\n♪ Yeah, life ain’t the same Without you, boy ♪\\n♪ And that’s why I’m singing about ♪\\n♪ I’m singing about friend Chris Farley ♪\\n♪ And make enough noise ♪\\n♪ Maybe he’ll hear [whistling] [cheering]\\n♪ Give for the great ♪\\n♪ Chris Farley [cheers and applause]\\n\\nBy far the funniest\\xa0fucking guy all time, the Farls, man. Yeah, baby, thank you. couldn’t wait sing that you guys, and knew would special here. And thank you. [cheers and applause] the best.\\xa0He the best. Okay, you guys, I’m gonna sing you this song right now. This the kind sweet song. sing wife, because she let talk about many thing front you people. [laughs] And she doesn’t even get mad me. She’s pretty damn cool. here go.\\n\\n♪ met you year ago ♪\\n♪ And talked all night ♪\\n♪ You drank under the table ♪\\n♪ Yeah, love first sight ♪\\n♪ knew right then and there ♪\\n♪ I’d grow old with you [cheers and applause]\\n♪ say I’d tell you joke ♪\\n♪ Whenever you are sad ♪\\n♪ Make you mom you made dad ♪\\n♪ Oh, it’s been much fun ♪\\n♪ Growing old with you ♪\\n♪ Oh, [cheering] love you ♪\\n♪ Foot rub you ♪\\n♪ Tell you you’re the only one I’m thinking ♪\\n♪ Make big decision with you ♪\\n♪ Try new position with you [laughs]\\n♪ Even sit and watch Fucking Eat Pray Love [laughter]\\n♪ Two time row [laughter]\\n♪ Now when I’m diet ♪\\n♪ You take away potato ♪\\n♪ Say, “Fuck all those guys” After reading Rotten Tomatoes ♪\\n♪ hope they all die miserable death ♪\\n♪ grow old with you [cheering]\\n♪ You scold ♪\\n♪ You hold ♪\\n♪ Look the other way When dress like pimp ♪\\n♪ You cry ♪\\n♪ You lie ♪\\n♪ But only when you tell ♪\\n♪ That the dick look big [laughter] [laughs]\\n♪ Now, don’t need big house ♪\\n♪ don’t need any money ♪\\n♪ All need you and ♪\\n♪ And Sadie and Sunny ♪\\n♪ get everything want ♪\\n♪ Growing old with you ♪\\n\\nAnd this for all you guy here tonight.\\n\\n[man] Yeah!\\n\\n[cheering]\\n\\n♪ Thanks for growing old with… ♪\\n♪ ♪\\n\\nAll right, you all, thank you much. Respect! Rock and roll. love you too. Let’s again sometime. Thank you.\\xa0Thank you. Well, folks, I’ve been given the light and must go. But thank you very much. Enjoy the rest the show. [cheers and applause]\\n\\n[mid-tempo instrumental music plays]\\n\\n♪ Ears ♪\\n♪ Ears ♪\\n♪ Ears ♪\\n♪ Ears ♪\\n\\n[applause]\\n\\n[Sandler] get… ahead.\\n\\nWhy did the chicken cross the road?\\n\\n[Sandler] Why did the chicken cross the road?\\n\\nWhy?\\n\\nBecause wanted get some diarrhea eat for breakfast.\\n\\n[Sandler laughs] Okay, your turn. Hey, Dad. Hey, just you know. Don’t forget, I’m Sadie.\\n\\n[Sandler] Ah-ha. ahead, Sunny. Why did the M&M walk away from me?\\n\\n[Sandler] Why? Because wanted pee dress.\\n\\n[Sandler laughs] Terrific.'"
      ]
     },
     "execution_count": 13,
     "metadata": {},
     "output_type": "execute_result"
    }
   ],
   "source": [
    "new_df['full_transcript'][df['source'] == 'Scraps from the Loft'].iloc[1]"
   ]
  },
  {
   "cell_type": "code",
   "execution_count": 6,
   "id": "f37aaa51",
   "metadata": {},
   "outputs": [],
   "source": [
    "long_string = ' '.join(df['full_transcript'])"
   ]
  },
  {
   "cell_type": "code",
   "execution_count": 7,
   "id": "ba1753e8",
   "metadata": {},
   "outputs": [
    {
     "data": {
      "text/plain": [
       "19158892"
      ]
     },
     "execution_count": 7,
     "metadata": {},
     "output_type": "execute_result"
    }
   ],
   "source": [
    "len(long_string)"
   ]
  },
  {
   "cell_type": "code",
   "execution_count": 8,
   "id": "aa9cea98",
   "metadata": {},
   "outputs": [],
   "source": [
    "options = ['music', 'brackets', 'lowercase', 'numbers', 'uncensor', 'punctuation',\n",
    "'lemmatizer', 'manual_lemmatize', 'remove']"
   ]
  },
  {
   "cell_type": "code",
   "execution_count": 17,
   "id": "675129af",
   "metadata": {},
   "outputs": [],
   "source": [
    "new_df = df.copy()\n",
    "pipe = set_pipeline(options)"
   ]
  },
  {
   "cell_type": "code",
   "execution_count": 18,
   "id": "8c8885ef",
   "metadata": {
    "scrolled": false
   },
   "outputs": [
    {
     "name": "stderr",
     "output_type": "stream",
     "text": [
      "/home/rei/code/rmelbardis/ObjectivelyFunny/ObjectivelyFunny/preprocessing.py:172: FutureWarning: The default value of regex will change from True to False in a future version. In addition, single character regular expressions will *not* be treated as literal strings when regex=True.\n",
      "  X['full_transcript'] = X['full_transcript'].str.replace(punc, '')\n"
     ]
    },
    {
     "data": {
      "text/plain": [
       "Pipeline(steps=[('music', MusicRemover()), ('brackets', BracketRemover()),\n",
       "                ('lowercase', LowerCase()), ('numbers', NumRemover()),\n",
       "                ('uncensor',\n",
       "                 Replacer(word_dict={'bitch': ['b\\\\*tch', 'b_tch',\n",
       "                                               'b\\\\*\\\\*\\\\*\\\\*', 'b\\\\*\\\\*ch',\n",
       "                                               'b\\\\*\\\\*\\\\*h'],\n",
       "                                     'fuck': ['fucking', 'f\\\\*ck', 'f_ck',\n",
       "                                              'f\\\\*\\\\*k', 'f\\\\*\\\\*\\\\*'],\n",
       "                                     'shit': ['sh\\\\*t', 'sh_t', 's\\\\*\\\\*t',\n",
       "                                              's\\\\*\\\\*\\\\*']})),\n",
       "                ('punctuation',...er()), ('lemmatizer', Lemmatizer()),\n",
       "                ('remove',\n",
       "                 WordRemover(word_list=['thank', 'cheering', 'recorded',\n",
       "                                        'applause', 'laughter', 'laughing',\n",
       "                                        'murmuring', 'chatter', 'aired',\n",
       "                                        'filmed', 'ladies', 'gentlemen',\n",
       "                                        'welcome', 'stage', 'transcript',\n",
       "                                        'netflix', 'apollo', 'like',\n",
       "                                        'goodnight', 'mutter', 'noo', 'nuh',\n",
       "                                        'oof', 'maan', 'cause', 'okay', 'hey',\n",
       "                                        'also', 'someone', 'somebody', ...]))])"
      ]
     },
     "execution_count": 18,
     "metadata": {},
     "output_type": "execute_result"
    }
   ],
   "source": [
    "pipe.fit(new_df)"
   ]
  },
  {
   "cell_type": "code",
   "execution_count": 19,
   "id": "9ee8134b",
   "metadata": {
    "scrolled": true
   },
   "outputs": [
    {
     "data": {
      "text/html": [
       "<div>\n",
       "<style scoped>\n",
       "    .dataframe tbody tr th:only-of-type {\n",
       "        vertical-align: middle;\n",
       "    }\n",
       "\n",
       "    .dataframe tbody tr th {\n",
       "        vertical-align: top;\n",
       "    }\n",
       "\n",
       "    .dataframe thead th {\n",
       "        text-align: right;\n",
       "    }\n",
       "</style>\n",
       "<table border=\"1\" class=\"dataframe\">\n",
       "  <thead>\n",
       "    <tr style=\"text-align: right;\">\n",
       "      <th></th>\n",
       "      <th>full_transcript</th>\n",
       "      <th>artist</th>\n",
       "      <th>show_name</th>\n",
       "      <th>year</th>\n",
       "      <th>source</th>\n",
       "      <th>artist_birthday</th>\n",
       "      <th>artist_gender</th>\n",
       "      <th>age_then</th>\n",
       "      <th>full_transcript_clean</th>\n",
       "    </tr>\n",
       "  </thead>\n",
       "  <tbody>\n",
       "    <tr>\n",
       "      <th>0</th>\n",
       "      <td>man lady gentleman hows guy much seat guy jack...</td>\n",
       "      <td>Adam Devine</td>\n",
       "      <td>Best Time Of Our Lives</td>\n",
       "      <td>2019.0</td>\n",
       "      <td>Scraps from the Loft</td>\n",
       "      <td>1983.0</td>\n",
       "      <td>2</td>\n",
       "      <td>36.0</td>\n",
       "      <td>man let right guy much take seat guy get jacke...</td>\n",
       "    </tr>\n",
       "    <tr>\n",
       "      <th>1</th>\n",
       "      <td>strong language yes yes yes lovely apologise s...</td>\n",
       "      <td>Adam Hess</td>\n",
       "      <td>Live from the BBC</td>\n",
       "      <td>2016.0</td>\n",
       "      <td>BBC</td>\n",
       "      <td>1990.0</td>\n",
       "      <td>2</td>\n",
       "      <td>26.0</td>\n",
       "      <td>yes yes yes well lovely going apologise state ...</td>\n",
       "    </tr>\n",
       "    <tr>\n",
       "      <th>2</th>\n",
       "      <td>lady gentleman tonight london london live amaz...</td>\n",
       "      <td>Adam Hills</td>\n",
       "      <td>Live at the Apollo Series 9 Episode 4</td>\n",
       "      <td>2013.0</td>\n",
       "      <td>BBC</td>\n",
       "      <td>1970.0</td>\n",
       "      <td>2</td>\n",
       "      <td>43.0</td>\n",
       "      <td>please tonight london london live amazing act ...</td>\n",
       "    </tr>\n",
       "    <tr>\n",
       "      <th>3</th>\n",
       "      <td>strong language adult humour lady gentleman to...</td>\n",
       "      <td>Adam Hills</td>\n",
       "      <td>Live at the Apollo Series 12 Episode 4</td>\n",
       "      <td>2016.0</td>\n",
       "      <td>BBC</td>\n",
       "      <td>1970.0</td>\n",
       "      <td>2</td>\n",
       "      <td>46.0</td>\n",
       "      <td>please tonight know hair lost bet british para...</td>\n",
       "    </tr>\n",
       "    <tr>\n",
       "      <th>4</th>\n",
       "      <td>start saying something youve probably never he...</td>\n",
       "      <td>Adam Hills</td>\n",
       "      <td>Live at the Apollo Series 5 Episode 5</td>\n",
       "      <td>2009.0</td>\n",
       "      <td>BBC</td>\n",
       "      <td>1970.0</td>\n",
       "      <td>2</td>\n",
       "      <td>39.0</td>\n",
       "      <td>going start say something probably never heard...</td>\n",
       "    </tr>\n",
       "    <tr>\n",
       "      <th>...</th>\n",
       "      <td>...</td>\n",
       "      <td>...</td>\n",
       "      <td>...</td>\n",
       "      <td>...</td>\n",
       "      <td>...</td>\n",
       "      <td>...</td>\n",
       "      <td>...</td>\n",
       "      <td>...</td>\n",
       "      <td>...</td>\n",
       "    </tr>\n",
       "    <tr>\n",
       "      <th>550</th>\n",
       "      <td>lady gentleman yes yes new york new york goodn...</td>\n",
       "      <td>Wanda Sykes</td>\n",
       "      <td>Not Normal</td>\n",
       "      <td>2019.0</td>\n",
       "      <td>Scraps from the Loft</td>\n",
       "      <td>1964.0</td>\n",
       "      <td>1</td>\n",
       "      <td>55.0</td>\n",
       "      <td>gentleman yes yes new york new york goodness l...</td>\n",
       "    </tr>\n",
       "    <tr>\n",
       "      <th>551</th>\n",
       "      <td>woman lady gentleman pee good bitch much shoot...</td>\n",
       "      <td>Whitney Cummings</td>\n",
       "      <td>I’m Your Girlfriend</td>\n",
       "      <td>2016.0</td>\n",
       "      <td>Scraps from the Loft</td>\n",
       "      <td>1982.0</td>\n",
       "      <td>1</td>\n",
       "      <td>34.0</td>\n",
       "      <td>please pee good bitch come much shooting hbo s...</td>\n",
       "    </tr>\n",
       "    <tr>\n",
       "      <th>552</th>\n",
       "      <td>lady gentleman barclay theatre irvine californ...</td>\n",
       "      <td>Whitney Cummings</td>\n",
       "      <td>I Love You</td>\n",
       "      <td>2014.0</td>\n",
       "      <td>Scraps from the Loft</td>\n",
       "      <td>1982.0</td>\n",
       "      <td>1</td>\n",
       "      <td>32.0</td>\n",
       "      <td>barclay theatre irvine california please love ...</td>\n",
       "    </tr>\n",
       "    <tr>\n",
       "      <th>553</th>\n",
       "      <td>lady gentleman awesome shooting fourth standup...</td>\n",
       "      <td>Whitney Cummings</td>\n",
       "      <td>Can I Touch It?</td>\n",
       "      <td>2019.0</td>\n",
       "      <td>Scraps from the Loft</td>\n",
       "      <td>1982.0</td>\n",
       "      <td>1</td>\n",
       "      <td>37.0</td>\n",
       "      <td>gentleman awesome shooting fourth standup spec...</td>\n",
       "    </tr>\n",
       "    <tr>\n",
       "      <th>554</th>\n",
       "      <td>lady gentleman ive made effort evening wearing...</td>\n",
       "      <td>Zoe Lyons</td>\n",
       "      <td>Live at the Apollo Series 11 Episode 2</td>\n",
       "      <td>2015.0</td>\n",
       "      <td>BBC</td>\n",
       "      <td>1971.0</td>\n",
       "      <td>1</td>\n",
       "      <td>44.0</td>\n",
       "      <td>made effort evening wearing bit makeup wear ma...</td>\n",
       "    </tr>\n",
       "  </tbody>\n",
       "</table>\n",
       "<p>555 rows × 9 columns</p>\n",
       "</div>"
      ],
      "text/plain": [
       "                                       full_transcript            artist  \\\n",
       "0    man lady gentleman hows guy much seat guy jack...       Adam Devine   \n",
       "1    strong language yes yes yes lovely apologise s...         Adam Hess   \n",
       "2    lady gentleman tonight london london live amaz...        Adam Hills   \n",
       "3    strong language adult humour lady gentleman to...        Adam Hills   \n",
       "4    start saying something youve probably never he...        Adam Hills   \n",
       "..                                                 ...               ...   \n",
       "550  lady gentleman yes yes new york new york goodn...       Wanda Sykes   \n",
       "551  woman lady gentleman pee good bitch much shoot...  Whitney Cummings   \n",
       "552  lady gentleman barclay theatre irvine californ...  Whitney Cummings   \n",
       "553  lady gentleman awesome shooting fourth standup...  Whitney Cummings   \n",
       "554  lady gentleman ive made effort evening wearing...         Zoe Lyons   \n",
       "\n",
       "                                  show_name    year                source  \\\n",
       "0                    Best Time Of Our Lives  2019.0  Scraps from the Loft   \n",
       "1                         Live from the BBC  2016.0                   BBC   \n",
       "2     Live at the Apollo Series 9 Episode 4  2013.0                   BBC   \n",
       "3    Live at the Apollo Series 12 Episode 4  2016.0                   BBC   \n",
       "4     Live at the Apollo Series 5 Episode 5  2009.0                   BBC   \n",
       "..                                      ...     ...                   ...   \n",
       "550                              Not Normal  2019.0  Scraps from the Loft   \n",
       "551                     I’m Your Girlfriend  2016.0  Scraps from the Loft   \n",
       "552                              I Love You  2014.0  Scraps from the Loft   \n",
       "553                         Can I Touch It?  2019.0  Scraps from the Loft   \n",
       "554  Live at the Apollo Series 11 Episode 2  2015.0                   BBC   \n",
       "\n",
       "     artist_birthday  artist_gender  age_then  \\\n",
       "0             1983.0              2      36.0   \n",
       "1             1990.0              2      26.0   \n",
       "2             1970.0              2      43.0   \n",
       "3             1970.0              2      46.0   \n",
       "4             1970.0              2      39.0   \n",
       "..               ...            ...       ...   \n",
       "550           1964.0              1      55.0   \n",
       "551           1982.0              1      34.0   \n",
       "552           1982.0              1      32.0   \n",
       "553           1982.0              1      37.0   \n",
       "554           1971.0              1      44.0   \n",
       "\n",
       "                                 full_transcript_clean  \n",
       "0    man let right guy much take seat guy get jacke...  \n",
       "1    yes yes yes well lovely going apologise state ...  \n",
       "2    please tonight london london live amazing act ...  \n",
       "3    please tonight know hair lost bet british para...  \n",
       "4    going start say something probably never heard...  \n",
       "..                                                 ...  \n",
       "550  gentleman yes yes new york new york goodness l...  \n",
       "551  please pee good bitch come much shooting hbo s...  \n",
       "552  barclay theatre irvine california please love ...  \n",
       "553  gentleman awesome shooting fourth standup spec...  \n",
       "554  made effort evening wearing bit makeup wear ma...  \n",
       "\n",
       "[555 rows x 9 columns]"
      ]
     },
     "execution_count": 19,
     "metadata": {},
     "output_type": "execute_result"
    }
   ],
   "source": [
    "pipe.transform(new_df)"
   ]
  },
  {
   "cell_type": "code",
   "execution_count": null,
   "id": "f0646f5c",
   "metadata": {},
   "outputs": [],
   "source": []
  }
 ],
 "metadata": {
  "kernelspec": {
   "display_name": "Python 3 (ipykernel)",
   "language": "python",
   "name": "python3"
  },
  "language_info": {
   "codemirror_mode": {
    "name": "ipython",
    "version": 3
   },
   "file_extension": ".py",
   "mimetype": "text/x-python",
   "name": "python",
   "nbconvert_exporter": "python",
   "pygments_lexer": "ipython3",
   "version": "3.8.12"
  },
  "toc": {
   "base_numbering": 1,
   "nav_menu": {},
   "number_sections": true,
   "sideBar": true,
   "skip_h1_title": false,
   "title_cell": "Table of Contents",
   "title_sidebar": "Contents",
   "toc_cell": false,
   "toc_position": {},
   "toc_section_display": true,
   "toc_window_display": false
  }
 },
 "nbformat": 4,
 "nbformat_minor": 5
}

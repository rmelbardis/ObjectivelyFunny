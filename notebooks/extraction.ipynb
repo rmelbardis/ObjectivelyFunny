{
 "cells": [
  {
   "cell_type": "code",
   "execution_count": null,
   "id": "055a8ea9",
   "metadata": {},
   "outputs": [],
   "source": [
    "pip install tmdbsimple\n"
   ]
  },
  {
   "cell_type": "code",
   "execution_count": 1,
   "id": "6877411a",
   "metadata": {},
   "outputs": [],
   "source": [
    "import pandas as pd"
   ]
  },
  {
   "cell_type": "markdown",
   "id": "909074ca",
   "metadata": {
    "heading_collapsed": true
   },
   "source": [
    "# Preparation"
   ]
  },
  {
   "cell_type": "code",
   "execution_count": null,
   "id": "8aaa2678",
   "metadata": {
    "hidden": true
   },
   "outputs": [],
   "source": [
    "df = pd.read_json('/Users/beebo/code/rmelbardis/ObjectivelyFunny/raw_data/filtered_scraps_from_the_loft.json')\n",
    "df.head()"
   ]
  },
  {
   "cell_type": "code",
   "execution_count": null,
   "id": "c1beeffd",
   "metadata": {
    "hidden": true
   },
   "outputs": [],
   "source": [
    "title = df['title']"
   ]
  },
  {
   "cell_type": "code",
   "execution_count": null,
   "id": "4e0bf33a",
   "metadata": {
    "hidden": true
   },
   "outputs": [],
   "source": [
    "df.sort_values('title')[:10]"
   ]
  },
  {
   "cell_type": "markdown",
   "id": "f50992a8",
   "metadata": {},
   "source": [
    "# Example of using tmdsimple"
   ]
  },
  {
   "cell_type": "code",
   "execution_count": 2,
   "id": "1f8e8659",
   "metadata": {},
   "outputs": [],
   "source": [
    "import tmdbsimple as tmdb\n",
    "import os\n",
    "from dotenv import load_dotenv, find_dotenv\n"
   ]
  },
  {
   "cell_type": "code",
   "execution_count": 3,
   "id": "6f86c4a5",
   "metadata": {},
   "outputs": [],
   "source": [
    "# point to api key in the .env file \n",
    "env_path = find_dotenv() \n",
    "load_dotenv(env_path)\n",
    "tmdb.API_KEY = os.getenv('TMDB_KEY')"
   ]
  },
  {
   "cell_type": "markdown",
   "id": "b7701630",
   "metadata": {},
   "source": [
    "## Step 1: searching for the actor's id"
   ]
  },
  {
   "cell_type": "code",
   "execution_count": 4,
   "id": "1f98f42d",
   "metadata": {},
   "outputs": [],
   "source": [
    "name = 'ADEL KARAM'"
   ]
  },
  {
   "cell_type": "code",
   "execution_count": 5,
   "id": "62309f82",
   "metadata": {},
   "outputs": [
    {
     "name": "stdout",
     "output_type": "stream",
     "text": [
      "[53445]\n"
     ]
    }
   ],
   "source": [
    "search = tmdb.Search()\n",
    "response = search.person(query=name)\n",
    "print([s['id'] for s in search.results])"
   ]
  },
  {
   "cell_type": "markdown",
   "id": "164cffb8",
   "metadata": {},
   "source": [
    "## Step 2: using the id to search for info"
   ]
  },
  {
   "cell_type": "code",
   "execution_count": 6,
   "id": "7744e728",
   "metadata": {},
   "outputs": [
    {
     "name": "stdout",
     "output_type": "stream",
     "text": [
      "1972-08-20 2 Beirut, Lebanon\n"
     ]
    }
   ],
   "source": [
    "identity = tmdb.People(53445)\n",
    "response = identity.info()\n",
    "print(identity.birthday, identity.gender, identity.place_of_birth)"
   ]
  },
  {
   "cell_type": "markdown",
   "id": "a0fb8f0e",
   "metadata": {},
   "source": [
    "handling multiple search results (usually the first one, but need to check)"
   ]
  },
  {
   "cell_type": "code",
   "execution_count": 7,
   "id": "8e8b4861",
   "metadata": {},
   "outputs": [
    {
     "data": {
      "text/plain": [
       "[591835, 2946658, 3156949]"
      ]
     },
     "execution_count": 7,
     "metadata": {},
     "output_type": "execute_result"
    }
   ],
   "source": [
    "response = search.person(query='ALI WONG')\n",
    "[s['id'] for s in search.results]"
   ]
  },
  {
   "cell_type": "code",
   "execution_count": 8,
   "id": "c7ee7738",
   "metadata": {},
   "outputs": [
    {
     "name": "stdout",
     "output_type": "stream",
     "text": [
      "1982-04-19 1  San Francisco, California, USA\n"
     ]
    }
   ],
   "source": [
    "identity = tmdb.People(591835)\n",
    "response = identity.info()\n",
    "print(identity.birthday, identity.gender, identity.place_of_birth)"
   ]
  },
  {
   "cell_type": "markdown",
   "id": "fe176193",
   "metadata": {},
   "source": [
    "## Putting things together"
   ]
  },
  {
   "cell_type": "code",
   "execution_count": 9,
   "id": "bcfedef5",
   "metadata": {},
   "outputs": [],
   "source": [
    "def extraction(names):\n",
    "    '''\n",
    "    Taking in a list of actor/actress' names\n",
    "    Returning a dictionary containing their birthday, gender and birthplace\n",
    "    '''\n",
    "    birthday = []\n",
    "    gender = []\n",
    "    birthplace = []\n",
    "    \n",
    "    search = tmdb.Search()\n",
    "    for name in names:\n",
    "        response = search.person(query=name)\n",
    "        id_list = [s['id'] for s in search.results]\n",
    "        # if there is no id result\n",
    "        if len(id_list) < 1:\n",
    "            print(f'No {name} found. Please check the name.')\n",
    "            birthday.append(None)\n",
    "            gender.append(None)\n",
    "            birthplace.append(None)\n",
    "        # if there is more than one result\n",
    "        else:\n",
    "            if len(id_list) > 1:\n",
    "                print('Multiple people found.')\n",
    "                print(id_list)\n",
    "            first_id = id_list[0]\n",
    "            identity = tmdb.People(first_id)\n",
    "            response = identity.info()\n",
    "\n",
    "            birthday.append(identity.birthday)\n",
    "            gender.append(identity.gender)\n",
    "            birthplace.append(identity.place_of_birth)\n",
    "    return {'name': names, 'birthday': birthday, 'gender': gender, 'birthplace': birthplace}"
   ]
  },
  {
   "cell_type": "code",
   "execution_count": 10,
   "id": "5134ad04",
   "metadata": {},
   "outputs": [
    {
     "name": "stdout",
     "output_type": "stream",
     "text": [
      "No goosdsds found. Please check the name.\n",
      "No dsfsfdsdfs found. Please check the name.\n"
     ]
    },
    {
     "data": {
      "text/html": [
       "<div>\n",
       "<style scoped>\n",
       "    .dataframe tbody tr th:only-of-type {\n",
       "        vertical-align: middle;\n",
       "    }\n",
       "\n",
       "    .dataframe tbody tr th {\n",
       "        vertical-align: top;\n",
       "    }\n",
       "\n",
       "    .dataframe thead th {\n",
       "        text-align: right;\n",
       "    }\n",
       "</style>\n",
       "<table border=\"1\" class=\"dataframe\">\n",
       "  <thead>\n",
       "    <tr style=\"text-align: right;\">\n",
       "      <th></th>\n",
       "      <th>name</th>\n",
       "      <th>birthday</th>\n",
       "      <th>gender</th>\n",
       "      <th>birthplace</th>\n",
       "    </tr>\n",
       "  </thead>\n",
       "  <tbody>\n",
       "    <tr>\n",
       "      <th>0</th>\n",
       "      <td>AMY SCHUMER</td>\n",
       "      <td>1981-06-01</td>\n",
       "      <td>1.0</td>\n",
       "      <td>New York, New York, USA</td>\n",
       "    </tr>\n",
       "    <tr>\n",
       "      <th>1</th>\n",
       "      <td>goosdsds</td>\n",
       "      <td>None</td>\n",
       "      <td>NaN</td>\n",
       "      <td>None</td>\n",
       "    </tr>\n",
       "    <tr>\n",
       "      <th>2</th>\n",
       "      <td>dsfsfdsdfs</td>\n",
       "      <td>None</td>\n",
       "      <td>NaN</td>\n",
       "      <td>None</td>\n",
       "    </tr>\n",
       "    <tr>\n",
       "      <th>3</th>\n",
       "      <td>AZIZ ANSARI</td>\n",
       "      <td>1983-02-23</td>\n",
       "      <td>2.0</td>\n",
       "      <td>Columbia, South Carolina, USA</td>\n",
       "    </tr>\n",
       "  </tbody>\n",
       "</table>\n",
       "</div>"
      ],
      "text/plain": [
       "          name    birthday  gender                      birthplace\n",
       "0  AMY SCHUMER  1981-06-01     1.0         New York, New York, USA\n",
       "1     goosdsds        None     NaN                            None\n",
       "2   dsfsfdsdfs        None     NaN                            None\n",
       "3  AZIZ ANSARI  1983-02-23     2.0   Columbia, South Carolina, USA"
      ]
     },
     "execution_count": 10,
     "metadata": {},
     "output_type": "execute_result"
    }
   ],
   "source": [
    "new_dict = extraction(['AMY SCHUMER', 'goosdsds', 'dsfsfdsdfs', 'AZIZ ANSARI'])\n",
    "pd.DataFrame.from_dict(new_dict)"
   ]
  },
  {
   "cell_type": "code",
   "execution_count": null,
   "id": "a2a5d6e7",
   "metadata": {},
   "outputs": [],
   "source": []
  }
 ],
 "metadata": {
  "kernelspec": {
   "display_name": "Python 3 (ipykernel)",
   "language": "python",
   "name": "python3"
  },
  "language_info": {
   "codemirror_mode": {
    "name": "ipython",
    "version": 3
   },
   "file_extension": ".py",
   "mimetype": "text/x-python",
   "name": "python",
   "nbconvert_exporter": "python",
   "pygments_lexer": "ipython3",
   "version": "3.8.12"
  },
  "toc": {
   "base_numbering": 1,
   "nav_menu": {},
   "number_sections": true,
   "sideBar": true,
   "skip_h1_title": false,
   "title_cell": "Table of Contents",
   "title_sidebar": "Contents",
   "toc_cell": false,
   "toc_position": {},
   "toc_section_display": true,
   "toc_window_display": false
  }
 },
 "nbformat": 4,
 "nbformat_minor": 5
}

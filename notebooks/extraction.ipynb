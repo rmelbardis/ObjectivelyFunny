{
 "cells": [
  {
   "cell_type": "code",
   "execution_count": null,
   "id": "64335da7",
   "metadata": {},
   "outputs": [],
   "source": [
    "pip install tmdbsimple\n"
   ]
  },
  {
   "cell_type": "code",
   "execution_count": 1,
   "id": "00cfe705",
   "metadata": {},
   "outputs": [],
   "source": [
    "import pandas as pd"
   ]
  },
  {
   "cell_type": "markdown",
   "id": "54b51f44",
   "metadata": {},
   "source": [
    "# Preparation"
   ]
  },
  {
   "cell_type": "code",
   "execution_count": 12,
   "id": "56134222",
   "metadata": {},
   "outputs": [
    {
     "data": {
      "text/html": [
       "<div>\n",
       "<style scoped>\n",
       "    .dataframe tbody tr th:only-of-type {\n",
       "        vertical-align: middle;\n",
       "    }\n",
       "\n",
       "    .dataframe tbody tr th {\n",
       "        vertical-align: top;\n",
       "    }\n",
       "\n",
       "    .dataframe thead th {\n",
       "        text-align: right;\n",
       "    }\n",
       "</style>\n",
       "<table border=\"1\" class=\"dataframe\">\n",
       "  <thead>\n",
       "    <tr style=\"text-align: right;\">\n",
       "      <th></th>\n",
       "      <th>url</th>\n",
       "      <th>title</th>\n",
       "      <th>full_transcript</th>\n",
       "    </tr>\n",
       "  </thead>\n",
       "  <tbody>\n",
       "    <tr>\n",
       "      <th>0</th>\n",
       "      <td>https://scrapsfromtheloft.com/comedy/jim-gaffi...</td>\n",
       "      <td>Jim Gaffigan: Comedy Monster (2021) | Transcript</td>\n",
       "      <td>Thank you! Thank you! Oh, my gosh. Thank you s...</td>\n",
       "    </tr>\n",
       "    <tr>\n",
       "      <th>1</th>\n",
       "      <td>https://scrapsfromtheloft.com/comedy/louis-c-k...</td>\n",
       "      <td>Louis C. K.: Sorry (2021) | Transcript</td>\n",
       "      <td>♪♪ [“Like a Rolling Stone” by Bob Dylan playin...</td>\n",
       "    </tr>\n",
       "    <tr>\n",
       "      <th>2</th>\n",
       "      <td>https://scrapsfromtheloft.com/comedy/drew-mich...</td>\n",
       "      <td>Drew Michael: Red Blue Green (2021) | Transcript</td>\n",
       "      <td>(EMOTIONAL MUSIC PLAYING)\\n\\n(MUSIC ENDS)\\n\\nD...</td>\n",
       "    </tr>\n",
       "    <tr>\n",
       "      <th>3</th>\n",
       "      <td>https://scrapsfromtheloft.com/comedy/mo-amer-m...</td>\n",
       "      <td>Mo Amer: Mohammed in Texas (2021) | Transcript</td>\n",
       "      <td>[quirky flute music playing]\\n\\n[single note p...</td>\n",
       "    </tr>\n",
       "    <tr>\n",
       "      <th>4</th>\n",
       "      <td>https://scrapsfromtheloft.com/comedy/dave-chap...</td>\n",
       "      <td>Dave Chappelle: The Closer (2021) | Transcript</td>\n",
       "      <td>[audience murmuring]\\n\\n[murmuring continues]\\...</td>\n",
       "    </tr>\n",
       "  </tbody>\n",
       "</table>\n",
       "</div>"
      ],
      "text/plain": [
       "                                                 url  \\\n",
       "0  https://scrapsfromtheloft.com/comedy/jim-gaffi...   \n",
       "1  https://scrapsfromtheloft.com/comedy/louis-c-k...   \n",
       "2  https://scrapsfromtheloft.com/comedy/drew-mich...   \n",
       "3  https://scrapsfromtheloft.com/comedy/mo-amer-m...   \n",
       "4  https://scrapsfromtheloft.com/comedy/dave-chap...   \n",
       "\n",
       "                                              title  \\\n",
       "0  Jim Gaffigan: Comedy Monster (2021) | Transcript   \n",
       "1            Louis C. K.: Sorry (2021) | Transcript   \n",
       "2  Drew Michael: Red Blue Green (2021) | Transcript   \n",
       "3    Mo Amer: Mohammed in Texas (2021) | Transcript   \n",
       "4    Dave Chappelle: The Closer (2021) | Transcript   \n",
       "\n",
       "                                     full_transcript  \n",
       "0  Thank you! Thank you! Oh, my gosh. Thank you s...  \n",
       "1  ♪♪ [“Like a Rolling Stone” by Bob Dylan playin...  \n",
       "2  (EMOTIONAL MUSIC PLAYING)\\n\\n(MUSIC ENDS)\\n\\nD...  \n",
       "3  [quirky flute music playing]\\n\\n[single note p...  \n",
       "4  [audience murmuring]\\n\\n[murmuring continues]\\...  "
      ]
     },
     "execution_count": 12,
     "metadata": {},
     "output_type": "execute_result"
    }
   ],
   "source": [
    "df = pd.read_json('/Users/beebo/code/rmelbardis/ObjectivelyFunny/raw_data/filtered_scraps_from_the_loft.json')\n",
    "df.head()"
   ]
  },
  {
   "cell_type": "code",
   "execution_count": 17,
   "id": "2460c29d",
   "metadata": {},
   "outputs": [],
   "source": [
    "title = df['title']"
   ]
  },
  {
   "cell_type": "code",
   "execution_count": 16,
   "id": "fcb9a0b5",
   "metadata": {
    "scrolled": true
   },
   "outputs": [
    {
     "data": {
      "text/html": [
       "<div>\n",
       "<style scoped>\n",
       "    .dataframe tbody tr th:only-of-type {\n",
       "        vertical-align: middle;\n",
       "    }\n",
       "\n",
       "    .dataframe tbody tr th {\n",
       "        vertical-align: top;\n",
       "    }\n",
       "\n",
       "    .dataframe thead th {\n",
       "        text-align: right;\n",
       "    }\n",
       "</style>\n",
       "<table border=\"1\" class=\"dataframe\">\n",
       "  <thead>\n",
       "    <tr style=\"text-align: right;\">\n",
       "      <th></th>\n",
       "      <th>url</th>\n",
       "      <th>title</th>\n",
       "      <th>full_transcript</th>\n",
       "    </tr>\n",
       "  </thead>\n",
       "  <tbody>\n",
       "    <tr>\n",
       "      <th>207</th>\n",
       "      <td>https://scrapsfromtheloft.com/comedy/brian-reg...</td>\n",
       "      <td>BRIAN REGAN: STANDING UP (2007) – Full Transcript</td>\n",
       "      <td>♪ [Rock] [crowd cheering] [man] let’s give a b...</td>\n",
       "    </tr>\n",
       "    <tr>\n",
       "      <th>214</th>\n",
       "      <td>https://scrapsfromtheloft.com/comedy/bridget-e...</td>\n",
       "      <td>BRIDGET EVERETT: GYNECOLOGICAL WONDER (2015) –...</td>\n",
       "      <td>( SOFT MUSIC PLAYING ) I keep a picture of Bri...</td>\n",
       "    </tr>\n",
       "    <tr>\n",
       "      <th>72</th>\n",
       "      <td>https://scrapsfromtheloft.com/comedy/bert-krei...</td>\n",
       "      <td>Bert Kreischer: Fighting A Bear [Transcript]</td>\n",
       "      <td>The machine, Mr. Bert Kreischer, everybody. Le...</td>\n",
       "    </tr>\n",
       "    <tr>\n",
       "      <th>71</th>\n",
       "      <td>https://scrapsfromtheloft.com/comedy/bert-krei...</td>\n",
       "      <td>Bert Kreischer: Hey Big Boy (2020) – Transcript</td>\n",
       "      <td>[electronic music playing]\\n\\n[male announcer]...</td>\n",
       "    </tr>\n",
       "    <tr>\n",
       "      <th>162</th>\n",
       "      <td>https://scrapsfromtheloft.com/comedy/bert-krei...</td>\n",
       "      <td>Bert Kreischer: Secret Time (2018) – Transcript</td>\n",
       "      <td>[applause]\\n\\n[male presenter] Ladies and gent...</td>\n",
       "    </tr>\n",
       "    <tr>\n",
       "      <th>97</th>\n",
       "      <td>https://scrapsfromtheloft.com/comedy/bill-burr...</td>\n",
       "      <td>Bill Burr: Paper Tiger (2019) – Transcript</td>\n",
       "      <td>[cheering and applause]\\n\\n[female announcer] ...</td>\n",
       "    </tr>\n",
       "    <tr>\n",
       "      <th>29</th>\n",
       "      <td>https://scrapsfromtheloft.com/comedy/bill-burr...</td>\n",
       "      <td>Bill Burr: Snl Monologue (2020) – Transcript</td>\n",
       "      <td>Original air date: October 10, 2020\\n\\nHost Bi...</td>\n",
       "    </tr>\n",
       "    <tr>\n",
       "      <th>175</th>\n",
       "      <td>https://scrapsfromtheloft.com/comedy/bill-burr...</td>\n",
       "      <td>Bill Burr: The Philadelphia Incident (2006) – ...</td>\n",
       "      <td>In 2006 Bill Burr and many of the regular come...</td>\n",
       "    </tr>\n",
       "    <tr>\n",
       "      <th>12</th>\n",
       "      <td>https://scrapsfromtheloft.com/comedy/bo-burnha...</td>\n",
       "      <td>Bo Burnham: Inside (2021) – Transcript</td>\n",
       "      <td>Exploring mental health decline over 2020, the...</td>\n",
       "    </tr>\n",
       "    <tr>\n",
       "      <th>307</th>\n",
       "      <td>https://scrapsfromtheloft.com/comedy/bo-burnha...</td>\n",
       "      <td>Bo Burnham: Make Happy (2016) – Transcript</td>\n",
       "      <td>[woman on TV] That has been, really, a difficu...</td>\n",
       "    </tr>\n",
       "    <tr>\n",
       "      <th>306</th>\n",
       "      <td>https://scrapsfromtheloft.com/comedy/bo-burnha...</td>\n",
       "      <td>Bo Burnham: What (2013) – Transcript</td>\n",
       "      <td>Bo What? Old MacDonald had a farm E I E I O An...</td>\n",
       "    </tr>\n",
       "    <tr>\n",
       "      <th>21</th>\n",
       "      <td>https://scrapsfromtheloft.com/comedy/bo-burnha...</td>\n",
       "      <td>Bo Burnham: Words, Words, Words (2010) – Trans...</td>\n",
       "      <td>(Cheers and applause)\\n\\nThank you.\\n\\n(Laught...</td>\n",
       "    </tr>\n",
       "    <tr>\n",
       "      <th>16</th>\n",
       "      <td>https://scrapsfromtheloft.com/comedy/brian-reg...</td>\n",
       "      <td>Brian Regan: On The Rocks (2021) – Transcript</td>\n",
       "      <td>Filmed in 2020 at the Tuacahn outdoor amphithe...</td>\n",
       "    </tr>\n",
       "    <tr>\n",
       "      <th>67</th>\n",
       "      <td>https://scrapsfromtheloft.com/comedy/chris-d-e...</td>\n",
       "      <td>CHRIS D’ELIA: WHITE MALE. BLACK COMIC. (2013) ...</td>\n",
       "      <td>Man: [rapping]\\n♪ damn, damn, damn ♪\\n♪ feel m...</td>\n",
       "    </tr>\n",
       "    <tr>\n",
       "      <th>271</th>\n",
       "      <td>https://scrapsfromtheloft.com/comedy/chris-roc...</td>\n",
       "      <td>CHRIS ROCK AT THE SATURDAY NIGHT LIVE (1996) –...</td>\n",
       "      <td>Saturday Night Live Season 22: Episode 5\\nNove...</td>\n",
       "    </tr>\n",
       "    <tr>\n",
       "      <th>246</th>\n",
       "      <td>https://scrapsfromtheloft.com/comedy/christina...</td>\n",
       "      <td>CHRISTINA PAZSITZKY: MOTHER INFERIOR (2017) – ...</td>\n",
       "      <td>Christina P is a female comic with a dark sens...</td>\n",
       "    </tr>\n",
       "    <tr>\n",
       "      <th>273</th>\n",
       "      <td>https://scrapsfromtheloft.com/comedy/comedy-ce...</td>\n",
       "      <td>COMEDY CENTRAL PRESENTS: DANIEL TOSH (2003) – ...</td>\n",
       "      <td>One, two, three, four…\\nAnnouncer: From New Yo...</td>\n",
       "    </tr>\n",
       "    <tr>\n",
       "      <th>269</th>\n",
       "      <td>https://scrapsfromtheloft.com/comedy/comedy-ce...</td>\n",
       "      <td>COMEDY CENTRAL PRESENTS: DAVE ATTELL (1999) – ...</td>\n",
       "      <td>Dave Attell (S02E07) is the seventh episode of...</td>\n",
       "    </tr>\n",
       "    <tr>\n",
       "      <th>191</th>\n",
       "      <td>https://scrapsfromtheloft.com/comedy/comedy-ce...</td>\n",
       "      <td>COMEDY CENTRAL PRESENTS: PATTON OSWALT (1999) ...</td>\n",
       "      <td>(Announcer) from New York City, Comedy Central...</td>\n",
       "    </tr>\n",
       "    <tr>\n",
       "      <th>238</th>\n",
       "      <td>https://scrapsfromtheloft.com/comedy/craig-fer...</td>\n",
       "      <td>CRAIG FERGUSON: I’M HERE TO HELP (2013) – Full...</td>\n",
       "      <td>– The first time I saw Craig Ferguson, I was i...</td>\n",
       "    </tr>\n",
       "  </tbody>\n",
       "</table>\n",
       "</div>"
      ],
      "text/plain": [
       "                                                   url  \\\n",
       "207  https://scrapsfromtheloft.com/comedy/brian-reg...   \n",
       "214  https://scrapsfromtheloft.com/comedy/bridget-e...   \n",
       "72   https://scrapsfromtheloft.com/comedy/bert-krei...   \n",
       "71   https://scrapsfromtheloft.com/comedy/bert-krei...   \n",
       "162  https://scrapsfromtheloft.com/comedy/bert-krei...   \n",
       "97   https://scrapsfromtheloft.com/comedy/bill-burr...   \n",
       "29   https://scrapsfromtheloft.com/comedy/bill-burr...   \n",
       "175  https://scrapsfromtheloft.com/comedy/bill-burr...   \n",
       "12   https://scrapsfromtheloft.com/comedy/bo-burnha...   \n",
       "307  https://scrapsfromtheloft.com/comedy/bo-burnha...   \n",
       "306  https://scrapsfromtheloft.com/comedy/bo-burnha...   \n",
       "21   https://scrapsfromtheloft.com/comedy/bo-burnha...   \n",
       "16   https://scrapsfromtheloft.com/comedy/brian-reg...   \n",
       "67   https://scrapsfromtheloft.com/comedy/chris-d-e...   \n",
       "271  https://scrapsfromtheloft.com/comedy/chris-roc...   \n",
       "246  https://scrapsfromtheloft.com/comedy/christina...   \n",
       "273  https://scrapsfromtheloft.com/comedy/comedy-ce...   \n",
       "269  https://scrapsfromtheloft.com/comedy/comedy-ce...   \n",
       "191  https://scrapsfromtheloft.com/comedy/comedy-ce...   \n",
       "238  https://scrapsfromtheloft.com/comedy/craig-fer...   \n",
       "\n",
       "                                                 title  \\\n",
       "207  BRIAN REGAN: STANDING UP (2007) – Full Transcript   \n",
       "214  BRIDGET EVERETT: GYNECOLOGICAL WONDER (2015) –...   \n",
       "72        Bert Kreischer: Fighting A Bear [Transcript]   \n",
       "71     Bert Kreischer: Hey Big Boy (2020) – Transcript   \n",
       "162    Bert Kreischer: Secret Time (2018) – Transcript   \n",
       "97          Bill Burr: Paper Tiger (2019) – Transcript   \n",
       "29        Bill Burr: Snl Monologue (2020) – Transcript   \n",
       "175  Bill Burr: The Philadelphia Incident (2006) – ...   \n",
       "12              Bo Burnham: Inside (2021) – Transcript   \n",
       "307         Bo Burnham: Make Happy (2016) – Transcript   \n",
       "306               Bo Burnham: What (2013) – Transcript   \n",
       "21   Bo Burnham: Words, Words, Words (2010) – Trans...   \n",
       "16       Brian Regan: On The Rocks (2021) – Transcript   \n",
       "67   CHRIS D’ELIA: WHITE MALE. BLACK COMIC. (2013) ...   \n",
       "271  CHRIS ROCK AT THE SATURDAY NIGHT LIVE (1996) –...   \n",
       "246  CHRISTINA PAZSITZKY: MOTHER INFERIOR (2017) – ...   \n",
       "273  COMEDY CENTRAL PRESENTS: DANIEL TOSH (2003) – ...   \n",
       "269  COMEDY CENTRAL PRESENTS: DAVE ATTELL (1999) – ...   \n",
       "191  COMEDY CENTRAL PRESENTS: PATTON OSWALT (1999) ...   \n",
       "238  CRAIG FERGUSON: I’M HERE TO HELP (2013) – Full...   \n",
       "\n",
       "                                       full_transcript  \n",
       "207  ♪ [Rock] [crowd cheering] [man] let’s give a b...  \n",
       "214  ( SOFT MUSIC PLAYING ) I keep a picture of Bri...  \n",
       "72   The machine, Mr. Bert Kreischer, everybody. Le...  \n",
       "71   [electronic music playing]\\n\\n[male announcer]...  \n",
       "162  [applause]\\n\\n[male presenter] Ladies and gent...  \n",
       "97   [cheering and applause]\\n\\n[female announcer] ...  \n",
       "29   Original air date: October 10, 2020\\n\\nHost Bi...  \n",
       "175  In 2006 Bill Burr and many of the regular come...  \n",
       "12   Exploring mental health decline over 2020, the...  \n",
       "307  [woman on TV] That has been, really, a difficu...  \n",
       "306  Bo What? Old MacDonald had a farm E I E I O An...  \n",
       "21   (Cheers and applause)\\n\\nThank you.\\n\\n(Laught...  \n",
       "16   Filmed in 2020 at the Tuacahn outdoor amphithe...  \n",
       "67   Man: [rapping]\\n♪ damn, damn, damn ♪\\n♪ feel m...  \n",
       "271  Saturday Night Live Season 22: Episode 5\\nNove...  \n",
       "246  Christina P is a female comic with a dark sens...  \n",
       "273  One, two, three, four…\\nAnnouncer: From New Yo...  \n",
       "269  Dave Attell (S02E07) is the seventh episode of...  \n",
       "191  (Announcer) from New York City, Comedy Central...  \n",
       "238  – The first time I saw Craig Ferguson, I was i...  "
      ]
     },
     "execution_count": 16,
     "metadata": {},
     "output_type": "execute_result"
    }
   ],
   "source": [
    "df.sort_values('title')[40:60]"
   ]
  },
  {
   "cell_type": "code",
   "execution_count": 24,
   "id": "d37cfbae",
   "metadata": {},
   "outputs": [
    {
     "data": {
      "text/plain": [
       "23     Larry the Cable Guy – Remain Seated (2020) – T...\n",
       "49     KENNY SEBASTIAN DON’T BE THAT GUY (2017) – FUL...\n",
       "61     BILL BURR ON THE LATE SHOW WITH DAVID LETTERMA...\n",
       "62                             SINCERELY LOUIS CK (2020)\n",
       "92     Sebastian Maniscalco Stand-Up – The Tonight Sh...\n",
       "94     Ryan Hamilton Stand-Up – The Tonight Show Star...\n",
       "95     Mark Normand Stand-Up – The Tonight Show Starr...\n",
       "105    Tom Segura Overdoses – This Is Not Happening [...\n",
       "114                 Doug Stanhope on babies and abortion\n",
       "124    ROBIN WILLIAMS LIVE ON BROADWAY (2002) – FULL ...\n",
       "142         Volker Pispers about USA (2004) – Transcript\n",
       "148          Carlin at Carnegie (1983) – Full Transcript\n",
       "151    Joe Mande’s Award-Winning Comedy Special (2017...\n",
       "185                         DOUG STANHOPE ON NATIONALISM\n",
       "199          Eddie Izzard – Glorious (1997) – Transcript\n",
       "259    BILL MAHER… BUT I’M NOT WRONG (2010) – Full Tr...\n",
       "265           GEORGE CARLIN ON ABORTION AND “PRO-LIFERS”\n",
       "266    RICHARD PRYOR’S MONOLOGUE AT THE SATURDAY NIGH...\n",
       "267    RORY SCOVEL TRIES STAND-UP FOR THE FIRST TIME ...\n",
       "271    CHRIS ROCK AT THE SATURDAY NIGHT LIVE (1996) –...\n",
       "300        George Carlin at USC (1977) – Full Transcript\n",
       "302              Michael Che Matters (2016) – Transcript\n",
       "357       JIM JEFFERIES ON GUN CONTROL [FULL TRANSCRIPT]\n",
       "Name: title, dtype: object"
      ]
     },
     "execution_count": 24,
     "metadata": {},
     "output_type": "execute_result"
    }
   ],
   "source": [
    "title[title.str.find(':')==-1]"
   ]
  },
  {
   "cell_type": "code",
   "execution_count": 35,
   "id": "3d7f6c84",
   "metadata": {},
   "outputs": [
    {
     "data": {
      "text/plain": [
       "'BILL BURR ON THE LATE SHOW WITH DAVID LETTERMAN (2010) – TRANSCRIPT'"
      ]
     },
     "execution_count": 35,
     "metadata": {},
     "output_type": "execute_result"
    }
   ],
   "source": [
    "df.iloc[61]['title'] = 'BILL BURR: ON THE LATE SHOW WITH DAVID LETTERMAN (2010) – TRANSCRIPT'"
   ]
  },
  {
   "cell_type": "code",
   "execution_count": 34,
   "id": "425790db",
   "metadata": {},
   "outputs": [],
   "source": [
    "df.iloc[23]['title'] = 'Larry the Cable Guy: Remain Seated (2020) – Transcript'\n",
    "df.iloc[49]['title'] = 'KENNY SEBASTIAN: DON’T BE THAT GUY (2017) – FULL TRANSCRIPT'"
   ]
  },
  {
   "cell_type": "code",
   "execution_count": 28,
   "id": "b4ab694f",
   "metadata": {},
   "outputs": [
    {
     "data": {
      "text/plain": [
       "8                      Dave Chappelle: 8:46 – Transcript\n",
       "17           George Carlin: Politically Correct Language\n",
       "19     Chris Rock Total Blackout: The Tamborine Exten...\n",
       "40     BILL HICKS: THE CENSORED SEVEN MINUTES ON LATE...\n",
       "46      DOUG STANHOPE: FEAR OF AN EMPTY BED [TRANSCRIPT]\n",
       "66     DAVE ALLEN: FIRST DAY AT CATHOLIC SCHOOL [TRAN...\n",
       "69     George Carlin: The Indian Drill Sergeant – Tra...\n",
       "72          Bert Kreischer: Fighting A Bear [Transcript]\n",
       "98     Dave Chappelle: Sticks & Stones | Epilogue: Th...\n",
       "102             Kevin Hart: Gun Compartment [Transcript]\n",
       "105    Tom Segura Overdoses – This Is Not Happening [...\n",
       "114                 Doug Stanhope on babies and abortion\n",
       "149    Comedy Central Presents: Tom Segura [S15e01] –...\n",
       "155    Louis C.K.: SNL Monologue S38E06 [11/03/12] – ...\n",
       "156    Louis C.K.: SNL Monologue S39E16 [03/29/14] – ...\n",
       "158    David Chappelle: SNL monologue [November 12, 2...\n",
       "163    Dick Gregory: Speech at St. John’s Baptist Chu...\n",
       "185                         DOUG STANHOPE ON NATIONALISM\n",
       "265           GEORGE CARLIN ON ABORTION AND “PRO-LIFERS”\n",
       "266    RICHARD PRYOR’S MONOLOGUE AT THE SATURDAY NIGH...\n",
       "274     GEORGE CARLIN: RELIGION IS BULLSHIT [TRANSCRIPT]\n",
       "345    George Carlin: Seven Words You Can Never Say o...\n",
       "355                   LOUIS C.K.: 2017 – Full transcript\n",
       "357       JIM JEFFERIES ON GUN CONTROL [FULL TRANSCRIPT]\n",
       "Name: title, dtype: object"
      ]
     },
     "execution_count": 28,
     "metadata": {},
     "output_type": "execute_result"
    }
   ],
   "source": [
    "title[title.str.find('(')==-1]"
   ]
  },
  {
   "cell_type": "markdown",
   "id": "90bc9294",
   "metadata": {},
   "source": [
    "# Example of using tmdsimple"
   ]
  },
  {
   "cell_type": "code",
   "execution_count": 2,
   "id": "dac0f9c1",
   "metadata": {},
   "outputs": [],
   "source": [
    "import tmdbsimple as tmdb\n",
    "import os\n",
    "from dotenv import load_dotenv, find_dotenv\n"
   ]
  },
  {
   "cell_type": "code",
   "execution_count": 3,
   "id": "85e220b1",
   "metadata": {},
   "outputs": [],
   "source": [
    "# point to api key in the .env file \n",
    "env_path = find_dotenv() \n",
    "load_dotenv(env_path)\n",
    "tmdb.API_KEY = os.getenv('TMDB_KEY')"
   ]
  },
  {
   "cell_type": "markdown",
   "id": "9923ef2b",
   "metadata": {},
   "source": [
    "## Step 1: searching for the actor's id"
   ]
  },
  {
   "cell_type": "code",
   "execution_count": 4,
   "id": "1eb6f668",
   "metadata": {},
   "outputs": [],
   "source": [
    "name = 'ADEL KARAM'"
   ]
  },
  {
   "cell_type": "code",
   "execution_count": 5,
   "id": "95573674",
   "metadata": {},
   "outputs": [
    {
     "name": "stdout",
     "output_type": "stream",
     "text": [
      "[53445]\n"
     ]
    }
   ],
   "source": [
    "search = tmdb.Search()\n",
    "response = search.person(query=name)\n",
    "print([s['id'] for s in search.results])"
   ]
  },
  {
   "cell_type": "markdown",
   "id": "24b1d607",
   "metadata": {},
   "source": [
    "## Step 2: using the id to search for info"
   ]
  },
  {
   "cell_type": "code",
   "execution_count": 6,
   "id": "f18fc41b",
   "metadata": {},
   "outputs": [
    {
     "name": "stdout",
     "output_type": "stream",
     "text": [
      "1972-08-20 2 Beirut, Lebanon\n"
     ]
    }
   ],
   "source": [
    "identity = tmdb.People(53445)\n",
    "response = identity.info()\n",
    "print(identity.birthday, identity.gender, identity.place_of_birth)"
   ]
  },
  {
   "cell_type": "markdown",
   "id": "aded4495",
   "metadata": {},
   "source": [
    "handling multiple search results (usually the first one, but need to check)"
   ]
  },
  {
   "cell_type": "code",
   "execution_count": 7,
   "id": "9ebe6009",
   "metadata": {},
   "outputs": [
    {
     "data": {
      "text/plain": [
       "[591835, 2946658, 3156949]"
      ]
     },
     "execution_count": 7,
     "metadata": {},
     "output_type": "execute_result"
    }
   ],
   "source": [
    "response = search.person(query='ALI WONG')\n",
    "[s['id'] for s in search.results]"
   ]
  },
  {
   "cell_type": "code",
   "execution_count": 8,
   "id": "f3684b34",
   "metadata": {},
   "outputs": [
    {
     "name": "stdout",
     "output_type": "stream",
     "text": [
      "1982-04-19 1  San Francisco, California, USA\n"
     ]
    }
   ],
   "source": [
    "identity = tmdb.People(591835)\n",
    "response = identity.info()\n",
    "print(identity.birthday, identity.gender, identity.place_of_birth)"
   ]
  },
  {
   "cell_type": "markdown",
   "id": "23c92c09",
   "metadata": {},
   "source": [
    "## Putting things together"
   ]
  },
  {
   "cell_type": "code",
   "execution_count": 9,
   "id": "66334571",
   "metadata": {},
   "outputs": [],
   "source": [
    "def extraction(names):\n",
    "    '''\n",
    "    Taking in a list of actor/actress' names\n",
    "    Returning a dictionary containing their birthday, gender and birthplace\n",
    "    '''\n",
    "    birthday = []\n",
    "    gender = []\n",
    "    birthplace = []\n",
    "    \n",
    "    search = tmdb.Search()\n",
    "    for name in names:\n",
    "        response = search.person(query=name)\n",
    "        id_list = [s['id'] for s in search.results]\n",
    "        # if there is no id result\n",
    "        if len(id_list) < 1:\n",
    "            print(f'No {name} found. Please check the name.')\n",
    "            birthday.append(None)\n",
    "            gender.append(None)\n",
    "            birthplace.append(None)\n",
    "        # if there is more than one result\n",
    "        else:\n",
    "            if len(id_list) > 1:\n",
    "                print('Multiple people found.')\n",
    "                print(id_list)\n",
    "            first_id = id_list[0]\n",
    "            identity = tmdb.People(first_id)\n",
    "            response = identity.info()\n",
    "\n",
    "            birthday.append(identity.birthday)\n",
    "            gender.append(identity.gender)\n",
    "            birthplace.append(identity.place_of_birth)\n",
    "    return {'name': names, 'birthday': birthday, 'gender': gender, 'birthplace': birthplace}"
   ]
  },
  {
   "cell_type": "code",
   "execution_count": 11,
   "id": "52f2aaff",
   "metadata": {},
   "outputs": [
    {
     "name": "stdout",
     "output_type": "stream",
     "text": [
      "No goosdsds found. Please check the name.\n",
      "No dsfsfdsdfs found. Please check the name.\n"
     ]
    },
    {
     "data": {
      "text/html": [
       "<div>\n",
       "<style scoped>\n",
       "    .dataframe tbody tr th:only-of-type {\n",
       "        vertical-align: middle;\n",
       "    }\n",
       "\n",
       "    .dataframe tbody tr th {\n",
       "        vertical-align: top;\n",
       "    }\n",
       "\n",
       "    .dataframe thead th {\n",
       "        text-align: right;\n",
       "    }\n",
       "</style>\n",
       "<table border=\"1\" class=\"dataframe\">\n",
       "  <thead>\n",
       "    <tr style=\"text-align: right;\">\n",
       "      <th></th>\n",
       "      <th>name</th>\n",
       "      <th>birthday</th>\n",
       "      <th>gender</th>\n",
       "      <th>birthplace</th>\n",
       "    </tr>\n",
       "  </thead>\n",
       "  <tbody>\n",
       "    <tr>\n",
       "      <th>0</th>\n",
       "      <td>AMY SCHUMER</td>\n",
       "      <td>1981-06-01</td>\n",
       "      <td>1.0</td>\n",
       "      <td>New York, New York, USA</td>\n",
       "    </tr>\n",
       "    <tr>\n",
       "      <th>1</th>\n",
       "      <td>goosdsds</td>\n",
       "      <td>None</td>\n",
       "      <td>NaN</td>\n",
       "      <td>None</td>\n",
       "    </tr>\n",
       "    <tr>\n",
       "      <th>2</th>\n",
       "      <td>dsfsfdsdfs</td>\n",
       "      <td>None</td>\n",
       "      <td>NaN</td>\n",
       "      <td>None</td>\n",
       "    </tr>\n",
       "    <tr>\n",
       "      <th>3</th>\n",
       "      <td>Hannah Gadsby</td>\n",
       "      <td>1978-01-12</td>\n",
       "      <td>1.0</td>\n",
       "      <td>Smithton, Australia</td>\n",
       "    </tr>\n",
       "  </tbody>\n",
       "</table>\n",
       "</div>"
      ],
      "text/plain": [
       "            name    birthday  gender               birthplace\n",
       "0    AMY SCHUMER  1981-06-01     1.0  New York, New York, USA\n",
       "1       goosdsds        None     NaN                     None\n",
       "2     dsfsfdsdfs        None     NaN                     None\n",
       "3  Hannah Gadsby  1978-01-12     1.0      Smithton, Australia"
      ]
     },
     "execution_count": 11,
     "metadata": {},
     "output_type": "execute_result"
    }
   ],
   "source": [
    "new_dict = extraction(['AMY SCHUMER', 'goosdsds', 'dsfsfdsdfs', 'Hannah Gadsby'])\n",
    "pd.DataFrame.from_dict(new_dict)"
   ]
  },
  {
   "cell_type": "code",
   "execution_count": null,
   "id": "54da8a1d",
   "metadata": {},
   "outputs": [],
   "source": []
  }
 ],
 "metadata": {
  "kernelspec": {
   "display_name": "Python 3 (ipykernel)",
   "language": "python",
   "name": "python3"
  },
  "language_info": {
   "codemirror_mode": {
    "name": "ipython",
    "version": 3
   },
   "file_extension": ".py",
   "mimetype": "text/x-python",
   "name": "python",
   "nbconvert_exporter": "python",
   "pygments_lexer": "ipython3",
   "version": "3.8.12"
  },
  "toc": {
   "base_numbering": 1,
   "nav_menu": {},
   "number_sections": true,
   "sideBar": true,
   "skip_h1_title": false,
   "title_cell": "Table of Contents",
   "title_sidebar": "Contents",
   "toc_cell": false,
   "toc_position": {},
   "toc_section_display": true,
   "toc_window_display": false
  }
 },
 "nbformat": 4,
 "nbformat_minor": 5
}

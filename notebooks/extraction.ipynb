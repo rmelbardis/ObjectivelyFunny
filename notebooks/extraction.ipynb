{
 "cells": [
  {
   "cell_type": "code",
   "execution_count": 13,
   "id": "0548b199",
   "metadata": {
    "collapsed": true
   },
   "outputs": [
    {
     "name": "stdout",
     "output_type": "stream",
     "text": [
      "Collecting tmdbsimple\n",
      "  Downloading tmdbsimple-2.9.1-py3-none-any.whl (38 kB)\n",
      "Requirement already satisfied: requests in /Users/beebo/.pyenv/versions/3.8.12/envs/objectively_funny/lib/python3.8/site-packages (from tmdbsimple) (2.27.1)\n",
      "Requirement already satisfied: charset-normalizer~=2.0.0 in /Users/beebo/.pyenv/versions/3.8.12/envs/objectively_funny/lib/python3.8/site-packages (from requests->tmdbsimple) (2.0.12)\n",
      "Requirement already satisfied: urllib3<1.27,>=1.21.1 in /Users/beebo/.pyenv/versions/3.8.12/envs/objectively_funny/lib/python3.8/site-packages (from requests->tmdbsimple) (1.26.8)\n",
      "Requirement already satisfied: certifi>=2017.4.17 in /Users/beebo/.pyenv/versions/3.8.12/envs/objectively_funny/lib/python3.8/site-packages (from requests->tmdbsimple) (2021.10.8)\n",
      "Requirement already satisfied: idna<4,>=2.5 in /Users/beebo/.pyenv/versions/3.8.12/envs/objectively_funny/lib/python3.8/site-packages (from requests->tmdbsimple) (3.3)\n",
      "Installing collected packages: tmdbsimple\n",
      "Successfully installed tmdbsimple-2.9.1\n",
      "\u001b[33mWARNING: You are using pip version 21.1.1; however, version 22.0.3 is available.\n",
      "You should consider upgrading via the '/Users/beebo/.pyenv/versions/3.8.12/envs/objectively_funny/bin/python -m pip install --upgrade pip' command.\u001b[0m\n",
      "Note: you may need to restart the kernel to use updated packages.\n"
     ]
    }
   ],
   "source": [
    "pip install tmdbsimple\n"
   ]
  },
  {
   "cell_type": "code",
   "execution_count": 1,
   "id": "4a239618",
   "metadata": {},
   "outputs": [],
   "source": [
    "import pandas as pd"
   ]
  },
  {
   "cell_type": "markdown",
   "id": "b745b180",
   "metadata": {},
   "source": [
    "# Preparation"
   ]
  },
  {
   "cell_type": "code",
   "execution_count": 2,
   "id": "aa86d636",
   "metadata": {},
   "outputs": [
    {
     "data": {
      "text/html": [
       "<div>\n",
       "<style scoped>\n",
       "    .dataframe tbody tr th:only-of-type {\n",
       "        vertical-align: middle;\n",
       "    }\n",
       "\n",
       "    .dataframe tbody tr th {\n",
       "        vertical-align: top;\n",
       "    }\n",
       "\n",
       "    .dataframe thead th {\n",
       "        text-align: right;\n",
       "    }\n",
       "</style>\n",
       "<table border=\"1\" class=\"dataframe\">\n",
       "  <thead>\n",
       "    <tr style=\"text-align: right;\">\n",
       "      <th></th>\n",
       "      <th>url</th>\n",
       "      <th>title</th>\n",
       "      <th>full_transcript</th>\n",
       "    </tr>\n",
       "  </thead>\n",
       "  <tbody>\n",
       "    <tr>\n",
       "      <th>0</th>\n",
       "      <td>https://scrapsfromtheloft.com/comedy/jim-gaffi...</td>\n",
       "      <td>Jim Gaffigan: Comedy Monster (2021) | Transcript</td>\n",
       "      <td>Thank you! Thank you! Oh, my gosh. Thank you s...</td>\n",
       "    </tr>\n",
       "    <tr>\n",
       "      <th>1</th>\n",
       "      <td>https://scrapsfromtheloft.com/comedy/louis-c-k...</td>\n",
       "      <td>Louis C. K.: Sorry (2021) | Transcript</td>\n",
       "      <td>♪♪ [“Like a Rolling Stone” by Bob Dylan playin...</td>\n",
       "    </tr>\n",
       "    <tr>\n",
       "      <th>2</th>\n",
       "      <td>https://scrapsfromtheloft.com/comedy/drew-mich...</td>\n",
       "      <td>Drew Michael: Red Blue Green (2021) | Transcript</td>\n",
       "      <td>(EMOTIONAL MUSIC PLAYING)\\n\\n(MUSIC ENDS)\\n\\nD...</td>\n",
       "    </tr>\n",
       "    <tr>\n",
       "      <th>3</th>\n",
       "      <td>https://scrapsfromtheloft.com/comedy/mo-amer-m...</td>\n",
       "      <td>Mo Amer: Mohammed in Texas (2021) | Transcript</td>\n",
       "      <td>[quirky flute music playing]\\n\\n[single note p...</td>\n",
       "    </tr>\n",
       "    <tr>\n",
       "      <th>4</th>\n",
       "      <td>https://scrapsfromtheloft.com/comedy/dave-chap...</td>\n",
       "      <td>Dave Chappelle: The Closer (2021) | Transcript</td>\n",
       "      <td>[audience murmuring]\\n\\n[murmuring continues]\\...</td>\n",
       "    </tr>\n",
       "  </tbody>\n",
       "</table>\n",
       "</div>"
      ],
      "text/plain": [
       "                                                 url  \\\n",
       "0  https://scrapsfromtheloft.com/comedy/jim-gaffi...   \n",
       "1  https://scrapsfromtheloft.com/comedy/louis-c-k...   \n",
       "2  https://scrapsfromtheloft.com/comedy/drew-mich...   \n",
       "3  https://scrapsfromtheloft.com/comedy/mo-amer-m...   \n",
       "4  https://scrapsfromtheloft.com/comedy/dave-chap...   \n",
       "\n",
       "                                              title  \\\n",
       "0  Jim Gaffigan: Comedy Monster (2021) | Transcript   \n",
       "1            Louis C. K.: Sorry (2021) | Transcript   \n",
       "2  Drew Michael: Red Blue Green (2021) | Transcript   \n",
       "3    Mo Amer: Mohammed in Texas (2021) | Transcript   \n",
       "4    Dave Chappelle: The Closer (2021) | Transcript   \n",
       "\n",
       "                                     full_transcript  \n",
       "0  Thank you! Thank you! Oh, my gosh. Thank you s...  \n",
       "1  ♪♪ [“Like a Rolling Stone” by Bob Dylan playin...  \n",
       "2  (EMOTIONAL MUSIC PLAYING)\\n\\n(MUSIC ENDS)\\n\\nD...  \n",
       "3  [quirky flute music playing]\\n\\n[single note p...  \n",
       "4  [audience murmuring]\\n\\n[murmuring continues]\\...  "
      ]
     },
     "execution_count": 2,
     "metadata": {},
     "output_type": "execute_result"
    }
   ],
   "source": [
    "df = pd.read_json('/Users/beebo/code/rmelbardis/ObjectivelyFunny/raw_data/filtered_scraps_from_the_loft.json')\n",
    "df.head()"
   ]
  },
  {
   "cell_type": "code",
   "execution_count": 3,
   "id": "27eaaf23",
   "metadata": {},
   "outputs": [],
   "source": [
    "title = df['title']"
   ]
  },
  {
   "cell_type": "code",
   "execution_count": 4,
   "id": "daa92167",
   "metadata": {},
   "outputs": [
    {
     "data": {
      "text/html": [
       "<div>\n",
       "<style scoped>\n",
       "    .dataframe tbody tr th:only-of-type {\n",
       "        vertical-align: middle;\n",
       "    }\n",
       "\n",
       "    .dataframe tbody tr th {\n",
       "        vertical-align: top;\n",
       "    }\n",
       "\n",
       "    .dataframe thead th {\n",
       "        text-align: right;\n",
       "    }\n",
       "</style>\n",
       "<table border=\"1\" class=\"dataframe\">\n",
       "  <thead>\n",
       "    <tr style=\"text-align: right;\">\n",
       "      <th></th>\n",
       "      <th>url</th>\n",
       "      <th>title</th>\n",
       "      <th>full_transcript</th>\n",
       "    </tr>\n",
       "  </thead>\n",
       "  <tbody>\n",
       "    <tr>\n",
       "      <th>195</th>\n",
       "      <td>https://scrapsfromtheloft.com/comedy/adel-kara...</td>\n",
       "      <td>ADEL KARAM: LIVE FROM BEIRUT (2018) – Full Tra...</td>\n",
       "      <td>A NETFLIX COMEDY SPECIAL\\nRecorded at the Casi...</td>\n",
       "    </tr>\n",
       "    <tr>\n",
       "      <th>276</th>\n",
       "      <td>https://scrapsfromtheloft.com/comedy/al-madrig...</td>\n",
       "      <td>AL MADRIGAL: WHY IS THE RABBIT CRYING? (2013) ...</td>\n",
       "      <td>[dog barks] [FisherGreen’s Sisters Brothers pl...</td>\n",
       "    </tr>\n",
       "    <tr>\n",
       "      <th>281</th>\n",
       "      <td>https://scrapsfromtheloft.com/comedy/ali-wong-...</td>\n",
       "      <td>ALI WONG: BABY COBRA (2016) – Full Transcript</td>\n",
       "      <td>Ladies and gentlemen, please welcome to the st...</td>\n",
       "    </tr>\n",
       "    <tr>\n",
       "      <th>291</th>\n",
       "      <td>https://scrapsfromtheloft.com/comedy/amy-schum...</td>\n",
       "      <td>AMY SCHUMER: LIVE AT THE APOLLO (2015) – Full ...</td>\n",
       "      <td>My name is Amy, and it’s my show! ♪ Man ♪ ♪ Uh...</td>\n",
       "    </tr>\n",
       "    <tr>\n",
       "      <th>289</th>\n",
       "      <td>https://scrapsfromtheloft.com/comedy/amy-schum...</td>\n",
       "      <td>AMY SCHUMER: MOSTLY SEX STUFF (2012) – Full Tr...</td>\n",
       "      <td>Fuck, yeah! This is such a big night for you. ...</td>\n",
       "    </tr>\n",
       "    <tr>\n",
       "      <th>326</th>\n",
       "      <td>https://scrapsfromtheloft.com/comedy/amy-schum...</td>\n",
       "      <td>AMY SCHUMER: THE LEATHER SPECIAL (2017) – Full...</td>\n",
       "      <td>[announcer] Ladies and gentleman, and all you ...</td>\n",
       "    </tr>\n",
       "    <tr>\n",
       "      <th>308</th>\n",
       "      <td>https://scrapsfromtheloft.com/comedy/anthony-j...</td>\n",
       "      <td>ANTHONY JESELNIK: CALIGULA (2013) – Full Trans...</td>\n",
       "      <td>Anthony Jeselnik. -MAN: Anthony. -WOMAN: Antho...</td>\n",
       "    </tr>\n",
       "    <tr>\n",
       "      <th>201</th>\n",
       "      <td>https://scrapsfromtheloft.com/comedy/ari-shaff...</td>\n",
       "      <td>ARI SHAFFIR: DOUBLE NEGATIVE (2017) – Full Tra...</td>\n",
       "      <td>Shaffir’s Double Negative collection includes ...</td>\n",
       "    </tr>\n",
       "    <tr>\n",
       "      <th>251</th>\n",
       "      <td>https://scrapsfromtheloft.com/comedy/aziz-ansa...</td>\n",
       "      <td>AZIZ ANSARI: BURIED ALIVE (2013) – Full Transc...</td>\n",
       "      <td>Ladies and gentlemen… Aziz Ansari! Thank you. ...</td>\n",
       "    </tr>\n",
       "    <tr>\n",
       "      <th>296</th>\n",
       "      <td>https://scrapsfromtheloft.com/comedy/aziz-ansa...</td>\n",
       "      <td>AZIZ ANSARI: INTIMATE MOMENTS FOR A SENSUAL EV...</td>\n",
       "      <td>Recorded on July 1, 2009 at The Brentwood Thea...</td>\n",
       "    </tr>\n",
       "  </tbody>\n",
       "</table>\n",
       "</div>"
      ],
      "text/plain": [
       "                                                   url  \\\n",
       "195  https://scrapsfromtheloft.com/comedy/adel-kara...   \n",
       "276  https://scrapsfromtheloft.com/comedy/al-madrig...   \n",
       "281  https://scrapsfromtheloft.com/comedy/ali-wong-...   \n",
       "291  https://scrapsfromtheloft.com/comedy/amy-schum...   \n",
       "289  https://scrapsfromtheloft.com/comedy/amy-schum...   \n",
       "326  https://scrapsfromtheloft.com/comedy/amy-schum...   \n",
       "308  https://scrapsfromtheloft.com/comedy/anthony-j...   \n",
       "201  https://scrapsfromtheloft.com/comedy/ari-shaff...   \n",
       "251  https://scrapsfromtheloft.com/comedy/aziz-ansa...   \n",
       "296  https://scrapsfromtheloft.com/comedy/aziz-ansa...   \n",
       "\n",
       "                                                 title  \\\n",
       "195  ADEL KARAM: LIVE FROM BEIRUT (2018) – Full Tra...   \n",
       "276  AL MADRIGAL: WHY IS THE RABBIT CRYING? (2013) ...   \n",
       "281      ALI WONG: BABY COBRA (2016) – Full Transcript   \n",
       "291  AMY SCHUMER: LIVE AT THE APOLLO (2015) – Full ...   \n",
       "289  AMY SCHUMER: MOSTLY SEX STUFF (2012) – Full Tr...   \n",
       "326  AMY SCHUMER: THE LEATHER SPECIAL (2017) – Full...   \n",
       "308  ANTHONY JESELNIK: CALIGULA (2013) – Full Trans...   \n",
       "201  ARI SHAFFIR: DOUBLE NEGATIVE (2017) – Full Tra...   \n",
       "251  AZIZ ANSARI: BURIED ALIVE (2013) – Full Transc...   \n",
       "296  AZIZ ANSARI: INTIMATE MOMENTS FOR A SENSUAL EV...   \n",
       "\n",
       "                                       full_transcript  \n",
       "195  A NETFLIX COMEDY SPECIAL\\nRecorded at the Casi...  \n",
       "276  [dog barks] [FisherGreen’s Sisters Brothers pl...  \n",
       "281  Ladies and gentlemen, please welcome to the st...  \n",
       "291  My name is Amy, and it’s my show! ♪ Man ♪ ♪ Uh...  \n",
       "289  Fuck, yeah! This is such a big night for you. ...  \n",
       "326  [announcer] Ladies and gentleman, and all you ...  \n",
       "308  Anthony Jeselnik. -MAN: Anthony. -WOMAN: Antho...  \n",
       "201  Shaffir’s Double Negative collection includes ...  \n",
       "251  Ladies and gentlemen… Aziz Ansari! Thank you. ...  \n",
       "296  Recorded on July 1, 2009 at The Brentwood Thea...  "
      ]
     },
     "execution_count": 4,
     "metadata": {},
     "output_type": "execute_result"
    }
   ],
   "source": [
    "df.sort_values('title')[:10]"
   ]
  },
  {
   "cell_type": "markdown",
   "id": "ef352566",
   "metadata": {},
   "source": [
    "# Example of using tmdsimple"
   ]
  },
  {
   "cell_type": "code",
   "execution_count": 5,
   "id": "319cadb1",
   "metadata": {},
   "outputs": [],
   "source": [
    "import tmdbsimple as tmdb\n",
    "tmdb.API_KEY = 'bbc0a7ed538b8063d79dd9ab123aba20'"
   ]
  },
  {
   "cell_type": "markdown",
   "id": "109bb994",
   "metadata": {},
   "source": [
    "## Step 1: searching for the actor's id"
   ]
  },
  {
   "cell_type": "code",
   "execution_count": 17,
   "id": "0cec66ad",
   "metadata": {},
   "outputs": [],
   "source": [
    "name = 'ADEL KARAM'"
   ]
  },
  {
   "cell_type": "code",
   "execution_count": 18,
   "id": "c9edae82",
   "metadata": {},
   "outputs": [
    {
     "name": "stdout",
     "output_type": "stream",
     "text": [
      "[53445]\n"
     ]
    }
   ],
   "source": [
    "search = tmdb.Search()\n",
    "response = search.person(query=name)\n",
    "print([s['id'] for s in search.results])"
   ]
  },
  {
   "cell_type": "markdown",
   "id": "eeebf809",
   "metadata": {},
   "source": [
    "## Step 2: using the id to search for info"
   ]
  },
  {
   "cell_type": "code",
   "execution_count": 12,
   "id": "ba357af5",
   "metadata": {},
   "outputs": [
    {
     "name": "stdout",
     "output_type": "stream",
     "text": [
      "1972-08-20 2 Beirut, Lebanon\n"
     ]
    }
   ],
   "source": [
    "identity = tmdb.People(53445)\n",
    "response = identity.info()\n",
    "print(identity.birthday, identity.gender, identity.place_of_birth)"
   ]
  },
  {
   "cell_type": "markdown",
   "id": "8d3ea878",
   "metadata": {},
   "source": [
    "handling multiple search results (usually the first one, but need to check)"
   ]
  },
  {
   "cell_type": "code",
   "execution_count": 15,
   "id": "ed51c026",
   "metadata": {},
   "outputs": [
    {
     "data": {
      "text/plain": [
       "[591835, 2946658, 3156949]"
      ]
     },
     "execution_count": 15,
     "metadata": {},
     "output_type": "execute_result"
    }
   ],
   "source": [
    "response = search.person(query='ALI WONG')\n",
    "[s['id'] for s in search.results]"
   ]
  },
  {
   "cell_type": "code",
   "execution_count": 16,
   "id": "f9114b93",
   "metadata": {},
   "outputs": [
    {
     "name": "stdout",
     "output_type": "stream",
     "text": [
      "1982-04-19 1  San Francisco, California, USA\n"
     ]
    }
   ],
   "source": [
    "identity = tmdb.People(591835)\n",
    "response = identity.info()\n",
    "print(identity.birthday, identity.gender, identity.place_of_birth)"
   ]
  },
  {
   "cell_type": "markdown",
   "id": "be5e5e4d",
   "metadata": {},
   "source": [
    "## Putting things together"
   ]
  },
  {
   "cell_type": "code",
   "execution_count": 59,
   "id": "a300b38e",
   "metadata": {},
   "outputs": [],
   "source": [
    "def extraction(names):\n",
    "    '''\n",
    "    Taking in a list of actor/actress' names\n",
    "    Returning a dictionary containing their birthday, gender and birthplace\n",
    "    '''\n",
    "    birthday = []\n",
    "    gender = []\n",
    "    birthplace = []\n",
    "    \n",
    "    search = tmdb.Search()\n",
    "    for name in names:\n",
    "        response = search.person(query=name)\n",
    "        id_list = [s['id'] for s in search.results]\n",
    "        # if there is no id result\n",
    "        if len(id_list) < 1:\n",
    "            print(f'No {name} found. Please check the name.')\n",
    "            birthday.append(None)\n",
    "            gender.append(None)\n",
    "            birthplace.append(None)\n",
    "        # if there is more than one result\n",
    "        else:\n",
    "            if len(id_list) > 1:\n",
    "                print('Multiple people found.')\n",
    "                print(id_list)\n",
    "            first_id = id_list[0]\n",
    "            identity = tmdb.People(first_id)\n",
    "            response = identity.info()\n",
    "\n",
    "            birthday.append(identity.birthday)\n",
    "            gender.append(identity.gender)\n",
    "            birthplace.append(identity.place_of_birth)\n",
    "    return {'name': names, 'birthday': birthday, 'gender': gender, 'birthplace': birthplace}"
   ]
  },
  {
   "cell_type": "code",
   "execution_count": 65,
   "id": "ce8b4663",
   "metadata": {},
   "outputs": [
    {
     "name": "stdout",
     "output_type": "stream",
     "text": [
      "No goosdsds found. Please check the name.\n",
      "No dsfsfdsdfs found. Please check the name.\n"
     ]
    },
    {
     "data": {
      "text/html": [
       "<div>\n",
       "<style scoped>\n",
       "    .dataframe tbody tr th:only-of-type {\n",
       "        vertical-align: middle;\n",
       "    }\n",
       "\n",
       "    .dataframe tbody tr th {\n",
       "        vertical-align: top;\n",
       "    }\n",
       "\n",
       "    .dataframe thead th {\n",
       "        text-align: right;\n",
       "    }\n",
       "</style>\n",
       "<table border=\"1\" class=\"dataframe\">\n",
       "  <thead>\n",
       "    <tr style=\"text-align: right;\">\n",
       "      <th></th>\n",
       "      <th>name</th>\n",
       "      <th>birthday</th>\n",
       "      <th>gender</th>\n",
       "      <th>birthplace</th>\n",
       "    </tr>\n",
       "  </thead>\n",
       "  <tbody>\n",
       "    <tr>\n",
       "      <th>0</th>\n",
       "      <td>AMY SCHUMER</td>\n",
       "      <td>1981-06-01</td>\n",
       "      <td>1.0</td>\n",
       "      <td>New York, New York, USA</td>\n",
       "    </tr>\n",
       "    <tr>\n",
       "      <th>1</th>\n",
       "      <td>goosdsds</td>\n",
       "      <td>None</td>\n",
       "      <td>NaN</td>\n",
       "      <td>None</td>\n",
       "    </tr>\n",
       "    <tr>\n",
       "      <th>2</th>\n",
       "      <td>dsfsfdsdfs</td>\n",
       "      <td>None</td>\n",
       "      <td>NaN</td>\n",
       "      <td>None</td>\n",
       "    </tr>\n",
       "    <tr>\n",
       "      <th>3</th>\n",
       "      <td>AZIZ ANSARI</td>\n",
       "      <td>1983-02-23</td>\n",
       "      <td>2.0</td>\n",
       "      <td>Columbia, South Carolina, USA</td>\n",
       "    </tr>\n",
       "  </tbody>\n",
       "</table>\n",
       "</div>"
      ],
      "text/plain": [
       "          name    birthday  gender                      birthplace\n",
       "0  AMY SCHUMER  1981-06-01     1.0         New York, New York, USA\n",
       "1     goosdsds        None     NaN                            None\n",
       "2   dsfsfdsdfs        None     NaN                            None\n",
       "3  AZIZ ANSARI  1983-02-23     2.0   Columbia, South Carolina, USA"
      ]
     },
     "execution_count": 65,
     "metadata": {},
     "output_type": "execute_result"
    }
   ],
   "source": [
    "new_dict = extraction(['AMY SCHUMER', 'goosdsds', 'dsfsfdsdfs', 'AZIZ ANSARI'])\n",
    "pd.DataFrame.from_dict(new_dict)"
   ]
  },
  {
   "cell_type": "code",
   "execution_count": null,
   "id": "811d8fa5",
   "metadata": {},
   "outputs": [],
   "source": []
  }
 ],
 "metadata": {
  "kernelspec": {
   "display_name": "Python 3 (ipykernel)",
   "language": "python",
   "name": "python3"
  },
  "language_info": {
   "codemirror_mode": {
    "name": "ipython",
    "version": 3
   },
   "file_extension": ".py",
   "mimetype": "text/x-python",
   "name": "python",
   "nbconvert_exporter": "python",
   "pygments_lexer": "ipython3",
   "version": "3.8.12"
  },
  "toc": {
   "base_numbering": 1,
   "nav_menu": {},
   "number_sections": true,
   "sideBar": true,
   "skip_h1_title": false,
   "title_cell": "Table of Contents",
   "title_sidebar": "Contents",
   "toc_cell": false,
   "toc_position": {},
   "toc_section_display": true,
   "toc_window_display": false
  }
 },
 "nbformat": 4,
 "nbformat_minor": 5
}

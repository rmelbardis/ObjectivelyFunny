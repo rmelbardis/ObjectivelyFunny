{
 "cells": [
  {
   "cell_type": "markdown",
   "id": "7914c7a2",
   "metadata": {
    "slideshow": {
     "slide_type": "skip"
    }
   },
   "source": [
    "# Le Wagon Data Science Project Pitch"
   ]
  },
  {
   "cell_type": "markdown",
   "id": "e9420eb0",
   "metadata": {
    "slideshow": {
     "slide_type": "slide"
    }
   },
   "source": [
    "# Objectively Funny\n",
    "### Adventures in Comedy AI\n",
    "Reinis Melbardis\n",
    "25/02/2022, London"
   ]
  },
  {
   "cell_type": "markdown",
   "id": "6d36db13",
   "metadata": {
    "slideshow": {
     "slide_type": "fragment"
    }
   },
   "source": [
    "<img src=\"https://miro.medium.com/max/750/1*MzKEdDDJhdrmRP6ssOuleQ.jpeg\" \n",
    "     alt = \"C3PO being a jokester\"\n",
    "     width=\"300\" \n",
    "     height=\"300\" />"
   ]
  },
  {
   "cell_type": "markdown",
   "id": "3b607bf1",
   "metadata": {
    "slideshow": {
     "slide_type": "slide"
    }
   },
   "source": [
    "## Problem Statement"
   ]
  },
  {
   "cell_type": "markdown",
   "id": "99c0c3f3",
   "metadata": {
    "slideshow": {
     "slide_type": "fragment"
    }
   },
   "source": [
    "😃 Comedy is nuanced and a highly \"human\" thing.\n",
    "\n",
    "📚 Can we gain insight into what humour is through data analysis?\n",
    "\n",
    "🧠 Can artificial brains be funny?"
   ]
  },
  {
   "cell_type": "markdown",
   "id": "278ea887",
   "metadata": {
    "slideshow": {
     "slide_type": "slide"
    }
   },
   "source": [
    "## 📜 Data\n",
    "### Full list\n",
    "\n",
    "[Scraps From the Loft - Full Scripts of Stand-up specials](http://scrapsfromtheloft.com/stand-up-comedy-scripts/) - ❗\n",
    "\n",
    "[IMDB - Review Scores](https://www.imdb.com/)\n",
    "\n",
    "[Rotten Tomatoes - Review Scores](https://www.rottentomatoes.com/)\n",
    "\n",
    "[Kaggle SComedy](https://www.kaggle.com/eduardo4jesus/scomedy)\n",
    "\n",
    "[Kaggle Short Jokes](https://www.kaggle.com/abhinavmoudgil95/short-jokes)\n",
    "\n",
    "Netflix Subtitles (if more needed)"
   ]
  },
  {
   "cell_type": "code",
   "execution_count": 14,
   "id": "3249274e",
   "metadata": {
    "slideshow": {
     "slide_type": "skip"
    }
   },
   "outputs": [],
   "source": [
    "def scrape_loft():\n",
    "\n",
    "    '''\n",
    "    Scrapes every title and url from the list of stand-up comedy scripts on Scraps From the Loft\n",
    "    returns a dictionary of urls and titles \n",
    "    '''\n",
    "    url = 'http://scrapsfromtheloft.com/stand-up-comedy-scripts/'\n",
    "\n",
    "    response = requests.get(url)\n",
    "    soup = BeautifulSoup(response.content, 'html.parser')\n",
    "    \n",
    "    titles_html = soup.find_all(['h1', 'h3'], class_=\"elementor-post__title\")\n",
    "    \n",
    "    title_list = []\n",
    "    url_list = []\n",
    "    for title in titles_html:\n",
    "        script_url = title.find('a').get('href')\n",
    "        script_title = title.find('a').string.strip('\\n').strip('\\t')\n",
    "        url_list.append(script_url)\n",
    "        title_list.append(script_title)\n",
    "    \n",
    "    return {'url': url_list, 'title': title_list}\n",
    "\n",
    "def scrape_script(url):\n",
    "    '''\n",
    "    Scrapes descriptions and full scripts of individual pages from stand-up comedy scripts on Scraps From the Loft\n",
    "    returns: description_list, script_list\n",
    "    '''\n",
    "    script_response = requests.get(url)\n",
    "    script_soup = BeautifulSoup(script_response.content, 'html.parser')\n",
    "    \n",
    "    description = script_soup.find(name='div', attrs={'data-id': \"53e7c39\"})\\\n",
    "                .find('div', class_=\"elementor-widget-container\").string.strip('\\n').strip('\\t')\n",
    "    \n",
    "    content = script_soup.find_all('p', attrs={'style': \"text-align: justify;\"})\n",
    "    \n",
    "    _lst = []\n",
    "    for paragraph in content:\n",
    "        text = ''.join(list(paragraph.strings))\n",
    "        _lst.append(text)\n",
    "    full_script = '\\n\\n'.join(_lst)\n",
    "    \n",
    "    return [description, full_script]\n",
    "\n",
    "def script_dict(url_list):\n",
    "    descriptions = []\n",
    "    full_transcripts = []\n",
    "    for url in url_list:\n",
    "        _result = scrape_script(url)\n",
    "        descriptions.append(_result[0])\n",
    "        full_transcripts.append(_result[1])\n",
    "    return {'description': descriptions, 'full_transcript': full_transcripts}\n"
   ]
  },
  {
   "cell_type": "code",
   "execution_count": 25,
   "id": "c43138a8",
   "metadata": {
    "slideshow": {
     "slide_type": "skip"
    }
   },
   "outputs": [],
   "source": [
    "df_dict = {**scrape_dict, **scripts}\n",
    "df = pd.DataFrame(df_dict)"
   ]
  },
  {
   "cell_type": "code",
   "execution_count": 42,
   "id": "fed5a73e",
   "metadata": {
    "slideshow": {
     "slide_type": "skip"
    }
   },
   "outputs": [],
   "source": [
    "from nltk.tokenize import word_tokenize\n",
    "import string \n",
    "\n",
    "def remove_punc(text):\n",
    "    txt = text\n",
    "    for punc in string.punctuation:\n",
    "        txt = txt.replace(punc, '')\n",
    "    return txt\n",
    "\n",
    "df['full_words'] = df['full_transcript'].apply(remove_punc).apply(word_tokenize)"
   ]
  },
  {
   "cell_type": "code",
   "execution_count": 44,
   "id": "d34a3fed",
   "metadata": {
    "slideshow": {
     "slide_type": "skip"
    }
   },
   "outputs": [],
   "source": [
    "df['num_words'] = df['full_words'].str.len()"
   ]
  },
  {
   "cell_type": "code",
   "execution_count": 46,
   "id": "6464dc37",
   "metadata": {
    "slideshow": {
     "slide_type": "skip"
    }
   },
   "outputs": [
    {
     "data": {
      "text/plain": [
       "10378.4"
      ]
     },
     "execution_count": 46,
     "metadata": {},
     "output_type": "execute_result"
    }
   ],
   "source": [
    "df['num_words'].mean()"
   ]
  },
  {
   "cell_type": "markdown",
   "id": "b84de575",
   "metadata": {
    "slideshow": {
     "slide_type": "subslide"
    }
   },
   "source": [
    "### Main Source - Scraps From the Loft\n",
    "- 384 individual scripts (not all usable)\n",
    "- full-length scripts have ~10 000 words per script\n",
    "- Expect approximately **3.5m words** in total"
   ]
  },
  {
   "cell_type": "code",
   "execution_count": 47,
   "id": "71f271dc",
   "metadata": {
    "slideshow": {
     "slide_type": "fragment"
    },
    "tags": [
     "remove_input"
    ]
   },
   "outputs": [
    {
     "data": {
      "text/html": [
       "<div>\n",
       "<style scoped>\n",
       "    .dataframe tbody tr th:only-of-type {\n",
       "        vertical-align: middle;\n",
       "    }\n",
       "\n",
       "    .dataframe tbody tr th {\n",
       "        vertical-align: top;\n",
       "    }\n",
       "\n",
       "    .dataframe thead th {\n",
       "        text-align: right;\n",
       "    }\n",
       "</style>\n",
       "<table border=\"1\" class=\"dataframe\">\n",
       "  <thead>\n",
       "    <tr style=\"text-align: right;\">\n",
       "      <th></th>\n",
       "      <th>url</th>\n",
       "      <th>title</th>\n",
       "      <th>description</th>\n",
       "      <th>full_transcript</th>\n",
       "      <th>full_words</th>\n",
       "      <th>num_words</th>\n",
       "    </tr>\n",
       "  </thead>\n",
       "  <tbody>\n",
       "    <tr>\n",
       "      <th>0</th>\n",
       "      <td>https://scrapsfromtheloft.com/comedy/brian-reg...</td>\n",
       "      <td>Brian Regan: On The Rocks (2021) – Transcript</td>\n",
       "      <td>Brian Regan tackles the big issues weighing on...</td>\n",
       "      <td>Filmed in 2020 at the Tuacahn outdoor amphithe...</td>\n",
       "      <td>[Filmed, in, 2020, at, the, Tuacahn, outdoor, ...</td>\n",
       "      <td>7942</td>\n",
       "    </tr>\n",
       "    <tr>\n",
       "      <th>1</th>\n",
       "      <td>https://scrapsfromtheloft.com/comedy/tom-segur...</td>\n",
       "      <td>Tom Segura: Disgraceful (2018) – Transcript</td>\n",
       "      <td>Tom Segura gives voice to the sordid thoughts ...</td>\n",
       "      <td>[announcer] Ladies and gentlemen… [audience wh...</td>\n",
       "      <td>[announcer, Ladies, and, gentlemen…, audience,...</td>\n",
       "      <td>13098</td>\n",
       "    </tr>\n",
       "    <tr>\n",
       "      <th>2</th>\n",
       "      <td>https://scrapsfromtheloft.com/comedy/chris-roc...</td>\n",
       "      <td>Chris Rock: Bigger &amp; Blacker (1999) – Transcript</td>\n",
       "      <td>Chris Rock brings his critically acclaimed bra...</td>\n",
       "      <td>Ladies and gentlemen… live from the world-famo...</td>\n",
       "      <td>[Ladies, and, gentlemen…, live, from, the, wor...</td>\n",
       "      <td>9494</td>\n",
       "    </tr>\n",
       "    <tr>\n",
       "      <th>3</th>\n",
       "      <td>https://scrapsfromtheloft.com/comedy/jim-gaffi...</td>\n",
       "      <td>Jim Gaffigan: Comedy Monster (2021) | Transcript</td>\n",
       "      <td>Stand-up special by Jim Gaffigan.</td>\n",
       "      <td>Thank you! Thank you! Oh, my gosh. Thank you s...</td>\n",
       "      <td>[Thank, you, Thank, you, Oh, my, gosh, Thank, ...</td>\n",
       "      <td>11273</td>\n",
       "    </tr>\n",
       "    <tr>\n",
       "      <th>4</th>\n",
       "      <td>https://scrapsfromtheloft.com/comedy/louis-c-k...</td>\n",
       "      <td>Louis C. K.: Sorry (2021) | Transcript</td>\n",
       "      <td>Louis C.K. being Louis C.K. without restraint.</td>\n",
       "      <td>♪♪ [“Like a Rolling Stone” by Bob Dylan playin...</td>\n",
       "      <td>[♪♪, “, Like, a, Rolling, Stone, ”, by, Bob, D...</td>\n",
       "      <td>10085</td>\n",
       "    </tr>\n",
       "  </tbody>\n",
       "</table>\n",
       "</div>"
      ],
      "text/plain": [
       "                                                 url  \\\n",
       "0  https://scrapsfromtheloft.com/comedy/brian-reg...   \n",
       "1  https://scrapsfromtheloft.com/comedy/tom-segur...   \n",
       "2  https://scrapsfromtheloft.com/comedy/chris-roc...   \n",
       "3  https://scrapsfromtheloft.com/comedy/jim-gaffi...   \n",
       "4  https://scrapsfromtheloft.com/comedy/louis-c-k...   \n",
       "\n",
       "                                              title  \\\n",
       "0     Brian Regan: On The Rocks (2021) – Transcript   \n",
       "1       Tom Segura: Disgraceful (2018) – Transcript   \n",
       "2  Chris Rock: Bigger & Blacker (1999) – Transcript   \n",
       "3  Jim Gaffigan: Comedy Monster (2021) | Transcript   \n",
       "4            Louis C. K.: Sorry (2021) | Transcript   \n",
       "\n",
       "                                         description  \\\n",
       "0  Brian Regan tackles the big issues weighing on...   \n",
       "1  Tom Segura gives voice to the sordid thoughts ...   \n",
       "2  Chris Rock brings his critically acclaimed bra...   \n",
       "3                  Stand-up special by Jim Gaffigan.   \n",
       "4     Louis C.K. being Louis C.K. without restraint.   \n",
       "\n",
       "                                     full_transcript  \\\n",
       "0  Filmed in 2020 at the Tuacahn outdoor amphithe...   \n",
       "1  [announcer] Ladies and gentlemen… [audience wh...   \n",
       "2  Ladies and gentlemen… live from the world-famo...   \n",
       "3  Thank you! Thank you! Oh, my gosh. Thank you s...   \n",
       "4  ♪♪ [“Like a Rolling Stone” by Bob Dylan playin...   \n",
       "\n",
       "                                          full_words  num_words  \n",
       "0  [Filmed, in, 2020, at, the, Tuacahn, outdoor, ...       7942  \n",
       "1  [announcer, Ladies, and, gentlemen…, audience,...      13098  \n",
       "2  [Ladies, and, gentlemen…, live, from, the, wor...       9494  \n",
       "3  [Thank, you, Thank, you, Oh, my, gosh, Thank, ...      11273  \n",
       "4  [♪♪, “, Like, a, Rolling, Stone, ”, by, Bob, D...      10085  "
      ]
     },
     "execution_count": 47,
     "metadata": {},
     "output_type": "execute_result"
    }
   ],
   "source": [
    "df"
   ]
  },
  {
   "cell_type": "code",
   "execution_count": 33,
   "id": "68d5c5cc",
   "metadata": {
    "slideshow": {
     "slide_type": "subslide"
    },
    "tags": [
     "remove_input"
    ]
   },
   "outputs": [
    {
     "name": "stdout",
     "output_type": "stream",
     "text": [
      "Thank you! Thank you! Oh, my gosh. Thank you so much. Thank you. Thank you. Aw, thank you so much. Thank you.\n",
      "\n",
      "Aw… That’s so nice. That almost makes me forget we’re all gonna be dead in a week. I’m kidding. It’ll probably be a month.\n",
      "\n",
      "Remember when we thought the pandemic was over? Everyone was so happy. “We did it!” We probably looked so stupid. Everyone was patting themselves on the back. “You know, I’m just glad I could help out the sick, by staying inside.” “It’s not over? Well, I’m not going back in.” “Those sick people have to die.” ‘Cause it’s not over. The pandemic is like a TV show you thought was canceled, and then it got picked up by Netflix. Oh… I didn’t really pace myself for another season.\n",
      "\n",
      "I don’t know about you, I wasn’t planning on seeing my family ever again. Parents know the feeling. It’s like changing that diaper in the middle of the night. You’re exhausted. It’s disgusting. But you have to do it. So you change the diaper, you finally get the sleeper back on, and as you gently lay the baby back in the crib, you hear the diaper fill up again. And that’s what the year 2021 is. Over and over. It’s just a diaper filling up over and over.\n",
      "\n",
      "I kind of miss the early days of the pandemic. Those were fun. Back when we thought washing our hands would protect us. “Everyone, wash your hands. We’ll be fine.” “Okay.” Remember before there were readily available tests, everyone had that friend that used to brag “Yeah, I already had COVID.” “I had it back in ’91.” “Yeah. Back then, it was called COVID-91.” “Had it a couple times. Got rid of it by washing my hands.”\n",
      "\n",
      "‘Cause the symptoms were confusing. They’re still confusing. It’s like, “What are the symptoms?” “Everything.” “What do you mean, everything?” “Asking a question is a symptom.” “Well, that can’t be true.” “Denial is a major symptom.” Did you wipe down your groceries? I did that. It felt so silly. You know, like, “I’m just a normal guy cleaning a Triscuit box.” “Is this what OCD feels like?” Couple weeks later, you’re like, “Nah, they look clean to me.” “I cleaned ’em.”\n",
      "\n",
      "But you had to take the precautions. There was no uniformity. Everyone talked a big game, right? “Oh, we’re on lockdown.” “No work, no school, you know.” “We got our bubble.” “Bubble’s just my family and these two people we see at a weekly sex party.” “I figured, better safe than sorry.”\n",
      "\n",
      "‘Cause we all went through the same pandemic, but we didn’t have the same experience, right? There were factors. Like, if you were 25 and healthy, you’re like, “Whatever. I’m going on a COVID cruise.” But if you were over the age of 25… And it may surprise you, but I am… …you watched the news more closely, right? The news guys would be like, “High-risk people are older.” You’re like, “Well, how old?” “Like old old, or didn’t-have-a-cellphone-in-high-school old?” Right? ‘Cause nobody thinks of themselves as old.\n",
      "\n",
      "The reality of your age just occasionally slaps you across the face. I did this benefit for a hospital. It was a fancy event. When I showed up, the woman running the event was like, “Oh, my gosh. We went to the same college.” She was younger, but we talked and we realized we hung out at the same places. At the end of the event, I was leaving and she ran up to me, she was like, “I need to know what year you graduated college.” I was like, “1988.” And she was like, “Oh, my gosh. That’s the year I was born.” Slap! Right across the face. I didn’t even know what to say. I was like, “Ah, that’s the year I was born too.” She looked at me like, “That’s not funny.” And then I got in my car and stuffed food in my mouth until I stopped feeling anything.\n",
      "\n",
      "Sometimes you had to decipher the news. Right? The newscaster would be like, “The vulnerable are older and people with comorbidities.” You’re like, “Co what?” “Comorbidity.” Which eventually we figured out was just code for, “All the fat asses are gonna die.” But they couldn’t say that on the news. They couldn’t have Sanjay Gupta be like, “Well, Anderson, all the fat asses are gonna die.” So they said comorbidities. And at home, we were like, “Honey, what is a comorb…” “I don’t know. Pass the gravy.” In time, we figured out they were talking about fat people. And if you were overweight, you were like, “How fat?” Or like, “Are we talking Walmart fat or Jim Gaffigan fat?”\n",
      "\n",
      "I got the message. I dunno, I totally got the message. I started working out. I started eating healthy. I was going good. Then one day I looked in the mirror and I was like, “Ah, enough of that.” Turns out, life or death, not the motivator you’d think it would be. “You could live longer.” “Not a good enough reason.” “Can you sweeten the deal, maybe throw in a pizza?” I tried. I tried.\n",
      "\n",
      "My wife bought me a scale, so the romance is still alive. I didn’t ask for it. She gave it to me as a gift. I could never do something like that. “Happy birthday, honey. I bought you a scale and some makeup.” “Just lookin’ out for you, sweetie.” It’s a high-tech scale. Comes with an app so the government can know how overweight I am. I don’t know why there’s an app. Maybe so I can be the victim of Ransomware. “Pay up or we’re telling everyone how fat you are.” “But I don’t have any crypto currency.” I set up the app, stood on the scale, my weight showed up on the phone, 150 pounds. All right, it was over 200. All right, it was way over 200. If it was an old-fashioned scale, you wouldn’t see the number 200. But it was in the 200 family. And underneath my weight, on the phone, there was this word in small red lettering. I didn’t have my glasses on so I asked my daughter. I was like, “What does that say?” She was like, “Obese.” Slap! Right across the face. I just looked at my daughter, I’m like, “Ah, I gotta update this app.” And then I ran to the kitchen and stuffed food in my mouth till I stopped feeling anything.\n",
      "\n",
      "Still wearing masks. There was that time when nobody had to wear a mask, right? That was a fun day. Remember the first time you went out in public without a mask? It was weird, right? You felt naked. You were like, “Oh, I’m so European.” “What is this, the French Riviera?” I was kind of tempted to wear, like, a thong mask. You know, something tasteful yet naughty. “I can see his cheeks, but there’s still a mystery.” “Ooh-la-la.”\n",
      "\n",
      "♪ Round and pale and mostly balding ♪\n",
      "♪ The boy from Indiana goes walking ♪\n",
      "♪ And as he does All the people he pass go ♪\n",
      "♪ “Yuck!” ♪\n",
      "\n",
      "Initially, it was strange seeing other people’s faces without a mask. You wanted to go up to some people like, “You should stick with the mask.” “It’s a better look for you. You in a mask is better for everyone.” Did you meet anyone during the pandemic where you only knew them with a mask? And then when you finally saw them barefaced, you’re like, “Yikes.” You felt like you were catfished. You’re like, “Wow, your face doesn’t match your voice at all.” “And who stole your chin?”\n",
      "\n",
      "Of course, the biggest reveal of the pandemic was how many crazy people there are. That was a bit of a surprise. We all knew there were some Unabombers out there, but, nobody thought there were that many. Or that we were related to a couple of them. You know? ‘Cause everyone had that relative or friend that came out as bonkers. “I no longer believe in reality.” “Good to know.” It was like a gender reveal for insanity. “The truth is no longer true.” “See you at Thanksgiving.”\n",
      "\n",
      "I feel like it happened for me more often ’cause I’ve always had friends that are eccentric thinkers and they’re normally really entertaining. They’re like, “Bigfoot’s real, man. Bigfoot is real.” But that same person, at one point during the pandemic, was like, “Tom Hanks eats babies.” “Don’t say that.” “Tom Hanks does eat babies.” “And if you don’t believe that, then you eat babies.” “All right.” “Tom Hanks eats babies.” “He always seemed like a baby-eater to me.”\n",
      "\n",
      "The thing I missed most during the lockdown was restaurants. I know that’s a surprise. I didn’t even realize how much I missed restaurants ’til the first time I went out to eat and I caught myself catcalling other people’s food. “Oh, yeah.” “What I would do to you.” “Get me a fork and knife.” “Jim, you’re in public.” “Oh, sorry.”\n",
      "\n",
      "This is gonna kind of sound pandering, but I believe the pandemic has been hardest on mothers. Definitely hardest on mothers. Right? Or the men who had to live with those mothers. It was insane for… I don’t know how my wife did it.\n",
      "\n",
      "We had five children doing distance-learning. And my kids were good. They totally kept a distance from learning. We asked children to do school on the same device they play Minecraft. It’s like holding a Weight Watchers meeting in a Wendy’s. I mean, it was insane. I definitely gained an appreciation for how difficult it is to be a teacher. And what a poor career choice that was. Right?\n",
      "\n",
      "I guess it was, uh, after the first case of Scotch, I turned to my wife… …and I said, “When this is over, if there’s even an opening, I’ll take you wherever you wanna go. Wherever you wanna go.” My wife was like, “I want to go to Hawaii.” And I was like, “I was thinking more Tri-State area.” She was like, “I wanna go to Hawaii and I wanna bring the kids.” And I was like, “Whose kids?” She was like, “Our kids.” I did the research, saw that it was cheaper than a divorce, so we went to Hawaii. And… Hawaii is such a special place. It really is. It’s like there’s the “Aloha Spirit”, where people greet each other with “Aloha,” but I’m so awkward, so they’ll be like, “Aloha,” and I’ll be like, “Hello ha.” Does that mean something? That means…\n",
      "\n",
      "Even when I would use the Hawaiian terms properly, it would backfire. Like if I said, “Mahalo,” the natives would look at me like, “You don’t have to do that.” “Just nod your head and we’ll bring you pork.”\n",
      "\n",
      "‘Cause I stuck out in Hawaii. I didn’t even look like a tourist. I looked like someone they brought in to make the tourists feel more comfortable. “You’re fine. You wanna see awkward, look at Jim Gaffigan.”\n",
      "\n",
      "Hawaii, it’s incomparable to any other state. It’s a tropical paradise. It’s almost like Hawaii was this Polynesian island nation that we just took over. You know what I mean? Like, it wasn’t even part of the United States. We just went in like it was an open house. “Nice. Nice.” “We could do our honeymoon here. We’ll take it.” The Hawaiians were like, “We’re our own country.” “That’s cute. I love your flower shirt. Gotta get one of them.” And Hawaiians will tell you, they’ll come right up to you. They’ll be, “You stole this land.” And I’m like, “Don’t know how to break it to you, but we stole all the land.” “Probably just stings a little more ’cause it’s pretty here.” “Believe me, there’s people in Detroit pissed at us.”\n",
      "\n",
      "My wife chose Hawaii because my wife loves the beach. And as you can see, so do I. I spent the entire time applying and re-applying sunscreen which, thankfully, makes my skin whiter. What cruel bastard decided that the goo that protects pale people from the sun should also make them look like White Walkers? It’s… it’s just cruel. They should offer other colors. “Cool. There’s one of the guys from Blue Man Group.” I don’t even know why sunscreen is white. What was the thinking? “Well, you know, those pale people love ranch dressing, so…” “…let’s keep it in their wheelhouse.” ‘Cause I don’t tan. I don’t kind of tan. There’s no medium rare for me. I either look like I’ve never been outside, or I was just released from a burn unit. There’s no in-between.\n",
      "\n",
      "And I know people go to the beach to relax. People find the beach very relaxing. Not so much for me. It’s like being allergic to bees and then, for vacation, becoming a beekeeper. My one goal was to just not burn. I didn’t want to be the sunburned adult. You see a kid with a sunburn, you’re like, “Parenting is hard.” You see an adult with a sunburn, you’re like, “That’s an alcoholic.” Right? ‘Cause… A sunburn on an adult is like a scarlet letter for poor judgment. There is no excuse. “Well, I was caught off-guard this time.” “I didn’t know the fireball in the sky would be hot this time.”\n",
      "\n",
      "When we weren’t at the beach, we did activities. I went zip-lining for the last time. What is wrong with us? “Hey, you wanna feel like you’re about to die?” “Would you pay 200 dollars to feel like you’re about to die six times?” Why don’t you just walk into traffic? “Did you see that bus almost hit me? I feel so alive.” Why don’t you just take off your mask at a biker rally? You know? If you’ve been zip-lining, you know to slow down, you have to spread out your arms and legs. That supposedly slows you down. It also makes it look like a suicide. “Oh, if he didn’t wanna die, why was he doing the chalk outline?” It’s such a weird… How did they even come up with zip-lining? “Hey, you know how telephone poles have a wire between ’em?” “What if we just put the tourists up there?” “Why would tourists do that?” “Don’t know. Why would they pay to swim with sharks?”\n",
      "\n",
      "We did go snorkeling. I wasn’t worried for myself ’cause I figured sharks would look at my legs and be like, “Those can’t be real.” “I’m not gonna bite into another mannequin, that’s for sure.”\n",
      "\n",
      "Sometimes, when my family would go to the beach, I’d go for a hike by myself, which was boring, but I figured how to make it fun. I started bringing a ketchup packet, and halfway through the hike, I’d open up the ketchup packet and rub it on my hands and my face, then I’d just approach romantic couples. “Have you seen my wife?” “No.” “But you heard her sassing off to me, right?” “I can still smell her sin.” “Jim, that joke’s scary.” “That’s a scary joke.”\n",
      "\n",
      "The pandemic continues, but we’re… we’re also processing part of the pandemic. We went a year and a half with no weddings, no kids’ birthday parties, no family reunions, but it wasn’t all good news. Right? Right? Huh? Some things… I don’t think some things are coming back. Like parades. I think that might be a wrap on parades. There was never anything that impressive about a parade. You’re all like, “Hey, kids, look. People are… walking.” “Creating unnecessary traffic.” Before the pandemic, if you ran into a parade, you were never like, “Oh, cool, a parade.” You were always kind of like, “I hate humans.” The only people really enjoying the parade were the people marching in the parade. Even the people on the sidewalk were like, “How long is this?” Of course, the highlight of most parades is the marching band, right? And on TV, that bird’s-eye view of the marching band is so impressive, right? But on a street level, you always felt like you were being invaded by nerds. “Uh-oh. Here they come. Hide your Xbox.”\n",
      "\n",
      "But marching bands are amazing, right? They practice as much as the athletes. They’re always rehearsing. It’s amazing how much effort goes into creating something that no one really likes. I’m kidding. I know there’s some marching band people here and it… And then for those… You know, like… The reality is, a marching band can take a song… It’s pretty impressive… any song, and ruin it. You know, like, “Wow, I didn’t know I could hate ‘Uptown Funk’ that much.” You’re never listening to a song and think, “I wish there was a marching band version of this.” And I understand there’s some proud marching band people here. And in full disclosure, I could never be in a marching band ’cause I’ve had sex. “He’s… He’s gonna get beat up by a marching band.” No, I know that people cherish their time in the marching band, they do. But to me, it just seems like we’re dissuading careers in music. It’s like, “Oh, you wanna be a musician? Okay.” “Put on this Captain Crunch costume.” “At halftime, march around the field while we grab some hot dogs.” “Do that for a couple semesters, then we’ll see if you still wanna be a musician.”\n",
      "\n",
      "Did you know that…? I didn’t know this. Marching bands started as military bands. They would march armies into battle, and they were for morale and to intimidate the enemy. I don’t know how that would work. “Oh, no. They know Fleetwood Mac.” “Should we go back?” “What if Lindsey Buckingham is with them?” How did they convince someone playing a trumpet to march into battle… “Head on in there.” “Won’t they have weapons?” “You’re gonna fight them with music.” “If you survive, please wake us up in the morning with a…” I love it when trumpet players have the plunger at the end. Who came up with that? “You know, I was listening to you play the trumpet and it reminded me of when I clogged my toilet.” “I’d eaten six Big Macs on a dare, anyway.” “Uh, I brought my plunger. It’s kind of clean.” “If you could place it at the end of your expensive music equipment, and give me a ‘wah-wah.'” “Go ahead.” “Have you ever thought of becoming a plumber?”\n",
      "\n",
      "It’s ridiculous. People always know someone who looks like me. Wherever I go, once a week, someone will come up to me and go, “Hey, I know someone that looks like you.” I never know what to say. “Well, tell him ‘Hi.'” “Encourage them to wear sunscreen.” And this person who looks like me never doing something impressive with their life. “Yeah, he mows our lawn.” “We don’t even pay him. He just does it.” That sounds like my gene pool. Occasionally, on social media, I’ll be sent photos of babies who supposedly look like me. “This baby looks like Jim Gaffigan.” People think it’s hysterical that I look like a pale, pudgy, bald infant who poops in a diaper. Sometimes, people get too cute. They’re like, “Hey, why does our baby son look like Jim Gaffigan?” I’m like, “‘Cause I slept with your wife.”\n",
      "\n",
      "Now if you think it’s humiliating to be told you look like a baby, you should know I’ve also been sent photos of cats that supposedly… …look like me. Not once or twice, we’re talking about dozens of different cats. Always the same message. “This cat looks like Jim Gaffigan.” I don’t know what they’re implying, you know. That I fathered a cat out of wedlock? When I was lonely after a show so I went for a walk and… an alley cat asked for a cigarette and… I said I don’t smoke and… well, we started talking and… before you know it, the sun was coming up. I never saw that cat again. I can still smell her dander. Now, if you think it’s humiliating to be told you look like a baby or a cat, you should know I was once sent a photo of someone’s kneecap… …with the message, “This kneecap looks like Jim Gaffigan.” – And you know what? – I did look like that kneecap. But I don’t know what they were implying, you know. That I fathered a kneecap out of wedlock? That I was lonely after a show and… I went for a walk and a kneecap asked for a cigarette and… and I said I don’t smoke and… we started talking. Before you know it, the sun was coming up. I never saw that kneecap again. Now, if you think it’s humiliating… …to be told you look like the fleshy, wrinkly part of a stranger’s leg… it is. Or, uh, you know, I thought it was. And then I had this realization. I figured out what had happened. You know, it all made sense. There might be one person in here that’s like, “Jim, you’re crazy.” But I think the rest of you will see the logic here. What happened is, this kneecap person, obviously, went to a plastic surgeon… Right? And said, “I would like my kneecap to look like the most underrated comedian in America.” Right? And the plastic surgeon said, “You mean John Mulaney?” And the kneecap person said, “No, Jim Gaffigan.” And the plastic surgeon said, “I don’t know who that is.” And then the kneecap person said, “He’s kind of a pale, pudgy guy who looks like a baby or a cat.” That’s probably what happened.\n",
      "\n",
      "That’s weird. I normally get told I look like other humans though. I, uh… In Utah, I always get told I look Mormon. I didn’t even know you could look like a religion. But apparently, I do. And I’ve done research. I don’t look like one of the founders of the Mormons. I don’t look like a present leader of the Mormons. I don’t even look like a guy who could have more than one wife. I just somehow look Mormon. Of course, the Mormons no longer practice polygamy. But for a while there, a Mormon man could have more than one wife. I don’t know if that was a selling point. ‘Cause I love my wife, and I can honestly say I don’t want another one. I feel like disappointing one person is enough. Could you imagine having two spouses mad at you? And you couldn’t drink coffee? No, thanks.\n",
      "\n",
      "I hope it doesn’t sound like I’m picking on Mormons. Most organized religions have negative stereotypes. Luckily, I’m Catholic, so I don’t have to worry about that, all right. Sometimes people don’t believe me. Like, “Are you really Catholic?” “No, I’m just saying that to impress you.” “I wanna come across like I have good judgment.”\n",
      "\n",
      "At this point, it’s almost like Catholics are trying to lose followers. They’re like, “What else can we do? What else?” “Why don’t we make Bill Cosby pope? Let’s try that.” Catholics have made an art of shrinking their religion. Even back to the Great Schism of 1054 where the Eastern Orthodox and the Roman Catholics split apart, the Orthodox were like, “We wanna celebrate Christmas in January.” And the Catholics were like, “We like pedophiles.” I know. That one’s hard for me too. And then there was the, uh, Protestant Reformation. You didn’t even know this is a religion history class, did you? No, there was the Protestant Reformation in the 1500s when Martin Luther, who probably thought he’d be the most famous Martin Luther… Right? He was like, “That’s it. I’m the king of Martin Luthers.” “Don’t be surprised if one day, I get my own holiday.” No, Martin Luther, he had those 95 problems, but a bitch ain’t one, right? ‘Cause at the time, the Catholic church was super corrupt. Thankfully, it’s not anymore.\n",
      "\n",
      "Some Catholics get really angry. “You’re so critical of Catholic church, why you even Catholic?” Because I believe human beings are inherently flawed. That’s one of the reasons. But mainly, I’m afraid of my wife. Huh?\n",
      "\n",
      "I don’t think there’s anything intrinsically wrong with organized religion. It’s just the human interpretation, right? Most organized religions, God’s saying a similar thing. He’s like, “I want you to love one another.” And the humans are like, “Got it, got it. He said kill gay people, so…” “Let’s get to work.”\n",
      "\n",
      "As a result, all organized religions are struggling right now. Muslims, they’re killing it. Muslims are like, “Oh, Catholics, you think you can alienate people?” “Hold my hummus.” “Let me show you how it’s done.”\n",
      "\n",
      "I’m sure some of you are looking at me like, “Hey, Jim, you look like a former Hitler Youth.” “What are your views on Judaism?” “I’d like to see you destroy your career tonight.” Well, I’m not frightened. I’ll tell you what I think. I think Judaism is perfect. There’s nothing wrong with it. And I’d like to be in more feature films. That’s… That’s some, uh… That’s some good old-fashioned pandering anti-Semitism.\n",
      "\n",
      "Really, the only organized religion, without a negative stereotype, is Buddhism. Right? You’d think more Americans would be Buddhists. ‘Cause if you look at Buddha, he kind of looks like an American. Buddha looks like someone you’d watch the game with. “Buddha always gets a keg for the playoffs.” “Buddha! Buddha!” You know, in real life, Buddha was thin. He wasn’t even a big guy. They made him heavy to make the religion more appealing. ‘Cause at that time, being heavy was a sign of success. Also at that time, being lighter-skinned was a sign of success. So back then, I would have been like Jeff Bezos, so…\n",
      "\n",
      "Bezos. Who’s your favorite billionaire-pretend astronaut? Hmm? Can you believe there’s a choice? And it’s not between just two. We live in a day when billionaires are building their own rockets to fly to outer space, and no one’s saying, “Are you sure they’re paying all their taxes?” “‘Cause I know some teachers that need supplies.” It’s like these billionaires are trying to execute the plan of a five-year-old boy. “When I grow up, I’m gonna be a bazillionaire!” “And I’m gonna build my own spaceship!” “And fly to outer space!” “Okay, Jeffrey.” “But now it’s time for bed.”\n",
      "\n",
      "I almost feel sorry for the accountants of the billionaires. ‘Cause they were like, “You had an amazing year.” “You made 40 billion dollars.” “But I fudged the numbers so it looks like you broke even.” “As long as you lay low and don’t draw attention, we should be fine.” “You got anything coming up?” “I built a rocket…” “…to fly to outer space.” “You know I meant to lay low on this planet.” “Does it matter if the rocket’s shaped like a penis?”\n",
      "\n",
      "I do enjoy the reasoning of the billionaires for going to space. They’re like, “I’m going to outer space so eventually you can go to outer space.” “I’m going so you can go.” “I don’t wanna go to outer space.” “I wanna go to Italy.” Why don’t you work on that?\n",
      "\n",
      "I saw a hitchhiker recently. You never see that anymore. Of course, we no longer refer to them as “hitchhikers.” Now we call them “murderers”. Which is what they do. They murder the nice people that give them rides. Talk about a lack of gratitude. “Thanks for picking me up.” Stab.\n",
      "\n",
      "Hitchhiking disappeared ’cause it was dangerous for both participants. Right? The hitchhiker and the driver. And, you know, at one point, there must have been like a murderer driving around looking to pick up a hitchhiker, and he picked up a hitchhiker who was also a murderer. And the driver was like, “I’m gonna kill you.” And the hitchhiker was like, “I’m gonna kill you.” And I bet they had a laugh. I bet they laughed. And then slowly but surely, “they fell in love.” “And that’s what my musical’s about.” It’s called Hitched.\n",
      "\n",
      "Flew in Thursday, uh, driving from the airport, I saw this guy on a motorcycle and he looked so happy. You know, and whenever I see a motorcycle that’s on the highway, I always have the same thought. “You’re gonna die.” “What are you doing on the highway? You’re gonna die.” And the only reason I say that is ’cause they’re gonna die. I don’t even know what the thinking is. “Well, I have to travel a long distance.” “Should I take the car or this motorized chair with no seat belt?” “If I sneeze, I’ll never walk again.” “Live to ride.” And then die!\n",
      "\n",
      "I heard the motorcycle before I saw it. We’ve all heard those loud motorcycles. “Wow, how small is his penis?” And I didn’t know that’s the reason some motorcycles are so loud is ’cause they want you to know they’re gonna die.\n",
      "\n",
      "I have friends that love motorcycles. Some women are really into bikers. They’re like, “I just like a man who’s dangerous, who can’t afford a car.” “And who’s definitely gonna die.”\n",
      "\n",
      "But bikers are fascinating, right? What a uniquely American subculture. They’re all about macho independence, right? They’re all about the independence. Like, “I just wanna be out on the road, just me and my bike, alone, with 30 other guys.” “In matching outfits.” “Riding in tandem so close, we can French-kiss each other.” He’s gonna get beat up by a marching band and a gang of bikers.\n",
      "\n",
      "Bikers are grown men who make the same phone calls of an eight-year-old boy. “You guys wanna ride bikes tonight?” “Well, I don’t wanna go alone. It’s scary out there. Ask your mommy.”\n",
      "\n",
      "The reason that’s funny is ’cause bikers are so intimidating, right? They’re angry. Bikers seem angry, and I think it’s ’cause they’re cold. Right? That vest with no shirt? That’s gotta be chilly. “Oh, I wish I had a shawl.” “Shawl and my Uggs.” “Maybe a pumpkin spice latte.” That vest with no shirt is so common among bikers. Is there like peer pressure? “Look at Curtis over there, wearing a T-shirt under his vest like a girl.” “Let’s kick his ass.” “And then kiss him.”\n",
      "\n",
      "Occasionally, you’ll see a biker giving someone a ride on the back of their motorcycle, it’s usually a woman. Guys don’t wanna ride on the back. Mm. It’s hard to get a ride on the back of a motorcycle without giving an extended intimate hug. “Let’s get out of here, Virgil.” “You smell wonderful, Virgil.” “What is that, lilac?” “You’ve been doing sit-ups, Virgil?”\n",
      "\n",
      "During the summer, occasionally, you’ll see a bicyclist on the highway. See a cyclist on the highway, they’re always dressed like they’re competing in the Tour de France. “You’re losing!” “And you’re also gonna die.”\n",
      "\n",
      "Those bicyclists, they have to settle down with the helmet design. It’s all super aerodynamic. It’s like, “You’re not going that fast.” You’re riding a bike. You’re not in the movie Tron. And put on some clothes! What’s with the spandex? Are you on your way to wrestle Blue Man Group? How many Blue Man references you’re gonna have?\n",
      "\n",
      "You ever see a bicyclist on the highway and they’re not in spandex, they’re just in regular clothes? They look like they have a DUI. Should’ve Ubered.\n",
      "\n",
      "You never see a cyclist giving someone a ride, right? There’s no room. They’re already sitting on that door handle of a seat. “I’m just gonna sit here for five hours.” “I don’t know why I can’t have children.” Right, I’m going after the cyclist. What are they gonna do? Throw their baby bottle of water at me? “I’d chase you, but for no reason at all, I’m wearing cleats.” Are those cleats necessary? You’re in a Starbucks. “Do you have oat milk?”\n",
      "\n",
      "I think it’s interesting, people who ride bicycles are called “cyclists,” but people who ride motorcycles are called “bikers”? You know, that’s just the bikers bullying the cyclists. “Hey, we’re gonna take the name ‘biker.’ You can’t use it.” And the cyclist went, “Motorcycle doesn’t even have the word ‘bike’ in it.” “We don’t care.” “Also, we’re gonna dress like that guy from the Village People.” Sun-glass guy’s like, “Well, we were gonna do that.” “No, you’re gonna dress like rhythmic gymnasts.” “Okay.”\n",
      "\n",
      "Bikers and cyclists both dress like they’re on their way to a costume party. No other form of transportation has a uniform. You never see everyone on the cruise ship dress like pirates ’cause it’s not necessary. Bikers and cyclists, both on two wheels, nothing in common. It’s like they’re trying to be different. Even the placement of the handlebars… Some cyclists have handlebars in real tight, some bikers have their handlebars way up here. “Oh, this is comfortable.” “This reminds me of my Big Wheel.” “Now I know why I have my wallet on a chain.”\n",
      "\n",
      "You never see a unicyclist on the highway. You know why? ‘Cause they’re all dead. ‘Cause I killed them. You’re welcome. Is there any bigger attention-grab than riding a unicycle? I guess a pogo stick, right? What was the pitch for the pogo stick? “It’s a stick you can jump on twice and then fall on your face.” “Interesting. If you practice, do you get better?” “Not at all, no.” “I’ll take one.”\n",
      "\n",
      "But unicyclists, they act like they don’t want the attention. They always have that super casual look on their face, but their legs are so frantic. They’re always like… “Oh, hey, what’s going on, everyone?” “Oh, I’m not doing anything.” “Does anyone have three bowling pins I could juggle?” “I could annoy you with two unnecessary skills.” That joke takes way too much effort.\n",
      "\n",
      "Oh, you may have noticed that there’s a piano on stage. And, uh, some of you may be wondering, “Hey, why would Jim Gaffigan have a piano on stage?” And… What you may not realize is that I… do not play the piano. “Jim, that was…” “Really? Did he bring the piano just for that joke?” “That’s pathetic.”\n",
      "\n",
      "Good-looking crowd here. Wow. Very good-looking. Very good-looking crowd, huh? Well, not all of you, you know. Not all of you. But I’m not breaking any news, right? We know where we stand. Yeah, we learn from such an early age. Like, I remember kindergarten, the girls would chase the cute boys at recess, and let’s just say I didn’t do a lot of running. Or any running. I remember being five years old and going, “Oh, this is how it’s gonna be.” “I’m gonna have to write some jokes.” “And I’ll be hanging out with the fellas.”\n",
      "\n",
      "I still hang out with the fellas. All right, I had a friend during the lockdown who spent the entire time planning a guys’ weekend. Every time I talk to him, he would make it sound less appealing. “Dude, this is what we’re gonna do.” “We’re gonna rent a cabin for the weekend. Just guys, no women.” “I’m already out.” “No, no, no. Think about it. Just guys, no women.” “We’ll smoke cigars, play poker all weekend.” “Sounds horrible.” “You’re not thinking it through.” “Just guys, no women, for a whole weekend, like we’re in prison.” “I look forward to it.”\n",
      "\n",
      "Every year, my brother Mitch goes on a golfing trip with 30 men. Thirty men. They fly to Florida. They rent three houses. Ten men to a house. They play golf in the morning, they eat lunch together, they play golf in the afternoon, and then they go back to the houses, I don’t know, have sex with each other. I don’t know what they do. It sounds horrible. How much fellowship can you have? My brother is not gay and, obviously, I wouldn’t care if he was. But if he ever came out, he could be like, “I gave you so many hints.” “I literally vacationed with 30 men.” “We rented out a cul-de-sac.” “We played with sticks and balls all day.” “How clear did I have to make it?” I guess the point I’m trying to make is golf makes people gay. So… So the next time a friend says, “I’m going to play golf with the fellas,” just be like, “Enjoy.”\n",
      "\n",
      "No, I prefer mixed company. I do, you know. There’s a cliché that men are dumb and I have enough male friends to know that’s based on some truth. Every man in here has that friend that they occasionally look at and wonder how they hold down a job. And if you don’t think that about a friend, that means you’re the friend. Yeah.\n",
      "\n",
      "My friend like that is Ricky. He’s a great guy. Ricky and I, one time, we went axe-throwing. Don’t know if you’ve done that. Throw an axe, you drink a beer. You try and forget our democracy is in crisis and… At one point, Ricky turned to me and he goes, “Hey, before axe-throwing, what did they use axes for?” “Uh…” “Chopping wood?” He’s like, “Really?” And I was like, “Don’t talk anymore.” And like a good friend, I ran home, turned it into a stand-up bit. And I kind of forgot about it. Then, like a month later, Ricky called me out of the blue and goes, “I did it. I did it.” “I built my own axe-throwing range in my backyard.” Yeah, he’s divorced. And… Then he immediately starts bragging. He’s like, “Yeah, now, I could throw an axe 20 yards and hit a bullseye.” I’m like, “That’s impressive.” “You know when that’s gonna come in handy? Never.” He’ll be like, “Hey, you never know.” I’m like, “No, I do know.” Even if someone broke in your house and you happen to be holding an axe, you’re not gonna be able to say, “Hey, can you come 10 feet closer?”\n",
      "\n",
      "I like having women around for many reasons, not least of which is, they’re attractive and men are not. You know? Like when a guy’s good-looking, it’s like a fluke of nature. And you know what all attractive men have in common? They kind of look like women. Right? That’s the only way straight guys can tell who’s good-looking. “Wow, he must be attractive. He barely looks like a dude.”\n",
      "\n",
      "Women are attractive and compared to men, they’re very clean. Men are gross. And make very little effort to not be gross. Like, if aliens visited Earth, they’ll be so confused. They’ll be like, “The attractive feminine gender is taking an hour to get ready and those hairy beasts are just ready?” “No wonder this planet’s always at war.”\n",
      "\n",
      "Men are gross and as they get older, grosser. When women get older, they become more elegant. As men get older, they look like they’re decomposing. You ever seen an old guy with the shirt off? He looks like the first draft of a human. What is that, a Simpsons character? Because when men get older, things stop working. The synapses stop connecting. Normally, brain’s like, “Every month, I’m gonna grow hair on this guy’s head. “Every month, I’m gonna grow hair on this guy’s head.” But one month, the brain’s like, “Every month, I’m gonna grow hair everywhere but this guy’s head.” I have hair growing in parts of my body… I don’t need. Do you wanna know why older men grow hair on weird parts of their body? That’s nature’s way of saying, “You’re done.” “Stop mating or I’m going to turn you into a throw rug.”\n",
      "\n",
      "I have some body hair, not as bad as some men, which is a relief, ’cause as you can see, I did not win the genetic lottery. I am bald, blind and pale. It wouldn’t surprise me if I woke up tomorrow with a tail. “Have you seen the comic with the tail?” “He’s very pale and the tail even has a bald spot.” I saw a guy this summer at the pool, he’s probably 60, had his shirt off. Not a lot of body hair. All body hair. For a second, I thought they were shooting a GEICO commercial. This guy was… He was so hairy I had to stop my youngest son from trying to pet him. “Let him smell your hand first, son.” This guy was hairy and he was walking around the pool with the confidence like he’d spent a lifetime dealing with hairy situations. No one said anything, but everyone had the same thought: “Please don’t go in the pool.” “No one’s prepared to see you shake dry.” And this man walked right by everyone, and he sat down next to an attractive woman. And I was so impressed. That woman could look beyond this man’s appearance and focus solely on his wallet.\n",
      "\n",
      "Whoo!\n",
      "\n",
      "But we all wanna be good-looking, right? We all wanna be chased on the playground, right? Some people go so far as to get plastic surgery. They’re like, “Oh, I don’t wanna sound desperate, but can you take a knife to my face?” “And make me pretty. Just keep cutting!”\n",
      "\n",
      "It’s kind of amazing more of us don’t get plastic surgery because we live in a beauty-obsessed society, right? There are studies. There was a Harvard study, that found that children believed good-looking people are nicer. That study also found that children are stupid. We definitely give good-looking people the benefit of the doubt. Like if a really attractive person’s quiet, we think they’re mysterious. If a fat person is quiet, we assume they’re thinking about food. And we are, we are, but there’s still a mystery. You don’t know what kind of food. All right, it’s cake. It’s always cake. But you don’t know what kind. All right, it’s red velvet.\n",
      "\n",
      "As a result, we just like being around beautiful people. You ever been out to eat and you have a waiter or waitress that’s really attractive? For a second, you’re like, “Wow, this is gonna be a good meal.” You ever have an ugly waiter, you’re like, “Should we leave?” I think that’s why buffets started. “You know what, I’ll get my own food. Thank you.” “I don’t need that mug near my entrée. You know what I mean?” “Jim, you’re a monster.”\n",
      "\n",
      "We follow good-looking people on social media, Instagram. Beautiful people have millions of followers and we like their photos and sometimes, we put a flame emoji. It’s totally socially acceptable. If you did that in real life, you’d go to jail. “Excuse me, sir, what are you doing?” “I’m following that lady.” “Uh, Can I ask why?” “I like to look at her.” “Can you give her this torch I brought her?” “And these prayer hands.”\n",
      "\n",
      "Everyone’s got to settle down with the prayer hands emoji. The overuse is ridiculous. Got a text from a friend, “See you at dinner. Prayer hands.” “No. No prayer hands. Are you not gonna make it?” “What are you suggesting? That we eat hands for dinner?”\n",
      "\n",
      "My wife is very good-looking. That’s right, I’m part of a mixed couple. It’s not fair. She’s good-looking, she’s smart, she’s creative. But you know what? Horrible taste in men. So it evens out. I’m happily married, but I would say, once a week, I catch my wife giving me a look, like, “I’m gonna have to let you go.” ‘Cause I disappoint her constantly. I do things that annoy. Like, here’s something I do that annoys my wife. I use the bathroom. I know. I shouldn’t, right? I get in trouble for not telling her I’m gonna use the bathroom. “You just disappeared. Where’d you go?” “I didn’t know I needed a hall pass.”\n",
      "\n",
      "I also get in trouble for telling her I’m gonna use the bathroom. “Uh, I’m gonna use the bathroom.” “Again?” “Are you okay?” “How many times is that today?” “You’re disgusting.” “What do you do in there?” “Mostly get away from you.”\n",
      "\n",
      "When my wife’s annoyed with me, she doesn’t give me the silent treatment. She’ll just take too long to answer a simple question. She’ll be standing a foot away, looking at her phone and I’ll be like, “What time do we have to do that school thing?” And she’ll just be like… “It’s in the calendar.” I’ll be like, “Uh, are you mad at me?” “No.”\n",
      "\n",
      "Recently, we learned that this couple that we’re friends with are getting a divorce. And not surprisingly, my wife was very upset. With me. I wasn’t surprised ’cause this wasn’t the first time something I had nothing to do with was my fault. Trump’s election, the Kavanaugh hearings, that was my fault. And I apologize ’cause I unconsciously planned the whole thing.\n",
      "\n",
      "Now, I would never describe my wife as crazy, ’cause I like to be married. But I do think it’s interesting that if a man calls another man crazy, it’s a compliment. “Here’s my buddy, Joey. He’s crazy.” Joey’s like, “Oh, you’re just being nice.” But if I was like, “This is my wife, Jeannie. She’s crazy.” I even get nervous saying that. She’s back in New York, but you never know. ‘Cause if my wife was standing here and I was like, “This is my wife, she’s crazy,” I’d be dead. And all of you would applaud. You’d be like, “Well, that was a teachable moment. Yeah.” “We learned something.” No, we’re hanging in there.\n",
      "\n",
      "By the way, if at the start of the pandemic, you were in a relationship and you’re still in that relationship, you should get money, right? Right? Because before the pandemic, if you’d hear of a couple splitting up, you were like, “Oh, no.” But during the pandemic, when you’d hear of a break up, you’re like, “Oh, of course.” You felt for the couples that stayed together. “You’re still together? Oh, I’m sorry to hear that.” “Co-dependency, huh?” ‘Cause it doesn’t matter how strong your relationship was. At one point during the pandemic, you looked at your partner and thought, “I think I’d rather have the coronavirus.”\n",
      "\n",
      "I know that sounds horrible, but it’s true. Everyone had that moment where they’re like, “You know, how uncomfortable is that ventilator?” “I know I wouldn’t be able to talk, but does that mean I wouldn’t be able to hear her?” “Do they have a ventilator just for the ears?” “Jim, you’re a monster.”\n",
      "\n",
      "My wife’s an amazing mother. We have five children. Can you believe that? Five children. Thank you. Thank you. It is something I regret… …’cause there’s too many of them. There’s way too many. Sometimes at dinner, I just pretend I’m hosting a reality show… …called So You Think You’re Going To College. ‘Cause they all can’t go. They all can’t go, not if I’m getting that boat. I’m kidding. Obviously, I’m not getting the boat… not until I get a motorcycle, you know.\n",
      "\n",
      "My kids find me annoying. All children find their parents annoying, which is kind of ironic, given children essentially ruined their parents’ lives. Right? Parents give their children their time, their energy and their money, and we repay our parents with resentment. Have you ever seen an adult get a phone call from one of their parents? You’d think it was a debt collector. “Ugh. It’s my mom.” “Yeah, I know you took care of me for a quarter of a century, but now is not a good time.” “You know what wasn’t a good time? Giving up my dreams… …so you could be a general disappointment.”\n",
      "\n",
      "No, I would never suggest that children are God’s punishment for having sex. But an argument could be made. And he’s up there, “Oh, they’re enjoying that way too much.” “How can I get them to pray tomorrow?”\n",
      "\n",
      "I do love being a parent. It’s the most important thing I’ll do in my life. But it’s an insane proposition. You give your children everything. You give them everything and then just one day, they leave. They’re like, “See you! Thanks for nothing.” “I’ll let you know if I need help with a mortgage.”\n",
      "\n",
      "Sometimes they don’t leave, right? They just stick around. They turn into roommates. Not going to happen in my house. I already have a backpack for each of them. They’ve seen the bags, “What’s that?” I’m like, “When you turn 18, that’s your going-away present.” “Jim, you’re a monster.”\n",
      "\n",
      "I try to be a good dad. I feel like I make more of an effort than my father. My dad’s generation, they didn’t have to do anything. My dad never went to a parent-teacher conference. My dad didn’t even know I went to school. My father couldn’t be bothered to turn his head if something was happening behind him. “What the hell’s going on back there?” I don’t know if he couldn’t turn his head or if it wasn’t worth the effort. “What the hell is going on back there?” “Oh, we’re celebrating my birthday.” “Oh, keep it down. I’m watching Ironsides.”\n",
      "\n",
      "♪ Happy birthday ♪\n",
      "♪ To you ♪\n",
      "\n",
      "My children give me guilt trips I wouldn’t even contemplate. Like my daughter was in a play on Thursday and Friday, so I went on Thursday night and then Friday morning, she saw me with my rolly bag and was like, “Oh, you’re not coming to my show tonight?” I’m like, “You’ve never been to one of my shows.” “I do 300 a year.”\n",
      "\n",
      "My big plan was to teach my children responsibility by selling posters after one of my shows. So I texted my teenage daughter. I’m like, “Do you wanna sell posters after my show? I’ll pay you.” She texted back, “Great, sounds good.” Then I texted my teenage son. “Do you want to sell posters after my show? I’ll pay you.” He texted back, “No thanks. I don’t need the money.” He doesn’t have any money. He has my money. I just texted back, “You’re out of the will.” I’m kidding. He was never in it.\n",
      "\n",
      "If my father asked me to do something, he wouldn’t even stick around for an answer. “You wanna shovel the driveway?” Then he’d just leave. It was understood I was gonna shovel the driveway or move out.\n",
      "\n",
      "I was kind of frightened of my dad. My children treat me like some bank teller they reluctantly have to deal with. Once a week, they just appear in front of me. “Hmm… Mom said I could get a shark… …so I guess I need your credit card.” I’m like, “What are you talking about?” “He’s yelling again, Mom!”\n",
      "\n",
      "If my dad was in a room in the house, I wouldn’t go to that side of the house. “I’ll just pee outside.” And I had all these older siblings that used to send me in there to ask questions. “Go ask Dad if we can go to Dairy Queen.” “I’m not doing it. I’m not doing it.” “Go. You’re too young to kill.” “Dad?” “What the hell do you want?” “He said, no.”\n",
      "\n",
      "When I didn’t have kids, I didn’t understand my dad at all. By the way, if you don’t have children, none of this should make sense. Or even the concept of a Saturday night. When you don’t have kids, you’re like, “Saturday!” And when you’re a parent, you’re like, “Who can we pay to come to this house… …and watch this child?” And your standards drop so dramatically. Initially, like, “They should have a PhD.” And then you’re like, “Well, how long were they in jail?” “Murder? It wasn’t children, right?” “A Satanist? You’ll fit right in.”\n",
      "\n",
      "Any parent will tell you that, like, having children has enriched their lives. It’s exposed them to things they never thought they’d do. Like kids just… You end up doing things you never thought you’d do. Like for me, going outside. You ever go outside with real little kids? You don’t even know what to do with them. You’re like, “Well, I normally just drink out here.” “Who wants to play a game of nap?”\n",
      "\n",
      "It’s weird when your kids have a friend that you’re not a fan of. “Oh, Tommy’s coming over? Well, I’ll be leaving.” “You can text me when Tommy is gone… …’cause he’s immature.”\n",
      "\n",
      "I wasn’t prepared for all the activities kids have. You pick up your kid and bring them to an activity, then to another activity. And if they don’t have an activity, you have to think of one, or they’ll smoke meth. You’re always looking for an activity as a parent. I took my kids to Ripley’s Believe It or Not. I don’t know if you’ve ever been that desperate for something to do. What can I tell you about Ripley’s Believe It or Not? It’s mostly not. It’s not interesting. It’s not even a lot of stuff. It’s like they just emptied out some drifter’s storage unit. I do admire that business model, you know. Most businesses attempt to establish trust with the customer. Not Ripley’s. Like, “Believe it… or not. We don’t care.” “We know you’re not coming back.”\n",
      "\n",
      "I’m still getting used to having teenagers. Recently, my 17-year-old daughter told me that she wants to be an actor, which is so crazy ’cause when I was that age, that movie Dead Poets Society came out, which is an amazing movie with Robin Williams, where he plays this teacher who inspires these students to seize the day, right? And one of the students wants to be an actor. And, you know, he joins the play and he invites his dad to see the play and after the play, he tells his dad that he wants to be an actor. Dad’s like, “You’re not gonna be an actor, that’s stupid. Waste of time and money…” The kid’s so distraught he kills himself, and then the teacher gets fired and all the kids stand on desks… Anyway, it’s a great movie. No, now… now that I’m the parent of a teenager, I realized that dad in Dead Poets Society was right. I’m kidding. I know the point of the movie is, “Don’t be a teacher.” My wife hates that joke so much.\n",
      "\n",
      "My kids, I don’t know what they think. I don’t even think my kids know what I do for a living. Or I should say I didn’t think they knew what I did for a living till last Halloween. My 10-year-old, Michael, didn’t know what he wanted to be for Halloween, which is a crisis. If you’re a parent, you know this. Then, like, two days before Halloween, he ran up to me and he goes, “I know what I’m gonna be for Halloween.” “I’m gonna be a stand-up comedian.” And I was so touched. I was like, “Oh, my gosh, for Halloween, you wanna be your dad.” And he goes, “No, I wanna be John Mulaney.” Slap! Right across the face.\n",
      "\n",
      "Thank you so much, you guys. Appreciate it.\n",
      "\n",
      "That’s Mom and Dad.\n"
     ]
    }
   ],
   "source": [
    "print(df['full_transcript'].iloc[3])"
   ]
  },
  {
   "cell_type": "markdown",
   "id": "35a29986",
   "metadata": {
    "slideshow": {
     "slide_type": "slide"
    }
   },
   "source": [
    "## Goals"
   ]
  },
  {
   "cell_type": "markdown",
   "id": "428f2094",
   "metadata": {
    "slideshow": {
     "slide_type": "fragment"
    }
   },
   "source": [
    "🎯 Focus on two things:\n",
    "- Analysis of stand-up comedy and written jokes\n",
    "- Training an AI to write stand-up, preferably with hilarious consequences"
   ]
  },
  {
   "cell_type": "markdown",
   "id": "dfb46f10",
   "metadata": {
    "slideshow": {
     "slide_type": "subslide"
    }
   },
   "source": [
    "### ✍️ Analysis of Words - Machine Learning NLP and Deep Learning NLP"
   ]
  },
  {
   "cell_type": "markdown",
   "id": "19b0f32c",
   "metadata": {
    "slideshow": {
     "slide_type": "fragment"
    }
   },
   "source": [
    "- [Scraps from the Loft](http://scrapsfromtheloft.com/stand-up-comedy-scripts/) dataset of comedy special scripts (possibly also Netflix subtitles if more is needed)\n",
    "\n",
    "- Cross reference against [IMDB](https://www.imdb.com/)/[Rotten Tomatoes](https://www.rottentomatoes.com/) scores"
   ]
  },
  {
   "cell_type": "code",
   "execution_count": 34,
   "id": "8c6dce6b",
   "metadata": {
    "slideshow": {
     "slide_type": "fragment"
    }
   },
   "outputs": [],
   "source": [
    "import requests\n",
    "from bs4 import BeautifulSoup"
   ]
  },
  {
   "cell_type": "markdown",
   "id": "41ea0abb",
   "metadata": {
    "slideshow": {
     "slide_type": "fragment"
    }
   },
   "source": [
    "- Analysis:\n",
    "    - sequences & word use per special - how do comedians differ?\n",
    "    - NLP ML and DL on review scores - can we quantify what is “good comedy” from words alone?"
   ]
  },
  {
   "cell_type": "code",
   "execution_count": 49,
   "id": "4cab8def",
   "metadata": {
    "slideshow": {
     "slide_type": "fragment"
    }
   },
   "outputs": [],
   "source": [
    "import numpy as np\n",
    "import pandas as pd\n",
    "\n",
    "import nltk\n",
    "from sklearn.feature_extraction.text import TfidfVectorizer\n",
    "from sklearn.decomposition import LatentDirichletAllocation\n",
    "from tensorflow.keras.layers import Embedding"
   ]
  },
  {
   "cell_type": "markdown",
   "id": "937dd399",
   "metadata": {
    "slideshow": {
     "slide_type": "subslide"
    }
   },
   "source": [
    "### 🤖 Create a Comedy Bot using Deep Learning"
   ]
  },
  {
   "cell_type": "markdown",
   "id": "836d79e8",
   "metadata": {
    "slideshow": {
     "slide_type": "fragment"
    }
   },
   "source": [
    "**Process**\n",
    "1. Use the same dataset & potentially some other clean data from Kaggle\n",
    "\n",
    "2. Use a Deep Learning model (pre-trained or new) to train a Comedy Bot on the dataset(s) assembled\n",
    "\n",
    "3. Ideally provide the bot with 1-2 word topics, or a particular comedian's style to create stand-up"
   ]
  },
  {
   "cell_type": "code",
   "execution_count": 10,
   "id": "2af93de4",
   "metadata": {
    "slideshow": {
     "slide_type": "fragment"
    }
   },
   "outputs": [],
   "source": [
    "from tensorflow.keras import models, layers\n",
    "\n",
    "#------------------------------------------------#\n",
    "# Generative Adversarial Network Encoder-Decoder #\n",
    "#------------------------------------------------#"
   ]
  },
  {
   "cell_type": "markdown",
   "id": "70418880",
   "metadata": {
    "slideshow": {
     "slide_type": "fragment"
    }
   },
   "source": [
    "**Comments**\n",
    "\n",
    "Not expecting it to be good, but likely going to be unfunny in a funny way.\n",
    "\n",
    "Really want this to happen, but also likely to be difficult, involve research papers and things we haven't done on the course.\n",
    "\n",
    "Happy to be flexible with scope as we go along."
   ]
  },
  {
   "cell_type": "markdown",
   "id": "37a50bd1",
   "metadata": {
    "slideshow": {
     "slide_type": "subslide"
    }
   },
   "source": [
    "### 🌍 Create an Interactive Website to present on Demo Day"
   ]
  },
  {
   "cell_type": "markdown",
   "id": "fce95093",
   "metadata": {
    "slideshow": {
     "slide_type": "fragment"
    }
   },
   "source": [
    "- **Analysis/NLP:** Drop-down menus for different comedians, classifying their style, word-clouds, topics\n",
    "- **Comedy Bot:**\n",
    " - Best stand-up it has mustered\n",
    " - Dropdowns of different styles/comedians and a prompt to generate new content"
   ]
  },
  {
   "cell_type": "markdown",
   "id": "006e80fc",
   "metadata": {
    "slideshow": {
     "slide_type": "subslide"
    }
   },
   "source": [
    "- **Optional:** awful 90's-style HTML\n",
    "\n",
    "<img src=\"https://assets-global.website-files.com/6009ec8cda7f305645c9d91b/61ddb9ed55fdd4017838353b_zPX4UBBjtWeemWC2Ts6yDMxC26OmeytCnjFvCf57lHcwOVhingf-rZX5WwwU7NCBoq7ILa12-zB9ae5_gHMdy3C3t5iFAZvvcTe4aOzsnM4zfezw00efjoiTE_XwcKoBbyf6eClk.jpeg\" \n",
    "     alt = \"That's the good stuff!\"\n",
    "     width=\"800\" \n",
    "     height=\"400\" />"
   ]
  },
  {
   "cell_type": "markdown",
   "id": "9706e542",
   "metadata": {
    "slideshow": {
     "slide_type": "skip"
    }
   },
   "source": [
    "### 🚀 Stretch Goal - Audio Processing"
   ]
  },
  {
   "cell_type": "markdown",
   "id": "40195202",
   "metadata": {
    "slideshow": {
     "slide_type": "skip"
    }
   },
   "source": [
    "<img src=\"https://rogueamoeba.com/global/images/icons/legacy/96/soundflower.png\" \n",
    "     alt = \"Soundflower\"\n",
    "     width=\"50\" \n",
    "     height=\"50\" />\n",
    "\n",
    "Step 1: Stream Netflix comedy specials & capture sound using Soundflower (Mac only) or JACK Audio & capture subtitles directly from Netflix .srt files. Expect 50-100 routines of ~50-100hrs total.\n",
    "\n",
    "---\n"
   ]
  },
  {
   "cell_type": "markdown",
   "id": "01345ecd",
   "metadata": {
    "slideshow": {
     "slide_type": "skip"
    }
   },
   "source": [
    "<img src=\"https://www.audacityteam.org/wp-content/themes/wp_audacity/img/logo.png\" \n",
    "     alt = \"Audacity\"\n",
    "     width=\"50\" \n",
    "     height=\"50\" />\n",
    "\n",
    "Step 2: use Audacity to process files into appropriate format.\n",
    "\n",
    "---\n"
   ]
  },
  {
   "cell_type": "markdown",
   "id": "4fe95bb5",
   "metadata": {
    "slideshow": {
     "slide_type": "skip"
    }
   },
   "source": [
    "Step 3: Detect Laughter.\n",
    "\n",
    "[jrgillick Laughter Detection Repo](https://github.com/jrgillick/laughter-detection)\n",
    "\n",
    "---\n"
   ]
  },
  {
   "cell_type": "markdown",
   "id": "e41645ff",
   "metadata": {
    "slideshow": {
     "slide_type": "skip"
    }
   },
   "source": [
    "Step 4: Incorporate insights into analysis and Comedy Bot."
   ]
  },
  {
   "cell_type": "markdown",
   "id": "07107d5a",
   "metadata": {
    "slideshow": {
     "slide_type": "slide"
    }
   },
   "source": [
    "# Thank you for listening! I'm here all week!"
   ]
  }
 ],
 "metadata": {
  "celltoolbar": "Slideshow",
  "kernelspec": {
   "display_name": "Python 3 (ipykernel)",
   "language": "python",
   "name": "python3"
  },
  "language_info": {
   "codemirror_mode": {
    "name": "ipython",
    "version": 3
   },
   "file_extension": ".py",
   "mimetype": "text/x-python",
   "name": "python",
   "nbconvert_exporter": "python",
   "pygments_lexer": "ipython3",
   "version": "3.8.12"
  },
  "toc": {
   "base_numbering": 1,
   "nav_menu": {},
   "number_sections": true,
   "sideBar": true,
   "skip_h1_title": false,
   "title_cell": "Table of Contents",
   "title_sidebar": "Contents",
   "toc_cell": false,
   "toc_position": {},
   "toc_section_display": true,
   "toc_window_display": false
  }
 },
 "nbformat": 4,
 "nbformat_minor": 5
}

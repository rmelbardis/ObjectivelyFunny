{
 "cells": [
  {
   "cell_type": "code",
   "execution_count": 1,
   "id": "d3b8c6fe",
   "metadata": {},
   "outputs": [],
   "source": [
    "import pandas as pd"
   ]
  },
  {
   "cell_type": "code",
   "execution_count": 2,
   "id": "b050f234",
   "metadata": {},
   "outputs": [],
   "source": [
    "df = pd.read_json('raw_data/bbc-nonapollo.json')"
   ]
  },
  {
   "cell_type": "code",
   "execution_count": 3,
   "id": "60688935",
   "metadata": {},
   "outputs": [],
   "source": [
    "df = df[~df['title'].str.contains('The Sarah Millican')]\n",
    "df = df[~df['title'].str.contains('imagine...')]\n",
    "df = df[~df['title'].str.contains('Sports Relief')]"
   ]
  },
  {
   "cell_type": "code",
   "execution_count": 4,
   "id": "407eafa6",
   "metadata": {},
   "outputs": [],
   "source": [
    "df = df.reset_index()"
   ]
  },
  {
   "cell_type": "code",
   "execution_count": 5,
   "id": "4868d3a6",
   "metadata": {},
   "outputs": [
    {
     "data": {
      "text/plain": [
       "'  strong language. CHEERING Yes, yes, yes! How are you doing? Are you well? Hello, very lovely to be here. My name is Adam Hess, I\\'m going to apologise now for the state of my voice. I went out a couple of nights ago, did a lot of shouting and drinking. Went to a very classy cocktail establishment, near here, called Wetherspoons, and it turns out I wasn\\'t actually allowed into Wetherspoons when we got there because apparently I was too drunk for Wetherspoons! Apparently, that\\'s a new rule they\\'ve got, the guy at the door was like, \"Yeah, you guys aren\\'t coming in, \"you\\'re way too pissed.\" Then we did that thing where we pretended we couldn\\'t believe we\\'d been accused of drinking. We just went, \"Huh?!\" \"I\\'ve never drank in my life!\" LAUGHTER And he said, \"Well, you\\'re not coming in, you\\'re too drunk.\" We walked away, but as we walked away we came up with this plan to swap clothes with each other, so that when we came back we looked like two new men. So, we walked back and what we thought was a really sober gentleman\\'s walk, like... LAUGHTER And the guy said, \"Guys, I heard you plan that.\" \"You did it there, I saw you do it there.\" So, I spent all day yesterday hung-over with my new housemate. I live with this new guy, his name\\'s Rhys, he\\'s also a comedian and a thief... I thought it would be fun living with a comedian, it\\'s not, it\\'s exhausting, cos it\\'s just joke, joke, joke, prank, prank, all the time! After just five days of living together, I had to insist on a prank ban because I thought someone\\'s going to die here. He agreed to the prank ban, which was good. So, that night I hid under his bed... but while he was brushing his teeth, I hid underneath his bed to spook him, for when he came back, and I fell asleep. I\\'d say for at least an hour. When I woke up, like, I\\'d forgotten where I was - I thought I was in a coffin or something. I started screaming, he started screaming and I rolled out from under the bed, cos I was scared, but it coincided with him jumping out of the bed onto my body... He couldn\\'t really see, cos it was dark and I\\'d never seen a naked man from beneath before... It was horrible and there was screaming, but it turned out when I screamed beneath his head, he didn\\'t realise straight away it was me. He thought the screaming was coming from inside his own head. Horrible stuff! I normally just lie on stage and my friends call me out on how much I lie on stage and just call me a boy who cried wolf. All I\\'m thinking is boy who cried wolf...he\\'s fucking famous now, he was nothing before that, he was just a crap chef but he\\'s not going to get on telly. My housemate said, \"When you do this thing at the BBC, try and say stuff that\\'s more honest, personal to you, stuff you wouldn\\'t normally tell people and you\\'d enjoy saying it more.\" So, I\\'ve made a list of stuff that\\'s true, honest and personal to me, that I wouldn\\'t normally tell people. I don\\'t know how funny it is but if it\\'s not, imagine it\\'s a poem. OK, so, number one, I lie to important comedy producers about how good I am at stand-up. Hi, guys. Number two, I once bought £400 worth of DJ equipment to make sure I got invited to more parties. LAUGHTER Number three, whenever I\\'m on a date with a hot girl, I tell her she\\'s got an amazing laugh to trick her into thinking she\\'s been laughing a lot. LAUGHTER Number four, I can\\'t imagine the Queen with wet hair. I just can\\'t imagine the Queen with wet hair! She must have washed it, she\\'s the Queen! Number five, I had to shave off my massive beard recently, cos I found out that when girls say they find men with beards sexy, what they really mean is they find sexy men with beards sexy. Sorry, number six, the saddest I\\'ve ever been is a time I\\'ve shown anyone a YouTube video that I find really funny, but then halfway through they move the cursor to find out how long is left. Number seven, I hate other families\\' plates, I just hate other families\\' plates. I don\\'t like the designs on them! Number eight, I had my 18th birthday on a riverboat on the Thames, and when everybody realised how shit it was, they couldn\\'t leave. LAUGHTER Disco jail! Number nine, I learnt the hard way, it feels bizarrely inappropriate to say, \"Hello, stranger,\" to an actual stranger. They don\\'t like it! Number ten, I can\\'t get my head around the fact that my cat has a grandad. So weird, imagine calling your cat Grandad - you wouldn\\'t! What the fuck is the matter?! I\\'ve got a girlfriend! CHEERING Ah, you heard the list. I\\'ve got girlfriend, it\\'s going very well, until 13 days ago when she dumped me but, oh, well, let\\'s do some comedy! HE LAUGHS Her name\\'s Lucy, short for Lucifer. She was so angry, but this is the most angry I\\'ve ever seen anyone. At one point she was so angry that she grabbed the scissors and cut something out of anger that I\\'m pretty sure nobody\\'s cut out of anger. She grabbed the scissors and ran into what I thought would be my bedroom, to cut up my clothes, like a normal crazy person would. Oh, no, she ran into the bathroom, cut off the fucking light switch thing at the tip! LAUGHTER You can\\'t buy them! There was nothing left up there... There was a little bit, but it\\'s only pushing it further up! You can\\'t unscrew that, that\\'s part of the house! The only way to get a new string and a new bit is to buy a house! I\\'m not doing that! And the light was off and there\\'s no window in there. I don\\'t know if any of you have had to shower in pitch black before, it makes you feel like a murderer. My friends tired to cheer me up over the whole break-up situation and saying stuff like, \"You\\'re so lucky, all this stuff happens in your life. \"Cos then you get to talk about it \"on stage and it\\'s good for your stand-up.\" As if this is worth it - it\\'s not worth it! I could be the best stand-up in the world but the stuff I need to go through to think of it is nowhere near worth it. She hated the present I bought her! Cos my birthday present-buying rule is I only buy something for someone if I would also like to receive that thing myself, and she said that\\'s selfish, cos that proves you want to use it. It\\'s not, cos I don\\'t want to fuck up my Amazon \"things you may like\" section that I\\'ve been spending years to perfect. I don\\'t want to buy a cake-decorating kit and make Amazon go, \"I don\\'t know who you\\'ve become, you\\'re on your own from now on!\" It\\'s so hard to buy presents and all your friends always think they\\'re good at it, but they\\'re bad and you know this because every time you\\'ve said something like, \"I don\\'t know what to get my dad for Christmas.\" They always say something like, \"Well, what does he like?\" As if you haven\\'t thought to ask yourself that question?! So, whenever I ask that question, \"I don\\'t know what to get my dad \"for Christmas this year.\" Whenever they say, \"Well, what does he like?\" I say, \"cuff links\". LAUGHTER \"Get him some cuff links...\" Shut up! The whole present thing brings so much unnecessary stress. I hate Christmas already, for many reasons. One reason, I was born on December 25th, which is horrible, yes, cos you don\\'t get any extra attention or many extra presents. I got one birthday card last year, it was from an orang-utan I sponsored, called Seamus! On the front of the card was a picture of Seamus - how arrogant of Seamus! And he typed it, so he\\'s doing all right for himself, isn\\'t he? I thought the money was just for bananas. Oh, no! Another reason I hate Christmas, I\\'m not very rich, so I can\\'t always reciprocate and buy everyone back who buys me stuff. So, I\\'ve had to start wrapping up my own things and pretending that I bought it. So, for me, now, Christmas is just time where I\\'m swapping five of my things that I like for five Lynx Africa gift sets. That\\'s just soap, deodorant and a sponge. You get that for free in jail, I\\'m not going to jail every Christmas! OK, Lynx Africa gift sets, the Banksy book - I\\'ve been given the Banksy book three out of the last seven years from various aunties. I don\\'t know why they\\'re buying it for me! A, I hate books. B, I could BE Banksy. They don\\'t know that. Also when I was five, I dropped and smashed a ceramic baby Jesus from the nativity set my parents have. So, now it looks like we worship a farm. I don\\'t know if mums are, like, less strict nowadays but about a month ago I was on a train and there was a boy, five years old, being a dick-head. So, the mum gave him an iPad. What?! He was being badly behaved, so she gave him the best thing that has ever happened. Like, when I was five, if I was really good, then as a reward next time we went to Tesco my mum would let me stare at the fish in the fishmonger bit. LAUGHTER That was my reward for the entire week. If I was misbehaving, she\\'d say, \"Adam, fish...\" Yes, good one... We\\'d go to Tesco and say, \"Fish, fish...\" and I\\'d look at them and say, \"Fish, yeah.\" I remember being so excited being near the fish, I actually poked it in the eye. I don\\'t know why I did that. And my mum lost it, she went, \"You are not to touch other people\\'s food. You have to buy that!\" But I was five, obviously, I had no finances. The way my mum got around it was saying, \"The way you\\'re going pay for that is, I was going to give you \"£5 earlier but you\\'re going to use it to buy that fish.\" So, I then cried, cos I wasn\\'t going to get a £5 note that I didn\\'t know I was going to get anyway. So, I was now walking around Tesco holding this fish, crying, this bit of white paper. We got to the till, my mum put everything on the till but then put down the divider, made me purchase my fish separately! Then, we were in the car and she made me have it on my lap and I was wearing shorts and it was quite cold on my thighs! Then, we went home and we got into the kitchen and Mum said, \"I\\'m going to throw it away now.\" And I was like, \"No, I love him!\" Him, I don\\'t know why I said that. It was a very weird thing. I was a very stupid child, I was very weird. This boy was quite a clever boy, this boy on the train, really annoying kid but it didn\\'t matter, cos I was going to get off the train anyway. My next stop was coming up and I needed the lady next to me to move, so I could get off but instead of saying, \"Sorry, my stop\\'s coming up, \"do you mind moving, so I can get off?\" I made the noise that we all make in those situation, which is... Sejeber, yeah. LAUGHTER Sejeber, does everybody know what sejeber means? I don\\'t understand how on trains you have to make different noises. There\\'s another one we do on trains, which is, let\\'s say we\\'re running for a train and it\\'s just about to leave but you\\'re running next to a stranger who\\'s running for the same train. If you make it with one second to go, just after the doors shut, you have to look at each other like this... LAUGHTER Like... HE SIGHS As if to say... what are we like? LAUGHTER HE CHATTERS NONSENSICALLY HE BREATHES HEAVILY LAUGHTER All right, yeah. Well, thank you very much for coming. You\\'ve been very nice. My name is Adam Hess. See you later. Goodbye. APPLAUSE AND CHEERING APPLAUSE AND CHEERING Wow. Thank you. Thank you. Thank you very much. Thank you. APPLAUSE AND CHEERING Thank you. Thank you. Thank you very much, guys. Oh, thank you. Thank you. Thank you so much. Yes, I\\'m Dane Baptiste. Thank you for coming to this recording of Live From The BBC. Let\\'s see who we have here. I\\'m an \\'80s baby, don\\'t know if you know that about myself. Any \\'80s babies in the room? CHEERING That\\'s nice. Any \\'70s babies in the room? QUIETER CHEERING Cool, cool. Any \\'90s babies in the room? CHEERING AND WHISTLING All right! Go fuck yourselves! Woo, yeah! CHEERING All right! Yeah! Yeah. OK, no, that sounded harsh. I\\'ve got nothing against people born in the \\'90s, just that those of us born in the \\'70s and \\'80s, you guys remember going to school and every day praying for a snow day... LAUGHTER ..that never fucking came. LAUGHTER And now it happens every single year. LAUGHTER And society shuts down. You just need to understand something, \\'90s babies... Back in the \\'80s... LAUGHTER ..there used to be this thing called the ozone layer. LAUGHTER And we all worked very hard to destroy that for you... LAUGHTER ..so you could enjoy these snow days. Cos, no, things weren\\'t easy going to school in the \\'80s. It wasn\\'t easy going to school in those days. We didn\\'t have smartphones to send and receive naked pictures of each other, like you can now. LAUGHTER It wasn\\'t easy. In my day, if you wanted to see somebody naked, you had to wait until after school or lunchtime... LAUGHTER ..by the cloakroom or a bike shed, get flashed, memorise that shit and then show off to your friends. Like, \"That\\'s right. I saw a vagina today.\" \"Really, Dane? What did it look like?\" \"Oh, erm...\" LAUGHTER \"It was very complex. There\\'s a... \"a labia and... LAUGHTER \"..the po... It was very dark in that cloakroom, OK?\" LAUGHTER You need to understand that the resolution on our porn wasn\\'t as good as it is now. You guys have got good porn. You got free porn. We didn\\'t have that in the \\'80s, you know? Remember the good old days? You would take a porn magazine, read it, leave it in a bush, go to class come back... and that magazine would be in that same bush, cos people were decent back then! LAUGHTER LAUGHTER Things have just changed now. Any guys here born in the \\'90s? -Yeah.-Yeah.-Yeah? Yeah. Look at you guys. LAUGHTER Probably never even seen pubic hair on a grown woman before, have you? LAUGHTER In the olden days, we didn\\'t mind a bit of pubic hair in a grown woman. That\\'s how you knew you were getting full frontal and it made Eurotrash all the more watchable. It was good days. In the good old days, we weren\\'t scared of pubic hair. If you pulled down some knickers, you saw an Ewok doing a somersault, you went ahead. LAUGHTER Cos men were men. I\\'ve heard now that, when you turn 18, you get a chlamydia test right to your door. We didn\\'t have that in my day. We weren\\'t scared of STDs, we weren\\'t worried about chlamydia, cos men were men. And you know something? If you caught it, you just drank a Lucozade and you walked it off. LAUGHTER Cos I\\'m a man. A strong man! APPLAUSE Good men. Proud men. That\\'s what I can piece together from my childhood anyway. LAUGHTER So, I was brought up in South London. I was brought up in South London. -Woo!-Yeah, cool. Thanks for that, you guys. I was born in South London, but my mum grew up in Yorkshire, my mum came from Yorkshire and she trained as a nurse, which meant she was a bit overprotective. So I want to confess something to you guys, cos I feel like we are all family now. LAUGHTER Erm... ..I never learned how to ride a bike. -Awh!-I don\\'t need your... It\\'s too late now. LAUGHTER I never learned how to ride a bike, cos my mum said if I rode a bike in London, I\\'d come out the house, get hit by a car and I would die and, after 14 hours of labour, if anybody was going to kill me, it was going to be her, so... So I never learned to ride a bike, which meant I couldn\\'t do normal childhood things. That\\'s what you do when you\\'re a child. You ride your bikes, go to the park, hang out with friends on council estates and throw stones at paedophiles\\' windows. And I missed out on all of that wholesome fun... My mum said, \"The only way you\\'re going to ride a bike \"is if you wear a helmet and kneepads.\" This was the \\'80s, where child safety was a myth. LAUGHTER You couldn\\'t wear any kind of protection. If you wore a helmet, that\\'s like wearing a condom that protects you from friendship, so... LAUGHTER I couldn\\'t do that. That\\'s the thing. As a child, I couldn\\'t tell people I couldn\\'t ride a bike, cos I didn\\'t want to be embarrassed. But the worst thing is, as a society, we always try to relate new experiences to each other by saying, \"It\\'s easy once you get the hang of it. It\\'s just like riding a bike.\" I can\\'t fucking ride a bike, so that analogy... LAUGHTER ..never applied to my life. It meant I had to do a lot of things I didn\\'t want to do, in order to save myself from embarrassment. I had to take swimming lessons. They were like, \"Oh, Dane! You\\'ll love swimming. \"It\\'s a great way of getting exercise, perfect for the cardio.\" I said, \"I don\\'t want to do swimming lessons, \"cos the chlorine gets in my eyes, and it stinks.\" They were like, \"No, Dane. Swimming is easy once you get the hang of it. \"It\\'s just like riding a bike.\" LAUGHTER It meant I had to take swimming lessons. Anybody here take swimming lessons? CHEERING You took swimming lessons? But do you go home every night and pray for a verruca? LAUGHTER No, cos that was MY life. I also had to learn German in school. I didn\\'t want to do that either. They were like, \"Dane, you should learn German. \"It\\'s a great tool and it\\'s a very useful and logical language.\" And I said, \"I don\\'t want to learn German, \"because not very many countries in this world speak that language. \"Also, I just came from History class and, apparently, \"they don\\'t like people like me that much.\" And they were like, \"No, Dane. You\\'ll love German. \"It\\'s very easy once you get the hang of it.\" HE SPEAKS GERMAN You guys might not understand that, but that shit\\'s fucking hilarious. Does anyone here speak German? HE SPEAKS GERMAN Most people might know what... I told you, I know it. Seriously. LAUGHTER You guys might know a few words. You know what \"ein\" means. -One. -Yeah, you know what \"nein\" means. No. You know how many other people I\\'ve met throughout my life who also spoke German? Ein. LAUGHTER Are we still friends? Nein. LAUGHTER So I also had to go... I had to join the Cub Scouts as well. Any Cub Scouts in the room? Woo! Yeah, one person. Er... For those of you who don\\'t know how Cub Scouts works, it\\'s similar to a gang. Like, we got colours, but those colours... LAUGHTER We\\'ve got colours, but those colours are located on your woggle, with your little scarf... LAUGHTER And then you gets some tweed hot pants as well. LAUGHTER Which, as a child, is like wearing a punchbag. And... LAUGHTER ..because I was in the Cub Scouts, that meant I had to go camping. They were like, \"Dane, you should come camping. It\\'s great. \"You get back in touch with nature, you get in the great outdoors.\" I said, \"I don\\'t need to do that. \"My parents came from an island where they grew up with no shoes. \"So me going would just be taking a step back.\" LAUGHTER And they were like, \"No, Dane. \"Camping is a great way of learning about surviving. \"It\\'s easy once you get the hang of it. \"It\\'s just like riding a bike.\" LAUGHTER So I had to go camping and I had to share a tent with a guy called Paul Williamson. And Paul shit himself. LAUGHTER A lot. LAUGHTER Has anyone here been to Vietnam? LAUGHTER Me neither. But when you\\'re in a tent and you see a man\\'s tears and smell his faeces, that\\'s pretty fucking close. LAUGHTER So I worked out that, you know, very early on in my life that, you know, my mother was trying to destroy me... cos not only did she make me do all of these things, she also had the nerve to bring another child into the world the same time as me, because I have a twin sister. Now, some of you are trying to conjure what she might look like. Don\\'t bother, because I take after my mother. And she takes after Satan and... LAUGHTER I had to share everything with my sister. Birthday money, pocket money, Christmas money, friends, McNuggets. That\\'s not being born a twin... That\\'s being born divorced. It\\'s horrible. LAUGHTER But that\\'s the thing. When I tell people I have a twin, I always get asked one of two questions. The first question is, \"Oh, you have a twin sister! \"Are you identical?\" LAUGHTER I know some of you are wondering what kind of person would ask that type of question. Have you guys ever bought a cup of coffee and on the side of the cup, it says, \"Caution. Contents may be hot\"? LAUGHTER You think, \"Obviously, it\\'s a cup of coffee. \"Who the hell is this warning there for?\" It\\'s for those people. Or, if anyone has ever bought a Snickers bar, and it says, \"Caution. May contain nuts or traces of nuts.\" And you think, \"Obviously, it\\'s a Snickers bar - that\\'s what I bought it for. \"Who the hell is this warning there for?\" It\\'s for those people. LAUGHTER If any of you are in here tonight, we are not identical, because she has a vagina. LAUGHTER I mean, I say she has a vagina. I\\'ve not seen it for a long time. Erm... LAUGHTER Obviously. LAUGHTER That\\'s the thing. I\\'m sure she has a vagina, cos I\\'m not sure if, you know, genitals work the same way that teeth do. You know, you get a baby set and then that falls out... LAUGHTER ..and then the adult set grows in. But... that would be good if that could happen, because we\\'ve all been at a party and met somebody and thought, \"That guy is a real dick. He must be overcompensating for something. \"He must have a small penis.\" Wouldn\\'t it be so much nicer if somebody came up and was like, \"Hey, guys. I\\'m really sorry about Cliff. \"His baby penis fell off last week...\" \"If he seems a bit cranky, it\\'s because he\\'s sheathing, \"but, as soon as his adult penis comes through...\" \"I\\'m sure he\\'ll be fine. I\\'m really sorry.\" LAUGHTER I\\'m just saying that puberty would have been a lot more bearable, as a girl, you could think yourself, \"These are just my baby breasts. These will fall off. \"My adult breasts will grow in and then the good times will begin.\" LAUGHTER No, I would feel a lot better if I could be with a girl and be like, \"Oh, baby, this? Don\\'t worry about this. This is... \"this is just my baby penis. This is...\" LAUGHTER \"It\\'s going to fall off and then... \"my adult penis will grow in and then the good times will begin.\" LAUGHTER I can\\'t wait for my wisdom dick to come through, though, cos... LAUGHTER APPLAUSE Lord knows I\\'ve made mistakes. I have. I\\'ve made mistakes. The more you think about it, there\\'s probably a good reason why you don\\'t get baby genitals and adult genitals. Cos you know when your baby teeth fall out, the tooth fairy comes and collects those and leaves you some money. Can you imagine the mythical creature they\\'d have to come up with... LAUGHTER ..that has to go around collecting people\\'s genitals? How they would be viewed by other mythical creatures at dinner parties? Father Christmas and the Easter Bunny in the corner, like, \"Oh my God. Look who just showed up.\" LAUGHTER \"What is wrong with this guy? \"You know he actually walks around with a sack of baby dicks? \"Like, what the...? \"What\\'s wrong with him? I mean... No.\" \"I know I\\'m not perfect, Easter Bunny, \"but at least I\\'m not a cock goblin\". \"Excuse me! \"Excuse me! I\\'m a Penis Pixie and I\\'ve got a job to do.\" LAUGHTER \"You only work one day a year, Father Christmas. \"Well, whatever you say. Enjoy your clit and mix. \"Ah, go fuck yourself, Father Christmas!\" LAUGHTER LAUGHTER I reali...I realise I may have overthought that scenario somewhat. LAUGHTER So I do overthink things. And that is not my fault, because my mother was a bit of a hypochondriac, as a nurse, and, also, she was a Catholic. Any Catholics in the room, by the way? -Woo!-Yeah! Don\\'t feel ashamed. You know, that\\'s a thing. LAUGHTER The thing is... For those of you who don\\'t know, Catholicism... In Catholicism, we believe in an unbroken apostolic succession and transubstantiation. Yes. Which I know sounds boring, when you compare it to the other entertainer religions, like Kabbalah, they\\'ve got mysticism and jewellery and Madonna and... Then you\\'ve got Scientology, with the spaceships and the lasers and John Travolta and Tom Cruise. All right. What have we got in Catholicism? Like...? Mel Gibson? LAUGHTER All right, no. But we do have... We do have alcohol in our place of worship. Yeah, and a ban on condoms, so every weekend is like being in Magaluf. Am I right, guys? LAUGHTER Woo, yeah! That\\'s right. That is right! APPLAUSE Now he\\'s back in the room. Back in the room. No, but I... LAUGHTER ..I get why people aren\\'t hot on religion nowadays. Cos some of the stories are kind of far-fetched, you know, in Christianity. Like, in the old Testament, you have Adam kicking things off. In the new Testament, Jesus takes over and then he becomes the focal point of the entire religion, which must cause some sibling rivalry of biblical proportions. LAUGHTER Cos I imagine, by now, Jesus is very arrogant towards his older brother. Can you imagine him coming home every night with his ego. \"Yea, Gabriel. \"Luke, yea, loaves and fishes. Er..\" LAUGHTER \"Adam? \"What are you do...? Oh. What are you doing here? \"Not busy, I see. Ah, this is awkward. OK. \"Erm, let me tell you about my day. \"Just had another place of worship built in my name in South America, \"so a very good day.\" \"Oh, well, this is bullshit! \"Nobody builds a place of worship in my name, and I was here first!\" \"That\\'s because you caused the fall of Man, Adam!\" LAUGHTER \"You know, I\\'ve never heard anyone say YOUR name \"during am orgasm, Adam.\" LAUGHTER MAN LAUGHS IN DEEP VOICE LAUGHTER AND APPLAUSE That actually sounded like God was cracking up at that joke. LAUGHTER DROWNS SPEECH If you didn\\'t find that funny, you hate our Lord and Saviour, so... LAUGHTER \"Yes.\" HE LAUGHS MOCKINGLY \"Adam is a sideman.\" LAUGHTER The other question you get asked, when you tell people you have a twin, they always used to say to me, \"Oh, Dane, you have a twin. \"Which one of you is the evil twin?\" LAUGHTER Let me ask you guys a question. Which one of us came all the way here to share his hopes and dreams with you, with his first BBC special? And which one of us is at home, drinking rose, watching Keeping Up with the Kardashians? So it\\'s very clear who the evil twin is. And I would have loved to settle my differences with my sister, but I can\\'t hit her, because she\\'s my sister and she is a girl and that would be wrong. But what she would do is use psychological warfare to get me in trouble with my parents... My parents would say something like, \"Dane\\'s Sister, you\\'re not doing very well in school. \"Can you explain these grades?\" She\\'d go, \"Explain those grades? \"Why doesn\\'t Dane explain why he\\'s going to school with condoms \"at 14 years old and his girlfriend\\'s on the Pill?\" LAUGHTER That\\'s not something you tell your parents, because that means you have to have the sex conversation with them, which some may have had. There\\'s some young ladies here. Maybe your dad had that conversation with you, where he was like, \"Darling, I realise you\\'re becoming a woman now \"and aware of your sexuality, \"so, as your father, what I\\'m going to do is \"send you to a convent on the moon.\" LAUGHTER \"It\\'s just the right thing to do.\" My problem is that my mother was a nurse, so she thought she knew everything and wanted to have an open and frank conversation. So she\\'d call me and be like, \"Dane, Dane. Come here. \"Dane, I realise you\\'re becoming a man now \"and experiencing your sexuality. \"I don\\'t know why, Dane. Your voice hasn\\'t broken \"and you don\\'t have any pubic hair.\" \"Really, Mum?\" \"All I\\'m saying is, Dane, if you can\\'t iron a shirt properly, \"how are you going to satisfy a woman?\" LAUGHTER APPLAUSE \"Dane, I know you have a lot of questions, OK? I picked you up \"this leaflet from work, which will let you know how everything goes.\" Anyone who remembers the \\'90s, sex education and those leaflets, it would be like... AMERICAN ACCENT: \"Hey, stud! You\\'ve discovered sex! \"Lucky you. This is going to be wicked!\" Cos that\\'s how people spoke back then. Erm... LAUGHTER AMERICAN ACCENT: \"Sex is really fun, especially with somebody you love. \"It\\'s just like flying - \"takes a while to get the hang of, but you get used to it. \"It\\'s just like riding a bike.\" LAUGHTER HE SIGHS I...I just noticed, actually, that I... I called my sister, \"Dane\\'s Sister\". Did you want to know her name? Well, I\\'m not telling you. I\\'m not sharing my BBC special with her, as well as everything else I had to share my entire life! It doesn\\'t matter. LAUGHTER Everything. Ladies and gentlemen, I\\'ve been Dane Baptiste. Thank you for making this special VERY special. You\\'ve been amazing. Thanks for your patience. And... Yeah, man. I guess I\\'ll see you around when it comes out. Hopefully, it will do well and you will have to pay more to see me. Just kidding. LAUGHTER You guys are cool. I\\'ve been Dane Baptiste. Thank you very much for listening. APPLAUSE AND CHEERING'"
      ]
     },
     "execution_count": 5,
     "metadata": {},
     "output_type": "execute_result"
    }
   ],
   "source": [
    "df['full_transcript'][10]"
   ]
  },
  {
   "cell_type": "code",
   "execution_count": 6,
   "id": "37460347",
   "metadata": {
    "scrolled": true
   },
   "outputs": [
    {
     "name": "stdout",
     "output_type": "stream",
     "text": [
      "Romesh Ranganathan: Irrational Live\n",
      "Josh Widdicombe: What Do I Do Now...\n",
      "Michael McIntyre: Happy & Glorious\n",
      "Miranda Hart: My, What I Call, Live Show\n",
      "Dawn French Live: 30 Million Minutes\n",
      "Dara O Briain: Crowd Tickler Live\n",
      "Kevin Bridges: A Whole Different Story\n",
      "Bob Monkhouse: The Last Stand\n",
      "Victoria Wood: At It Again\n",
      "Andy Parsons - Slacktivist\n",
      "6. Live from the BBC: Adam Hess and Dane Baptiste\n",
      "4. Live from the BBC: Larry Dean and Felicity Ward\n",
      "5. Live from the BBC: Kerry & Kurtan and Sofie Hagen\n",
      "3. Live from the BBC: Spencer Jones and James Acaster\n",
      "2. Live from the BBC: Tez Ilyas and Alex Edelman\n",
      "1. Live from the BBC: Mae Martin and Nish Kumar\n",
      "3. Some People with Jokes: Some Santas with Jokes\n",
      "Peter Kay: 20 Years of Funny\n",
      "3. John Bishop's Christmas Show: 2015\n",
      "Frankie Boyle's Referendum Autopsy\n",
      "2. Asian Network Comedy: Live in Edinburgh\n",
      "1. Asian Network Comedy: Live in London\n",
      "2. Seann Walsh's Late Night Comedy Spectacular: 2014\n",
      "Kevin Bridges: Live at the Referendum\n",
      "Kevin Bridges Live at the Commonwealth\n",
      "1. John Bishop's Christmas Show: 2013\n",
      "Michael McIntyre's Showtime\n",
      "Jack Whitehall Live\n",
      "Funny on the Foyle\n",
      "Jack Whitehall Live\n",
      "Kevin Bridges - The Story Continues\n",
      "John Bishop Live: Rollercoaster Tour 2012\n",
      "Dara O Briain: Craic Dealer\n",
      "1. Seann Walsh's Late Night Comedy Spectacular: 2013\n",
      "Sketchy Standup Showcase\n",
      "Rory Goes to Holyrood\n",
      "Nina Conti: Talk to the Hand\n",
      "Russell Brand's Give It Up Gig for Comic Relief\n",
      "3. Funny Business: Waves of Laughter\n",
      "2. Funny Business: Deal Makers\n",
      "1. Funny Business: Gags to Riches\n",
      "Andy Parsons Gruntled Live\n",
      "Numb: Simon Amstell Live at the BBC\n",
      "Michael McIntyre's Comedy Roadshow: Michael McIntyre's Christmas Comedy Roadshow\n",
      "8. Comedy Feeds: 2012, The Tapeface Tapes\n",
      "John Bishop: The Sunshine Tour\n",
      "Russell Howard: Right Here Right Now\n",
      "7. Comedy At The Fringe: Ireland Part 3\n",
      "6. Comedy At The Fringe: Scotland Part 2\n",
      "Greg Davies: Firing Cheeseballs at a Dog\n",
      "5. Comedy At The Fringe: Scotland Part 1\n",
      "4. Comedy At The Fringe: The Comedy Marathon Spectacular\n",
      "Russell Kane: Smokescreens and Castles\n",
      "Chris Moyles' Comedy Empire\n",
      "Sport Relief: 2012, Stand up for Sport Relief\n",
      "6. Kevin Bridges: What's the Story?: Big Issues\n",
      "5. Kevin Bridges: What's the Story?: Lifestyle\n",
      "4. Kevin Bridges: What's the Story?: Travel\n",
      "3. Kevin Bridges: What's the Story?: School\n",
      "2. Kevin Bridges: What's the Story?: Scotland\n",
      "1. Kevin Bridges: What's the Story?: Growing Up\n",
      "Lee Mack Going Out Live\n",
      "Dara O Briain This Is The Show\n",
      "Simon Amstell: Do Nothing Live\n",
      "Edinburgh Comedy Live\n",
      "Laughs in the Park\n",
      "1. Comedy At The Fringe: Three @ The Fringe\n",
      "Bill Hicks: Revelations - Live at the Dominion\n",
      "American: The Bill Hicks Story\n",
      "John Bishop Live: Elvis Has Left the Building\n",
      "Eddie Izzard: Stripped\n",
      "Michael McIntyre: Hello Wembley!\n"
     ]
    }
   ],
   "source": [
    "for title in df['title']:\n",
    "    print(title)"
   ]
  },
  {
   "cell_type": "code",
   "execution_count": 7,
   "id": "2514b986",
   "metadata": {},
   "outputs": [],
   "source": [
    "df['Comedian'] = [x.split(':')[-0] for x in df['title']]\n",
    "df['Show'] = [x.split(':')[-1] for x in df['title']]"
   ]
  },
  {
   "cell_type": "code",
   "execution_count": 8,
   "id": "393ce4ac",
   "metadata": {},
   "outputs": [
    {
     "data": {
      "text/html": [
       "<div>\n",
       "<style scoped>\n",
       "    .dataframe tbody tr th:only-of-type {\n",
       "        vertical-align: middle;\n",
       "    }\n",
       "\n",
       "    .dataframe tbody tr th {\n",
       "        vertical-align: top;\n",
       "    }\n",
       "\n",
       "    .dataframe thead th {\n",
       "        text-align: right;\n",
       "    }\n",
       "</style>\n",
       "<table border=\"1\" class=\"dataframe\">\n",
       "  <thead>\n",
       "    <tr style=\"text-align: right;\">\n",
       "      <th></th>\n",
       "      <th>index</th>\n",
       "      <th>url</th>\n",
       "      <th>title</th>\n",
       "      <th>full_transcript</th>\n",
       "      <th>Comedian</th>\n",
       "      <th>Show</th>\n",
       "    </tr>\n",
       "  </thead>\n",
       "  <tbody>\n",
       "    <tr>\n",
       "      <th>0</th>\n",
       "      <td>13</td>\n",
       "      <td>https://subsaga.com/bbc/comedy/2017/romesh-ran...</td>\n",
       "      <td>Romesh Ranganathan: Irrational Live</td>\n",
       "      <td>Ladies and gentlemen, please can you welcome ...</td>\n",
       "      <td>Romesh Ranganathan</td>\n",
       "      <td>Irrational Live</td>\n",
       "    </tr>\n",
       "    <tr>\n",
       "      <th>1</th>\n",
       "      <td>25</td>\n",
       "      <td>https://subsaga.com/bbc/comedy/2017/josh-widdi...</td>\n",
       "      <td>Josh Widdicombe: What Do I Do Now...</td>\n",
       "      <td>strong language and adult humour. Ladies and...</td>\n",
       "      <td>Josh Widdicombe</td>\n",
       "      <td>What Do I Do Now...</td>\n",
       "    </tr>\n",
       "    <tr>\n",
       "      <th>2</th>\n",
       "      <td>34</td>\n",
       "      <td>https://subsaga.com/bbc/comedy/michael-mcintyr...</td>\n",
       "      <td>Michael McIntyre: Happy &amp; Glorious</td>\n",
       "      <td>When I think of Michael, I think of... Shakin...</td>\n",
       "      <td>Michael McIntyre</td>\n",
       "      <td>Happy &amp; Glorious</td>\n",
       "    </tr>\n",
       "    <tr>\n",
       "      <th>3</th>\n",
       "      <td>42</td>\n",
       "      <td>https://subsaga.com/bbc/comedy/2015/miranda-ha...</td>\n",
       "      <td>Miranda Hart: My, What I Call, Live Show</td>\n",
       "      <td>Ladies and gentlemen, girls and boys of Londo...</td>\n",
       "      <td>Miranda Hart</td>\n",
       "      <td>My, What I Call, Live Show</td>\n",
       "    </tr>\n",
       "    <tr>\n",
       "      <th>4</th>\n",
       "      <td>43</td>\n",
       "      <td>https://subsaga.com/bbc/comedy/2016/dawn-frenc...</td>\n",
       "      <td>Dawn French Live: 30 Million Minutes</td>\n",
       "      <td>some strong language Ladies and gentlemen, t...</td>\n",
       "      <td>Dawn French Live</td>\n",
       "      <td>30 Million Minutes</td>\n",
       "    </tr>\n",
       "    <tr>\n",
       "      <th>...</th>\n",
       "      <td>...</td>\n",
       "      <td>...</td>\n",
       "      <td>...</td>\n",
       "      <td>...</td>\n",
       "      <td>...</td>\n",
       "      <td>...</td>\n",
       "    </tr>\n",
       "    <tr>\n",
       "      <th>67</th>\n",
       "      <td>401</td>\n",
       "      <td>https://subsaga.com/bbc/comedy/2011/bill-hicks...</td>\n",
       "      <td>Bill Hicks: Revelations - Live at the Dominion</td>\n",
       "      <td>adult humour and strong language. Hup! Ya! A...</td>\n",
       "      <td>Bill Hicks</td>\n",
       "      <td>Revelations - Live at the Dominion</td>\n",
       "    </tr>\n",
       "    <tr>\n",
       "      <th>68</th>\n",
       "      <td>402</td>\n",
       "      <td>https://subsaga.com/bbc/documentaries/comedy/2...</td>\n",
       "      <td>American: The Bill Hicks Story</td>\n",
       "      <td>Everyone comfy? Get comfy!  Get comfy! Cos th...</td>\n",
       "      <td>American</td>\n",
       "      <td>The Bill Hicks Story</td>\n",
       "    </tr>\n",
       "    <tr>\n",
       "      <th>69</th>\n",
       "      <td>405</td>\n",
       "      <td>https://subsaga.com/bbc/comedy/2011/john-bisho...</td>\n",
       "      <td>John Bishop Live: Elvis Has Left the Building</td>\n",
       "      <td>This programme contains strong language. CHEE...</td>\n",
       "      <td>John Bishop Live</td>\n",
       "      <td>Elvis Has Left the Building</td>\n",
       "    </tr>\n",
       "    <tr>\n",
       "      <th>70</th>\n",
       "      <td>414</td>\n",
       "      <td>https://subsaga.com/bbc/comedy/2010/eddie-izza...</td>\n",
       "      <td>Eddie Izzard: Stripped</td>\n",
       "      <td>very strong language. APPLAUSE AND CHEERING ...</td>\n",
       "      <td>Eddie Izzard</td>\n",
       "      <td>Stripped</td>\n",
       "    </tr>\n",
       "    <tr>\n",
       "      <th>71</th>\n",
       "      <td>416</td>\n",
       "      <td>https://subsaga.com/bbc/comedy/2010/michael-mc...</td>\n",
       "      <td>Michael McIntyre: Hello Wembley!</td>\n",
       "      <td>some strong language Wembley, please welcome...</td>\n",
       "      <td>Michael McIntyre</td>\n",
       "      <td>Hello Wembley!</td>\n",
       "    </tr>\n",
       "  </tbody>\n",
       "</table>\n",
       "<p>72 rows × 6 columns</p>\n",
       "</div>"
      ],
      "text/plain": [
       "    index                                                url  \\\n",
       "0      13  https://subsaga.com/bbc/comedy/2017/romesh-ran...   \n",
       "1      25  https://subsaga.com/bbc/comedy/2017/josh-widdi...   \n",
       "2      34  https://subsaga.com/bbc/comedy/michael-mcintyr...   \n",
       "3      42  https://subsaga.com/bbc/comedy/2015/miranda-ha...   \n",
       "4      43  https://subsaga.com/bbc/comedy/2016/dawn-frenc...   \n",
       "..    ...                                                ...   \n",
       "67    401  https://subsaga.com/bbc/comedy/2011/bill-hicks...   \n",
       "68    402  https://subsaga.com/bbc/documentaries/comedy/2...   \n",
       "69    405  https://subsaga.com/bbc/comedy/2011/john-bisho...   \n",
       "70    414  https://subsaga.com/bbc/comedy/2010/eddie-izza...   \n",
       "71    416  https://subsaga.com/bbc/comedy/2010/michael-mc...   \n",
       "\n",
       "                                             title  \\\n",
       "0              Romesh Ranganathan: Irrational Live   \n",
       "1             Josh Widdicombe: What Do I Do Now...   \n",
       "2               Michael McIntyre: Happy & Glorious   \n",
       "3         Miranda Hart: My, What I Call, Live Show   \n",
       "4             Dawn French Live: 30 Million Minutes   \n",
       "..                                             ...   \n",
       "67  Bill Hicks: Revelations - Live at the Dominion   \n",
       "68                  American: The Bill Hicks Story   \n",
       "69   John Bishop Live: Elvis Has Left the Building   \n",
       "70                          Eddie Izzard: Stripped   \n",
       "71                Michael McIntyre: Hello Wembley!   \n",
       "\n",
       "                                      full_transcript            Comedian  \\\n",
       "0    Ladies and gentlemen, please can you welcome ...  Romesh Ranganathan   \n",
       "1     strong language and adult humour. Ladies and...     Josh Widdicombe   \n",
       "2    When I think of Michael, I think of... Shakin...    Michael McIntyre   \n",
       "3    Ladies and gentlemen, girls and boys of Londo...        Miranda Hart   \n",
       "4     some strong language Ladies and gentlemen, t...    Dawn French Live   \n",
       "..                                                ...                 ...   \n",
       "67    adult humour and strong language. Hup! Ya! A...          Bill Hicks   \n",
       "68   Everyone comfy? Get comfy!  Get comfy! Cos th...            American   \n",
       "69   This programme contains strong language. CHEE...    John Bishop Live   \n",
       "70    very strong language. APPLAUSE AND CHEERING ...        Eddie Izzard   \n",
       "71    some strong language Wembley, please welcome...    Michael McIntyre   \n",
       "\n",
       "                                   Show  \n",
       "0                       Irrational Live  \n",
       "1                   What Do I Do Now...  \n",
       "2                      Happy & Glorious  \n",
       "3            My, What I Call, Live Show  \n",
       "4                    30 Million Minutes  \n",
       "..                                  ...  \n",
       "67   Revelations - Live at the Dominion  \n",
       "68                 The Bill Hicks Story  \n",
       "69          Elvis Has Left the Building  \n",
       "70                             Stripped  \n",
       "71                       Hello Wembley!  \n",
       "\n",
       "[72 rows x 6 columns]"
      ]
     },
     "execution_count": 8,
     "metadata": {},
     "output_type": "execute_result"
    }
   ],
   "source": [
    "df"
   ]
  },
  {
   "cell_type": "code",
   "execution_count": 9,
   "id": "1efc0b73",
   "metadata": {},
   "outputs": [
    {
     "name": "stdout",
     "output_type": "stream",
     "text": [
      "Romesh Ranganathan\n",
      "Josh Widdicombe\n",
      "Michael McIntyre\n",
      "Miranda Hart\n",
      "Dawn French Live\n",
      "Dara O Briain\n",
      "Kevin Bridges\n",
      "Bob Monkhouse\n",
      "Victoria Wood\n",
      "Andy Parsons - Slacktivist\n",
      "6. Live from the BBC\n",
      "4. Live from the BBC\n",
      "5. Live from the BBC\n",
      "3. Live from the BBC\n",
      "2. Live from the BBC\n",
      "1. Live from the BBC\n",
      "3. Some People with Jokes\n",
      "Peter Kay\n",
      "3. John Bishop's Christmas Show\n",
      "Frankie Boyle's Referendum Autopsy\n",
      "2. Asian Network Comedy\n",
      "1. Asian Network Comedy\n",
      "2. Seann Walsh's Late Night Comedy Spectacular\n",
      "Kevin Bridges\n",
      "Kevin Bridges Live at the Commonwealth\n",
      "1. John Bishop's Christmas Show\n",
      "Michael McIntyre's Showtime\n",
      "Jack Whitehall Live\n",
      "Funny on the Foyle\n",
      "Jack Whitehall Live\n",
      "Kevin Bridges - The Story Continues\n",
      "John Bishop Live\n",
      "Dara O Briain\n",
      "1. Seann Walsh's Late Night Comedy Spectacular\n",
      "Sketchy Standup Showcase\n",
      "Rory Goes to Holyrood\n",
      "Nina Conti\n",
      "Russell Brand's Give It Up Gig for Comic Relief\n",
      "3. Funny Business\n",
      "2. Funny Business\n",
      "1. Funny Business\n",
      "Andy Parsons Gruntled Live\n",
      "Numb\n",
      "Michael McIntyre's Comedy Roadshow\n",
      "8. Comedy Feeds\n",
      "John Bishop\n",
      "Russell Howard\n",
      "7. Comedy At The Fringe\n",
      "6. Comedy At The Fringe\n",
      "Greg Davies\n",
      "5. Comedy At The Fringe\n",
      "4. Comedy At The Fringe\n",
      "Russell Kane\n",
      "Chris Moyles' Comedy Empire\n",
      "Sport Relief\n",
      "6. Kevin Bridges\n",
      "5. Kevin Bridges\n",
      "4. Kevin Bridges\n",
      "3. Kevin Bridges\n",
      "2. Kevin Bridges\n",
      "1. Kevin Bridges\n",
      "Lee Mack Going Out Live\n",
      "Dara O Briain This Is The Show\n",
      "Simon Amstell\n",
      "Edinburgh Comedy Live\n",
      "Laughs in the Park\n",
      "1. Comedy At The Fringe\n",
      "Bill Hicks\n",
      "American\n",
      "John Bishop Live\n",
      "Eddie Izzard\n",
      "Michael McIntyre\n"
     ]
    }
   ],
   "source": [
    "for name in df['Comedian']:\n",
    "    print(name)"
   ]
  },
  {
   "cell_type": "code",
   "execution_count": 10,
   "id": "d7791ce2",
   "metadata": {},
   "outputs": [],
   "source": [
    "bbc_df = df[df['title'].str.contains('Live from the BBC')]"
   ]
  },
  {
   "cell_type": "code",
   "execution_count": 11,
   "id": "ab4b15cc",
   "metadata": {},
   "outputs": [],
   "source": [
    "bbc_df = bbc_df.reset_index()"
   ]
  },
  {
   "cell_type": "code",
   "execution_count": 12,
   "id": "a4db9c1d",
   "metadata": {},
   "outputs": [],
   "source": [
    "bbc_df['Comedian1'] = [x.split(' and ')[-0] for x in bbc_df['Show']]\n",
    "bbc_df['Comedian2'] = [x.split(' and ')[-1] for x in bbc_df['Show']]"
   ]
  },
  {
   "cell_type": "code",
   "execution_count": 13,
   "id": "f24eb65a",
   "metadata": {},
   "outputs": [
    {
     "data": {
      "text/html": [
       "<div>\n",
       "<style scoped>\n",
       "    .dataframe tbody tr th:only-of-type {\n",
       "        vertical-align: middle;\n",
       "    }\n",
       "\n",
       "    .dataframe tbody tr th {\n",
       "        vertical-align: top;\n",
       "    }\n",
       "\n",
       "    .dataframe thead th {\n",
       "        text-align: right;\n",
       "    }\n",
       "</style>\n",
       "<table border=\"1\" class=\"dataframe\">\n",
       "  <thead>\n",
       "    <tr style=\"text-align: right;\">\n",
       "      <th></th>\n",
       "      <th>level_0</th>\n",
       "      <th>index</th>\n",
       "      <th>url</th>\n",
       "      <th>title</th>\n",
       "      <th>full_transcript</th>\n",
       "      <th>Comedian</th>\n",
       "      <th>Show</th>\n",
       "      <th>Comedian1</th>\n",
       "      <th>Comedian2</th>\n",
       "    </tr>\n",
       "  </thead>\n",
       "  <tbody>\n",
       "    <tr>\n",
       "      <th>0</th>\n",
       "      <td>10</td>\n",
       "      <td>84</td>\n",
       "      <td>https://subsaga.com/bbc/comedy/live-from-the-b...</td>\n",
       "      <td>6. Live from the BBC: Adam Hess and Dane Baptiste</td>\n",
       "      <td>strong language. CHEERING Yes, yes, yes! How...</td>\n",
       "      <td>6. Live from the BBC</td>\n",
       "      <td>Adam Hess and Dane Baptiste</td>\n",
       "      <td>Adam Hess</td>\n",
       "      <td>Dane Baptiste</td>\n",
       "    </tr>\n",
       "    <tr>\n",
       "      <th>1</th>\n",
       "      <td>11</td>\n",
       "      <td>85</td>\n",
       "      <td>https://subsaga.com/bbc/comedy/live-from-the-b...</td>\n",
       "      <td>4. Live from the BBC: Larry Dean and Felicity ...</td>\n",
       "      <td>some strong language CHEERING AND APPLAUSE L...</td>\n",
       "      <td>4. Live from the BBC</td>\n",
       "      <td>Larry Dean and Felicity Ward</td>\n",
       "      <td>Larry Dean</td>\n",
       "      <td>Felicity Ward</td>\n",
       "    </tr>\n",
       "    <tr>\n",
       "      <th>2</th>\n",
       "      <td>12</td>\n",
       "      <td>88</td>\n",
       "      <td>https://subsaga.com/bbc/comedy/live-from-the-b...</td>\n",
       "      <td>5. Live from the BBC: Kerry &amp; Kurtan and Sofie...</td>\n",
       "      <td>APPLAUSE APPLAUSE CONTINUES -WEST COUNTRY ACC...</td>\n",
       "      <td>5. Live from the BBC</td>\n",
       "      <td>Kerry &amp; Kurtan and Sofie Hagen</td>\n",
       "      <td>Kerry &amp; Kurtan</td>\n",
       "      <td>Sofie Hagen</td>\n",
       "    </tr>\n",
       "    <tr>\n",
       "      <th>3</th>\n",
       "      <td>13</td>\n",
       "      <td>95</td>\n",
       "      <td>https://subsaga.com/bbc/comedy/live-from-the-b...</td>\n",
       "      <td>3. Live from the BBC: Spencer Jones and James ...</td>\n",
       "      <td>CHEERING AND APPLAUSE CHEERING AND APPLAUSE #...</td>\n",
       "      <td>3. Live from the BBC</td>\n",
       "      <td>Spencer Jones and James Acaster</td>\n",
       "      <td>Spencer Jones</td>\n",
       "      <td>James Acaster</td>\n",
       "    </tr>\n",
       "    <tr>\n",
       "      <th>4</th>\n",
       "      <td>14</td>\n",
       "      <td>97</td>\n",
       "      <td>https://subsaga.com/bbc/comedy/live-from-the-b...</td>\n",
       "      <td>2. Live from the BBC: Tez Ilyas and Alex Edelman</td>\n",
       "      <td>CHEERING AND APPLAUSE Good evening, BBC. Are ...</td>\n",
       "      <td>2. Live from the BBC</td>\n",
       "      <td>Tez Ilyas and Alex Edelman</td>\n",
       "      <td>Tez Ilyas</td>\n",
       "      <td>Alex Edelman</td>\n",
       "    </tr>\n",
       "    <tr>\n",
       "      <th>5</th>\n",
       "      <td>15</td>\n",
       "      <td>99</td>\n",
       "      <td>https://subsaga.com/bbc/comedy/live-from-the-b...</td>\n",
       "      <td>1. Live from the BBC: Mae Martin and Nish Kumar</td>\n",
       "      <td>CHEERING AND APPLAUSE Hi! Hi, guys, how's i...</td>\n",
       "      <td>1. Live from the BBC</td>\n",
       "      <td>Mae Martin and Nish Kumar</td>\n",
       "      <td>Mae Martin</td>\n",
       "      <td>Nish Kumar</td>\n",
       "    </tr>\n",
       "  </tbody>\n",
       "</table>\n",
       "</div>"
      ],
      "text/plain": [
       "   level_0  index                                                url  \\\n",
       "0       10     84  https://subsaga.com/bbc/comedy/live-from-the-b...   \n",
       "1       11     85  https://subsaga.com/bbc/comedy/live-from-the-b...   \n",
       "2       12     88  https://subsaga.com/bbc/comedy/live-from-the-b...   \n",
       "3       13     95  https://subsaga.com/bbc/comedy/live-from-the-b...   \n",
       "4       14     97  https://subsaga.com/bbc/comedy/live-from-the-b...   \n",
       "5       15     99  https://subsaga.com/bbc/comedy/live-from-the-b...   \n",
       "\n",
       "                                               title  \\\n",
       "0  6. Live from the BBC: Adam Hess and Dane Baptiste   \n",
       "1  4. Live from the BBC: Larry Dean and Felicity ...   \n",
       "2  5. Live from the BBC: Kerry & Kurtan and Sofie...   \n",
       "3  3. Live from the BBC: Spencer Jones and James ...   \n",
       "4   2. Live from the BBC: Tez Ilyas and Alex Edelman   \n",
       "5    1. Live from the BBC: Mae Martin and Nish Kumar   \n",
       "\n",
       "                                     full_transcript              Comedian  \\\n",
       "0    strong language. CHEERING Yes, yes, yes! How...  6. Live from the BBC   \n",
       "1    some strong language CHEERING AND APPLAUSE L...  4. Live from the BBC   \n",
       "2   APPLAUSE APPLAUSE CONTINUES -WEST COUNTRY ACC...  5. Live from the BBC   \n",
       "3   CHEERING AND APPLAUSE CHEERING AND APPLAUSE #...  3. Live from the BBC   \n",
       "4   CHEERING AND APPLAUSE Good evening, BBC. Are ...  2. Live from the BBC   \n",
       "5     CHEERING AND APPLAUSE Hi! Hi, guys, how's i...  1. Live from the BBC   \n",
       "\n",
       "                               Show        Comedian1      Comedian2  \n",
       "0       Adam Hess and Dane Baptiste        Adam Hess  Dane Baptiste  \n",
       "1      Larry Dean and Felicity Ward       Larry Dean  Felicity Ward  \n",
       "2    Kerry & Kurtan and Sofie Hagen   Kerry & Kurtan    Sofie Hagen  \n",
       "3   Spencer Jones and James Acaster    Spencer Jones  James Acaster  \n",
       "4        Tez Ilyas and Alex Edelman        Tez Ilyas   Alex Edelman  \n",
       "5         Mae Martin and Nish Kumar       Mae Martin     Nish Kumar  "
      ]
     },
     "execution_count": 13,
     "metadata": {},
     "output_type": "execute_result"
    }
   ],
   "source": [
    "bbc_df"
   ]
  },
  {
   "cell_type": "code",
   "execution_count": 14,
   "id": "cf6b53d8",
   "metadata": {
    "scrolled": true
   },
   "outputs": [],
   "source": [
    "bbc_df['Show'] = 'Live from the BBC'"
   ]
  },
  {
   "cell_type": "code",
   "execution_count": 15,
   "id": "d37e5867",
   "metadata": {},
   "outputs": [],
   "source": [
    "bbc_df['com1_script'] = bbc_df['full_transcript']"
   ]
  },
  {
   "cell_type": "code",
   "execution_count": 16,
   "id": "485693b3",
   "metadata": {},
   "outputs": [
    {
     "data": {
      "text/plain": [
       "'  strong language. CHEERING Yes, yes, yes! How are you doing? Are you well? Hello, very lovely to be here. My name is Adam Hess, I\\'m going to apologise now for the state of my voice. I went out a couple of nights ago, did a lot of shouting and drinking. Went to a very classy cocktail establishment, near here, called Wetherspoons, and it turns out I wasn\\'t actually allowed into Wetherspoons when we got there because apparently I was too drunk for Wetherspoons! Apparently, that\\'s a new rule they\\'ve got, the guy at the door was like, \"Yeah, you guys aren\\'t coming in, \"you\\'re way too pissed.\" Then we did that thing where we pretended we couldn\\'t believe we\\'d been accused of drinking. We just went, \"Huh?!\" \"I\\'ve never drank in my life!\" LAUGHTER And he said, \"Well, you\\'re not coming in, you\\'re too drunk.\" We walked away, but as we walked away we came up with this plan to swap clothes with each other, so that when we came back we looked like two new men. So, we walked back and what we thought was a really sober gentleman\\'s walk, like... LAUGHTER And the guy said, \"Guys, I heard you plan that.\" \"You did it there, I saw you do it there.\" So, I spent all day yesterday hung-over with my new housemate. I live with this new guy, his name\\'s Rhys, he\\'s also a comedian and a thief... I thought it would be fun living with a comedian, it\\'s not, it\\'s exhausting, cos it\\'s just joke, joke, joke, prank, prank, all the time! After just five days of living together, I had to insist on a prank ban because I thought someone\\'s going to die here. He agreed to the prank ban, which was good. So, that night I hid under his bed... but while he was brushing his teeth, I hid underneath his bed to spook him, for when he came back, and I fell asleep. I\\'d say for at least an hour. When I woke up, like, I\\'d forgotten where I was - I thought I was in a coffin or something. I started screaming, he started screaming and I rolled out from under the bed, cos I was scared, but it coincided with him jumping out of the bed onto my body... He couldn\\'t really see, cos it was dark and I\\'d never seen a naked man from beneath before... It was horrible and there was screaming, but it turned out when I screamed beneath his head, he didn\\'t realise straight away it was me. He thought the screaming was coming from inside his own head. Horrible stuff! I normally just lie on stage and my friends call me out on how much I lie on stage and just call me a boy who cried wolf. All I\\'m thinking is boy who cried wolf...he\\'s fucking famous now, he was nothing before that, he was just a crap chef but he\\'s not going to get on telly. My housemate said, \"When you do this thing at the BBC, try and say stuff that\\'s more honest, personal to you, stuff you wouldn\\'t normally tell people and you\\'d enjoy saying it more.\" So, I\\'ve made a list of stuff that\\'s true, honest and personal to me, that I wouldn\\'t normally tell people. I don\\'t know how funny it is but if it\\'s not, imagine it\\'s a poem. OK, so, number one, I lie to important comedy producers about how good I am at stand-up. Hi, guys. Number two, I once bought £400 worth of DJ equipment to make sure I got invited to more parties. LAUGHTER Number three, whenever I\\'m on a date with a hot girl, I tell her she\\'s got an amazing laugh to trick her into thinking she\\'s been laughing a lot. LAUGHTER Number four, I can\\'t imagine the Queen with wet hair. I just can\\'t imagine the Queen with wet hair! She must have washed it, she\\'s the Queen! Number five, I had to shave off my massive beard recently, cos I found out that when girls say they find men with beards sexy, what they really mean is they find sexy men with beards sexy. Sorry, number six, the saddest I\\'ve ever been is a time I\\'ve shown anyone a YouTube video that I find really funny, but then halfway through they move the cursor to find out how long is left. Number seven, I hate other families\\' plates, I just hate other families\\' plates. I don\\'t like the designs on them! Number eight, I had my 18th birthday on a riverboat on the Thames, and when everybody realised how shit it was, they couldn\\'t leave. LAUGHTER Disco jail! Number nine, I learnt the hard way, it feels bizarrely inappropriate to say, \"Hello, stranger,\" to an actual stranger. They don\\'t like it! Number ten, I can\\'t get my head around the fact that my cat has a grandad. So weird, imagine calling your cat Grandad - you wouldn\\'t! What the fuck is the matter?! I\\'ve got a girlfriend! CHEERING Ah, you heard the list. I\\'ve got girlfriend, it\\'s going very well, until 13 days ago when she dumped me but, oh, well, let\\'s do some comedy! HE LAUGHS Her name\\'s Lucy, short for Lucifer. She was so angry, but this is the most angry I\\'ve ever seen anyone. At one point she was so angry that she grabbed the scissors and cut something out of anger that I\\'m pretty sure nobody\\'s cut out of anger. She grabbed the scissors and ran into what I thought would be my bedroom, to cut up my clothes, like a normal crazy person would. Oh, no, she ran into the bathroom, cut off the fucking light switch thing at the tip! LAUGHTER You can\\'t buy them! There was nothing left up there... There was a little bit, but it\\'s only pushing it further up! You can\\'t unscrew that, that\\'s part of the house! The only way to get a new string and a new bit is to buy a house! I\\'m not doing that! And the light was off and there\\'s no window in there. I don\\'t know if any of you have had to shower in pitch black before, it makes you feel like a murderer. My friends tired to cheer me up over the whole break-up situation and saying stuff like, \"You\\'re so lucky, all this stuff happens in your life. \"Cos then you get to talk about it \"on stage and it\\'s good for your stand-up.\" As if this is worth it - it\\'s not worth it! I could be the best stand-up in the world but the stuff I need to go through to think of it is nowhere near worth it. She hated the present I bought her! Cos my birthday present-buying rule is I only buy something for someone if I would also like to receive that thing myself, and she said that\\'s selfish, cos that proves you want to use it. It\\'s not, cos I don\\'t want to fuck up my Amazon \"things you may like\" section that I\\'ve been spending years to perfect. I don\\'t want to buy a cake-decorating kit and make Amazon go, \"I don\\'t know who you\\'ve become, you\\'re on your own from now on!\" It\\'s so hard to buy presents and all your friends always think they\\'re good at it, but they\\'re bad and you know this because every time you\\'ve said something like, \"I don\\'t know what to get my dad for Christmas.\" They always say something like, \"Well, what does he like?\" As if you haven\\'t thought to ask yourself that question?! So, whenever I ask that question, \"I don\\'t know what to get my dad \"for Christmas this year.\" Whenever they say, \"Well, what does he like?\" I say, \"cuff links\". LAUGHTER \"Get him some cuff links...\" Shut up! The whole present thing brings so much unnecessary stress. I hate Christmas already, for many reasons. One reason, I was born on December 25th, which is horrible, yes, cos you don\\'t get any extra attention or many extra presents. I got one birthday card last year, it was from an orang-utan I sponsored, called Seamus! On the front of the card was a picture of Seamus - how arrogant of Seamus! And he typed it, so he\\'s doing all right for himself, isn\\'t he? I thought the money was just for bananas. Oh, no! Another reason I hate Christmas, I\\'m not very rich, so I can\\'t always reciprocate and buy everyone back who buys me stuff. So, I\\'ve had to start wrapping up my own things and pretending that I bought it. So, for me, now, Christmas is just time where I\\'m swapping five of my things that I like for five Lynx Africa gift sets. That\\'s just soap, deodorant and a sponge. You get that for free in jail, I\\'m not going to jail every Christmas! OK, Lynx Africa gift sets, the Banksy book - I\\'ve been given the Banksy book three out of the last seven years from various aunties. I don\\'t know why they\\'re buying it for me! A, I hate books. B, I could BE Banksy. They don\\'t know that. Also when I was five, I dropped and smashed a ceramic baby Jesus from the nativity set my parents have. So, now it looks like we worship a farm. I don\\'t know if mums are, like, less strict nowadays but about a month ago I was on a train and there was a boy, five years old, being a dick-head. So, the mum gave him an iPad. What?! He was being badly behaved, so she gave him the best thing that has ever happened. Like, when I was five, if I was really good, then as a reward next time we went to Tesco my mum would let me stare at the fish in the fishmonger bit. LAUGHTER That was my reward for the entire week. If I was misbehaving, she\\'d say, \"Adam, fish...\" Yes, good one... We\\'d go to Tesco and say, \"Fish, fish...\" and I\\'d look at them and say, \"Fish, yeah.\" I remember being so excited being near the fish, I actually poked it in the eye. I don\\'t know why I did that. And my mum lost it, she went, \"You are not to touch other people\\'s food. You have to buy that!\" But I was five, obviously, I had no finances. The way my mum got around it was saying, \"The way you\\'re going pay for that is, I was going to give you \"£5 earlier but you\\'re going to use it to buy that fish.\" So, I then cried, cos I wasn\\'t going to get a £5 note that I didn\\'t know I was going to get anyway. So, I was now walking around Tesco holding this fish, crying, this bit of white paper. We got to the till, my mum put everything on the till but then put down the divider, made me purchase my fish separately! Then, we were in the car and she made me have it on my lap and I was wearing shorts and it was quite cold on my thighs! Then, we went home and we got into the kitchen and Mum said, \"I\\'m going to throw it away now.\" And I was like, \"No, I love him!\" Him, I don\\'t know why I said that. It was a very weird thing. I was a very stupid child, I was very weird. This boy was quite a clever boy, this boy on the train, really annoying kid but it didn\\'t matter, cos I was going to get off the train anyway. My next stop was coming up and I needed the lady next to me to move, so I could get off but instead of saying, \"Sorry, my stop\\'s coming up, \"do you mind moving, so I can get off?\" I made the noise that we all make in those situation, which is... Sejeber, yeah. LAUGHTER Sejeber, does everybody know what sejeber means? I don\\'t understand how on trains you have to make different noises. There\\'s another one we do on trains, which is, let\\'s say we\\'re running for a train and it\\'s just about to leave but you\\'re running next to a stranger who\\'s running for the same train. If you make it with one second to go, just after the doors shut, you have to look at each other like this... LAUGHTER Like... HE SIGHS As if to say... what are we like? LAUGHTER HE CHATTERS NONSENSICALLY HE BREATHES HEAVILY LAUGHTER All right, yeah. Well, thank you very much for coming. You\\'ve been very nice. My name is Adam Hess. See you later. Goodbye. APPLAUSE AND CHEERING APPLAUSE AND CHEERING Wow. Thank you. Thank you. Thank you very much. Thank you. APPLAUSE AND CHEERING Thank you. Thank you. Thank you very much, guys. Oh, thank you. Thank you. Thank you so much. Yes, I\\'m Dane Baptiste. Thank you for coming to this recording of Live From The BBC. Let\\'s see who we have here. I\\'m an \\'80s baby, don\\'t know if you know that about myself. Any \\'80s babies in the room? CHEERING That\\'s nice. Any \\'70s babies in the room? QUIETER CHEERING Cool, cool. Any \\'90s babies in the room? CHEERING AND WHISTLING All right! Go fuck yourselves! Woo, yeah! CHEERING All right! Yeah! Yeah. OK, no, that sounded harsh. I\\'ve got nothing against people born in the \\'90s, just that those of us born in the \\'70s and \\'80s, you guys remember going to school and every day praying for a snow day... LAUGHTER ..that never fucking came. LAUGHTER And now it happens every single year. LAUGHTER And society shuts down. You just need to understand something, \\'90s babies... Back in the \\'80s... LAUGHTER ..there used to be this thing called the ozone layer. LAUGHTER And we all worked very hard to destroy that for you... LAUGHTER ..so you could enjoy these snow days. Cos, no, things weren\\'t easy going to school in the \\'80s. It wasn\\'t easy going to school in those days. We didn\\'t have smartphones to send and receive naked pictures of each other, like you can now. LAUGHTER It wasn\\'t easy. In my day, if you wanted to see somebody naked, you had to wait until after school or lunchtime... LAUGHTER ..by the cloakroom or a bike shed, get flashed, memorise that shit and then show off to your friends. Like, \"That\\'s right. I saw a vagina today.\" \"Really, Dane? What did it look like?\" \"Oh, erm...\" LAUGHTER \"It was very complex. There\\'s a... \"a labia and... LAUGHTER \"..the po... It was very dark in that cloakroom, OK?\" LAUGHTER You need to understand that the resolution on our porn wasn\\'t as good as it is now. You guys have got good porn. You got free porn. We didn\\'t have that in the \\'80s, you know? Remember the good old days? You would take a porn magazine, read it, leave it in a bush, go to class come back... and that magazine would be in that same bush, cos people were decent back then! LAUGHTER LAUGHTER Things have just changed now. Any guys here born in the \\'90s? -Yeah.-Yeah.-Yeah? Yeah. Look at you guys. LAUGHTER Probably never even seen pubic hair on a grown woman before, have you? LAUGHTER In the olden days, we didn\\'t mind a bit of pubic hair in a grown woman. That\\'s how you knew you were getting full frontal and it made Eurotrash all the more watchable. It was good days. In the good old days, we weren\\'t scared of pubic hair. If you pulled down some knickers, you saw an Ewok doing a somersault, you went ahead. LAUGHTER Cos men were men. I\\'ve heard now that, when you turn 18, you get a chlamydia test right to your door. We didn\\'t have that in my day. We weren\\'t scared of STDs, we weren\\'t worried about chlamydia, cos men were men. And you know something? If you caught it, you just drank a Lucozade and you walked it off. LAUGHTER Cos I\\'m a man. A strong man! APPLAUSE Good men. Proud men. That\\'s what I can piece together from my childhood anyway. LAUGHTER So, I was brought up in South London. I was brought up in South London. -Woo!-Yeah, cool. Thanks for that, you guys. I was born in South London, but my mum grew up in Yorkshire, my mum came from Yorkshire and she trained as a nurse, which meant she was a bit overprotective. So I want to confess something to you guys, cos I feel like we are all family now. LAUGHTER Erm... ..I never learned how to ride a bike. -Awh!-I don\\'t need your... It\\'s too late now. LAUGHTER I never learned how to ride a bike, cos my mum said if I rode a bike in London, I\\'d come out the house, get hit by a car and I would die and, after 14 hours of labour, if anybody was going to kill me, it was going to be her, so... So I never learned to ride a bike, which meant I couldn\\'t do normal childhood things. That\\'s what you do when you\\'re a child. You ride your bikes, go to the park, hang out with friends on council estates and throw stones at paedophiles\\' windows. And I missed out on all of that wholesome fun... My mum said, \"The only way you\\'re going to ride a bike \"is if you wear a helmet and kneepads.\" This was the \\'80s, where child safety was a myth. LAUGHTER You couldn\\'t wear any kind of protection. If you wore a helmet, that\\'s like wearing a condom that protects you from friendship, so... LAUGHTER I couldn\\'t do that. That\\'s the thing. As a child, I couldn\\'t tell people I couldn\\'t ride a bike, cos I didn\\'t want to be embarrassed. But the worst thing is, as a society, we always try to relate new experiences to each other by saying, \"It\\'s easy once you get the hang of it. It\\'s just like riding a bike.\" I can\\'t fucking ride a bike, so that analogy... LAUGHTER ..never applied to my life. It meant I had to do a lot of things I didn\\'t want to do, in order to save myself from embarrassment. I had to take swimming lessons. They were like, \"Oh, Dane! You\\'ll love swimming. \"It\\'s a great way of getting exercise, perfect for the cardio.\" I said, \"I don\\'t want to do swimming lessons, \"cos the chlorine gets in my eyes, and it stinks.\" They were like, \"No, Dane. Swimming is easy once you get the hang of it. \"It\\'s just like riding a bike.\" LAUGHTER It meant I had to take swimming lessons. Anybody here take swimming lessons? CHEERING You took swimming lessons? But do you go home every night and pray for a verruca? LAUGHTER No, cos that was MY life. I also had to learn German in school. I didn\\'t want to do that either. They were like, \"Dane, you should learn German. \"It\\'s a great tool and it\\'s a very useful and logical language.\" And I said, \"I don\\'t want to learn German, \"because not very many countries in this world speak that language. \"Also, I just came from History class and, apparently, \"they don\\'t like people like me that much.\" And they were like, \"No, Dane. You\\'ll love German. \"It\\'s very easy once you get the hang of it.\" HE SPEAKS GERMAN You guys might not understand that, but that shit\\'s fucking hilarious. Does anyone here speak German? HE SPEAKS GERMAN Most people might know what... I told you, I know it. Seriously. LAUGHTER You guys might know a few words. You know what \"ein\" means. -One. -Yeah, you know what \"nein\" means. No. You know how many other people I\\'ve met throughout my life who also spoke German? Ein. LAUGHTER Are we still friends? Nein. LAUGHTER So I also had to go... I had to join the Cub Scouts as well. Any Cub Scouts in the room? Woo! Yeah, one person. Er... For those of you who don\\'t know how Cub Scouts works, it\\'s similar to a gang. Like, we got colours, but those colours... LAUGHTER We\\'ve got colours, but those colours are located on your woggle, with your little scarf... LAUGHTER And then you gets some tweed hot pants as well. LAUGHTER Which, as a child, is like wearing a punchbag. And... LAUGHTER ..because I was in the Cub Scouts, that meant I had to go camping. They were like, \"Dane, you should come camping. It\\'s great. \"You get back in touch with nature, you get in the great outdoors.\" I said, \"I don\\'t need to do that. \"My parents came from an island where they grew up with no shoes. \"So me going would just be taking a step back.\" LAUGHTER And they were like, \"No, Dane. \"Camping is a great way of learning about surviving. \"It\\'s easy once you get the hang of it. \"It\\'s just like riding a bike.\" LAUGHTER So I had to go camping and I had to share a tent with a guy called Paul Williamson. And Paul shit himself. LAUGHTER A lot. LAUGHTER Has anyone here been to Vietnam? LAUGHTER Me neither. But when you\\'re in a tent and you see a man\\'s tears and smell his faeces, that\\'s pretty fucking close. LAUGHTER So I worked out that, you know, very early on in my life that, you know, my mother was trying to destroy me... cos not only did she make me do all of these things, she also had the nerve to bring another child into the world the same time as me, because I have a twin sister. Now, some of you are trying to conjure what she might look like. Don\\'t bother, because I take after my mother. And she takes after Satan and... LAUGHTER I had to share everything with my sister. Birthday money, pocket money, Christmas money, friends, McNuggets. That\\'s not being born a twin... That\\'s being born divorced. It\\'s horrible. LAUGHTER But that\\'s the thing. When I tell people I have a twin, I always get asked one of two questions. The first question is, \"Oh, you have a twin sister! \"Are you identical?\" LAUGHTER I know some of you are wondering what kind of person would ask that type of question. Have you guys ever bought a cup of coffee and on the side of the cup, it says, \"Caution. Contents may be hot\"? LAUGHTER You think, \"Obviously, it\\'s a cup of coffee. \"Who the hell is this warning there for?\" It\\'s for those people. Or, if anyone has ever bought a Snickers bar, and it says, \"Caution. May contain nuts or traces of nuts.\" And you think, \"Obviously, it\\'s a Snickers bar - that\\'s what I bought it for. \"Who the hell is this warning there for?\" It\\'s for those people. LAUGHTER If any of you are in here tonight, we are not identical, because she has a vagina. LAUGHTER I mean, I say she has a vagina. I\\'ve not seen it for a long time. Erm... LAUGHTER Obviously. LAUGHTER That\\'s the thing. I\\'m sure she has a vagina, cos I\\'m not sure if, you know, genitals work the same way that teeth do. You know, you get a baby set and then that falls out... LAUGHTER ..and then the adult set grows in. But... that would be good if that could happen, because we\\'ve all been at a party and met somebody and thought, \"That guy is a real dick. He must be overcompensating for something. \"He must have a small penis.\" Wouldn\\'t it be so much nicer if somebody came up and was like, \"Hey, guys. I\\'m really sorry about Cliff. \"His baby penis fell off last week...\" \"If he seems a bit cranky, it\\'s because he\\'s sheathing, \"but, as soon as his adult penis comes through...\" \"I\\'m sure he\\'ll be fine. I\\'m really sorry.\" LAUGHTER I\\'m just saying that puberty would have been a lot more bearable, as a girl, you could think yourself, \"These are just my baby breasts. These will fall off. \"My adult breasts will grow in and then the good times will begin.\" LAUGHTER No, I would feel a lot better if I could be with a girl and be like, \"Oh, baby, this? Don\\'t worry about this. This is... \"this is just my baby penis. This is...\" LAUGHTER \"It\\'s going to fall off and then... \"my adult penis will grow in and then the good times will begin.\" LAUGHTER I can\\'t wait for my wisdom dick to come through, though, cos... LAUGHTER APPLAUSE Lord knows I\\'ve made mistakes. I have. I\\'ve made mistakes. The more you think about it, there\\'s probably a good reason why you don\\'t get baby genitals and adult genitals. Cos you know when your baby teeth fall out, the tooth fairy comes and collects those and leaves you some money. Can you imagine the mythical creature they\\'d have to come up with... LAUGHTER ..that has to go around collecting people\\'s genitals? How they would be viewed by other mythical creatures at dinner parties? Father Christmas and the Easter Bunny in the corner, like, \"Oh my God. Look who just showed up.\" LAUGHTER \"What is wrong with this guy? \"You know he actually walks around with a sack of baby dicks? \"Like, what the...? \"What\\'s wrong with him? I mean... No.\" \"I know I\\'m not perfect, Easter Bunny, \"but at least I\\'m not a cock goblin\". \"Excuse me! \"Excuse me! I\\'m a Penis Pixie and I\\'ve got a job to do.\" LAUGHTER \"You only work one day a year, Father Christmas. \"Well, whatever you say. Enjoy your clit and mix. \"Ah, go fuck yourself, Father Christmas!\" LAUGHTER LAUGHTER I reali...I realise I may have overthought that scenario somewhat. LAUGHTER So I do overthink things. And that is not my fault, because my mother was a bit of a hypochondriac, as a nurse, and, also, she was a Catholic. Any Catholics in the room, by the way? -Woo!-Yeah! Don\\'t feel ashamed. You know, that\\'s a thing. LAUGHTER The thing is... For those of you who don\\'t know, Catholicism... In Catholicism, we believe in an unbroken apostolic succession and transubstantiation. Yes. Which I know sounds boring, when you compare it to the other entertainer religions, like Kabbalah, they\\'ve got mysticism and jewellery and Madonna and... Then you\\'ve got Scientology, with the spaceships and the lasers and John Travolta and Tom Cruise. All right. What have we got in Catholicism? Like...? Mel Gibson? LAUGHTER All right, no. But we do have... We do have alcohol in our place of worship. Yeah, and a ban on condoms, so every weekend is like being in Magaluf. Am I right, guys? LAUGHTER Woo, yeah! That\\'s right. That is right! APPLAUSE Now he\\'s back in the room. Back in the room. No, but I... LAUGHTER ..I get why people aren\\'t hot on religion nowadays. Cos some of the stories are kind of far-fetched, you know, in Christianity. Like, in the old Testament, you have Adam kicking things off. In the new Testament, Jesus takes over and then he becomes the focal point of the entire religion, which must cause some sibling rivalry of biblical proportions. LAUGHTER Cos I imagine, by now, Jesus is very arrogant towards his older brother. Can you imagine him coming home every night with his ego. \"Yea, Gabriel. \"Luke, yea, loaves and fishes. Er..\" LAUGHTER \"Adam? \"What are you do...? Oh. What are you doing here? \"Not busy, I see. Ah, this is awkward. OK. \"Erm, let me tell you about my day. \"Just had another place of worship built in my name in South America, \"so a very good day.\" \"Oh, well, this is bullshit! \"Nobody builds a place of worship in my name, and I was here first!\" \"That\\'s because you caused the fall of Man, Adam!\" LAUGHTER \"You know, I\\'ve never heard anyone say YOUR name \"during am orgasm, Adam.\" LAUGHTER MAN LAUGHS IN DEEP VOICE LAUGHTER AND APPLAUSE That actually sounded like God was cracking up at that joke. LAUGHTER DROWNS SPEECH If you didn\\'t find that funny, you hate our Lord and Saviour, so... LAUGHTER \"Yes.\" HE LAUGHS MOCKINGLY \"Adam is a sideman.\" LAUGHTER The other question you get asked, when you tell people you have a twin, they always used to say to me, \"Oh, Dane, you have a twin. \"Which one of you is the evil twin?\" LAUGHTER Let me ask you guys a question. Which one of us came all the way here to share his hopes and dreams with you, with his first BBC special? And which one of us is at home, drinking rose, watching Keeping Up with the Kardashians? So it\\'s very clear who the evil twin is. And I would have loved to settle my differences with my sister, but I can\\'t hit her, because she\\'s my sister and she is a girl and that would be wrong. But what she would do is use psychological warfare to get me in trouble with my parents... My parents would say something like, \"Dane\\'s Sister, you\\'re not doing very well in school. \"Can you explain these grades?\" She\\'d go, \"Explain those grades? \"Why doesn\\'t Dane explain why he\\'s going to school with condoms \"at 14 years old and his girlfriend\\'s on the Pill?\" LAUGHTER That\\'s not something you tell your parents, because that means you have to have the sex conversation with them, which some may have had. There\\'s some young ladies here. Maybe your dad had that conversation with you, where he was like, \"Darling, I realise you\\'re becoming a woman now \"and aware of your sexuality, \"so, as your father, what I\\'m going to do is \"send you to a convent on the moon.\" LAUGHTER \"It\\'s just the right thing to do.\" My problem is that my mother was a nurse, so she thought she knew everything and wanted to have an open and frank conversation. So she\\'d call me and be like, \"Dane, Dane. Come here. \"Dane, I realise you\\'re becoming a man now \"and experiencing your sexuality. \"I don\\'t know why, Dane. Your voice hasn\\'t broken \"and you don\\'t have any pubic hair.\" \"Really, Mum?\" \"All I\\'m saying is, Dane, if you can\\'t iron a shirt properly, \"how are you going to satisfy a woman?\" LAUGHTER APPLAUSE \"Dane, I know you have a lot of questions, OK? I picked you up \"this leaflet from work, which will let you know how everything goes.\" Anyone who remembers the \\'90s, sex education and those leaflets, it would be like... AMERICAN ACCENT: \"Hey, stud! You\\'ve discovered sex! \"Lucky you. This is going to be wicked!\" Cos that\\'s how people spoke back then. Erm... LAUGHTER AMERICAN ACCENT: \"Sex is really fun, especially with somebody you love. \"It\\'s just like flying - \"takes a while to get the hang of, but you get used to it. \"It\\'s just like riding a bike.\" LAUGHTER HE SIGHS I...I just noticed, actually, that I... I called my sister, \"Dane\\'s Sister\". Did you want to know her name? Well, I\\'m not telling you. I\\'m not sharing my BBC special with her, as well as everything else I had to share my entire life! It doesn\\'t matter. LAUGHTER Everything. Ladies and gentlemen, I\\'ve been Dane Baptiste. Thank you for making this special VERY special. You\\'ve been amazing. Thanks for your patience. And... Yeah, man. I guess I\\'ll see you around when it comes out. Hopefully, it will do well and you will have to pay more to see me. Just kidding. LAUGHTER You guys are cool. I\\'ve been Dane Baptiste. Thank you very much for listening. APPLAUSE AND CHEERING'"
      ]
     },
     "execution_count": 16,
     "metadata": {},
     "output_type": "execute_result"
    }
   ],
   "source": [
    "bbc_df['full_transcript'][0]"
   ]
  },
  {
   "cell_type": "code",
   "execution_count": 18,
   "id": "9278d5ac",
   "metadata": {},
   "outputs": [
    {
     "name": "stderr",
     "output_type": "stream",
     "text": [
      "/var/folders/wx/fdznh_y51_1gnn8tvkcxhsyh0000gn/T/ipykernel_7000/3411718326.py:2: SettingWithCopyWarning: \n",
      "A value is trying to be set on a copy of a slice from a DataFrame\n",
      "\n",
      "See the caveats in the documentation: https://pandas.pydata.org/pandas-docs/stable/user_guide/indexing.html#returning-a-view-versus-a-copy\n",
      "  bbc_df['com1_script'][i]= bbc_df['full_transcript'][i].split(str(bbc_df['Comedian2'][i]))[-0]\n"
     ]
    }
   ],
   "source": [
    "for i,row in bbc_df.iterrows():\n",
    "    bbc_df['com1_script'][i]= bbc_df['full_transcript'][i].split(str(bbc_df['Comedian2'][i]))[-0]"
   ]
  },
  {
   "cell_type": "code",
   "execution_count": 19,
   "id": "07132e70",
   "metadata": {},
   "outputs": [],
   "source": [
    "bbc_df['com2_script'] = bbc_df.apply(lambda row: row['full_transcript'].replace(str(row['com1_script']),''),axis=1)"
   ]
  },
  {
   "cell_type": "code",
   "execution_count": 45,
   "id": "4ecdf59e",
   "metadata": {},
   "outputs": [],
   "source": [
    "com1_df = bbc_df[['url', 'Show', 'Comedian1', 'com1_script']]\n",
    "com1_df = com1_df.rename(columns = {'Comedian1': 'Name', 'com1_script' : 'full_transcript'})\n",
    "com2_df = bbc_df[['url', 'Show', 'Comedian2', 'com2_script']]\n",
    "com2_df = com2_df.rename(columns = {'Comedian2': 'Name', 'com2_script' : 'full_transcript'})"
   ]
  },
  {
   "cell_type": "code",
   "execution_count": 46,
   "id": "a5273d61",
   "metadata": {},
   "outputs": [],
   "source": [
    "full_bbc_df = pd.concat([com1_df,com2_df])"
   ]
  },
  {
   "cell_type": "code",
   "execution_count": 56,
   "id": "f561dc1e",
   "metadata": {},
   "outputs": [],
   "source": [
    "full_bbc_df = full_bbc_df.reset_index()"
   ]
  },
  {
   "cell_type": "code",
   "execution_count": 57,
   "id": "c2c7e572",
   "metadata": {},
   "outputs": [],
   "source": [
    "full_bbc_df.to_json('live_at_the_bbc_split.json')"
   ]
  },
  {
   "cell_type": "code",
   "execution_count": null,
   "id": "07fcf001",
   "metadata": {},
   "outputs": [],
   "source": []
  }
 ],
 "metadata": {
  "kernelspec": {
   "display_name": "Python 3 (ipykernel)",
   "language": "python",
   "name": "python3"
  },
  "language_info": {
   "codemirror_mode": {
    "name": "ipython",
    "version": 3
   },
   "file_extension": ".py",
   "mimetype": "text/x-python",
   "name": "python",
   "nbconvert_exporter": "python",
   "pygments_lexer": "ipython3",
   "version": "3.8.12"
  },
  "toc": {
   "base_numbering": 1,
   "nav_menu": {},
   "number_sections": true,
   "sideBar": true,
   "skip_h1_title": false,
   "title_cell": "Table of Contents",
   "title_sidebar": "Contents",
   "toc_cell": false,
   "toc_position": {},
   "toc_section_display": true,
   "toc_window_display": false
  }
 },
 "nbformat": 4,
 "nbformat_minor": 5
}

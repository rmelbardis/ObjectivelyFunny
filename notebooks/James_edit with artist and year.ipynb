{
 "cells": [
  {
   "cell_type": "code",
   "execution_count": 1,
   "id": "ea50a4c4",
   "metadata": {},
   "outputs": [],
   "source": [
    "import pandas as pd"
   ]
  },
  {
   "cell_type": "code",
   "execution_count": 2,
   "id": "5b8b912d",
   "metadata": {},
   "outputs": [
    {
     "data": {
      "text/html": [
       "<div>\n",
       "<style scoped>\n",
       "    .dataframe tbody tr th:only-of-type {\n",
       "        vertical-align: middle;\n",
       "    }\n",
       "\n",
       "    .dataframe tbody tr th {\n",
       "        vertical-align: top;\n",
       "    }\n",
       "\n",
       "    .dataframe thead th {\n",
       "        text-align: right;\n",
       "    }\n",
       "</style>\n",
       "<table border=\"1\" class=\"dataframe\">\n",
       "  <thead>\n",
       "    <tr style=\"text-align: right;\">\n",
       "      <th></th>\n",
       "      <th>url</th>\n",
       "      <th>title</th>\n",
       "      <th>full_transcript</th>\n",
       "    </tr>\n",
       "  </thead>\n",
       "  <tbody>\n",
       "    <tr>\n",
       "      <th>0</th>\n",
       "      <td>https://scrapsfromtheloft.com/comedy/jim-gaffi...</td>\n",
       "      <td>Jim Gaffigan: Comedy Monster (2021) | Transcript</td>\n",
       "      <td>Thank you! Thank you! Oh, my gosh. Thank you s...</td>\n",
       "    </tr>\n",
       "    <tr>\n",
       "      <th>1</th>\n",
       "      <td>https://scrapsfromtheloft.com/comedy/louis-c-k...</td>\n",
       "      <td>Louis C. K.: Sorry (2021) | Transcript</td>\n",
       "      <td>♪♪ [“Like a Rolling Stone” by Bob Dylan playin...</td>\n",
       "    </tr>\n",
       "    <tr>\n",
       "      <th>2</th>\n",
       "      <td>https://scrapsfromtheloft.com/comedy/drew-mich...</td>\n",
       "      <td>Drew Michael: Red Blue Green (2021) | Transcript</td>\n",
       "      <td>(EMOTIONAL MUSIC PLAYING)\\n\\n(MUSIC ENDS)\\n\\nD...</td>\n",
       "    </tr>\n",
       "    <tr>\n",
       "      <th>3</th>\n",
       "      <td>https://scrapsfromtheloft.com/comedy/mo-amer-m...</td>\n",
       "      <td>Mo Amer: Mohammed in Texas (2021) | Transcript</td>\n",
       "      <td>[quirky flute music playing]\\n\\n[single note p...</td>\n",
       "    </tr>\n",
       "    <tr>\n",
       "      <th>4</th>\n",
       "      <td>https://scrapsfromtheloft.com/comedy/dave-chap...</td>\n",
       "      <td>Dave Chappelle: The Closer (2021) | Transcript</td>\n",
       "      <td>[audience murmuring]\\n\\n[murmuring continues]\\...</td>\n",
       "    </tr>\n",
       "  </tbody>\n",
       "</table>\n",
       "</div>"
      ],
      "text/plain": [
       "                                                 url  \\\n",
       "0  https://scrapsfromtheloft.com/comedy/jim-gaffi...   \n",
       "1  https://scrapsfromtheloft.com/comedy/louis-c-k...   \n",
       "2  https://scrapsfromtheloft.com/comedy/drew-mich...   \n",
       "3  https://scrapsfromtheloft.com/comedy/mo-amer-m...   \n",
       "4  https://scrapsfromtheloft.com/comedy/dave-chap...   \n",
       "\n",
       "                                              title  \\\n",
       "0  Jim Gaffigan: Comedy Monster (2021) | Transcript   \n",
       "1            Louis C. K.: Sorry (2021) | Transcript   \n",
       "2  Drew Michael: Red Blue Green (2021) | Transcript   \n",
       "3    Mo Amer: Mohammed in Texas (2021) | Transcript   \n",
       "4    Dave Chappelle: The Closer (2021) | Transcript   \n",
       "\n",
       "                                     full_transcript  \n",
       "0  Thank you! Thank you! Oh, my gosh. Thank you s...  \n",
       "1  ♪♪ [“Like a Rolling Stone” by Bob Dylan playin...  \n",
       "2  (EMOTIONAL MUSIC PLAYING)\\n\\n(MUSIC ENDS)\\n\\nD...  \n",
       "3  [quirky flute music playing]\\n\\n[single note p...  \n",
       "4  [audience murmuring]\\n\\n[murmuring continues]\\...  "
      ]
     },
     "execution_count": 2,
     "metadata": {},
     "output_type": "execute_result"
    }
   ],
   "source": [
    "df = pd.read_json('../raw_data/filtered_scraps_from_the_loft.json')\n",
    "df.head()"
   ]
  },
  {
   "cell_type": "code",
   "execution_count": 3,
   "id": "100e0bb9",
   "metadata": {},
   "outputs": [],
   "source": [
    "df = df.drop(columns='url')"
   ]
  },
  {
   "cell_type": "code",
   "execution_count": 4,
   "id": "cf6008cd",
   "metadata": {},
   "outputs": [
    {
     "data": {
      "text/html": [
       "<div>\n",
       "<style scoped>\n",
       "    .dataframe tbody tr th:only-of-type {\n",
       "        vertical-align: middle;\n",
       "    }\n",
       "\n",
       "    .dataframe tbody tr th {\n",
       "        vertical-align: top;\n",
       "    }\n",
       "\n",
       "    .dataframe thead th {\n",
       "        text-align: right;\n",
       "    }\n",
       "</style>\n",
       "<table border=\"1\" class=\"dataframe\">\n",
       "  <thead>\n",
       "    <tr style=\"text-align: right;\">\n",
       "      <th></th>\n",
       "      <th>title</th>\n",
       "      <th>full_transcript</th>\n",
       "    </tr>\n",
       "  </thead>\n",
       "  <tbody>\n",
       "    <tr>\n",
       "      <th>0</th>\n",
       "      <td>Jim Gaffigan: Comedy Monster (2021) | Transcript</td>\n",
       "      <td>Thank you! Thank you! Oh, my gosh. Thank you s...</td>\n",
       "    </tr>\n",
       "    <tr>\n",
       "      <th>1</th>\n",
       "      <td>Louis C. K.: Sorry (2021) | Transcript</td>\n",
       "      <td>♪♪ [“Like a Rolling Stone” by Bob Dylan playin...</td>\n",
       "    </tr>\n",
       "    <tr>\n",
       "      <th>2</th>\n",
       "      <td>Drew Michael: Red Blue Green (2021) | Transcript</td>\n",
       "      <td>(EMOTIONAL MUSIC PLAYING)\\n\\n(MUSIC ENDS)\\n\\nD...</td>\n",
       "    </tr>\n",
       "    <tr>\n",
       "      <th>3</th>\n",
       "      <td>Mo Amer: Mohammed in Texas (2021) | Transcript</td>\n",
       "      <td>[quirky flute music playing]\\n\\n[single note p...</td>\n",
       "    </tr>\n",
       "    <tr>\n",
       "      <th>4</th>\n",
       "      <td>Dave Chappelle: The Closer (2021) | Transcript</td>\n",
       "      <td>[audience murmuring]\\n\\n[murmuring continues]\\...</td>\n",
       "    </tr>\n",
       "  </tbody>\n",
       "</table>\n",
       "</div>"
      ],
      "text/plain": [
       "                                              title  \\\n",
       "0  Jim Gaffigan: Comedy Monster (2021) | Transcript   \n",
       "1            Louis C. K.: Sorry (2021) | Transcript   \n",
       "2  Drew Michael: Red Blue Green (2021) | Transcript   \n",
       "3    Mo Amer: Mohammed in Texas (2021) | Transcript   \n",
       "4    Dave Chappelle: The Closer (2021) | Transcript   \n",
       "\n",
       "                                     full_transcript  \n",
       "0  Thank you! Thank you! Oh, my gosh. Thank you s...  \n",
       "1  ♪♪ [“Like a Rolling Stone” by Bob Dylan playin...  \n",
       "2  (EMOTIONAL MUSIC PLAYING)\\n\\n(MUSIC ENDS)\\n\\nD...  \n",
       "3  [quirky flute music playing]\\n\\n[single note p...  \n",
       "4  [audience murmuring]\\n\\n[murmuring continues]\\...  "
      ]
     },
     "execution_count": 4,
     "metadata": {},
     "output_type": "execute_result"
    }
   ],
   "source": [
    "df.head()\n"
   ]
  },
  {
   "cell_type": "code",
   "execution_count": 38,
   "id": "a4c6d95e",
   "metadata": {},
   "outputs": [],
   "source": [
    "titles = df[['title']]"
   ]
  },
  {
   "cell_type": "code",
   "execution_count": 39,
   "id": "aae855e3",
   "metadata": {},
   "outputs": [
    {
     "data": {
      "text/html": [
       "<div>\n",
       "<style scoped>\n",
       "    .dataframe tbody tr th:only-of-type {\n",
       "        vertical-align: middle;\n",
       "    }\n",
       "\n",
       "    .dataframe tbody tr th {\n",
       "        vertical-align: top;\n",
       "    }\n",
       "\n",
       "    .dataframe thead th {\n",
       "        text-align: right;\n",
       "    }\n",
       "</style>\n",
       "<table border=\"1\" class=\"dataframe\">\n",
       "  <thead>\n",
       "    <tr style=\"text-align: right;\">\n",
       "      <th></th>\n",
       "      <th>title</th>\n",
       "    </tr>\n",
       "  </thead>\n",
       "  <tbody>\n",
       "    <tr>\n",
       "      <th>0</th>\n",
       "      <td>Jim Gaffigan: Comedy Monster (2021) | Transcript</td>\n",
       "    </tr>\n",
       "    <tr>\n",
       "      <th>1</th>\n",
       "      <td>Louis C. K.: Sorry (2021) | Transcript</td>\n",
       "    </tr>\n",
       "    <tr>\n",
       "      <th>2</th>\n",
       "      <td>Drew Michael: Red Blue Green (2021) | Transcript</td>\n",
       "    </tr>\n",
       "    <tr>\n",
       "      <th>3</th>\n",
       "      <td>Mo Amer: Mohammed in Texas (2021) | Transcript</td>\n",
       "    </tr>\n",
       "    <tr>\n",
       "      <th>4</th>\n",
       "      <td>Dave Chappelle: The Closer (2021) | Transcript</td>\n",
       "    </tr>\n",
       "  </tbody>\n",
       "</table>\n",
       "</div>"
      ],
      "text/plain": [
       "                                              title\n",
       "0  Jim Gaffigan: Comedy Monster (2021) | Transcript\n",
       "1            Louis C. K.: Sorry (2021) | Transcript\n",
       "2  Drew Michael: Red Blue Green (2021) | Transcript\n",
       "3    Mo Amer: Mohammed in Texas (2021) | Transcript\n",
       "4    Dave Chappelle: The Closer (2021) | Transcript"
      ]
     },
     "execution_count": 39,
     "metadata": {},
     "output_type": "execute_result"
    }
   ],
   "source": [
    "titles.head()"
   ]
  },
  {
   "cell_type": "code",
   "execution_count": 60,
   "id": "3b523d3f",
   "metadata": {},
   "outputs": [],
   "source": [
    "import re\n",
    "import numpy as np\n",
    "pattern = r'([A-Za-z0-9\\s\\.]*?):([A-Za-z0-9\\s\\.]*)\\((\\d{4})\\)'"
   ]
  },
  {
   "cell_type": "code",
   "execution_count": 40,
   "id": "241d16c7",
   "metadata": {},
   "outputs": [
    {
     "data": {
      "text/plain": [
       "'Jim Gaffigan: Comedy Monster (2021) | Transcript'"
      ]
     },
     "execution_count": 40,
     "metadata": {},
     "output_type": "execute_result"
    }
   ],
   "source": [
    "test_1 = titles.iloc[0][0]\n",
    "test_1"
   ]
  },
  {
   "cell_type": "code",
   "execution_count": 52,
   "id": "0d0ced44",
   "metadata": {},
   "outputs": [
    {
     "data": {
      "text/plain": [
       "'Jim Gaffigan'"
      ]
     },
     "execution_count": 52,
     "metadata": {},
     "output_type": "execute_result"
    }
   ],
   "source": [
    "break_titles = re.search(pattern, test_1)\n",
    "break_titles\n",
    "break_titles.group(1)"
   ]
  },
  {
   "cell_type": "code",
   "execution_count": 61,
   "id": "85636f31",
   "metadata": {},
   "outputs": [],
   "source": [
    "\n",
    "def extract_artist(text):\n",
    "    pattern = r'([A-Za-z0-9\\s\\.]*?):'\n",
    "    response = re.search(pattern, text)\n",
    "    if response == None:\n",
    "        return ''\n",
    "    return response.group(1)\n",
    "def extract_show_name(text):\n",
    "    pattern = r':([A-Za-z0-9\\s\\.]*)\\('\n",
    "    response = re.search(pattern, text)\n",
    "    if response == None:\n",
    "        return ''\n",
    "    return response.group(1).strip()\n",
    "def extract_year(text):\n",
    "    pattern = r'\\((\\d{4})\\)'\n",
    "    response = re.search(pattern, text)\n",
    "    if response == None:\n",
    "        return ''\n",
    "    return response.group(1)"
   ]
  },
  {
   "cell_type": "code",
   "execution_count": 62,
   "id": "3d362a72",
   "metadata": {},
   "outputs": [
    {
     "data": {
      "text/plain": [
       "'Jim Gaffigan'"
      ]
     },
     "execution_count": 62,
     "metadata": {},
     "output_type": "execute_result"
    }
   ],
   "source": [
    "extract_artist(test_1)"
   ]
  },
  {
   "cell_type": "code",
   "execution_count": 63,
   "id": "14239936",
   "metadata": {},
   "outputs": [
    {
     "data": {
      "text/plain": [
       "'Comedy Monster'"
      ]
     },
     "execution_count": 63,
     "metadata": {},
     "output_type": "execute_result"
    }
   ],
   "source": [
    "extract_show_name(test_1)"
   ]
  },
  {
   "cell_type": "code",
   "execution_count": 64,
   "id": "5831042a",
   "metadata": {},
   "outputs": [
    {
     "data": {
      "text/plain": [
       "'2021'"
      ]
     },
     "execution_count": 64,
     "metadata": {},
     "output_type": "execute_result"
    }
   ],
   "source": [
    "extract_year(test_1)"
   ]
  },
  {
   "cell_type": "code",
   "execution_count": 65,
   "id": "ec1a5f69",
   "metadata": {},
   "outputs": [],
   "source": [
    "df['artist'] = df.title.apply(extract_artist)"
   ]
  },
  {
   "cell_type": "code",
   "execution_count": 66,
   "id": "397563a2",
   "metadata": {},
   "outputs": [
    {
     "data": {
      "text/html": [
       "<div>\n",
       "<style scoped>\n",
       "    .dataframe tbody tr th:only-of-type {\n",
       "        vertical-align: middle;\n",
       "    }\n",
       "\n",
       "    .dataframe tbody tr th {\n",
       "        vertical-align: top;\n",
       "    }\n",
       "\n",
       "    .dataframe thead th {\n",
       "        text-align: right;\n",
       "    }\n",
       "</style>\n",
       "<table border=\"1\" class=\"dataframe\">\n",
       "  <thead>\n",
       "    <tr style=\"text-align: right;\">\n",
       "      <th></th>\n",
       "      <th>title</th>\n",
       "      <th>full_transcript</th>\n",
       "      <th>artist</th>\n",
       "    </tr>\n",
       "  </thead>\n",
       "  <tbody>\n",
       "    <tr>\n",
       "      <th>0</th>\n",
       "      <td>Jim Gaffigan: Comedy Monster (2021) | Transcript</td>\n",
       "      <td>Thank you! Thank you! Oh, my gosh. Thank you s...</td>\n",
       "      <td>Jim Gaffigan</td>\n",
       "    </tr>\n",
       "    <tr>\n",
       "      <th>1</th>\n",
       "      <td>Louis C. K.: Sorry (2021) | Transcript</td>\n",
       "      <td>♪♪ [“Like a Rolling Stone” by Bob Dylan playin...</td>\n",
       "      <td>Louis C. K.</td>\n",
       "    </tr>\n",
       "    <tr>\n",
       "      <th>2</th>\n",
       "      <td>Drew Michael: Red Blue Green (2021) | Transcript</td>\n",
       "      <td>(EMOTIONAL MUSIC PLAYING)\\n\\n(MUSIC ENDS)\\n\\nD...</td>\n",
       "      <td>Drew Michael</td>\n",
       "    </tr>\n",
       "    <tr>\n",
       "      <th>3</th>\n",
       "      <td>Mo Amer: Mohammed in Texas (2021) | Transcript</td>\n",
       "      <td>[quirky flute music playing]\\n\\n[single note p...</td>\n",
       "      <td>Mo Amer</td>\n",
       "    </tr>\n",
       "    <tr>\n",
       "      <th>4</th>\n",
       "      <td>Dave Chappelle: The Closer (2021) | Transcript</td>\n",
       "      <td>[audience murmuring]\\n\\n[murmuring continues]\\...</td>\n",
       "      <td>Dave Chappelle</td>\n",
       "    </tr>\n",
       "  </tbody>\n",
       "</table>\n",
       "</div>"
      ],
      "text/plain": [
       "                                              title  \\\n",
       "0  Jim Gaffigan: Comedy Monster (2021) | Transcript   \n",
       "1            Louis C. K.: Sorry (2021) | Transcript   \n",
       "2  Drew Michael: Red Blue Green (2021) | Transcript   \n",
       "3    Mo Amer: Mohammed in Texas (2021) | Transcript   \n",
       "4    Dave Chappelle: The Closer (2021) | Transcript   \n",
       "\n",
       "                                     full_transcript          artist  \n",
       "0  Thank you! Thank you! Oh, my gosh. Thank you s...    Jim Gaffigan  \n",
       "1  ♪♪ [“Like a Rolling Stone” by Bob Dylan playin...     Louis C. K.  \n",
       "2  (EMOTIONAL MUSIC PLAYING)\\n\\n(MUSIC ENDS)\\n\\nD...    Drew Michael  \n",
       "3  [quirky flute music playing]\\n\\n[single note p...         Mo Amer  \n",
       "4  [audience murmuring]\\n\\n[murmuring continues]\\...  Dave Chappelle  "
      ]
     },
     "execution_count": 66,
     "metadata": {},
     "output_type": "execute_result"
    }
   ],
   "source": [
    "df.head()"
   ]
  },
  {
   "cell_type": "code",
   "execution_count": 67,
   "id": "f8548864",
   "metadata": {},
   "outputs": [],
   "source": [
    "df['show_name'] = df.title.apply(extract_show_name)"
   ]
  },
  {
   "cell_type": "code",
   "execution_count": 68,
   "id": "35373935",
   "metadata": {},
   "outputs": [],
   "source": [
    "df['year'] = df.title.apply(extract_year)"
   ]
  },
  {
   "cell_type": "code",
   "execution_count": 69,
   "id": "39ea0033",
   "metadata": {},
   "outputs": [
    {
     "data": {
      "text/html": [
       "<div>\n",
       "<style scoped>\n",
       "    .dataframe tbody tr th:only-of-type {\n",
       "        vertical-align: middle;\n",
       "    }\n",
       "\n",
       "    .dataframe tbody tr th {\n",
       "        vertical-align: top;\n",
       "    }\n",
       "\n",
       "    .dataframe thead th {\n",
       "        text-align: right;\n",
       "    }\n",
       "</style>\n",
       "<table border=\"1\" class=\"dataframe\">\n",
       "  <thead>\n",
       "    <tr style=\"text-align: right;\">\n",
       "      <th></th>\n",
       "      <th>title</th>\n",
       "      <th>full_transcript</th>\n",
       "      <th>artist</th>\n",
       "      <th>show_name</th>\n",
       "      <th>year</th>\n",
       "    </tr>\n",
       "  </thead>\n",
       "  <tbody>\n",
       "    <tr>\n",
       "      <th>0</th>\n",
       "      <td>Jim Gaffigan: Comedy Monster (2021) | Transcript</td>\n",
       "      <td>Thank you! Thank you! Oh, my gosh. Thank you s...</td>\n",
       "      <td>Jim Gaffigan</td>\n",
       "      <td>Comedy Monster</td>\n",
       "      <td>2021</td>\n",
       "    </tr>\n",
       "    <tr>\n",
       "      <th>1</th>\n",
       "      <td>Louis C. K.: Sorry (2021) | Transcript</td>\n",
       "      <td>♪♪ [“Like a Rolling Stone” by Bob Dylan playin...</td>\n",
       "      <td>Louis C. K.</td>\n",
       "      <td>Sorry</td>\n",
       "      <td>2021</td>\n",
       "    </tr>\n",
       "    <tr>\n",
       "      <th>2</th>\n",
       "      <td>Drew Michael: Red Blue Green (2021) | Transcript</td>\n",
       "      <td>(EMOTIONAL MUSIC PLAYING)\\n\\n(MUSIC ENDS)\\n\\nD...</td>\n",
       "      <td>Drew Michael</td>\n",
       "      <td>Red Blue Green</td>\n",
       "      <td>2021</td>\n",
       "    </tr>\n",
       "    <tr>\n",
       "      <th>3</th>\n",
       "      <td>Mo Amer: Mohammed in Texas (2021) | Transcript</td>\n",
       "      <td>[quirky flute music playing]\\n\\n[single note p...</td>\n",
       "      <td>Mo Amer</td>\n",
       "      <td>Mohammed in Texas</td>\n",
       "      <td>2021</td>\n",
       "    </tr>\n",
       "    <tr>\n",
       "      <th>4</th>\n",
       "      <td>Dave Chappelle: The Closer (2021) | Transcript</td>\n",
       "      <td>[audience murmuring]\\n\\n[murmuring continues]\\...</td>\n",
       "      <td>Dave Chappelle</td>\n",
       "      <td>The Closer</td>\n",
       "      <td>2021</td>\n",
       "    </tr>\n",
       "  </tbody>\n",
       "</table>\n",
       "</div>"
      ],
      "text/plain": [
       "                                              title  \\\n",
       "0  Jim Gaffigan: Comedy Monster (2021) | Transcript   \n",
       "1            Louis C. K.: Sorry (2021) | Transcript   \n",
       "2  Drew Michael: Red Blue Green (2021) | Transcript   \n",
       "3    Mo Amer: Mohammed in Texas (2021) | Transcript   \n",
       "4    Dave Chappelle: The Closer (2021) | Transcript   \n",
       "\n",
       "                                     full_transcript          artist  \\\n",
       "0  Thank you! Thank you! Oh, my gosh. Thank you s...    Jim Gaffigan   \n",
       "1  ♪♪ [“Like a Rolling Stone” by Bob Dylan playin...     Louis C. K.   \n",
       "2  (EMOTIONAL MUSIC PLAYING)\\n\\n(MUSIC ENDS)\\n\\nD...    Drew Michael   \n",
       "3  [quirky flute music playing]\\n\\n[single note p...         Mo Amer   \n",
       "4  [audience murmuring]\\n\\n[murmuring continues]\\...  Dave Chappelle   \n",
       "\n",
       "           show_name  year  \n",
       "0     Comedy Monster  2021  \n",
       "1              Sorry  2021  \n",
       "2     Red Blue Green  2021  \n",
       "3  Mohammed in Texas  2021  \n",
       "4         The Closer  2021  "
      ]
     },
     "execution_count": 69,
     "metadata": {},
     "output_type": "execute_result"
    }
   ],
   "source": [
    "df.head()"
   ]
  },
  {
   "cell_type": "code",
   "execution_count": null,
   "id": "a2844bc5",
   "metadata": {},
   "outputs": [],
   "source": []
  }
 ],
 "metadata": {
  "kernelspec": {
   "display_name": "Python 3 (ipykernel)",
   "language": "python",
   "name": "python3"
  },
  "language_info": {
   "codemirror_mode": {
    "name": "ipython",
    "version": 3
   },
   "file_extension": ".py",
   "mimetype": "text/x-python",
   "name": "python",
   "nbconvert_exporter": "python",
   "pygments_lexer": "ipython3",
   "version": "3.8.12"
  },
  "toc": {
   "base_numbering": 1,
   "nav_menu": {},
   "number_sections": true,
   "sideBar": true,
   "skip_h1_title": false,
   "title_cell": "Table of Contents",
   "title_sidebar": "Contents",
   "toc_cell": false,
   "toc_position": {},
   "toc_section_display": true,
   "toc_window_display": false
  }
 },
 "nbformat": 4,
 "nbformat_minor": 5
}
